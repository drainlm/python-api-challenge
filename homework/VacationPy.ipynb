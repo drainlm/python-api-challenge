{
 "cells": [
  {
   "cell_type": "markdown",
   "metadata": {},
   "source": [
    "# VacationPy\n",
    "---\n",
    "\n",
    "## Starter Code to Import Libraries and Load the Weather and Coordinates Data"
   ]
  },
  {
   "cell_type": "code",
   "execution_count": 67,
   "metadata": {},
   "outputs": [],
   "source": [
    "# Dependencies and Setup\n",
    "import hvplot.pandas\n",
    "import pandas as pd\n",
    "import requests\n",
    "import json\n",
    "\n",
    "# Import API key\n",
    "from api_keys import geoapify_key"
   ]
  },
  {
   "cell_type": "code",
   "execution_count": 22,
   "metadata": {},
   "outputs": [
    {
     "data": {
      "text/html": [
       "<div>\n",
       "<style scoped>\n",
       "    .dataframe tbody tr th:only-of-type {\n",
       "        vertical-align: middle;\n",
       "    }\n",
       "\n",
       "    .dataframe tbody tr th {\n",
       "        vertical-align: top;\n",
       "    }\n",
       "\n",
       "    .dataframe thead th {\n",
       "        text-align: right;\n",
       "    }\n",
       "</style>\n",
       "<table border=\"1\" class=\"dataframe\">\n",
       "  <thead>\n",
       "    <tr style=\"text-align: right;\">\n",
       "      <th></th>\n",
       "      <th>City_ID</th>\n",
       "      <th>City</th>\n",
       "      <th>Lat</th>\n",
       "      <th>Lng</th>\n",
       "      <th>Max Temp</th>\n",
       "      <th>Humidity</th>\n",
       "      <th>Cloudiness</th>\n",
       "      <th>Wind Speed</th>\n",
       "      <th>Country</th>\n",
       "      <th>Date</th>\n",
       "    </tr>\n",
       "  </thead>\n",
       "  <tbody>\n",
       "    <tr>\n",
       "      <th>0</th>\n",
       "      <td>0</td>\n",
       "      <td>butaritari</td>\n",
       "      <td>3.0707</td>\n",
       "      <td>172.7902</td>\n",
       "      <td>81.626</td>\n",
       "      <td>81</td>\n",
       "      <td>8</td>\n",
       "      <td>7.68</td>\n",
       "      <td>KI</td>\n",
       "      <td>1675487657</td>\n",
       "    </tr>\n",
       "    <tr>\n",
       "      <th>1</th>\n",
       "      <td>1</td>\n",
       "      <td>bengkulu</td>\n",
       "      <td>-3.8004</td>\n",
       "      <td>102.2655</td>\n",
       "      <td>83.012</td>\n",
       "      <td>69</td>\n",
       "      <td>99</td>\n",
       "      <td>3.95</td>\n",
       "      <td>ID</td>\n",
       "      <td>1675487555</td>\n",
       "    </tr>\n",
       "    <tr>\n",
       "      <th>2</th>\n",
       "      <td>2</td>\n",
       "      <td>ust-kulom</td>\n",
       "      <td>61.6864</td>\n",
       "      <td>53.6902</td>\n",
       "      <td>11.354</td>\n",
       "      <td>99</td>\n",
       "      <td>99</td>\n",
       "      <td>1.61</td>\n",
       "      <td>RU</td>\n",
       "      <td>1675487658</td>\n",
       "    </tr>\n",
       "    <tr>\n",
       "      <th>3</th>\n",
       "      <td>3</td>\n",
       "      <td>rikitea</td>\n",
       "      <td>-23.1203</td>\n",
       "      <td>-134.9692</td>\n",
       "      <td>78.566</td>\n",
       "      <td>74</td>\n",
       "      <td>100</td>\n",
       "      <td>2.05</td>\n",
       "      <td>PF</td>\n",
       "      <td>1675487444</td>\n",
       "    </tr>\n",
       "    <tr>\n",
       "      <th>4</th>\n",
       "      <td>4</td>\n",
       "      <td>hobart</td>\n",
       "      <td>-42.8794</td>\n",
       "      <td>147.3294</td>\n",
       "      <td>60.260</td>\n",
       "      <td>92</td>\n",
       "      <td>75</td>\n",
       "      <td>8.23</td>\n",
       "      <td>AU</td>\n",
       "      <td>1675487532</td>\n",
       "    </tr>\n",
       "  </tbody>\n",
       "</table>\n",
       "</div>"
      ],
      "text/plain": [
       "   City_ID        City      Lat       Lng  Max Temp  Humidity  Cloudiness  \\\n",
       "0        0  butaritari   3.0707  172.7902    81.626        81           8   \n",
       "1        1    bengkulu  -3.8004  102.2655    83.012        69          99   \n",
       "2        2   ust-kulom  61.6864   53.6902    11.354        99          99   \n",
       "3        3     rikitea -23.1203 -134.9692    78.566        74         100   \n",
       "4        4      hobart -42.8794  147.3294    60.260        92          75   \n",
       "\n",
       "   Wind Speed Country        Date  \n",
       "0        7.68      KI  1675487657  \n",
       "1        3.95      ID  1675487555  \n",
       "2        1.61      RU  1675487658  \n",
       "3        2.05      PF  1675487444  \n",
       "4        8.23      AU  1675487532  "
      ]
     },
     "execution_count": 22,
     "metadata": {},
     "output_type": "execute_result"
    }
   ],
   "source": [
    "# Load the CSV file created in Part 1 into a Pandas DataFrame\n",
    "city_data_df = pd.read_csv(\"../output_data/cities.csv\")\n",
    "\n",
    "#Convert to Farenheit\n",
    "city_data_df['Max Temp'] = city_data_df['Max Temp'].apply(lambda x: (x * 9/5) + 32)\n",
    "\n",
    "# Display sample data\n",
    "city_data_df.head()"
   ]
  },
  {
   "cell_type": "markdown",
   "metadata": {},
   "source": [
    "---\n",
    "\n",
    "### Step 1: Create a map that displays a point for every city in the `city_data_df` DataFrame. The size of the point should be the humidity in each city."
   ]
  },
  {
   "cell_type": "code",
   "execution_count": 43,
   "metadata": {},
   "outputs": [
    {
     "data": {},
     "metadata": {},
     "output_type": "display_data"
    },
    {
     "data": {
      "application/vnd.holoviews_exec.v0+json": "",
      "text/html": [
       "<div id='3419'>\n",
       "  <div class=\"bk-root\" id=\"248e2a13-c314-43b6-b3ef-9c522547da17\" data-root-id=\"3419\"></div>\n",
       "</div>\n",
       "<script type=\"application/javascript\">(function(root) {\n",
       "  function embed_document(root) {\n",
       "    var docs_json = {\"4c6d1068-ec28-4395-a462-808061cee0a7\":{\"defs\":[{\"extends\":null,\"module\":null,\"name\":\"ReactiveHTML1\",\"overrides\":[],\"properties\":[]},{\"extends\":null,\"module\":null,\"name\":\"FlexBox1\",\"overrides\":[],\"properties\":[{\"default\":\"flex-start\",\"kind\":null,\"name\":\"align_content\"},{\"default\":\"flex-start\",\"kind\":null,\"name\":\"align_items\"},{\"default\":\"row\",\"kind\":null,\"name\":\"flex_direction\"},{\"default\":\"wrap\",\"kind\":null,\"name\":\"flex_wrap\"},{\"default\":\"flex-start\",\"kind\":null,\"name\":\"justify_content\"}]},{\"extends\":null,\"module\":null,\"name\":\"GridStack1\",\"overrides\":[],\"properties\":[{\"default\":\"warn\",\"kind\":null,\"name\":\"mode\"},{\"default\":null,\"kind\":null,\"name\":\"ncols\"},{\"default\":null,\"kind\":null,\"name\":\"nrows\"},{\"default\":true,\"kind\":null,\"name\":\"allow_resize\"},{\"default\":true,\"kind\":null,\"name\":\"allow_drag\"},{\"default\":[],\"kind\":null,\"name\":\"state\"}]},{\"extends\":null,\"module\":null,\"name\":\"click1\",\"overrides\":[],\"properties\":[{\"default\":\"\",\"kind\":null,\"name\":\"terminal_output\"},{\"default\":\"\",\"kind\":null,\"name\":\"debug_name\"},{\"default\":0,\"kind\":null,\"name\":\"clears\"}]},{\"extends\":null,\"module\":null,\"name\":\"NotificationAreaBase1\",\"overrides\":[],\"properties\":[{\"default\":\"bottom-right\",\"kind\":null,\"name\":\"position\"},{\"default\":0,\"kind\":null,\"name\":\"_clear\"}]},{\"extends\":null,\"module\":null,\"name\":\"NotificationArea1\",\"overrides\":[],\"properties\":[{\"default\":[],\"kind\":null,\"name\":\"notifications\"},{\"default\":\"bottom-right\",\"kind\":null,\"name\":\"position\"},{\"default\":0,\"kind\":null,\"name\":\"_clear\"},{\"default\":[{\"background\":\"#ffc107\",\"icon\":{\"className\":\"fas fa-exclamation-triangle\",\"color\":\"white\",\"tagName\":\"i\"},\"type\":\"warning\"},{\"background\":\"#007bff\",\"icon\":{\"className\":\"fas fa-info-circle\",\"color\":\"white\",\"tagName\":\"i\"},\"type\":\"info\"}],\"kind\":null,\"name\":\"types\"}]},{\"extends\":null,\"module\":null,\"name\":\"Notification\",\"overrides\":[],\"properties\":[{\"default\":null,\"kind\":null,\"name\":\"background\"},{\"default\":3000,\"kind\":null,\"name\":\"duration\"},{\"default\":null,\"kind\":null,\"name\":\"icon\"},{\"default\":\"\",\"kind\":null,\"name\":\"message\"},{\"default\":null,\"kind\":null,\"name\":\"notification_type\"},{\"default\":false,\"kind\":null,\"name\":\"_destroyed\"}]},{\"extends\":null,\"module\":null,\"name\":\"TemplateActions1\",\"overrides\":[],\"properties\":[{\"default\":0,\"kind\":null,\"name\":\"open_modal\"},{\"default\":0,\"kind\":null,\"name\":\"close_modal\"}]},{\"extends\":null,\"module\":null,\"name\":\"MaterialTemplateActions1\",\"overrides\":[],\"properties\":[{\"default\":0,\"kind\":null,\"name\":\"open_modal\"},{\"default\":0,\"kind\":null,\"name\":\"close_modal\"}]}],\"roots\":{\"references\":[{\"attributes\":{},\"id\":\"3437\",\"type\":\"LinearScale\"},{\"attributes\":{\"fill_alpha\":{\"value\":0.2},\"fill_color\":{\"field\":\"color\",\"transform\":{\"id\":\"3495\"}},\"hatch_alpha\":{\"value\":0.2},\"hatch_color\":{\"field\":\"color\",\"transform\":{\"id\":\"3495\"}},\"line_alpha\":{\"value\":0.2},\"line_color\":{\"field\":\"color\",\"transform\":{\"id\":\"3495\"}},\"size\":{\"field\":\"size\"},\"x\":{\"field\":\"Lng\"},\"y\":{\"field\":\"Lat\"}},\"id\":\"3503\",\"type\":\"Scatter\"},{\"attributes\":{},\"id\":\"3450\",\"type\":\"PanTool\"},{\"attributes\":{\"axis\":{\"id\":\"3445\"},\"coordinates\":null,\"dimension\":1,\"grid_line_color\":null,\"group\":null,\"ticker\":null},\"id\":\"3448\",\"type\":\"Grid\"},{\"attributes\":{\"code\":\"\\n        var projections = Bokeh.require(\\\"core/util/projections\\\");\\n        var x = special_vars.data_x\\n        var y = special_vars.data_y\\n        var coords = projections.wgs84_mercator.invert(x, y)\\n        return \\\"\\\" + (coords[1]).toFixed(4)\\n    \"},\"id\":\"3515\",\"type\":\"CustomJSHover\"},{\"attributes\":{\"fill_alpha\":{\"value\":0.3},\"fill_color\":{\"field\":\"color\",\"transform\":{\"id\":\"3495\"}},\"hatch_alpha\":{\"value\":0.3},\"hatch_color\":{\"field\":\"color\",\"transform\":{\"id\":\"3495\"}},\"line_alpha\":{\"value\":0.3},\"line_color\":{\"field\":\"color\",\"transform\":{\"id\":\"3495\"}},\"size\":{\"field\":\"size\"},\"x\":{\"field\":\"Lng\"},\"y\":{\"field\":\"Lat\"}},\"id\":\"3501\",\"type\":\"Scatter\"},{\"attributes\":{\"zoom_on_axis\":false},\"id\":\"3451\",\"type\":\"WheelZoomTool\"},{\"attributes\":{\"click_policy\":\"mute\",\"coordinates\":null,\"group\":null,\"items\":[{\"id\":\"3513\"}],\"location\":[0,0]},\"id\":\"3512\",\"type\":\"Legend\"},{\"attributes\":{\"fill_alpha\":{\"value\":0.3},\"fill_color\":{\"field\":\"color\",\"transform\":{\"id\":\"3495\"}},\"hatch_alpha\":{\"value\":0.3},\"hatch_color\":{\"field\":\"color\",\"transform\":{\"id\":\"3495\"}},\"line_alpha\":{\"value\":0.3},\"line_color\":{\"field\":\"color\",\"transform\":{\"id\":\"3495\"}},\"size\":{\"field\":\"size\"},\"x\":{\"field\":\"Lng\"},\"y\":{\"field\":\"Lat\"}},\"id\":\"3499\",\"type\":\"Scatter\"},{\"attributes\":{},\"id\":\"3449\",\"type\":\"SaveTool\"},{\"attributes\":{\"factors\":[\"butaritari\",\"bengkulu\",\"ust-kulom\",\"rikitea\",\"hobart\",\"ravar\",\"caravelas\",\"bakel\",\"srivardhan\",\"the valley\",\"grindavik\",\"sharanga\",\"busselton\",\"puerto ayora\",\"port elizabeth\",\"sokoni\",\"inhambane\",\"poronaysk\",\"ushuaia\",\"tasiilaq\",\"saint-philippe\",\"lasa\",\"bluff\",\"olafsvik\",\"ambilobe\",\"esil\",\"xinqing\",\"port blair\",\"barrow\",\"tuatapere\",\"ponta do sol\",\"jamestown\",\"vaini\",\"anadyr\",\"akhaldaba\",\"andros town\",\"aksu\",\"cabo san lucas\",\"tuktoyaktuk\",\"touros\",\"baruun-urt\",\"mataura\",\"georgetown\",\"kolondieba\",\"bredasdorp\",\"kokstad\",\"mugur-aksy\",\"punta arenas\",\"provideniya\",\"dikson\",\"rabak\",\"cidreira\",\"yellowknife\",\"chitrakonda\",\"souillac\",\"cabo rojo\",\"kapit\",\"plettenberg bay\",\"iqaluit\",\"maltahohe\",\"arraial do cabo\",\"san ramon\",\"cape town\",\"akdepe\",\"lebu\",\"kapaa\",\"marawi\",\"tello\",\"verkhniy avzyan\",\"buraydah\",\"kodiak\",\"araouane\",\"roebourne\",\"kahului\",\"tomakomai\",\"thompson\",\"henties bay\",\"carnarvon\",\"sitamarhi\",\"mogadishu\",\"bethel\",\"hermanus\",\"beringovskiy\",\"saskylakh\",\"grand gaube\",\"binga\",\"erenhot\",\"nikolskoye\",\"rawson\",\"asprovalta\",\"tessalit\",\"upernavik\",\"kohlu\",\"sao joao da barra\",\"cayenne\",\"solnechnyy\",\"arman\",\"east london\",\"camacupa\",\"port alfred\",\"pavlovsk\",\"maibong\",\"kinsale\",\"san quintin\",\"boma\",\"roald\",\"komsomolskiy\",\"port hardy\",\"new norfolk\",\"muros\",\"pisco\",\"coralville\",\"bayangol\",\"karasuk\",\"coquimbo\",\"dingle\",\"kijang\",\"mbuji-mayi\",\"borodino\",\"benjamin constant\",\"cartagena\",\"nouadhibou\",\"sibolga\",\"elizabeth city\",\"montepuez\",\"aykhal\",\"san patricio\",\"praia\",\"geraldton\",\"verkhnevilyuysk\",\"san cristobal\",\"beloha\",\"quelimane\",\"poum\",\"tecoanapa\",\"mobaye\",\"hirara\",\"fatezh\",\"clyde river\",\"plouzane\",\"fairbanks\",\"milagres\",\"los llanos de aridane\",\"massakory\",\"areka\",\"dharchula\",\"laguna\",\"victoria\",\"berlevag\",\"bardiyah\",\"mokhsogollokh\",\"atuona\",\"necochea\",\"mahebourg\",\"sibu\",\"sioux lookout\",\"mahibadhoo\",\"ribeira grande\",\"husavik\",\"wajir\",\"hangu\",\"acapulco\",\"kaitangata\",\"hithadhoo\",\"saurimo\",\"ulaangom\",\"camopi\",\"pangnirtung\",\"albany\",\"lodja\",\"ostrovnoy\",\"hualmay\",\"faya\",\"leningradskiy\",\"saint anthony\",\"solhan\",\"gamba\",\"oksfjord\",\"isangel\",\"oxapampa\",\"taldan\",\"vondrozo\",\"ziro\",\"porto novo\",\"esperance\",\"edd\",\"bathsheba\",\"kaoma\",\"zhigansk\",\"hachinohe\",\"torbay\",\"krasnoselkup\",\"vestmannaeyjar\",\"menomonie\",\"pevek\",\"kyshtovka\",\"hanford\",\"karratha\",\"mosquera\",\"bumba\",\"umba\",\"mayo\",\"alofi\",\"chokurdakh\",\"havre-saint-pierre\",\"richards bay\",\"camacha\",\"palmer\",\"gornopravdinsk\",\"qaanaaq\",\"tiksi\",\"bilma\",\"yar-sale\",\"aklavik\",\"waynesville\",\"ancud\",\"khatanga\",\"domoni\",\"linxia\",\"port lincoln\",\"buritis\",\"haines junction\",\"limon\",\"hamilton\",\"dong xoai\",\"bambous virieux\",\"leh\",\"castro\",\"pimentel\",\"itoman\",\"tura\",\"pangody\",\"saint-louis\",\"chapleau\",\"la rioja\",\"sungairaya\",\"saint-francois\",\"catabola\",\"rafaela\",\"dawson\",\"lagoa vermelha\",\"marsh harbour\",\"avarua\",\"saldanha\",\"port-gentil\",\"viedma\",\"cherskiy\",\"port-cartier\",\"laredo\",\"jiwani\",\"bar harbor\",\"kruisfontein\",\"isla mujeres\",\"broome\",\"sistranda\",\"batticaloa\",\"xuddur\",\"karpathos\",\"grants\",\"airai\",\"guerrero negro\",\"havelock\",\"groa\",\"sihora\",\"port keats\",\"kavaratti\",\"bakchar\",\"yeniseysk\",\"jalu\",\"muddebihal\",\"bonavista\",\"gunnedah\",\"dunedin\",\"matay\",\"tezu\",\"kiama\",\"tabou\",\"namibe\",\"tres arroyos\",\"hilo\",\"hatillo\",\"harbour breton\",\"ponta delgada\",\"koshurnikovo\",\"bahir dar\",\"tabuk\",\"turayf\",\"surt\",\"shingu\",\"sawtell\",\"lagdo\",\"tommot\",\"saint-augustin\",\"rio grande\",\"lata\",\"labuan\",\"chifeng\",\"turukhansk\",\"nyurba\",\"codrington\",\"bohodukhiv\",\"tambacounda\",\"carahue\",\"camargo\",\"korla\",\"hasaki\",\"talara\",\"alice springs\",\"seoul\",\"mirnyy\",\"la ronge\",\"acajutla\",\"senneterre\",\"todos santos\",\"karasjok\",\"sao filipe\",\"luderitz\",\"georgiyevka\",\"djambala\",\"qaqortoq\",\"herveo\",\"kibuye\",\"yulara\",\"kungurtug\",\"hovd\",\"ponerihouen\",\"gubkinskiy\",\"fuyu\",\"smithers\",\"haverfordwest\",\"pitimbu\",\"tiarei\",\"puerto escondido\",\"kantunilkin\",\"sitka\",\"chuy\",\"nikel\",\"vila franca do campo\",\"prainha\",\"san carlos de bariloche\",\"norman wells\",\"sungaipenuh\",\"salisbury\",\"wasilla\",\"ovsyanka\",\"likhoslavl\",\"sao joaquim\",\"makakilo city\",\"sulangan\",\"deputatskiy\",\"mount gambier\",\"vila do maio\",\"yumen\",\"saint-pierre\",\"gazojak\",\"half moon bay\",\"pingshan\",\"hami\",\"itarema\",\"dwarka\",\"fuxin\",\"harper\",\"havoysund\",\"alvaraes\",\"boende\",\"pacific grove\",\"volchikha\",\"genhe\",\"avera\",\"gobabis\",\"dubinino\",\"conceicao do araguaia\",\"badia polesine\",\"mehamn\",\"kununurra\",\"port shepstone\",\"impfondo\",\"kavieng\",\"vardo\",\"ilulissat\",\"nhulunbuy\",\"omsukchan\",\"rovaniemi\",\"narsaq\",\"blackpool\",\"paamiut\",\"macau\",\"naze\",\"paita\",\"katsuura\",\"senanga\",\"fortuna\",\"goundam\",\"amuntai\",\"moerai\",\"sola\",\"leshukonskoye\",\"jacmel\",\"zyryanka\",\"lagoa\",\"saint george\",\"souris\",\"adrar\",\"walvis bay\",\"kiruna\",\"bam\",\"ziarat\",\"pasighat\",\"kaduna\",\"linfen\",\"jiexiu\",\"brae\",\"petropavlovsk-kamchatskiy\",\"port augusta\",\"kazachinskoye\",\"uvat\",\"nantucket\",\"nome\",\"karaton\",\"krasnorechenskiy\",\"prince rupert\",\"aden\",\"kalemie\",\"talcahuano\",\"ha tinh\",\"knysna\",\"phan thiet\",\"tautira\",\"longyearbyen\",\"lyngseidet\",\"mar del plata\",\"champerico\",\"ardea\",\"susanville\",\"kuloy\",\"campbellton\",\"ust-koksa\",\"uarini\",\"lorengau\",\"nanortalik\",\"marsa matruh\",\"mahajanga\",\"kudahuvadhoo\",\"harare\",\"thakurganj\",\"aranda de duero\",\"terrace\",\"kirakira\",\"puerto princesa\",\"terekli-mekteb\",\"arlit\",\"onoda\",\"flagstaff\",\"chicama\",\"balestrand\",\"ballina\",\"znamenskoye\",\"ust-omchug\",\"aranos\",\"tual\",\"alhadas\",\"pueblo\",\"cuamba\",\"comodoro rivadavia\",\"nabire\",\"garowe\",\"aripuana\",\"petersburg\",\"san jeronimo\",\"wanning\",\"golden\",\"nabinagar\",\"svobodnyy\",\"te anau\",\"maniitsoq\",\"ambanja\",\"dzierzoniow\",\"batemans bay\",\"murud\",\"kanonji\",\"lavrentiya\",\"potosi\",\"mackenzie\",\"valparaiso\",\"banda aceh\",\"bandarbeyla\",\"parfino\",\"xining\",\"thyboron\",\"prado\",\"tumen\",\"takoradi\",\"melfort\",\"soyo\",\"itacare\",\"pangai\",\"yining\",\"amberley\",\"puerto cabello\",\"nizwa\",\"flin flon\",\"manoel urbano\",\"da nang\",\"nampula\",\"almaznyy\",\"broken hill\",\"aksay\",\"savannah bight\",\"vojnik\",\"kihei\",\"baiao\",\"yangambi\",\"portland\",\"sterling\",\"palamos\",\"amazar\",\"puerto el triunfo\",\"egvekinot\",\"marystown\",\"maxixe\",\"waingapu\",\"ust-ordynskiy\",\"ternate\",\"ordu\",\"thinadhoo\",\"ribeira brava\",\"kota kinabalu\",\"montana\",\"devils lake\",\"rumphi\",\"tandil\",\"bagotville\",\"metro\",\"magistralnyy\",\"belaya gora\",\"sampit\",\"daloa\",\"cururupu\",\"niquelandia\",\"choachi\",\"porto walter\",\"alikalia\",\"nakhon phanom\",\"safaga\",\"mount isa\",\"vila velha\",\"samarai\",\"riohacha\",\"novyy urengoy\",\"sinop\",\"pizarro\",\"eureka\",\"shimoda\",\"morondava\",\"khash\",\"hambantota\",\"nemuro\",\"mabaruma\",\"uige\",\"naron\",\"banswara\",\"bubaque\",\"merauke\",\"isiro\",\"belmonte\",\"mackay\",\"bamako\",\"athabasca\",\"xam nua\",\"starokozache\",\"lhokseumawe\",\"kyzyl-suu\",\"blagoyevo\",\"sorong\",\"suraabad\",\"waipawa\",\"mandera\",\"martapura\",\"halifax\"],\"palette\":[\"#1f77b3\",\"#ff7e0e\",\"#2ba02b\",\"#d62628\",\"#9367bc\",\"#8c564b\",\"#e277c1\",\"#7e7e7e\",\"#bcbc21\",\"#16bdcf\",\"#3a0182\",\"#004201\",\"#0fffa8\",\"#5d003f\",\"#bcbcff\",\"#d8afa1\",\"#b80080\",\"#004d52\",\"#6b6400\",\"#7c0100\",\"#6026ff\",\"#ffff9a\",\"#564964\",\"#8cb893\",\"#93fbff\",\"#018267\",\"#90ff00\",\"#8200a0\",\"#ac8944\",\"#5b3400\",\"#ffbff2\",\"#ff6e75\",\"#798cff\",\"#dd00ff\",\"#505646\",\"#004489\",\"#ffbf60\",\"#ff018c\",\"#bdc8cf\",\"#af97b5\",\"#b65600\",\"#017000\",\"#cd87ff\",\"#1cd646\",\"#bfebc3\",\"#7997b5\",\"#a56089\",\"#6e8956\",\"#bc7c75\",\"#8a2844\",\"#00acff\",\"#8ed4ff\",\"#4b6d77\",\"#00d4b1\",\"#9300f2\",\"#8a9500\",\"#5d5b9e\",\"#fddfba\",\"#00939e\",\"#ffdb00\",\"#00aa79\",\"#520067\",\"#000091\",\"#0a5d3d\",\"#a5e275\",\"#623b41\",\"#c6c689\",\"#ff9eb5\",\"#cd4f6b\",\"#ff07d6\",\"#8a3a05\",\"#7e3d70\",\"#ff4901\",\"#602ba5\",\"#1c00ff\",\"#e6dfff\",\"#aa3baf\",\"#d89c00\",\"#a3a39e\",\"#3f69ff\",\"#46490c\",\"#7b6985\",\"#6b978c\",\"#ff9a75\",\"#835bff\",\"#7c6b46\",\"#80b654\",\"#bc0049\",\"#fd93ff\",\"#5d0018\",\"#89d1d1\",\"#9c8cd3\",\"#da6d42\",\"#8a5700\",\"#3b5069\",\"#4b6b3b\",\"#edcfd8\",\"#cfedff\",\"#aa1500\",\"#dfff4f\",\"#ff2a56\",\"#d1499e\",\"#707cb8\",\"#598000\",\"#00e4fd\",\"#774b95\",\"#67d48c\",\"#3d3a72\",\"#ac413f\",\"#d6a166\",\"#c169cd\",\"#69595d\",\"#87aced\",\"#a0a569\",\"#d1aae6\",\"#870062\",\"#00fddb\",\"#672818\",\"#b342ff\",\"#0e59c4\",\"#168742\",\"#90d300\",\"#cd7900\",\"#f959ff\",\"#5b7466\",\"#8eaeb3\",\"#9c7c8c\",\"#4600c6\",\"#6b4d2d\",\"#a56d46\",\"#9e8972\",\"#a8afca\",\"#cd8ca7\",\"#00fd64\",\"#917900\",\"#ff62a1\",\"#f4ffd8\",\"#018cf0\",\"#13aca0\",\"#5b2d59\",\"#89859e\",\"#cfccba\",\"#d4afc4\",\"#dbdd6d\",\"#cffff4\",\"#006485\",\"#006962\",\"#a84167\",\"#2d97c4\",\"#a874ff\",\"#26ba5d\",\"#57b600\",\"#caffa7\",\"#a379aa\",\"#ffbc93\",\"#89e2c1\",\"#0fc8ff\",\"#d400c4\",\"#626d89\",\"#69858e\",\"#4b4d52\",\"#aa6067\",\"#79b5d4\",\"#2b5916\",\"#9a0024\",\"#bdd1f2\",\"#896e67\",\"#69a56b\",\"#855467\",\"#aecdba\",\"#87997e\",\"#cadb00\",\"#9a0390\",\"#ebbc1a\",\"#eb9cd1\",\"#70006e\",\"#b1a131\",\"#ca6b93\",\"#4146a3\",\"#e48c89\",\"#d44400\",\"#c68aca\",\"#b69597\",\"#d41f75\",\"#724bcc\",\"#674d00\",\"#672138\",\"#38564f\",\"#6ebaaa\",\"#853a31\",\"#a5d397\",\"#b8af8e\",\"#d8e4df\",\"#aa00df\",\"#cac1db\",\"#ffdf8c\",\"#e2524d\",\"#66696e\",\"#ff001c\",\"#522d72\",\"#4d906b\",\"#a86d11\",\"#ff9e26\",\"#5ea3af\",\"#c88556\",\"#915997\",\"#a3a1ff\",\"#fdbaba\",\"#242a87\",\"#dbe6a8\",\"#97f2a7\",\"#6793d6\",\"#ba5b3f\",\"#3a5d91\",\"#364f2f\",\"#267c95\",\"#89959a\",\"#cfb356\",\"#004664\",\"#5e5d2f\",\"#8e8e41\",\"#ac3f13\",\"#69953b\",\"#a13d85\",\"#bfb6ba\",\"#acc667\",\"#6469cf\",\"#91af00\",\"#2be2da\",\"#016e36\",\"#ff7952\",\"#42807e\",\"#4fe800\",\"#995428\",\"#5d0a00\",\"#a30057\",\"#0c8700\",\"#5982a7\",\"#ffebfb\",\"#4b6901\",\"#8775d4\",\"#e6c6ff\",\"#a5ffda\",\"#d86e77\",\"#df014b\",\"#69675b\",\"#776ba1\",\"#7e8067\",\"#594685\",\"#0000ca\",\"#7c002a\",\"#97ff72\",\"#b5e2e1\",\"#db52c8\",\"#777734\",\"#57bd8e\",\"#1f77b3\",\"#ff7e0e\",\"#2ba02b\",\"#d62628\",\"#9367bc\",\"#8c564b\",\"#e277c1\",\"#7e7e7e\",\"#bcbc21\",\"#16bdcf\",\"#3a0182\",\"#004201\",\"#0fffa8\",\"#5d003f\",\"#bcbcff\",\"#d8afa1\",\"#b80080\",\"#004d52\",\"#6b6400\",\"#7c0100\",\"#6026ff\",\"#ffff9a\",\"#564964\",\"#8cb893\",\"#93fbff\",\"#018267\",\"#90ff00\",\"#8200a0\",\"#ac8944\",\"#5b3400\",\"#ffbff2\",\"#ff6e75\",\"#798cff\",\"#dd00ff\",\"#505646\",\"#004489\",\"#ffbf60\",\"#ff018c\",\"#bdc8cf\",\"#af97b5\",\"#b65600\",\"#017000\",\"#cd87ff\",\"#1cd646\",\"#bfebc3\",\"#7997b5\",\"#a56089\",\"#6e8956\",\"#bc7c75\",\"#8a2844\",\"#00acff\",\"#8ed4ff\",\"#4b6d77\",\"#00d4b1\",\"#9300f2\",\"#8a9500\",\"#5d5b9e\",\"#fddfba\",\"#00939e\",\"#ffdb00\",\"#00aa79\",\"#520067\",\"#000091\",\"#0a5d3d\",\"#a5e275\",\"#623b41\",\"#c6c689\",\"#ff9eb5\",\"#cd4f6b\",\"#ff07d6\",\"#8a3a05\",\"#7e3d70\",\"#ff4901\",\"#602ba5\",\"#1c00ff\",\"#e6dfff\",\"#aa3baf\",\"#d89c00\",\"#a3a39e\",\"#3f69ff\",\"#46490c\",\"#7b6985\",\"#6b978c\",\"#ff9a75\",\"#835bff\",\"#7c6b46\",\"#80b654\",\"#bc0049\",\"#fd93ff\",\"#5d0018\",\"#89d1d1\",\"#9c8cd3\",\"#da6d42\",\"#8a5700\",\"#3b5069\",\"#4b6b3b\",\"#edcfd8\",\"#cfedff\",\"#aa1500\",\"#dfff4f\",\"#ff2a56\",\"#d1499e\",\"#707cb8\",\"#598000\",\"#00e4fd\",\"#774b95\",\"#67d48c\",\"#3d3a72\",\"#ac413f\",\"#d6a166\",\"#c169cd\",\"#69595d\",\"#87aced\",\"#a0a569\",\"#d1aae6\",\"#870062\",\"#00fddb\",\"#672818\",\"#b342ff\",\"#0e59c4\",\"#168742\",\"#90d300\",\"#cd7900\",\"#f959ff\",\"#5b7466\",\"#8eaeb3\",\"#9c7c8c\",\"#4600c6\",\"#6b4d2d\",\"#a56d46\",\"#9e8972\",\"#a8afca\",\"#cd8ca7\",\"#00fd64\",\"#917900\",\"#ff62a1\",\"#f4ffd8\",\"#018cf0\",\"#13aca0\",\"#5b2d59\",\"#89859e\",\"#cfccba\",\"#d4afc4\",\"#dbdd6d\",\"#cffff4\",\"#006485\",\"#006962\",\"#a84167\",\"#2d97c4\",\"#a874ff\",\"#26ba5d\",\"#57b600\",\"#caffa7\",\"#a379aa\",\"#ffbc93\",\"#89e2c1\",\"#0fc8ff\",\"#d400c4\",\"#626d89\",\"#69858e\",\"#4b4d52\",\"#aa6067\",\"#79b5d4\",\"#2b5916\",\"#9a0024\",\"#bdd1f2\",\"#896e67\",\"#69a56b\",\"#855467\",\"#aecdba\",\"#87997e\",\"#cadb00\",\"#9a0390\",\"#ebbc1a\",\"#eb9cd1\",\"#70006e\",\"#b1a131\",\"#ca6b93\",\"#4146a3\",\"#e48c89\",\"#d44400\",\"#c68aca\",\"#b69597\",\"#d41f75\",\"#724bcc\",\"#674d00\",\"#672138\",\"#38564f\",\"#6ebaaa\",\"#853a31\",\"#a5d397\",\"#b8af8e\",\"#d8e4df\",\"#aa00df\",\"#cac1db\",\"#ffdf8c\",\"#e2524d\",\"#66696e\",\"#ff001c\",\"#522d72\",\"#4d906b\",\"#a86d11\",\"#ff9e26\",\"#5ea3af\",\"#c88556\",\"#915997\",\"#a3a1ff\",\"#fdbaba\",\"#242a87\",\"#dbe6a8\",\"#97f2a7\",\"#6793d6\",\"#ba5b3f\",\"#3a5d91\",\"#364f2f\",\"#267c95\",\"#89959a\",\"#cfb356\",\"#004664\",\"#5e5d2f\",\"#8e8e41\",\"#ac3f13\",\"#69953b\",\"#a13d85\",\"#bfb6ba\",\"#acc667\",\"#6469cf\",\"#91af00\",\"#2be2da\",\"#016e36\",\"#ff7952\",\"#42807e\",\"#4fe800\",\"#995428\",\"#5d0a00\",\"#a30057\",\"#0c8700\",\"#5982a7\",\"#ffebfb\",\"#4b6901\",\"#8775d4\",\"#e6c6ff\",\"#a5ffda\",\"#d86e77\",\"#df014b\",\"#69675b\",\"#776ba1\",\"#7e8067\",\"#594685\",\"#0000ca\",\"#7c002a\",\"#97ff72\",\"#b5e2e1\",\"#db52c8\",\"#777734\",\"#57bd8e\",\"#1f77b3\",\"#ff7e0e\",\"#2ba02b\",\"#d62628\",\"#9367bc\",\"#8c564b\",\"#e277c1\",\"#7e7e7e\",\"#bcbc21\",\"#16bdcf\",\"#3a0182\",\"#004201\",\"#0fffa8\",\"#5d003f\",\"#bcbcff\",\"#d8afa1\",\"#b80080\",\"#004d52\",\"#6b6400\",\"#7c0100\",\"#6026ff\",\"#ffff9a\",\"#564964\",\"#8cb893\",\"#93fbff\",\"#018267\",\"#90ff00\",\"#8200a0\",\"#ac8944\",\"#5b3400\",\"#ffbff2\",\"#ff6e75\",\"#798cff\",\"#dd00ff\",\"#505646\",\"#004489\",\"#ffbf60\",\"#ff018c\",\"#bdc8cf\",\"#af97b5\",\"#b65600\",\"#017000\",\"#cd87ff\",\"#1cd646\",\"#bfebc3\",\"#7997b5\",\"#a56089\",\"#6e8956\",\"#bc7c75\",\"#8a2844\",\"#00acff\",\"#8ed4ff\",\"#4b6d77\",\"#00d4b1\",\"#9300f2\",\"#8a9500\",\"#5d5b9e\",\"#fddfba\",\"#00939e\",\"#ffdb00\",\"#00aa79\",\"#520067\",\"#000091\",\"#0a5d3d\",\"#a5e275\",\"#623b41\",\"#c6c689\"]},\"id\":\"3495\",\"type\":\"CategoricalColorMapper\"},{\"attributes\":{},\"id\":\"3497\",\"type\":\"Selection\"},{\"attributes\":{\"match_aspect\":true,\"overlay\":{\"id\":\"3454\"}},\"id\":\"3452\",\"type\":\"BoxZoomTool\"},{\"attributes\":{},\"id\":\"3453\",\"type\":\"ResetTool\"},{\"attributes\":{},\"id\":\"3439\",\"type\":\"LinearScale\"},{\"attributes\":{\"bottom_units\":\"screen\",\"coordinates\":null,\"fill_alpha\":0.5,\"fill_color\":\"lightgrey\",\"group\":null,\"left_units\":\"screen\",\"level\":\"overlay\",\"line_alpha\":1.0,\"line_color\":\"black\",\"line_dash\":[4,4],\"line_width\":2,\"right_units\":\"screen\",\"syncable\":false,\"top_units\":\"screen\"},\"id\":\"3454\",\"type\":\"BoxAnnotation\"},{\"attributes\":{\"dimension\":\"lon\"},\"id\":\"3464\",\"type\":\"MercatorTicker\"},{\"attributes\":{\"fill_alpha\":{\"value\":0.3},\"fill_color\":{\"field\":\"color\",\"transform\":{\"id\":\"3495\"}},\"hatch_alpha\":{\"value\":0.1},\"hatch_color\":{\"field\":\"color\",\"transform\":{\"id\":\"3495\"}},\"line_alpha\":{\"value\":0.3},\"line_color\":{\"field\":\"color\",\"transform\":{\"id\":\"3495\"}},\"size\":{\"field\":\"size\"},\"x\":{\"field\":\"Lng\"},\"y\":{\"field\":\"Lat\"}},\"id\":\"3500\",\"type\":\"Scatter\"},{\"attributes\":{\"tools\":[{\"id\":\"3429\"},{\"id\":\"3449\"},{\"id\":\"3450\"},{\"id\":\"3451\"},{\"id\":\"3452\"},{\"id\":\"3453\"}]},\"id\":\"3455\",\"type\":\"Toolbar\"},{\"attributes\":{\"axis\":{\"id\":\"3441\"},\"coordinates\":null,\"grid_line_color\":null,\"group\":null,\"ticker\":null},\"id\":\"3444\",\"type\":\"Grid\"},{\"attributes\":{\"label\":{\"field\":\"color\"},\"renderers\":[{\"id\":\"3504\"}]},\"id\":\"3513\",\"type\":\"LegendItem\"},{\"attributes\":{\"dimension\":\"lat\"},\"id\":\"3466\",\"type\":\"MercatorTicker\"},{\"attributes\":{\"dimension\":\"lat\"},\"id\":\"3467\",\"type\":\"MercatorTickFormatter\"},{\"attributes\":{\"dimension\":\"lon\"},\"id\":\"3465\",\"type\":\"MercatorTickFormatter\"},{\"attributes\":{\"fill_alpha\":{\"value\":0.3},\"fill_color\":{\"field\":\"color\",\"transform\":{\"id\":\"3495\"}},\"hatch_alpha\":{\"value\":0.3},\"hatch_color\":{\"field\":\"color\",\"transform\":{\"id\":\"3495\"}},\"line_alpha\":{\"value\":0.3},\"line_color\":{\"field\":\"color\",\"transform\":{\"id\":\"3495\"}},\"size\":{\"field\":\"size\"},\"x\":{\"field\":\"Lng\"},\"y\":{\"field\":\"Lat\"}},\"id\":\"3502\",\"type\":\"Scatter\"},{\"attributes\":{},\"id\":\"3470\",\"type\":\"AllLabels\"},{\"attributes\":{\"axis_label\":\"y\",\"coordinates\":null,\"formatter\":{\"id\":\"3467\"},\"group\":null,\"major_label_policy\":{\"id\":\"3477\"},\"ticker\":{\"id\":\"3466\"}},\"id\":\"3445\",\"type\":\"LinearAxis\"},{\"attributes\":{},\"id\":\"3477\",\"type\":\"AllLabels\"},{\"attributes\":{\"coordinates\":null,\"group\":null,\"text_color\":\"black\",\"text_font_size\":\"12pt\"},\"id\":\"3433\",\"type\":\"Title\"},{\"attributes\":{\"margin\":[5,5,5,5],\"name\":\"HSpacer04138\",\"sizing_mode\":\"stretch_width\"},\"id\":\"3522\",\"type\":\"Spacer\"},{\"attributes\":{\"below\":[{\"id\":\"3441\"}],\"center\":[{\"id\":\"3444\"},{\"id\":\"3448\"}],\"frame_height\":500,\"frame_width\":900,\"height\":500,\"left\":[{\"id\":\"3445\"}],\"margin\":[5,5,5,5],\"match_aspect\":true,\"min_border_bottom\":10,\"min_border_left\":10,\"min_border_right\":10,\"min_border_top\":10,\"renderers\":[{\"id\":\"3493\"},{\"id\":\"3504\"}],\"right\":[{\"id\":\"3512\"}],\"sizing_mode\":\"fixed\",\"title\":{\"id\":\"3433\"},\"toolbar\":{\"id\":\"3455\"},\"width\":900,\"x_range\":{\"id\":\"3425\"},\"x_scale\":{\"id\":\"3437\"},\"y_range\":{\"id\":\"3426\"},\"y_scale\":{\"id\":\"3439\"}},\"id\":\"3432\",\"subtype\":\"Figure\",\"type\":\"Plot\"},{\"attributes\":{\"data\":{\"City\":[\"butaritari\",\"bengkulu\",\"ust-kulom\",\"rikitea\",\"hobart\",\"ravar\",\"caravelas\",\"bakel\",\"srivardhan\",\"the valley\",\"grindavik\",\"sharanga\",\"busselton\",\"puerto ayora\",\"port elizabeth\",\"sokoni\",\"inhambane\",\"poronaysk\",\"ushuaia\",\"tasiilaq\",\"saint-philippe\",\"lasa\",\"bluff\",\"olafsvik\",\"ambilobe\",\"esil\",\"xinqing\",\"port blair\",\"barrow\",\"tuatapere\",\"ponta do sol\",\"jamestown\",\"vaini\",\"anadyr\",\"akhaldaba\",\"andros town\",\"aksu\",\"cabo san lucas\",\"tuktoyaktuk\",\"touros\",\"baruun-urt\",\"mataura\",\"georgetown\",\"kolondieba\",\"bredasdorp\",\"kokstad\",\"mugur-aksy\",\"punta arenas\",\"provideniya\",\"dikson\",\"rabak\",\"cidreira\",\"yellowknife\",\"chitrakonda\",\"souillac\",\"cabo rojo\",\"kapit\",\"plettenberg bay\",\"iqaluit\",\"maltahohe\",\"arraial do cabo\",\"san ramon\",\"cape town\",\"akdepe\",\"lebu\",\"kapaa\",\"marawi\",\"tello\",\"verkhniy avzyan\",\"buraydah\",\"kodiak\",\"araouane\",\"roebourne\",\"kahului\",\"tomakomai\",\"thompson\",\"henties bay\",\"carnarvon\",\"sitamarhi\",\"mogadishu\",\"bethel\",\"hermanus\",\"beringovskiy\",\"saskylakh\",\"grand gaube\",\"binga\",\"erenhot\",\"nikolskoye\",\"rawson\",\"asprovalta\",\"tessalit\",\"upernavik\",\"kohlu\",\"sao joao da barra\",\"cayenne\",\"solnechnyy\",\"arman\",\"east london\",\"camacupa\",\"port alfred\",\"pavlovsk\",\"maibong\",\"kinsale\",\"san quintin\",\"boma\",\"roald\",\"komsomolskiy\",\"port hardy\",\"new norfolk\",\"muros\",\"pisco\",\"coralville\",\"bayangol\",\"karasuk\",\"coquimbo\",\"dingle\",\"kijang\",\"mbuji-mayi\",\"borodino\",\"benjamin constant\",\"cartagena\",\"nouadhibou\",\"sibolga\",\"elizabeth city\",\"montepuez\",\"aykhal\",\"san patricio\",\"praia\",\"geraldton\",\"verkhnevilyuysk\",\"san cristobal\",\"beloha\",\"quelimane\",\"poum\",\"tecoanapa\",\"mobaye\",\"hirara\",\"fatezh\",\"clyde river\",\"plouzane\",\"fairbanks\",\"milagres\",\"los llanos de aridane\",\"massakory\",\"areka\",\"dharchula\",\"laguna\",\"victoria\",\"berlevag\",\"bardiyah\",\"mokhsogollokh\",\"atuona\",\"necochea\",\"mahebourg\",\"sibu\",\"sioux lookout\",\"mahibadhoo\",\"ribeira grande\",\"husavik\",\"wajir\",\"hangu\",\"acapulco\",\"kaitangata\",\"hithadhoo\",\"saurimo\",\"ulaangom\",\"camopi\",\"pangnirtung\",\"albany\",\"lodja\",\"ostrovnoy\",\"hualmay\",\"faya\",\"leningradskiy\",\"saint anthony\",\"solhan\",\"gamba\",\"oksfjord\",\"isangel\",\"oxapampa\",\"taldan\",\"vondrozo\",\"ziro\",\"porto novo\",\"esperance\",\"edd\",\"bathsheba\",\"kaoma\",\"zhigansk\",\"hachinohe\",\"torbay\",\"krasnoselkup\",\"vestmannaeyjar\",\"menomonie\",\"pevek\",\"kyshtovka\",\"hanford\",\"karratha\",\"mosquera\",\"bumba\",\"umba\",\"mayo\",\"alofi\",\"chokurdakh\",\"havre-saint-pierre\",\"richards bay\",\"camacha\",\"palmer\",\"gornopravdinsk\",\"qaanaaq\",\"tiksi\",\"bilma\",\"yar-sale\",\"aklavik\",\"waynesville\",\"ancud\",\"khatanga\",\"domoni\",\"linxia\",\"port lincoln\",\"buritis\",\"haines junction\",\"limon\",\"hamilton\",\"dong xoai\",\"bambous virieux\",\"leh\",\"castro\",\"pimentel\",\"itoman\",\"tura\",\"pangody\",\"saint-louis\",\"chapleau\",\"la rioja\",\"sungairaya\",\"saint-francois\",\"catabola\",\"rafaela\",\"dawson\",\"lagoa vermelha\",\"marsh harbour\",\"avarua\",\"saldanha\",\"port-gentil\",\"viedma\",\"cherskiy\",\"port-cartier\",\"laredo\",\"jiwani\",\"bar harbor\",\"kruisfontein\",\"isla mujeres\",\"broome\",\"sistranda\",\"batticaloa\",\"xuddur\",\"karpathos\",\"grants\",\"airai\",\"guerrero negro\",\"havelock\",\"groa\",\"sihora\",\"port keats\",\"kavaratti\",\"bakchar\",\"yeniseysk\",\"jalu\",\"muddebihal\",\"bonavista\",\"gunnedah\",\"dunedin\",\"matay\",\"tezu\",\"kiama\",\"tabou\",\"namibe\",\"tres arroyos\",\"hilo\",\"hatillo\",\"harbour breton\",\"ponta delgada\",\"koshurnikovo\",\"bahir dar\",\"tabuk\",\"turayf\",\"surt\",\"shingu\",\"sawtell\",\"lagdo\",\"tommot\",\"saint-augustin\",\"rio grande\",\"lata\",\"labuan\",\"chifeng\",\"turukhansk\",\"nyurba\",\"codrington\",\"bohodukhiv\",\"tambacounda\",\"carahue\",\"camargo\",\"korla\",\"hasaki\",\"talara\",\"alice springs\",\"seoul\",\"mirnyy\",\"la ronge\",\"acajutla\",\"senneterre\",\"todos santos\",\"karasjok\",\"sao filipe\",\"luderitz\",\"georgiyevka\",\"djambala\",\"qaqortoq\",\"herveo\",\"kibuye\",\"yulara\",\"kungurtug\",\"hovd\",\"ponerihouen\",\"gubkinskiy\",\"fuyu\",\"smithers\",\"haverfordwest\",\"pitimbu\",\"tiarei\",\"puerto escondido\",\"kantunilkin\",\"sitka\",\"chuy\",\"nikel\",\"vila franca do campo\",\"prainha\",\"san carlos de bariloche\",\"norman wells\",\"sungaipenuh\",\"salisbury\",\"wasilla\",\"ovsyanka\",\"likhoslavl\",\"sao joaquim\",\"makakilo city\",\"sulangan\",\"deputatskiy\",\"mount gambier\",\"vila do maio\",\"yumen\",\"saint-pierre\",\"gazojak\",\"half moon bay\",\"pingshan\",\"hami\",\"itarema\",\"dwarka\",\"fuxin\",\"harper\",\"havoysund\",\"alvaraes\",\"boende\",\"pacific grove\",\"volchikha\",\"genhe\",\"avera\",\"gobabis\",\"dubinino\",\"conceicao do araguaia\",\"badia polesine\",\"mehamn\",\"kununurra\",\"port shepstone\",\"impfondo\",\"kavieng\",\"vardo\",\"ilulissat\",\"nhulunbuy\",\"omsukchan\",\"rovaniemi\",\"narsaq\",\"blackpool\",\"paamiut\",\"macau\",\"naze\",\"paita\",\"katsuura\",\"senanga\",\"fortuna\",\"goundam\",\"amuntai\",\"moerai\",\"sola\",\"leshukonskoye\",\"jacmel\",\"zyryanka\",\"lagoa\",\"saint george\",\"souris\",\"adrar\",\"walvis bay\",\"kiruna\",\"bam\",\"ziarat\",\"pasighat\",\"kaduna\",\"linfen\",\"jiexiu\",\"brae\",\"petropavlovsk-kamchatskiy\",\"port augusta\",\"kazachinskoye\",\"uvat\",\"nantucket\",\"nome\",\"karaton\",\"krasnorechenskiy\",\"prince rupert\",\"aden\",\"kalemie\",\"talcahuano\",\"ha tinh\",\"knysna\",\"phan thiet\",\"tautira\",\"longyearbyen\",\"lyngseidet\",\"mar del plata\",\"champerico\",\"ardea\",\"susanville\",\"kuloy\",\"campbellton\",\"ust-koksa\",\"uarini\",\"lorengau\",\"nanortalik\",\"marsa matruh\",\"mahajanga\",\"kudahuvadhoo\",\"harare\",\"thakurganj\",\"aranda de duero\",\"terrace\",\"kirakira\",\"puerto princesa\",\"terekli-mekteb\",\"arlit\",\"onoda\",\"flagstaff\",\"chicama\",\"balestrand\",\"ballina\",\"znamenskoye\",\"ust-omchug\",\"aranos\",\"tual\",\"alhadas\",\"pueblo\",\"cuamba\",\"comodoro rivadavia\",\"nabire\",\"garowe\",\"aripuana\",\"petersburg\",\"san jeronimo\",\"wanning\",\"golden\",\"nabinagar\",\"svobodnyy\",\"te anau\",\"maniitsoq\",\"ambanja\",\"dzierzoniow\",\"batemans bay\",\"murud\",\"kanonji\",\"lavrentiya\",\"potosi\",\"mackenzie\",\"valparaiso\",\"banda aceh\",\"bandarbeyla\",\"parfino\",\"xining\",\"thyboron\",\"prado\",\"tumen\",\"takoradi\",\"melfort\",\"soyo\",\"itacare\",\"pangai\",\"yining\",\"amberley\",\"puerto cabello\",\"nizwa\",\"flin flon\",\"manoel urbano\",\"da nang\",\"nampula\",\"almaznyy\",\"broken hill\",\"aksay\",\"savannah bight\",\"vojnik\",\"kihei\",\"baiao\",\"yangambi\",\"portland\",\"sterling\",\"palamos\",\"amazar\",\"puerto el triunfo\",\"egvekinot\",\"marystown\",\"maxixe\",\"waingapu\",\"ust-ordynskiy\",\"ternate\",\"ordu\",\"thinadhoo\",\"ribeira brava\",\"kota kinabalu\",\"montana\",\"devils lake\",\"rumphi\",\"tandil\",\"bagotville\",\"metro\",\"magistralnyy\",\"belaya gora\",\"sampit\",\"daloa\",\"cururupu\",\"niquelandia\",\"choachi\",\"porto walter\",\"alikalia\",\"nakhon phanom\",\"safaga\",\"mount isa\",\"vila velha\",\"samarai\",\"riohacha\",\"novyy urengoy\",\"sinop\",\"pizarro\",\"eureka\",\"shimoda\",\"morondava\",\"khash\",\"hambantota\",\"nemuro\",\"mabaruma\",\"uige\",\"naron\",\"banswara\",\"bubaque\",\"merauke\",\"isiro\",\"belmonte\",\"mackay\",\"bamako\",\"athabasca\",\"xam nua\",\"starokozache\",\"lhokseumawe\",\"kyzyl-suu\",\"blagoyevo\",\"sorong\",\"suraabad\",\"waipawa\",\"mandera\",\"martapura\",\"halifax\"],\"Humidity\":[81,69,99,74,92,39,88,13,31,75,80,97,28,95,91,75,82,80,84,86,86,96,79,65,85,86,70,74,83,53,60,52,83,99,64,74,73,73,100,73,74,30,66,18,89,92,79,66,89,100,23,93,97,15,80,67,67,80,66,32,91,93,74,74,75,94,66,53,84,46,75,25,38,72,54,100,87,58,42,72,62,83,96,100,71,90,26,95,45,62,25,99,26,90,83,89,85,83,94,88,94,22,93,71,90,55,71,92,86,67,94,71,70,97,88,72,25,97,92,98,83,43,71,50,95,100,83,77,29,92,64,66,74,77,74,45,74,99,95,74,83,70,77,15,53,19,90,83,74,66,95,77,87,79,63,93,69,93,64,67,26,83,68,67,96,90,100,89,47,96,91,86,60,98,64,89,85,90,78,98,85,97,26,91,50,82,73,97,96,69,81,95,62,78,100,96,78,39,66,67,99,43,91,100,70,90,67,35,99,60,100,17,100,93,79,79,100,82,28,58,74,85,79,70,37,77,83,98,88,68,33,96,16,97,39,91,81,93,55,49,97,83,78,87,83,74,100,78,76,75,53,87,79,77,61,78,62,66,54,90,69,65,67,22,66,63,94,98,73,21,67,12,63,49,15,37,88,79,84,87,87,78,94,90,47,65,60,74,39,57,24,86,73,81,67,72,21,96,92,59,96,17,57,32,54,81,77,31,40,94,85,50,97,53,99,71,85,100,73,72,90,78,21,81,71,70,94,61,100,81,74,83,73,95,87,90,98,88,97,64,69,58,91,95,88,99,99,79,79,99,55,71,31,74,70,95,63,34,83,38,27,86,94,98,72,92,85,86,53,74,84,98,87,74,49,82,63,75,73,85,83,98,84,74,94,90,88,66,76,80,95,86,15,83,81,73,97,82,98,84,50,93,16,85,71,50,45,23,26,20,24,92,53,42,96,95,46,85,62,67,88,76,78,94,80,78,51,83,66,88,74,75,87,87,100,86,91,97,72,76,62,79,69,89,37,56,93,77,62,62,18,40,67,75,94,76,95,98,54,81,66,54,96,24,68,74,99,39,87,81,41,34,93,48,89,84,83,34,34,77,93,92,93,94,79,62,97,28,93,92,42,88,93,86,89,83,74,71,83,44,100,91,83,88,97,27,61,68,96,80,99,79,87,46,59,81,56,87,82,82,88,92,74,66,71,61,74,74,85,93,95,69,61,85,99,90,82,97,92,93,95,93,44,47,20,83,72,81,96,86,88,89,43,82,64,79,60,100,96,77,22,57,85,40,87,78,12,91,45,85,83,75,98,75,76,60,49,70,65],\"Lat\":{\"__ndarray__\":\"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\",\"dtype\":\"float64\",\"order\":\"little\",\"shape\":[579]},\"Lng\":{\"__ndarray__\":\"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\",\"dtype\":\"float64\",\"order\":\"little\",\"shape\":[579]},\"color\":[\"butaritari\",\"bengkulu\",\"ust-kulom\",\"rikitea\",\"hobart\",\"ravar\",\"caravelas\",\"bakel\",\"srivardhan\",\"the valley\",\"grindavik\",\"sharanga\",\"busselton\",\"puerto ayora\",\"port elizabeth\",\"sokoni\",\"inhambane\",\"poronaysk\",\"ushuaia\",\"tasiilaq\",\"saint-philippe\",\"lasa\",\"bluff\",\"olafsvik\",\"ambilobe\",\"esil\",\"xinqing\",\"port blair\",\"barrow\",\"tuatapere\",\"ponta do sol\",\"jamestown\",\"vaini\",\"anadyr\",\"akhaldaba\",\"andros town\",\"aksu\",\"cabo san lucas\",\"tuktoyaktuk\",\"touros\",\"baruun-urt\",\"mataura\",\"georgetown\",\"kolondieba\",\"bredasdorp\",\"kokstad\",\"mugur-aksy\",\"punta arenas\",\"provideniya\",\"dikson\",\"rabak\",\"cidreira\",\"yellowknife\",\"chitrakonda\",\"souillac\",\"cabo rojo\",\"kapit\",\"plettenberg bay\",\"iqaluit\",\"maltahohe\",\"arraial do cabo\",\"san ramon\",\"cape town\",\"akdepe\",\"lebu\",\"kapaa\",\"marawi\",\"tello\",\"verkhniy avzyan\",\"buraydah\",\"kodiak\",\"araouane\",\"roebourne\",\"kahului\",\"tomakomai\",\"thompson\",\"henties bay\",\"carnarvon\",\"sitamarhi\",\"mogadishu\",\"bethel\",\"hermanus\",\"beringovskiy\",\"saskylakh\",\"grand gaube\",\"binga\",\"erenhot\",\"nikolskoye\",\"rawson\",\"asprovalta\",\"tessalit\",\"upernavik\",\"kohlu\",\"sao joao da barra\",\"cayenne\",\"solnechnyy\",\"arman\",\"east london\",\"camacupa\",\"port alfred\",\"pavlovsk\",\"maibong\",\"kinsale\",\"san quintin\",\"boma\",\"roald\",\"komsomolskiy\",\"port hardy\",\"new norfolk\",\"muros\",\"pisco\",\"coralville\",\"bayangol\",\"karasuk\",\"coquimbo\",\"dingle\",\"kijang\",\"mbuji-mayi\",\"borodino\",\"benjamin constant\",\"cartagena\",\"nouadhibou\",\"sibolga\",\"elizabeth city\",\"montepuez\",\"aykhal\",\"san patricio\",\"praia\",\"geraldton\",\"verkhnevilyuysk\",\"san cristobal\",\"beloha\",\"quelimane\",\"poum\",\"tecoanapa\",\"mobaye\",\"hirara\",\"fatezh\",\"clyde river\",\"plouzane\",\"fairbanks\",\"milagres\",\"los llanos de aridane\",\"massakory\",\"areka\",\"dharchula\",\"laguna\",\"victoria\",\"berlevag\",\"bardiyah\",\"mokhsogollokh\",\"atuona\",\"necochea\",\"mahebourg\",\"sibu\",\"sioux lookout\",\"mahibadhoo\",\"ribeira grande\",\"husavik\",\"wajir\",\"hangu\",\"acapulco\",\"kaitangata\",\"hithadhoo\",\"saurimo\",\"ulaangom\",\"camopi\",\"pangnirtung\",\"albany\",\"lodja\",\"ostrovnoy\",\"hualmay\",\"faya\",\"leningradskiy\",\"saint anthony\",\"solhan\",\"gamba\",\"oksfjord\",\"isangel\",\"oxapampa\",\"taldan\",\"vondrozo\",\"ziro\",\"porto novo\",\"esperance\",\"edd\",\"bathsheba\",\"kaoma\",\"zhigansk\",\"hachinohe\",\"torbay\",\"krasnoselkup\",\"vestmannaeyjar\",\"menomonie\",\"pevek\",\"kyshtovka\",\"hanford\",\"karratha\",\"mosquera\",\"bumba\",\"umba\",\"mayo\",\"alofi\",\"chokurdakh\",\"havre-saint-pierre\",\"richards bay\",\"camacha\",\"palmer\",\"gornopravdinsk\",\"qaanaaq\",\"tiksi\",\"bilma\",\"yar-sale\",\"aklavik\",\"waynesville\",\"ancud\",\"khatanga\",\"domoni\",\"linxia\",\"port lincoln\",\"buritis\",\"haines junction\",\"limon\",\"hamilton\",\"dong xoai\",\"bambous virieux\",\"leh\",\"castro\",\"pimentel\",\"itoman\",\"tura\",\"pangody\",\"saint-louis\",\"chapleau\",\"la rioja\",\"sungairaya\",\"saint-francois\",\"catabola\",\"rafaela\",\"dawson\",\"lagoa vermelha\",\"marsh harbour\",\"avarua\",\"saldanha\",\"port-gentil\",\"viedma\",\"cherskiy\",\"port-cartier\",\"laredo\",\"jiwani\",\"bar harbor\",\"kruisfontein\",\"isla mujeres\",\"broome\",\"sistranda\",\"batticaloa\",\"xuddur\",\"karpathos\",\"grants\",\"airai\",\"guerrero negro\",\"havelock\",\"groa\",\"sihora\",\"port keats\",\"kavaratti\",\"bakchar\",\"yeniseysk\",\"jalu\",\"muddebihal\",\"bonavista\",\"gunnedah\",\"dunedin\",\"matay\",\"tezu\",\"kiama\",\"tabou\",\"namibe\",\"tres arroyos\",\"hilo\",\"hatillo\",\"harbour breton\",\"ponta delgada\",\"koshurnikovo\",\"bahir dar\",\"tabuk\",\"turayf\",\"surt\",\"shingu\",\"sawtell\",\"lagdo\",\"tommot\",\"saint-augustin\",\"rio grande\",\"lata\",\"labuan\",\"chifeng\",\"turukhansk\",\"nyurba\",\"codrington\",\"bohodukhiv\",\"tambacounda\",\"carahue\",\"camargo\",\"korla\",\"hasaki\",\"talara\",\"alice springs\",\"seoul\",\"mirnyy\",\"la ronge\",\"acajutla\",\"senneterre\",\"todos santos\",\"karasjok\",\"sao filipe\",\"luderitz\",\"georgiyevka\",\"djambala\",\"qaqortoq\",\"herveo\",\"kibuye\",\"yulara\",\"kungurtug\",\"hovd\",\"ponerihouen\",\"gubkinskiy\",\"fuyu\",\"smithers\",\"haverfordwest\",\"pitimbu\",\"tiarei\",\"puerto escondido\",\"kantunilkin\",\"sitka\",\"chuy\",\"nikel\",\"vila franca do campo\",\"prainha\",\"san carlos de bariloche\",\"norman wells\",\"sungaipenuh\",\"salisbury\",\"wasilla\",\"ovsyanka\",\"likhoslavl\",\"sao joaquim\",\"makakilo city\",\"sulangan\",\"deputatskiy\",\"mount gambier\",\"vila do maio\",\"yumen\",\"saint-pierre\",\"gazojak\",\"half moon bay\",\"pingshan\",\"hami\",\"itarema\",\"dwarka\",\"fuxin\",\"harper\",\"havoysund\",\"alvaraes\",\"boende\",\"pacific grove\",\"volchikha\",\"genhe\",\"avera\",\"gobabis\",\"dubinino\",\"conceicao do araguaia\",\"badia polesine\",\"mehamn\",\"kununurra\",\"port shepstone\",\"impfondo\",\"kavieng\",\"vardo\",\"ilulissat\",\"nhulunbuy\",\"omsukchan\",\"rovaniemi\",\"narsaq\",\"blackpool\",\"paamiut\",\"macau\",\"naze\",\"paita\",\"katsuura\",\"senanga\",\"fortuna\",\"goundam\",\"amuntai\",\"moerai\",\"sola\",\"leshukonskoye\",\"jacmel\",\"zyryanka\",\"lagoa\",\"saint george\",\"souris\",\"adrar\",\"walvis bay\",\"kiruna\",\"bam\",\"ziarat\",\"pasighat\",\"kaduna\",\"linfen\",\"jiexiu\",\"brae\",\"petropavlovsk-kamchatskiy\",\"port augusta\",\"kazachinskoye\",\"uvat\",\"nantucket\",\"nome\",\"karaton\",\"krasnorechenskiy\",\"prince rupert\",\"aden\",\"kalemie\",\"talcahuano\",\"ha tinh\",\"knysna\",\"phan thiet\",\"tautira\",\"longyearbyen\",\"lyngseidet\",\"mar del plata\",\"champerico\",\"ardea\",\"susanville\",\"kuloy\",\"campbellton\",\"ust-koksa\",\"uarini\",\"lorengau\",\"nanortalik\",\"marsa matruh\",\"mahajanga\",\"kudahuvadhoo\",\"harare\",\"thakurganj\",\"aranda de duero\",\"terrace\",\"kirakira\",\"puerto princesa\",\"terekli-mekteb\",\"arlit\",\"onoda\",\"flagstaff\",\"chicama\",\"balestrand\",\"ballina\",\"znamenskoye\",\"ust-omchug\",\"aranos\",\"tual\",\"alhadas\",\"pueblo\",\"cuamba\",\"comodoro rivadavia\",\"nabire\",\"garowe\",\"aripuana\",\"petersburg\",\"san jeronimo\",\"wanning\",\"golden\",\"nabinagar\",\"svobodnyy\",\"te anau\",\"maniitsoq\",\"ambanja\",\"dzierzoniow\",\"batemans bay\",\"murud\",\"kanonji\",\"lavrentiya\",\"potosi\",\"mackenzie\",\"valparaiso\",\"banda aceh\",\"bandarbeyla\",\"parfino\",\"xining\",\"thyboron\",\"prado\",\"tumen\",\"takoradi\",\"melfort\",\"soyo\",\"itacare\",\"pangai\",\"yining\",\"amberley\",\"puerto cabello\",\"nizwa\",\"flin flon\",\"manoel urbano\",\"da nang\",\"nampula\",\"almaznyy\",\"broken hill\",\"aksay\",\"savannah bight\",\"vojnik\",\"kihei\",\"baiao\",\"yangambi\",\"portland\",\"sterling\",\"palamos\",\"amazar\",\"puerto el triunfo\",\"egvekinot\",\"marystown\",\"maxixe\",\"waingapu\",\"ust-ordynskiy\",\"ternate\",\"ordu\",\"thinadhoo\",\"ribeira brava\",\"kota kinabalu\",\"montana\",\"devils lake\",\"rumphi\",\"tandil\",\"bagotville\",\"metro\",\"magistralnyy\",\"belaya gora\",\"sampit\",\"daloa\",\"cururupu\",\"niquelandia\",\"choachi\",\"porto walter\",\"alikalia\",\"nakhon phanom\",\"safaga\",\"mount isa\",\"vila velha\",\"samarai\",\"riohacha\",\"novyy urengoy\",\"sinop\",\"pizarro\",\"eureka\",\"shimoda\",\"morondava\",\"khash\",\"hambantota\",\"nemuro\",\"mabaruma\",\"uige\",\"naron\",\"banswara\",\"bubaque\",\"merauke\",\"isiro\",\"belmonte\",\"mackay\",\"bamako\",\"athabasca\",\"xam nua\",\"starokozache\",\"lhokseumawe\",\"kyzyl-suu\",\"blagoyevo\",\"sorong\",\"suraabad\",\"waipawa\",\"mandera\",\"martapura\",\"halifax\"],\"size\":{\"__ndarray__\":\"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\",\"dtype\":\"float64\",\"order\":\"little\",\"shape\":[579]}},\"selected\":{\"id\":\"3497\"},\"selection_policy\":{\"id\":\"3509\"}},\"id\":\"3496\",\"type\":\"ColumnDataSource\"},{\"attributes\":{\"source\":{\"id\":\"3496\"}},\"id\":\"3505\",\"type\":\"CDSView\"},{\"attributes\":{\"coordinates\":null,\"group\":null,\"level\":\"glyph\",\"tile_source\":{\"id\":\"3490\"}},\"id\":\"3493\",\"type\":\"TileRenderer\"},{\"attributes\":{\"children\":[{\"id\":\"3420\"},{\"id\":\"3432\"},{\"id\":\"3522\"}],\"margin\":[0,0,0,0],\"name\":\"Row04133\",\"tags\":[\"embedded\"]},\"id\":\"3419\",\"type\":\"Row\"},{\"attributes\":{\"callback\":null,\"formatters\":{\"$x\":{\"id\":\"3514\"},\"$y\":{\"id\":\"3515\"}},\"renderers\":[{\"id\":\"3504\"}],\"tags\":[\"hv_created\"],\"tooltips\":[[\"Lng\",\"$x{custom}\"],[\"Lat\",\"$y{custom}\"],[\"City\",\"@{City}\"],[\"Humidity\",\"@{Humidity}\"]]},\"id\":\"3429\",\"type\":\"HoverTool\"},{\"attributes\":{\"code\":\"\\n        var projections = Bokeh.require(\\\"core/util/projections\\\");\\n        var x = special_vars.data_x\\n        var y = special_vars.data_y\\n        var coords = projections.wgs84_mercator.invert(x, y)\\n        return \\\"\\\" + (coords[0]).toFixed(4)\\n    \"},\"id\":\"3514\",\"type\":\"CustomJSHover\"},{\"attributes\":{\"axis_label\":\"x\",\"coordinates\":null,\"formatter\":{\"id\":\"3465\"},\"group\":null,\"major_label_policy\":{\"id\":\"3470\"},\"ticker\":{\"id\":\"3464\"}},\"id\":\"3441\",\"type\":\"LinearAxis\"},{\"attributes\":{\"margin\":[5,5,5,5],\"name\":\"HSpacer04137\",\"sizing_mode\":\"stretch_width\"},\"id\":\"3420\",\"type\":\"Spacer\"},{\"attributes\":{\"coordinates\":null,\"data_source\":{\"id\":\"3496\"},\"glyph\":{\"id\":\"3499\"},\"group\":null,\"hover_glyph\":{\"id\":\"3502\"},\"muted_glyph\":{\"id\":\"3503\"},\"nonselection_glyph\":{\"id\":\"3500\"},\"selection_glyph\":{\"id\":\"3501\"},\"view\":{\"id\":\"3505\"}},\"id\":\"3504\",\"type\":\"GlyphRenderer\"},{\"attributes\":{\"attribution\":\"&copy; <a href=\\\"https://www.openstreetmap.org/copyright\\\">OpenStreetMap</a> contributors\",\"url\":\"https://c.tile.openstreetmap.org/{Z}/{X}/{Y}.png\"},\"id\":\"3490\",\"type\":\"WMTSTileSource\"},{\"attributes\":{\"end\":23563079.56329145,\"min_interval\":5,\"reset_end\":23563079.56329145,\"reset_start\":-23546381.639672454,\"start\":-23546381.639672454,\"tags\":[[[\"Lng\",\"Lng\",null]]]},\"id\":\"3425\",\"type\":\"Range1d\"},{\"attributes\":{\"end\":16667782.964865487,\"min_interval\":5,\"reset_end\":16667782.964865487,\"reset_start\":-9504139.925670017,\"start\":-9504139.925670017,\"tags\":[[[\"Lat\",\"Lat\",null]]]},\"id\":\"3426\",\"type\":\"Range1d\"},{\"attributes\":{},\"id\":\"3509\",\"type\":\"UnionRenderers\"}],\"root_ids\":[\"3419\"]},\"title\":\"Bokeh Application\",\"version\":\"2.4.3\"}};\n",
       "    var render_items = [{\"docid\":\"4c6d1068-ec28-4395-a462-808061cee0a7\",\"root_ids\":[\"3419\"],\"roots\":{\"3419\":\"248e2a13-c314-43b6-b3ef-9c522547da17\"}}];\n",
       "    root.Bokeh.embed.embed_items_notebook(docs_json, render_items);\n",
       "    for (const render_item of render_items) {\n",
       "      for (const root_id of render_item.root_ids) {\n",
       "\tconst id_el = document.getElementById(root_id)\n",
       "\tif (id_el.children.length && (id_el.children[0].className === 'bk-root')) {\n",
       "\t  const root_el = id_el.children[0]\n",
       "\t  root_el.id = root_el.id + '-rendered'\n",
       "\t}\n",
       "      }\n",
       "    }\n",
       "  }\n",
       "  if (root.Bokeh !== undefined && root.Bokeh.Panel !== undefined) {\n",
       "    embed_document(root);\n",
       "  } else {\n",
       "    var attempts = 0;\n",
       "    var timer = setInterval(function(root) {\n",
       "      if (root.Bokeh !== undefined && root.Bokeh.Panel !== undefined) {\n",
       "        clearInterval(timer);\n",
       "        embed_document(root);\n",
       "      } else if (document.readyState == \"complete\") {\n",
       "        attempts++;\n",
       "        if (attempts > 200) {\n",
       "          clearInterval(timer);\n",
       "          console.log(\"Bokeh: ERROR: Unable to run BokehJS code because BokehJS library is missing\");\n",
       "        }\n",
       "      }\n",
       "    }, 25, root)\n",
       "  }\n",
       "})(window);</script>"
      ],
      "text/plain": [
       ":Overlay\n",
       "   .Tiles.I  :Tiles   [x,y]\n",
       "   .Points.I :Points   [Lng,Lat]   (City,Humidity)"
      ]
     },
     "execution_count": 43,
     "metadata": {
      "application/vnd.holoviews_exec.v0+json": {
       "id": "3419"
      }
     },
     "output_type": "execute_result"
    }
   ],
   "source": [
    "%%capture --no-display\n",
    "\n",
    "# Configure the map plot\n",
    "city_data_map = city_data_df.hvplot.points(\n",
    "    x=\"Lng\",\n",
    "    y=\"Lat\",\n",
    "    geo = True,\n",
    "    size=\"Humidity\",\n",
    "    hover_cols=[\"City\"],\n",
    "    color=\"City\",\n",
    "    tiles=True,\n",
    "    alpha=0.3,\n",
    "    width=900,\n",
    "    height=500\n",
    ")\n",
    "\n",
    "# Display the map\n",
    "city_data_map"
   ]
  },
  {
   "cell_type": "markdown",
   "metadata": {},
   "source": [
    "### Step 2: Narrow down the `city_data_df` DataFrame to find your ideal weather condition"
   ]
  },
  {
   "cell_type": "code",
   "execution_count": 74,
   "metadata": {},
   "outputs": [
    {
     "data": {
      "text/html": [
       "<div>\n",
       "<style scoped>\n",
       "    .dataframe tbody tr th:only-of-type {\n",
       "        vertical-align: middle;\n",
       "    }\n",
       "\n",
       "    .dataframe tbody tr th {\n",
       "        vertical-align: top;\n",
       "    }\n",
       "\n",
       "    .dataframe thead th {\n",
       "        text-align: right;\n",
       "    }\n",
       "</style>\n",
       "<table border=\"1\" class=\"dataframe\">\n",
       "  <thead>\n",
       "    <tr style=\"text-align: right;\">\n",
       "      <th></th>\n",
       "      <th>City_ID</th>\n",
       "      <th>City</th>\n",
       "      <th>Lat</th>\n",
       "      <th>Lng</th>\n",
       "      <th>Max Temp</th>\n",
       "      <th>Humidity</th>\n",
       "      <th>Cloudiness</th>\n",
       "      <th>Wind Speed</th>\n",
       "      <th>Country</th>\n",
       "      <th>Date</th>\n",
       "    </tr>\n",
       "  </thead>\n",
       "  <tbody>\n",
       "    <tr>\n",
       "      <th>3</th>\n",
       "      <td>3</td>\n",
       "      <td>rikitea</td>\n",
       "      <td>-23.1203</td>\n",
       "      <td>-134.9692</td>\n",
       "      <td>78.566</td>\n",
       "      <td>74</td>\n",
       "      <td>100</td>\n",
       "      <td>2.05</td>\n",
       "      <td>PF</td>\n",
       "      <td>1675487444</td>\n",
       "    </tr>\n",
       "    <tr>\n",
       "      <th>6</th>\n",
       "      <td>6</td>\n",
       "      <td>caravelas</td>\n",
       "      <td>-17.7125</td>\n",
       "      <td>-39.2481</td>\n",
       "      <td>75.884</td>\n",
       "      <td>88</td>\n",
       "      <td>5</td>\n",
       "      <td>3.20</td>\n",
       "      <td>BR</td>\n",
       "      <td>1675487659</td>\n",
       "    </tr>\n",
       "    <tr>\n",
       "      <th>7</th>\n",
       "      <td>7</td>\n",
       "      <td>bakel</td>\n",
       "      <td>14.9050</td>\n",
       "      <td>-12.4568</td>\n",
       "      <td>69.098</td>\n",
       "      <td>13</td>\n",
       "      <td>15</td>\n",
       "      <td>5.93</td>\n",
       "      <td>SN</td>\n",
       "      <td>1675487659</td>\n",
       "    </tr>\n",
       "    <tr>\n",
       "      <th>9</th>\n",
       "      <td>9</td>\n",
       "      <td>the valley</td>\n",
       "      <td>18.2170</td>\n",
       "      <td>-63.0578</td>\n",
       "      <td>78.098</td>\n",
       "      <td>75</td>\n",
       "      <td>8</td>\n",
       "      <td>7.90</td>\n",
       "      <td>AI</td>\n",
       "      <td>1675487660</td>\n",
       "    </tr>\n",
       "    <tr>\n",
       "      <th>13</th>\n",
       "      <td>13</td>\n",
       "      <td>puerto ayora</td>\n",
       "      <td>-0.7393</td>\n",
       "      <td>-90.3518</td>\n",
       "      <td>77.558</td>\n",
       "      <td>95</td>\n",
       "      <td>83</td>\n",
       "      <td>0.45</td>\n",
       "      <td>EC</td>\n",
       "      <td>1675487662</td>\n",
       "    </tr>\n",
       "  </tbody>\n",
       "</table>\n",
       "</div>"
      ],
      "text/plain": [
       "    City_ID          City      Lat       Lng  Max Temp  Humidity  Cloudiness  \\\n",
       "3         3       rikitea -23.1203 -134.9692    78.566        74         100   \n",
       "6         6     caravelas -17.7125  -39.2481    75.884        88           5   \n",
       "7         7         bakel  14.9050  -12.4568    69.098        13          15   \n",
       "9         9    the valley  18.2170  -63.0578    78.098        75           8   \n",
       "13       13  puerto ayora  -0.7393  -90.3518    77.558        95          83   \n",
       "\n",
       "    Wind Speed Country        Date  \n",
       "3         2.05      PF  1675487444  \n",
       "6         3.20      BR  1675487659  \n",
       "7         5.93      SN  1675487659  \n",
       "9         7.90      AI  1675487660  \n",
       "13        0.45      EC  1675487662  "
      ]
     },
     "execution_count": 74,
     "metadata": {},
     "output_type": "execute_result"
    }
   ],
   "source": [
    "# Narrow down cities that fit criteria and drop any results with null values\n",
    "city_data_df = city_data_df[(city_data_df['Max Temp'] > 65) & (city_data_df['Max Temp'] < 80) & (city_data_df['Wind Speed'] < 10)]\n",
    "\n",
    "# Drop any rows with null values\n",
    "city_data_df = city_data_df.dropna()\n",
    "\n",
    "# Display sample data\n",
    "city_data_df.head()\n"
   ]
  },
  {
   "cell_type": "markdown",
   "metadata": {},
   "source": [
    "### Step 3: Create a new DataFrame called `hotel_df`."
   ]
  },
  {
   "cell_type": "code",
   "execution_count": 77,
   "metadata": {},
   "outputs": [
    {
     "data": {
      "text/html": [
       "<div>\n",
       "<style scoped>\n",
       "    .dataframe tbody tr th:only-of-type {\n",
       "        vertical-align: middle;\n",
       "    }\n",
       "\n",
       "    .dataframe tbody tr th {\n",
       "        vertical-align: top;\n",
       "    }\n",
       "\n",
       "    .dataframe thead th {\n",
       "        text-align: right;\n",
       "    }\n",
       "</style>\n",
       "<table border=\"1\" class=\"dataframe\">\n",
       "  <thead>\n",
       "    <tr style=\"text-align: right;\">\n",
       "      <th></th>\n",
       "      <th>City</th>\n",
       "      <th>Country</th>\n",
       "      <th>Lat</th>\n",
       "      <th>Lng</th>\n",
       "      <th>Humidity</th>\n",
       "      <th>Hotel Name</th>\n",
       "    </tr>\n",
       "  </thead>\n",
       "  <tbody>\n",
       "    <tr>\n",
       "      <th>3</th>\n",
       "      <td>rikitea</td>\n",
       "      <td>PF</td>\n",
       "      <td>-23.1203</td>\n",
       "      <td>-134.9692</td>\n",
       "      <td>74</td>\n",
       "      <td></td>\n",
       "    </tr>\n",
       "    <tr>\n",
       "      <th>6</th>\n",
       "      <td>caravelas</td>\n",
       "      <td>BR</td>\n",
       "      <td>-17.7125</td>\n",
       "      <td>-39.2481</td>\n",
       "      <td>88</td>\n",
       "      <td></td>\n",
       "    </tr>\n",
       "    <tr>\n",
       "      <th>7</th>\n",
       "      <td>bakel</td>\n",
       "      <td>SN</td>\n",
       "      <td>14.9050</td>\n",
       "      <td>-12.4568</td>\n",
       "      <td>13</td>\n",
       "      <td></td>\n",
       "    </tr>\n",
       "    <tr>\n",
       "      <th>9</th>\n",
       "      <td>the valley</td>\n",
       "      <td>AI</td>\n",
       "      <td>18.2170</td>\n",
       "      <td>-63.0578</td>\n",
       "      <td>75</td>\n",
       "      <td></td>\n",
       "    </tr>\n",
       "    <tr>\n",
       "      <th>13</th>\n",
       "      <td>puerto ayora</td>\n",
       "      <td>EC</td>\n",
       "      <td>-0.7393</td>\n",
       "      <td>-90.3518</td>\n",
       "      <td>95</td>\n",
       "      <td></td>\n",
       "    </tr>\n",
       "  </tbody>\n",
       "</table>\n",
       "</div>"
      ],
      "text/plain": [
       "            City Country      Lat       Lng  Humidity Hotel Name\n",
       "3        rikitea      PF -23.1203 -134.9692        74           \n",
       "6      caravelas      BR -17.7125  -39.2481        88           \n",
       "7          bakel      SN  14.9050  -12.4568        13           \n",
       "9     the valley      AI  18.2170  -63.0578        75           \n",
       "13  puerto ayora      EC  -0.7393  -90.3518        95           "
      ]
     },
     "execution_count": 77,
     "metadata": {},
     "output_type": "execute_result"
    }
   ],
   "source": [
    "# Use the Pandas copy function to create DataFrame called hotel_df to store the city, country, coordinates, and humidity\n",
    "hotel_df = city_data_df[[\"City\", \"Country\", \"Lat\", \"Lng\", \"Humidity\"]].copy()\n",
    "\n",
    "# Add an empty column, \"Hotel Name,\" to the DataFrame so you can store the hotel found using the Geoapify API\n",
    "hotel_df[\"Hotel Name\"] = \"\"\n",
    "\n",
    "# Display sample data\n",
    "hotel_df.head()"
   ]
  },
  {
   "cell_type": "markdown",
   "metadata": {},
   "source": [
    "### Step 4: For each city, use the Geoapify API to find the first hotel located within 10,000 metres of your coordinates."
   ]
  },
  {
   "cell_type": "code",
   "execution_count": 12,
   "metadata": {},
   "outputs": [
    {
     "name": "stdout",
     "output_type": "stream",
     "text": [
      "Starting hotel search\n",
      "sharanga - nearest hotel: Отель Юронга\n",
      "tasiilaq - nearest hotel: Angmagssalik\n",
      "aksu - nearest hotel: Akesu Tianyuan International Hotel\n",
      "tomakomai - nearest hotel: グランドホテルニュー王子\n",
      "erenhot - nearest hotel: Oulen hotel\n",
      "nikolskoye - nearest hotel: No hotel found\n",
      "pavlovsk - nearest hotel: Гостиница \"Дон\"\n",
      "berlevag - nearest hotel: No hotel found\n",
      "torbay - nearest hotel: Hampton\n",
      "mayo - nearest hotel: The Westin\n",
      "waynesville - nearest hotel: Waynesville Country Club Inn\n",
      "hamilton - nearest hotel: North Vista Manor\n",
      "la rioja - nearest hotel: No hotel found\n",
      "sistranda - nearest hotel: Hotell Frøya\n",
      "grants - nearest hotel: Southwest Motel\n",
      "groa - nearest hotel: Sunndalsøra Hotell\n",
      "korla - nearest hotel: Silver Star Hotel\n",
      "wasilla - nearest hotel: No hotel found\n",
      "havoysund - nearest hotel: Havøysund Hotell\n",
      "mehamn - nearest hotel: Mehamn Arctic hotell\n",
      "vardo - nearest hotel: Meieriet\n",
      "ust-koksa - nearest hotel: Уймонская долина\n",
      "petersburg - nearest hotel: Travel Inn - Petersburg\n",
      "parfino - nearest hotel: No hotel found\n",
      "tumen - nearest hotel: 图们边疆大厦\n",
      "sterling - nearest hotel: Residence Inn by Marriott Dulles Airport at Dulles 28 Centre\n",
      "ordu - nearest hotel: No hotel found\n",
      "nemuro - nearest hotel: イーストハーバーホテル\n",
      "athabasca - nearest hotel: Grand Union Hotel\n"
     ]
    },
    {
     "data": {
      "text/html": [
       "<div>\n",
       "<style scoped>\n",
       "    .dataframe tbody tr th:only-of-type {\n",
       "        vertical-align: middle;\n",
       "    }\n",
       "\n",
       "    .dataframe tbody tr th {\n",
       "        vertical-align: top;\n",
       "    }\n",
       "\n",
       "    .dataframe thead th {\n",
       "        text-align: right;\n",
       "    }\n",
       "</style>\n",
       "<table border=\"1\" class=\"dataframe\">\n",
       "  <thead>\n",
       "    <tr style=\"text-align: right;\">\n",
       "      <th></th>\n",
       "      <th>City</th>\n",
       "      <th>Country</th>\n",
       "      <th>Lat</th>\n",
       "      <th>Lng</th>\n",
       "      <th>Humidity</th>\n",
       "      <th>Hotel Name</th>\n",
       "    </tr>\n",
       "  </thead>\n",
       "  <tbody>\n",
       "    <tr>\n",
       "      <th>11</th>\n",
       "      <td>sharanga</td>\n",
       "      <td>RU</td>\n",
       "      <td>57.1775</td>\n",
       "      <td>46.5396</td>\n",
       "      <td>97</td>\n",
       "      <td>Отель Юронга</td>\n",
       "    </tr>\n",
       "    <tr>\n",
       "      <th>19</th>\n",
       "      <td>tasiilaq</td>\n",
       "      <td>GL</td>\n",
       "      <td>65.6145</td>\n",
       "      <td>-37.6368</td>\n",
       "      <td>86</td>\n",
       "      <td>Angmagssalik</td>\n",
       "    </tr>\n",
       "    <tr>\n",
       "      <th>36</th>\n",
       "      <td>aksu</td>\n",
       "      <td>CN</td>\n",
       "      <td>41.1231</td>\n",
       "      <td>80.2644</td>\n",
       "      <td>73</td>\n",
       "      <td>Akesu Tianyuan International Hotel</td>\n",
       "    </tr>\n",
       "    <tr>\n",
       "      <th>74</th>\n",
       "      <td>tomakomai</td>\n",
       "      <td>JP</td>\n",
       "      <td>42.6369</td>\n",
       "      <td>141.6033</td>\n",
       "      <td>54</td>\n",
       "      <td>グランドホテルニュー王子</td>\n",
       "    </tr>\n",
       "    <tr>\n",
       "      <th>86</th>\n",
       "      <td>erenhot</td>\n",
       "      <td>CN</td>\n",
       "      <td>43.6475</td>\n",
       "      <td>111.9767</td>\n",
       "      <td>26</td>\n",
       "      <td>Oulen hotel</td>\n",
       "    </tr>\n",
       "    <tr>\n",
       "      <th>87</th>\n",
       "      <td>nikolskoye</td>\n",
       "      <td>RU</td>\n",
       "      <td>59.7035</td>\n",
       "      <td>30.7861</td>\n",
       "      <td>95</td>\n",
       "      <td>No hotel found</td>\n",
       "    </tr>\n",
       "    <tr>\n",
       "      <th>100</th>\n",
       "      <td>pavlovsk</td>\n",
       "      <td>RU</td>\n",
       "      <td>50.4578</td>\n",
       "      <td>40.1081</td>\n",
       "      <td>94</td>\n",
       "      <td>Гостиница \"Дон\"</td>\n",
       "    </tr>\n",
       "    <tr>\n",
       "      <th>148</th>\n",
       "      <td>berlevag</td>\n",
       "      <td>NO</td>\n",
       "      <td>70.8578</td>\n",
       "      <td>29.0864</td>\n",
       "      <td>74</td>\n",
       "      <td>No hotel found</td>\n",
       "    </tr>\n",
       "    <tr>\n",
       "      <th>190</th>\n",
       "      <td>torbay</td>\n",
       "      <td>CA</td>\n",
       "      <td>47.6666</td>\n",
       "      <td>-52.7314</td>\n",
       "      <td>81</td>\n",
       "      <td>Hampton</td>\n",
       "    </tr>\n",
       "    <tr>\n",
       "      <th>201</th>\n",
       "      <td>mayo</td>\n",
       "      <td>US</td>\n",
       "      <td>38.8876</td>\n",
       "      <td>-76.5119</td>\n",
       "      <td>43</td>\n",
       "      <td>The Westin</td>\n",
       "    </tr>\n",
       "    <tr>\n",
       "      <th>214</th>\n",
       "      <td>waynesville</td>\n",
       "      <td>US</td>\n",
       "      <td>35.4887</td>\n",
       "      <td>-82.9887</td>\n",
       "      <td>79</td>\n",
       "      <td>Waynesville Country Club Inn</td>\n",
       "    </tr>\n",
       "    <tr>\n",
       "      <th>223</th>\n",
       "      <td>hamilton</td>\n",
       "      <td>US</td>\n",
       "      <td>39.1834</td>\n",
       "      <td>-84.5333</td>\n",
       "      <td>70</td>\n",
       "      <td>North Vista Manor</td>\n",
       "    </tr>\n",
       "    <tr>\n",
       "      <th>234</th>\n",
       "      <td>la rioja</td>\n",
       "      <td>ES</td>\n",
       "      <td>42.2500</td>\n",
       "      <td>-2.5000</td>\n",
       "      <td>39</td>\n",
       "      <td>No hotel found</td>\n",
       "    </tr>\n",
       "    <tr>\n",
       "      <th>254</th>\n",
       "      <td>sistranda</td>\n",
       "      <td>NO</td>\n",
       "      <td>63.7256</td>\n",
       "      <td>8.8340</td>\n",
       "      <td>61</td>\n",
       "      <td>Hotell Frøya</td>\n",
       "    </tr>\n",
       "    <tr>\n",
       "      <th>258</th>\n",
       "      <td>grants</td>\n",
       "      <td>US</td>\n",
       "      <td>35.1473</td>\n",
       "      <td>-107.8514</td>\n",
       "      <td>54</td>\n",
       "      <td>Southwest Motel</td>\n",
       "    </tr>\n",
       "    <tr>\n",
       "      <th>262</th>\n",
       "      <td>groa</td>\n",
       "      <td>NO</td>\n",
       "      <td>62.6500</td>\n",
       "      <td>8.7167</td>\n",
       "      <td>67</td>\n",
       "      <td>Sunndalsøra Hotell</td>\n",
       "    </tr>\n",
       "    <tr>\n",
       "      <th>304</th>\n",
       "      <td>korla</td>\n",
       "      <td>CN</td>\n",
       "      <td>41.7597</td>\n",
       "      <td>86.1469</td>\n",
       "      <td>54</td>\n",
       "      <td>Silver Star Hotel</td>\n",
       "    </tr>\n",
       "    <tr>\n",
       "      <th>343</th>\n",
       "      <td>wasilla</td>\n",
       "      <td>US</td>\n",
       "      <td>61.5814</td>\n",
       "      <td>-149.4394</td>\n",
       "      <td>95</td>\n",
       "      <td>No hotel found</td>\n",
       "    </tr>\n",
       "    <tr>\n",
       "      <th>362</th>\n",
       "      <td>havoysund</td>\n",
       "      <td>NO</td>\n",
       "      <td>70.9963</td>\n",
       "      <td>24.6622</td>\n",
       "      <td>94</td>\n",
       "      <td>Havøysund Hotell</td>\n",
       "    </tr>\n",
       "    <tr>\n",
       "      <th>373</th>\n",
       "      <td>mehamn</td>\n",
       "      <td>NO</td>\n",
       "      <td>71.0357</td>\n",
       "      <td>27.8492</td>\n",
       "      <td>74</td>\n",
       "      <td>Mehamn Arctic hotell</td>\n",
       "    </tr>\n",
       "    <tr>\n",
       "      <th>378</th>\n",
       "      <td>vardo</td>\n",
       "      <td>NO</td>\n",
       "      <td>70.3705</td>\n",
       "      <td>31.1107</td>\n",
       "      <td>73</td>\n",
       "      <td>Meieriet</td>\n",
       "    </tr>\n",
       "    <tr>\n",
       "      <th>436</th>\n",
       "      <td>ust-koksa</td>\n",
       "      <td>RU</td>\n",
       "      <td>50.2696</td>\n",
       "      <td>85.6108</td>\n",
       "      <td>91</td>\n",
       "      <td>Уймонская долина</td>\n",
       "    </tr>\n",
       "    <tr>\n",
       "      <th>467</th>\n",
       "      <td>petersburg</td>\n",
       "      <td>US</td>\n",
       "      <td>37.2279</td>\n",
       "      <td>-77.4019</td>\n",
       "      <td>39</td>\n",
       "      <td>Travel Inn - Petersburg</td>\n",
       "    </tr>\n",
       "    <tr>\n",
       "      <th>486</th>\n",
       "      <td>parfino</td>\n",
       "      <td>RU</td>\n",
       "      <td>57.9731</td>\n",
       "      <td>31.6481</td>\n",
       "      <td>97</td>\n",
       "      <td>No hotel found</td>\n",
       "    </tr>\n",
       "    <tr>\n",
       "      <th>490</th>\n",
       "      <td>tumen</td>\n",
       "      <td>CN</td>\n",
       "      <td>42.9661</td>\n",
       "      <td>129.8425</td>\n",
       "      <td>42</td>\n",
       "      <td>图们边疆大厦</td>\n",
       "    </tr>\n",
       "    <tr>\n",
       "      <th>513</th>\n",
       "      <td>sterling</td>\n",
       "      <td>US</td>\n",
       "      <td>39.0062</td>\n",
       "      <td>-77.4286</td>\n",
       "      <td>46</td>\n",
       "      <td>Residence Inn by Marriott Dulles Airport at Du...</td>\n",
       "    </tr>\n",
       "    <tr>\n",
       "      <th>523</th>\n",
       "      <td>ordu</td>\n",
       "      <td>TR</td>\n",
       "      <td>40.9086</td>\n",
       "      <td>37.6845</td>\n",
       "      <td>66</td>\n",
       "      <td>No hotel found</td>\n",
       "    </tr>\n",
       "    <tr>\n",
       "      <th>556</th>\n",
       "      <td>nemuro</td>\n",
       "      <td>JP</td>\n",
       "      <td>43.3236</td>\n",
       "      <td>145.5750</td>\n",
       "      <td>60</td>\n",
       "      <td>イーストハーバーホテル</td>\n",
       "    </tr>\n",
       "    <tr>\n",
       "      <th>567</th>\n",
       "      <td>athabasca</td>\n",
       "      <td>CA</td>\n",
       "      <td>54.7169</td>\n",
       "      <td>-113.2854</td>\n",
       "      <td>91</td>\n",
       "      <td>Grand Union Hotel</td>\n",
       "    </tr>\n",
       "  </tbody>\n",
       "</table>\n",
       "</div>"
      ],
      "text/plain": [
       "            City Country      Lat       Lng  Humidity  \\\n",
       "11      sharanga      RU  57.1775   46.5396        97   \n",
       "19      tasiilaq      GL  65.6145  -37.6368        86   \n",
       "36          aksu      CN  41.1231   80.2644        73   \n",
       "74     tomakomai      JP  42.6369  141.6033        54   \n",
       "86       erenhot      CN  43.6475  111.9767        26   \n",
       "87    nikolskoye      RU  59.7035   30.7861        95   \n",
       "100     pavlovsk      RU  50.4578   40.1081        94   \n",
       "148     berlevag      NO  70.8578   29.0864        74   \n",
       "190       torbay      CA  47.6666  -52.7314        81   \n",
       "201         mayo      US  38.8876  -76.5119        43   \n",
       "214  waynesville      US  35.4887  -82.9887        79   \n",
       "223     hamilton      US  39.1834  -84.5333        70   \n",
       "234     la rioja      ES  42.2500   -2.5000        39   \n",
       "254    sistranda      NO  63.7256    8.8340        61   \n",
       "258       grants      US  35.1473 -107.8514        54   \n",
       "262         groa      NO  62.6500    8.7167        67   \n",
       "304        korla      CN  41.7597   86.1469        54   \n",
       "343      wasilla      US  61.5814 -149.4394        95   \n",
       "362    havoysund      NO  70.9963   24.6622        94   \n",
       "373       mehamn      NO  71.0357   27.8492        74   \n",
       "378        vardo      NO  70.3705   31.1107        73   \n",
       "436    ust-koksa      RU  50.2696   85.6108        91   \n",
       "467   petersburg      US  37.2279  -77.4019        39   \n",
       "486      parfino      RU  57.9731   31.6481        97   \n",
       "490        tumen      CN  42.9661  129.8425        42   \n",
       "513     sterling      US  39.0062  -77.4286        46   \n",
       "523         ordu      TR  40.9086   37.6845        66   \n",
       "556       nemuro      JP  43.3236  145.5750        60   \n",
       "567    athabasca      CA  54.7169 -113.2854        91   \n",
       "\n",
       "                                            Hotel Name  \n",
       "11                                        Отель Юронга  \n",
       "19                                        Angmagssalik  \n",
       "36                  Akesu Tianyuan International Hotel  \n",
       "74                                        グランドホテルニュー王子  \n",
       "86                                         Oulen hotel  \n",
       "87                                      No hotel found  \n",
       "100                                    Гостиница \"Дон\"  \n",
       "148                                     No hotel found  \n",
       "190                                            Hampton  \n",
       "201                                         The Westin  \n",
       "214                       Waynesville Country Club Inn  \n",
       "223                                  North Vista Manor  \n",
       "234                                     No hotel found  \n",
       "254                                       Hotell Frøya  \n",
       "258                                    Southwest Motel  \n",
       "262                                 Sunndalsøra Hotell  \n",
       "304                                  Silver Star Hotel  \n",
       "343                                     No hotel found  \n",
       "362                                   Havøysund Hotell  \n",
       "373                               Mehamn Arctic hotell  \n",
       "378                                           Meieriet  \n",
       "436                                   Уймонская долина  \n",
       "467                            Travel Inn - Petersburg  \n",
       "486                                     No hotel found  \n",
       "490                                             图们边疆大厦  \n",
       "513  Residence Inn by Marriott Dulles Airport at Du...  \n",
       "523                                     No hotel found  \n",
       "556                                        イーストハーバーホテル  \n",
       "567                                  Grand Union Hotel  "
      ]
     },
     "execution_count": 12,
     "metadata": {},
     "output_type": "execute_result"
    }
   ],
   "source": [
    "# Set parameters to search for a hotel\n",
    "radius = 10000\n",
    "params = {\n",
    "    \"categories\":\"accommodation.hotel\",\n",
    "    \"apiKey\": geoapify_key,\n",
    "    \"limit\":20\n",
    "}\n",
    "\n",
    "# Print a message to follow up the hotel search\n",
    "print(\"Starting hotel search\")\n",
    "\n",
    "# Iterate through the hotel_df DataFrame\n",
    "for index, row in hotel_df.iterrows():\n",
    "    # get latitude, longitude from the DataFrame\n",
    "    latitude = row[\"Lat\"]\n",
    "    longitude = row[\"Lng\"]\n",
    "    \n",
    "    # Add the current city's latitude and longitude to the params dictionary\n",
    "    params[\"filter\"] = f\"circle:{longitude},{latitude},{radius}\"\n",
    "    params[\"bias\"] = f\"proximity:{longitude},{latitude}\"\n",
    "    \n",
    "    # Set base URL\n",
    "    base_url = \"https://api.geoapify.com/v2/places\"\n",
    "    \n",
    "# Make and API request using the params dictionaty\n",
    "    name_address = requests.get(base_url, params=params)\n",
    "    \n",
    "    # Convert the API response to JSON format\n",
    "    name_address = name_address.json()\n",
    "    \n",
    "    # Grab the first hotel from the results and store the name in the hotel_df DataFrame\n",
    "    try:\n",
    "        hotel_df.loc[index, \"Hotel Name\"] = name_address[\"features\"][0][\"properties\"][\"name\"]\n",
    "    except (KeyError, IndexError):\n",
    "        # If no hotel is found, set the hotel name as \"No hotel found\".\n",
    "        hotel_df.loc[index, \"Hotel Name\"] = \"No hotel found\"\n",
    "        \n",
    "    # Log the search results\n",
    "    print(f\"{hotel_df.loc[index, 'City']} - nearest hotel: {hotel_df.loc[index, 'Hotel Name']}\")\n",
    "\n",
    "# Display sample data\n",
    "hotel_df\n"
   ]
  },
  {
   "cell_type": "markdown",
   "metadata": {},
   "source": [
    "### Step 5: Add the hotel name and the country as additional information in the hover message for each city in the map."
   ]
  },
  {
   "cell_type": "code",
   "execution_count": 82,
   "metadata": {},
   "outputs": [
    {
     "data": {},
     "metadata": {},
     "output_type": "display_data"
    },
    {
     "data": {
      "application/vnd.holoviews_exec.v0+json": "",
      "text/html": [
       "<div id='4940'>\n",
       "  <div class=\"bk-root\" id=\"86039a34-5cd9-46c1-b175-fbd650eef5d1\" data-root-id=\"4940\"></div>\n",
       "</div>\n",
       "<script type=\"application/javascript\">(function(root) {\n",
       "  function embed_document(root) {\n",
       "    var docs_json = {\"df8f64d3-69e5-4f8d-bce9-9ff4a8314671\":{\"defs\":[{\"extends\":null,\"module\":null,\"name\":\"ReactiveHTML1\",\"overrides\":[],\"properties\":[]},{\"extends\":null,\"module\":null,\"name\":\"FlexBox1\",\"overrides\":[],\"properties\":[{\"default\":\"flex-start\",\"kind\":null,\"name\":\"align_content\"},{\"default\":\"flex-start\",\"kind\":null,\"name\":\"align_items\"},{\"default\":\"row\",\"kind\":null,\"name\":\"flex_direction\"},{\"default\":\"wrap\",\"kind\":null,\"name\":\"flex_wrap\"},{\"default\":\"flex-start\",\"kind\":null,\"name\":\"justify_content\"}]},{\"extends\":null,\"module\":null,\"name\":\"GridStack1\",\"overrides\":[],\"properties\":[{\"default\":\"warn\",\"kind\":null,\"name\":\"mode\"},{\"default\":null,\"kind\":null,\"name\":\"ncols\"},{\"default\":null,\"kind\":null,\"name\":\"nrows\"},{\"default\":true,\"kind\":null,\"name\":\"allow_resize\"},{\"default\":true,\"kind\":null,\"name\":\"allow_drag\"},{\"default\":[],\"kind\":null,\"name\":\"state\"}]},{\"extends\":null,\"module\":null,\"name\":\"click1\",\"overrides\":[],\"properties\":[{\"default\":\"\",\"kind\":null,\"name\":\"terminal_output\"},{\"default\":\"\",\"kind\":null,\"name\":\"debug_name\"},{\"default\":0,\"kind\":null,\"name\":\"clears\"}]},{\"extends\":null,\"module\":null,\"name\":\"NotificationAreaBase1\",\"overrides\":[],\"properties\":[{\"default\":\"bottom-right\",\"kind\":null,\"name\":\"position\"},{\"default\":0,\"kind\":null,\"name\":\"_clear\"}]},{\"extends\":null,\"module\":null,\"name\":\"NotificationArea1\",\"overrides\":[],\"properties\":[{\"default\":[],\"kind\":null,\"name\":\"notifications\"},{\"default\":\"bottom-right\",\"kind\":null,\"name\":\"position\"},{\"default\":0,\"kind\":null,\"name\":\"_clear\"},{\"default\":[{\"background\":\"#ffc107\",\"icon\":{\"className\":\"fas fa-exclamation-triangle\",\"color\":\"white\",\"tagName\":\"i\"},\"type\":\"warning\"},{\"background\":\"#007bff\",\"icon\":{\"className\":\"fas fa-info-circle\",\"color\":\"white\",\"tagName\":\"i\"},\"type\":\"info\"}],\"kind\":null,\"name\":\"types\"}]},{\"extends\":null,\"module\":null,\"name\":\"Notification\",\"overrides\":[],\"properties\":[{\"default\":null,\"kind\":null,\"name\":\"background\"},{\"default\":3000,\"kind\":null,\"name\":\"duration\"},{\"default\":null,\"kind\":null,\"name\":\"icon\"},{\"default\":\"\",\"kind\":null,\"name\":\"message\"},{\"default\":null,\"kind\":null,\"name\":\"notification_type\"},{\"default\":false,\"kind\":null,\"name\":\"_destroyed\"}]},{\"extends\":null,\"module\":null,\"name\":\"TemplateActions1\",\"overrides\":[],\"properties\":[{\"default\":0,\"kind\":null,\"name\":\"open_modal\"},{\"default\":0,\"kind\":null,\"name\":\"close_modal\"}]},{\"extends\":null,\"module\":null,\"name\":\"MaterialTemplateActions1\",\"overrides\":[],\"properties\":[{\"default\":0,\"kind\":null,\"name\":\"open_modal\"},{\"default\":0,\"kind\":null,\"name\":\"close_modal\"}]}],\"roots\":{\"references\":[{\"attributes\":{\"code\":\"\\n        var projections = Bokeh.require(\\\"core/util/projections\\\");\\n        var x = special_vars.data_x\\n        var y = special_vars.data_y\\n        var coords = projections.wgs84_mercator.invert(x, y)\\n        return \\\"\\\" + (coords[1]).toFixed(4)\\n    \"},\"id\":\"5036\",\"type\":\"CustomJSHover\"},{\"attributes\":{},\"id\":\"4970\",\"type\":\"SaveTool\"},{\"attributes\":{\"match_aspect\":true,\"overlay\":{\"id\":\"4975\"}},\"id\":\"4973\",\"type\":\"BoxZoomTool\"},{\"attributes\":{},\"id\":\"5030\",\"type\":\"UnionRenderers\"},{\"attributes\":{},\"id\":\"4974\",\"type\":\"ResetTool\"},{\"attributes\":{\"children\":[{\"id\":\"4941\"},{\"id\":\"4953\"},{\"id\":\"5043\"}],\"margin\":[0,0,0,0],\"name\":\"Row05762\",\"tags\":[\"embedded\"]},\"id\":\"4940\",\"type\":\"Row\"},{\"attributes\":{\"bottom_units\":\"screen\",\"coordinates\":null,\"fill_alpha\":0.5,\"fill_color\":\"lightgrey\",\"group\":null,\"left_units\":\"screen\",\"level\":\"overlay\",\"line_alpha\":1.0,\"line_color\":\"black\",\"line_dash\":[4,4],\"line_width\":2,\"right_units\":\"screen\",\"syncable\":false,\"top_units\":\"screen\"},\"id\":\"4975\",\"type\":\"BoxAnnotation\"},{\"attributes\":{\"margin\":[5,5,5,5],\"name\":\"HSpacer05766\",\"sizing_mode\":\"stretch_width\"},\"id\":\"4941\",\"type\":\"Spacer\"},{\"attributes\":{\"end\":3709292.792559085,\"min_interval\":5,\"reset_end\":3709292.792559085,\"reset_start\":-6102036.03377882,\"start\":-6102036.03377882,\"tags\":[[[\"Lat\",\"Lat\",null]]]},\"id\":\"4947\",\"type\":\"Range1d\"},{\"attributes\":{\"axis_label\":\"x\",\"coordinates\":null,\"formatter\":{\"id\":\"4986\"},\"group\":null,\"major_label_policy\":{\"id\":\"4991\"},\"ticker\":{\"id\":\"4985\"}},\"id\":\"4962\",\"type\":\"LinearAxis\"},{\"attributes\":{\"fill_alpha\":{\"value\":0.2},\"fill_color\":{\"field\":\"color\",\"transform\":{\"id\":\"5016\"}},\"hatch_alpha\":{\"value\":0.2},\"hatch_color\":{\"field\":\"color\",\"transform\":{\"id\":\"5016\"}},\"line_alpha\":{\"value\":0.2},\"line_color\":{\"field\":\"color\",\"transform\":{\"id\":\"5016\"}},\"size\":{\"field\":\"size\"},\"x\":{\"field\":\"Lng\"},\"y\":{\"field\":\"Lat\"}},\"id\":\"5024\",\"type\":\"Scatter\"},{\"attributes\":{\"axis\":{\"id\":\"4962\"},\"coordinates\":null,\"grid_line_color\":null,\"group\":null,\"ticker\":null},\"id\":\"4965\",\"type\":\"Grid\"},{\"attributes\":{\"dimension\":\"lon\"},\"id\":\"4986\",\"type\":\"MercatorTickFormatter\"},{\"attributes\":{\"dimension\":\"lat\"},\"id\":\"4988\",\"type\":\"MercatorTickFormatter\"},{\"attributes\":{\"code\":\"\\n        var projections = Bokeh.require(\\\"core/util/projections\\\");\\n        var x = special_vars.data_x\\n        var y = special_vars.data_y\\n        var coords = projections.wgs84_mercator.invert(x, y)\\n        return \\\"\\\" + (coords[0]).toFixed(4)\\n    \"},\"id\":\"5035\",\"type\":\"CustomJSHover\"},{\"attributes\":{\"fill_alpha\":{\"value\":0.3},\"fill_color\":{\"field\":\"color\",\"transform\":{\"id\":\"5016\"}},\"hatch_alpha\":{\"value\":0.3},\"hatch_color\":{\"field\":\"color\",\"transform\":{\"id\":\"5016\"}},\"line_alpha\":{\"value\":0.3},\"line_color\":{\"field\":\"color\",\"transform\":{\"id\":\"5016\"}},\"size\":{\"field\":\"size\"},\"x\":{\"field\":\"Lng\"},\"y\":{\"field\":\"Lat\"}},\"id\":\"5022\",\"type\":\"Scatter\"},{\"attributes\":{},\"id\":\"4998\",\"type\":\"AllLabels\"},{\"attributes\":{\"factors\":[\"rikitea\",\"caravelas\",\"bakel\",\"the valley\",\"puerto ayora\",\"port elizabeth\",\"inhambane\",\"bluff\",\"ambilobe\",\"tuatapere\",\"andros town\",\"cabo san lucas\",\"touros\",\"kolondieba\",\"bredasdorp\",\"rabak\",\"cidreira\",\"souillac\",\"cabo rojo\",\"plettenberg bay\",\"arraial do cabo\",\"cape town\",\"kapaa\",\"marawi\",\"tello\",\"kahului\",\"sitamarhi\",\"hermanus\",\"binga\",\"rawson\",\"sao joao da barra\",\"cayenne\",\"east london\",\"port alfred\",\"maibong\",\"boma\",\"pisco\",\"mbuji-mayi\",\"benjamin constant\",\"cartagena\",\"montepuez\",\"praia\",\"beloha\",\"quelimane\",\"tecoanapa\",\"mobaye\",\"hirara\",\"milagres\",\"massakory\",\"dharchula\",\"victoria\",\"atuona\",\"wajir\",\"acapulco\",\"kaitangata\",\"camopi\",\"lodja\",\"hualmay\",\"gamba\",\"vondrozo\",\"porto novo\",\"esperance\",\"edd\",\"bathsheba\",\"bumba\",\"alofi\",\"richards bay\",\"port lincoln\",\"buritis\",\"limon\",\"pimentel\",\"itoman\",\"tura\",\"saint-louis\",\"sungairaya\",\"rafaela\",\"viedma\",\"jiwani\",\"kruisfontein\",\"isla mujeres\",\"xuddur\",\"muddebihal\",\"dunedin\",\"tezu\",\"tabou\",\"namibe\",\"hilo\",\"hatillo\",\"lagdo\",\"rio grande\",\"tambacounda\",\"talara\",\"alice springs\",\"sao filipe\",\"djambala\",\"pitimbu\",\"puerto escondido\",\"kantunilkin\",\"chuy\",\"prainha\",\"sungaipenuh\",\"makakilo city\",\"mount gambier\",\"vila do maio\",\"pingshan\",\"itarema\",\"dwarka\",\"harper\",\"alvaraes\",\"boende\",\"conceicao do araguaia\",\"port shepstone\",\"impfondo\",\"macau\",\"paita\",\"senanga\",\"amuntai\",\"jacmel\",\"pasighat\",\"kaduna\",\"port augusta\",\"aden\",\"kalemie\",\"ha tinh\",\"knysna\",\"tautira\",\"mar del plata\",\"champerico\",\"uarini\",\"kudahuvadhoo\",\"thakurganj\",\"arlit\",\"chicama\",\"cuamba\",\"comodoro rivadavia\",\"garowe\",\"aripuana\",\"wanning\",\"nabinagar\",\"ambanja\",\"batemans bay\",\"banda aceh\",\"bandarbeyla\",\"prado\",\"takoradi\",\"itacare\",\"pangai\",\"puerto cabello\",\"nizwa\",\"manoel urbano\",\"da nang\",\"nampula\",\"broken hill\",\"savannah bight\",\"kihei\",\"baiao\",\"yangambi\",\"puerto el triunfo\",\"maxixe\",\"waingapu\",\"rumphi\",\"sampit\",\"daloa\",\"cururupu\",\"niquelandia\",\"porto walter\",\"alikalia\",\"nakhon phanom\",\"vila velha\",\"riohacha\",\"pizarro\",\"morondava\",\"mabaruma\",\"uige\",\"banswara\",\"bubaque\",\"belmonte\",\"bamako\",\"waipawa\",\"mandera\"],\"palette\":[\"#1f77b3\",\"#ff7e0e\",\"#2ba02b\",\"#d62628\",\"#9367bc\",\"#8c564b\",\"#e277c1\",\"#7e7e7e\",\"#bcbc21\",\"#16bdcf\",\"#3a0182\",\"#004201\",\"#0fffa8\",\"#5d003f\",\"#bcbcff\",\"#d8afa1\",\"#b80080\",\"#004d52\",\"#6b6400\",\"#7c0100\",\"#6026ff\",\"#ffff9a\",\"#564964\",\"#8cb893\",\"#93fbff\",\"#018267\",\"#90ff00\",\"#8200a0\",\"#ac8944\",\"#5b3400\",\"#ffbff2\",\"#ff6e75\",\"#798cff\",\"#dd00ff\",\"#505646\",\"#004489\",\"#ffbf60\",\"#ff018c\",\"#bdc8cf\",\"#af97b5\",\"#b65600\",\"#017000\",\"#cd87ff\",\"#1cd646\",\"#bfebc3\",\"#7997b5\",\"#a56089\",\"#6e8956\",\"#bc7c75\",\"#8a2844\",\"#00acff\",\"#8ed4ff\",\"#4b6d77\",\"#00d4b1\",\"#9300f2\",\"#8a9500\",\"#5d5b9e\",\"#fddfba\",\"#00939e\",\"#ffdb00\",\"#00aa79\",\"#520067\",\"#000091\",\"#0a5d3d\",\"#a5e275\",\"#623b41\",\"#c6c689\",\"#ff9eb5\",\"#cd4f6b\",\"#ff07d6\",\"#8a3a05\",\"#7e3d70\",\"#ff4901\",\"#602ba5\",\"#1c00ff\",\"#e6dfff\",\"#aa3baf\",\"#d89c00\",\"#a3a39e\",\"#3f69ff\",\"#46490c\",\"#7b6985\",\"#6b978c\",\"#ff9a75\",\"#835bff\",\"#7c6b46\",\"#80b654\",\"#bc0049\",\"#fd93ff\",\"#5d0018\",\"#89d1d1\",\"#9c8cd3\",\"#da6d42\",\"#8a5700\",\"#3b5069\",\"#4b6b3b\",\"#edcfd8\",\"#cfedff\",\"#aa1500\",\"#dfff4f\",\"#ff2a56\",\"#d1499e\",\"#707cb8\",\"#598000\",\"#00e4fd\",\"#774b95\",\"#67d48c\",\"#3d3a72\",\"#ac413f\",\"#d6a166\",\"#c169cd\",\"#69595d\",\"#87aced\",\"#a0a569\",\"#d1aae6\",\"#870062\",\"#00fddb\",\"#672818\",\"#b342ff\",\"#0e59c4\",\"#168742\",\"#90d300\",\"#cd7900\",\"#f959ff\",\"#5b7466\",\"#8eaeb3\",\"#9c7c8c\",\"#4600c6\",\"#6b4d2d\",\"#a56d46\",\"#9e8972\",\"#a8afca\",\"#cd8ca7\",\"#00fd64\",\"#917900\",\"#ff62a1\",\"#f4ffd8\",\"#018cf0\",\"#13aca0\",\"#5b2d59\",\"#89859e\",\"#cfccba\",\"#d4afc4\",\"#dbdd6d\",\"#cffff4\",\"#006485\",\"#006962\",\"#a84167\",\"#2d97c4\",\"#a874ff\",\"#26ba5d\",\"#57b600\",\"#caffa7\",\"#a379aa\",\"#ffbc93\",\"#89e2c1\",\"#0fc8ff\",\"#d400c4\",\"#626d89\",\"#69858e\",\"#4b4d52\",\"#aa6067\",\"#79b5d4\",\"#2b5916\",\"#9a0024\",\"#bdd1f2\",\"#896e67\",\"#69a56b\",\"#855467\",\"#aecdba\",\"#87997e\",\"#cadb00\",\"#9a0390\",\"#ebbc1a\",\"#eb9cd1\",\"#70006e\",\"#b1a131\",\"#ca6b93\",\"#4146a3\",\"#e48c89\"]},\"id\":\"5016\",\"type\":\"CategoricalColorMapper\"},{\"attributes\":{\"fill_alpha\":{\"value\":0.3},\"fill_color\":{\"field\":\"color\",\"transform\":{\"id\":\"5016\"}},\"hatch_alpha\":{\"value\":0.3},\"hatch_color\":{\"field\":\"color\",\"transform\":{\"id\":\"5016\"}},\"line_alpha\":{\"value\":0.3},\"line_color\":{\"field\":\"color\",\"transform\":{\"id\":\"5016\"}},\"size\":{\"field\":\"size\"},\"x\":{\"field\":\"Lng\"},\"y\":{\"field\":\"Lat\"}},\"id\":\"5020\",\"type\":\"Scatter\"},{\"attributes\":{\"tools\":[{\"id\":\"4950\"},{\"id\":\"4970\"},{\"id\":\"4971\"},{\"id\":\"4972\"},{\"id\":\"4973\"},{\"id\":\"4974\"}]},\"id\":\"4976\",\"type\":\"Toolbar\"},{\"attributes\":{},\"id\":\"4960\",\"type\":\"LinearScale\"},{\"attributes\":{\"label\":{\"field\":\"color\"},\"renderers\":[{\"id\":\"5025\"}]},\"id\":\"5034\",\"type\":\"LegendItem\"},{\"attributes\":{\"attribution\":\"&copy; <a href=\\\"https://www.openstreetmap.org/copyright\\\">OpenStreetMap</a> contributors\",\"url\":\"https://c.tile.openstreetmap.org/{Z}/{X}/{Y}.png\"},\"id\":\"5011\",\"type\":\"WMTSTileSource\"},{\"attributes\":{\"fill_alpha\":{\"value\":0.3},\"fill_color\":{\"field\":\"color\",\"transform\":{\"id\":\"5016\"}},\"hatch_alpha\":{\"value\":0.1},\"hatch_color\":{\"field\":\"color\",\"transform\":{\"id\":\"5016\"}},\"line_alpha\":{\"value\":0.3},\"line_color\":{\"field\":\"color\",\"transform\":{\"id\":\"5016\"}},\"size\":{\"field\":\"size\"},\"x\":{\"field\":\"Lng\"},\"y\":{\"field\":\"Lat\"}},\"id\":\"5021\",\"type\":\"Scatter\"},{\"attributes\":{},\"id\":\"4991\",\"type\":\"AllLabels\"},{\"attributes\":{\"coordinates\":null,\"group\":null,\"level\":\"glyph\",\"tile_source\":{\"id\":\"5011\"}},\"id\":\"5014\",\"type\":\"TileRenderer\"},{\"attributes\":{},\"id\":\"4958\",\"type\":\"LinearScale\"},{\"attributes\":{},\"id\":\"5018\",\"type\":\"Selection\"},{\"attributes\":{\"end\":23432956.393068958,\"min_interval\":5,\"reset_end\":23432956.393068958,\"reset_start\":-23303235.790447537,\"start\":-23303235.790447537,\"tags\":[[[\"Lng\",\"Lng\",null]]]},\"id\":\"4946\",\"type\":\"Range1d\"},{\"attributes\":{\"data\":{\"City\":[\"rikitea\",\"caravelas\",\"bakel\",\"the valley\",\"puerto ayora\",\"port elizabeth\",\"inhambane\",\"bluff\",\"ambilobe\",\"tuatapere\",\"andros town\",\"cabo san lucas\",\"touros\",\"kolondieba\",\"bredasdorp\",\"rabak\",\"cidreira\",\"souillac\",\"cabo rojo\",\"plettenberg bay\",\"arraial do cabo\",\"cape town\",\"kapaa\",\"marawi\",\"tello\",\"kahului\",\"sitamarhi\",\"hermanus\",\"binga\",\"rawson\",\"sao joao da barra\",\"cayenne\",\"east london\",\"port alfred\",\"maibong\",\"boma\",\"pisco\",\"mbuji-mayi\",\"benjamin constant\",\"cartagena\",\"montepuez\",\"praia\",\"beloha\",\"quelimane\",\"tecoanapa\",\"mobaye\",\"hirara\",\"milagres\",\"massakory\",\"dharchula\",\"victoria\",\"atuona\",\"wajir\",\"acapulco\",\"kaitangata\",\"camopi\",\"lodja\",\"hualmay\",\"gamba\",\"vondrozo\",\"porto novo\",\"esperance\",\"edd\",\"bathsheba\",\"bumba\",\"alofi\",\"richards bay\",\"port lincoln\",\"buritis\",\"limon\",\"pimentel\",\"itoman\",\"tura\",\"saint-louis\",\"sungairaya\",\"rafaela\",\"viedma\",\"jiwani\",\"kruisfontein\",\"isla mujeres\",\"xuddur\",\"muddebihal\",\"dunedin\",\"tezu\",\"tabou\",\"namibe\",\"hilo\",\"hatillo\",\"lagdo\",\"rio grande\",\"tambacounda\",\"talara\",\"alice springs\",\"sao filipe\",\"djambala\",\"pitimbu\",\"puerto escondido\",\"kantunilkin\",\"chuy\",\"prainha\",\"sungaipenuh\",\"makakilo city\",\"mount gambier\",\"vila do maio\",\"pingshan\",\"itarema\",\"dwarka\",\"harper\",\"alvaraes\",\"boende\",\"conceicao do araguaia\",\"port shepstone\",\"impfondo\",\"macau\",\"paita\",\"senanga\",\"amuntai\",\"jacmel\",\"pasighat\",\"kaduna\",\"port augusta\",\"aden\",\"kalemie\",\"ha tinh\",\"knysna\",\"tautira\",\"mar del plata\",\"champerico\",\"uarini\",\"kudahuvadhoo\",\"thakurganj\",\"arlit\",\"chicama\",\"cuamba\",\"comodoro rivadavia\",\"garowe\",\"aripuana\",\"wanning\",\"nabinagar\",\"ambanja\",\"batemans bay\",\"banda aceh\",\"bandarbeyla\",\"prado\",\"takoradi\",\"itacare\",\"pangai\",\"puerto cabello\",\"nizwa\",\"manoel urbano\",\"da nang\",\"nampula\",\"broken hill\",\"savannah bight\",\"kihei\",\"baiao\",\"yangambi\",\"puerto el triunfo\",\"maxixe\",\"waingapu\",\"rumphi\",\"sampit\",\"daloa\",\"cururupu\",\"niquelandia\",\"porto walter\",\"alikalia\",\"nakhon phanom\",\"vila velha\",\"riohacha\",\"pizarro\",\"morondava\",\"mabaruma\",\"uige\",\"banswara\",\"bubaque\",\"belmonte\",\"bamako\",\"waipawa\",\"mandera\"],\"Country\":[\"PF\",\"BR\",\"SN\",\"AI\",\"EC\",\"ZA\",\"MZ\",\"NZ\",\"MG\",\"NZ\",\"BS\",\"MX\",\"BR\",\"ML\",\"ZA\",\"SD\",\"BR\",\"MU\",\"PR\",\"ZA\",\"BR\",\"ZA\",\"US\",\"PH\",\"CO\",\"US\",\"IN\",\"ZA\",\"ZW\",\"AR\",\"BR\",\"GF\",\"ZA\",\"ZA\",\"IN\",\"GH\",\"PE\",\"CD\",\"BR\",\"CO\",\"MZ\",\"CV\",\"MG\",\"MZ\",\"MX\",\"CF\",\"JP\",\"BR\",\"TD\",\"IN\",\"HK\",\"PF\",\"KE\",\"MX\",\"NZ\",\"GF\",\"CD\",\"PE\",\"GA\",\"MG\",\"BJ\",\"AU\",\"ER\",\"BB\",\"CD\",\"NU\",\"ZA\",\"AU\",\"BR\",\"CR\",\"PE\",\"JP\",\"IN\",\"SN\",\"ID\",\"AR\",\"AR\",\"PK\",\"ZA\",\"MX\",\"SO\",\"IN\",\"NZ\",\"IN\",\"CI\",\"AO\",\"US\",\"PR\",\"CM\",\"BR\",\"SN\",\"PE\",\"AU\",\"CV\",\"CG\",\"BR\",\"MX\",\"MX\",\"UY\",\"BR\",\"ID\",\"US\",\"AU\",\"CV\",\"CN\",\"BR\",\"IN\",\"LR\",\"BR\",\"CD\",\"BR\",\"ZA\",\"CG\",\"MO\",\"PE\",\"ZM\",\"ID\",\"HT\",\"IN\",\"NG\",\"AU\",\"YE\",\"CD\",\"VN\",\"ZA\",\"PF\",\"AR\",\"GT\",\"BR\",\"MV\",\"IN\",\"NE\",\"PE\",\"MZ\",\"AR\",\"SO\",\"BR\",\"CN\",\"BD\",\"MG\",\"AU\",\"ID\",\"SO\",\"BR\",\"GH\",\"BR\",\"TO\",\"VE\",\"OM\",\"BR\",\"VN\",\"MZ\",\"AU\",\"HN\",\"US\",\"BR\",\"CD\",\"SV\",\"MZ\",\"ID\",\"MW\",\"ID\",\"CI\",\"BR\",\"BR\",\"BR\",\"SL\",\"TH\",\"BR\",\"CO\",\"CO\",\"MG\",\"GY\",\"AO\",\"IN\",\"GW\",\"BR\",\"ML\",\"NZ\",\"KE\"],\"Hotel_Name\":[\"\",\"\",\"\",\"\",\"\",\"\",\"\",\"\",\"\",\"\",\"\",\"\",\"\",\"\",\"\",\"\",\"\",\"\",\"\",\"\",\"\",\"\",\"\",\"\",\"\",\"\",\"\",\"\",\"\",\"\",\"\",\"\",\"\",\"\",\"\",\"\",\"\",\"\",\"\",\"\",\"\",\"\",\"\",\"\",\"\",\"\",\"\",\"\",\"\",\"\",\"\",\"\",\"\",\"\",\"\",\"\",\"\",\"\",\"\",\"\",\"\",\"\",\"\",\"\",\"\",\"\",\"\",\"\",\"\",\"\",\"\",\"\",\"\",\"\",\"\",\"\",\"\",\"\",\"\",\"\",\"\",\"\",\"\",\"\",\"\",\"\",\"\",\"\",\"\",\"\",\"\",\"\",\"\",\"\",\"\",\"\",\"\",\"\",\"\",\"\",\"\",\"\",\"\",\"\",\"\",\"\",\"\",\"\",\"\",\"\",\"\",\"\",\"\",\"\",\"\",\"\",\"\",\"\",\"\",\"\",\"\",\"\",\"\",\"\",\"\",\"\",\"\",\"\",\"\",\"\",\"\",\"\",\"\",\"\",\"\",\"\",\"\",\"\",\"\",\"\",\"\",\"\",\"\",\"\",\"\",\"\",\"\",\"\",\"\",\"\",\"\",\"\",\"\",\"\",\"\",\"\",\"\",\"\",\"\",\"\",\"\",\"\",\"\",\"\",\"\",\"\",\"\",\"\",\"\",\"\",\"\",\"\",\"\",\"\",\"\",\"\",\"\",\"\",\"\",\"\"],\"Humidity\":[74,88,13,75,95,91,82,79,85,53,74,73,73,18,89,23,93,80,67,80,91,74,94,66,53,72,42,83,90,45,90,83,83,88,22,90,94,97,98,83,95,77,66,74,74,45,74,70,15,19,83,77,67,83,68,100,96,86,85,97,91,50,82,73,67,91,90,58,74,79,88,68,33,16,91,55,74,75,87,79,62,21,63,15,88,79,87,87,24,81,17,77,31,71,73,74,73,95,90,97,58,79,55,71,63,83,38,86,98,72,98,82,63,88,76,95,83,82,23,26,42,76,78,80,78,83,74,75,97,69,37,18,75,96,24,74,99,81,34,84,34,79,62,92,88,89,83,83,44,91,83,88,27,68,80,99,79,56,82,88,93,90,82,97,92,95,93,44,83,81,88,82,100,96,22,57,87,12,60,49],\"Lat\":{\"__ndarray__\":\"YXZMsRYxRMEvZwhw1JM+wZwjAyiumzlBkcHptnN6P0FipIGIzBf0wBujUV5Cp07BkkqEMKPhRMH9lVSjSGtWwdwxeA9fnzbBbHaZG8IhVsHhYECQzqhFQRnjZBTn+kNBM0QIZ52vIcHdlwRz/vMyQdcuGqnESE/BYH4LPteWNkFhRbzuYOhKwR0Of1JDz0HBjvh7asc+P0Fm3dRFlMpOwd9boMKnDETBamEGkE2pTsH0phsl9jpDQXaWqr70QitBYnLwlAPZFEGXO86NHydCQShg/aYYc0dB1/kIXdUqT8FSzqvIwGk+wVYbNGM0cFTBZGLbrBTVQsG/2oeGuMcgQaJItHr7u03BVVinmKRRTsEBGaYLvzhGQRQeQAaHHShBiCBWn+x+N8Gr3fuS2u4kwSP9cD5Ezx3B935o80LDMUH1Y65rJX42wWaXBvQaozlBE0N48rQYRsHE/VXEr98+wegPvtW9czxB/WsibXNfHUHLOq2Gv8BFQZ88bAGZ6SjBiybzSEtENkE4m3mjPZVKQSUDPc5WbENB8dthh2G6MMEypi9to74HQTXrd8YhET1BLSVj1RE5VsHmnZ8CxYQVQb8Uvw95rhfBxIGFpaD3MsGJu/+G9wISwVkfMU1l6UPBHMuLSwseJkGy05eN0plOwZrFxXHI5TdBb2aonNSmNkG0RFV59awNQQXPOiqLfkDBTq1a1yuLScHNMiY+6H1Pwbm2WdD33DrBoEqQ+akSMUFNu4DO7EcnwYU/1OTC/0ZBDBOOU6dtRkGYLzc4mSA8QYMnc1BZBvNAa5YlGsn2S8HcSDrwCQRTwduVzJ+v/EVBOmNykp69TsFrrpIcgHVCQeTAtJikBhxBmC83OJkgPEG3QCIjNflVwV0IOc8ltUhBT3rjbN8UHkHcsB5gwh46wXZK38IGGUFBeMO4a9T1P0EwI7udkd8uQaFMMeYwv0zBcjjtKA2XN0EdvkWi6SEfweaVKxdvukTByZA+8KyXOUE77EOIn0sRwY8Spp6LcynB6QI7bN5FO0F1zVcZAFVCQYpjRg51bU7BORJhasB2CMEy8e8a2FAMwZIyEo2FkEJBufal2B9hUcH7no9KdwI6Qc3HUW8yE0RBl5wy+YLhE8HMw7I3gmFDQV4Cuu4iwR1BBvsaLBvlFcF1QURvv47XwDhgaG2qJizBrfVOLbV1S8H0paBxSkMGQc1EMmFlWENBhngfI9NPIcErO9M8gb47wWIQDieEbhDBxLfviVOCP0HVLJ/eFNpIQWFEEBRu+TFBl78j68E2TcHyfmVfrOM1QQxIf7/BPSTBO6na27WvP0H2GruiRsZOwYnC6T9TnT7BFd7Frml4UcHJoh1o0Ys4QRGbytARUxTB8OtcTS8nEkHTF/x7pU5HQfn+9UBoNEBBFK5AetK7KsEbXEWE1m05wfReSF4J+FXBXJM8eGaoLEGQhxJjW0YvwRwTSEP3QkBBiYyYafznREEs6vw2c3c3wXVPCVvTQVDBwo2bownpIkGM1JavfzMwQbCpZn936j3BDkiLvh+dIEGYIpPCuIE4wXly8ZVEKUHBMWnoP7fjMUHE2xcy6QREQfCS0+63JS7BysxruF+oO0FU+OcD5vo5wdunr5FmqUzBRY8vmH5VPEFMs7ZCmg1CQYJB9UDM9xLBOeXT6iAF9kAZkkZAlcQ2QXQVnZ5g4ETB2XkKtCh7MME4pysqKNUywU8oFWDGNxHBVr/ZfpNrJ0F4z4LJP9kIwS8CeJ3i2TjBC7UuJygwLMGQhxJjW0YvQWzUIeHp5j1BDdzZy+CjQcF+VbBrTb4zQR0b5u0t2SBBp1djCR+ZQcGdguUF4PMrQUOtuDay7CnBPXmhXtaWREGHilt1eUozQUYzgWTKSzvB/wERhP2pNUFKJKkgbVpTwZXP7veVxBpB\",\"dtype\":\"float64\",\"order\":\"little\",\"shape\":[180]},\"Lng\":{\"__ndarray__\":\"GKC800eobMETMWygrapQwRyhBqK8KDXBuFbwiwrHWsFAwMiLFy9jwZ3qeUF5t0VBG5MjeBENTkHiM9WT5d5xQQeNf0E/1FRBJuogOTvNcUGAwzquBoNgwSW1ywxQVmfBftV8GesdTsGxqslxYWonwflf5P4tBUFBWgp1EFzOS0HsFu1031FVwRwZZHCqbFhBBGKCSHCDXMGCCTZOedlDQVHt41Lc2FHB4wAnPi1LP0E+VELf6OlwwemSkWb2Y2pBATKpaEPoX8EvPZcLe5xwwTKtrK12JmJBh+RxX/tVQEEcpt9clzhHQWWOq7hMpVvBjq8a465uUcE3ma4TLTlWwTZss4yQtEdBumClNqrWRkFj30qzGMhjQbc5gjHPew3BjXd8h8YuYMF7z8n9IQtEQeN+EZkcvV3B8iTHEZoIYMHXj6+vrI9QQfTssEFI90PBQ+zaw2chU0HPathiSVRPQX8g6PaT92TBCBHee6v8QUHSGSYlzZlqQaOzFBfLiVDBtQOiqsG3OkGFNlW+ZxlhQZmaFyERPWhBJA4ZhS+FbcGJdUSPpQJRQbk7J2KMNWXBgVgt7AQIckHBMtoNRjdWwbWFBYPj5kNBXoZyerh6YMGxR27oavwwQaT0QTgwFFRBs3h1tJ2wEUEguK+95uFpQRRrrPdotFFBfmk2LxZGWcGLfUnNuhRDQaJnkPL7CXLB7r+fOao1S0GxLIN7ENlsQSgAfIeytlPBwqiYFUuhYcFYaBxO1/hgwSPbIZN/G2tBRhTs8u4nY0GJa6VcoHo5wd8yhJFIH2dBhJycCD8cWsHttzMkZsBawR+Ws6b3N1pBeLBjbR8BRUH5FDFYSGpiwdCyMGo8o1JBsXcHBj4qYEEpAONe4RlyQa2baIIpa2RBYhBg55v6KMEO9Uy3SKQ0QXnrO735dnDBde4AYJ5gXMFcWoH2z1M3QYDt32epH1bBMlCVWNBeN8Er/MJQjUFhwT7gA5lBbWxB65D929rNRMEa9PDXWQ85QWT3SNAdkE3BKVS+8xScZMGcMAkvXZFiwZ4SsoXVs1bBCiiHl9W1VsEgE5cqtoZlQdVSH+xkyHDBjzWrq2fjbUHVOWecy7dDwVVfI3xBW2hBhyL2rVzzUMHH7yIYhUldQUsYy8FCNyrBNqHlouSEW8GHlpI127hBQX96W1SW61TBojvKi43dSUGABCXYJ7A+QfjwEsHSG2hBFS+Htv04YcEN8SSZqsJDQW0cthBoeGhBNh+bd0fNXsG9LCzN3D1kQbl6Z4n3RClBRXmN3FZAbUH0YLSg9R9TQZl5pZGJy0hBlXZmwjd8ZkEXbNe365JDQb17qMEUq2/BAWrY5RlxWMFDJqkHJ4RjwXjHWrPzpVvB8+9W32H0XkHZaH5CgbZiQY25s6vfFilBeEFjEwzOYMEkoN8/8wdPQfoYOmj0qVzB4sl8dsWWVEFpADEFeb9Zwex6vA2jcGdBKSzRrd9QY0G3QQ1VBZNUQZ20aQ8/429BJkt9WEI9ZEGdurkO0ZNVQZcgAt+1p1DBRwOE35HaB8FO81cyWY9Qwa9UhJNqgnLB+mOGN6vhXMGd0DdqeG5YQcjuVaJAaV3B7fosi136ZkENIbN6sKxQQcek/V2jB25B23YbSWU6YsEe2bJuXJxwwfYZdBbVF1XBZ/WC9F/AREFQoBydJ81iwSAxCSc4BU5BbEDtS/uIaUEblmvUU8FMQRDxhQ9s+2dB8PWC9aHpJcGzuMITpw1TwS8RMUgTlFTBXRgBegXkXsH4W+4xMl0zwXdh+ruXK2ZBAmZMJTccUcGCNkQYxvVewSPYMPc+bWDBEHwGmg7OUkEMa+SgEWNZwSG7Jj9IlTlBt1a7BX6dX0HHeMHk+uQ6wXiRyF/3glDBTgxK2nctK8EFqygdFqJyQfMmv0dhx1FB\",\"dtype\":\"float64\",\"order\":\"little\",\"shape\":[180]},\"color\":[\"rikitea\",\"caravelas\",\"bakel\",\"the valley\",\"puerto ayora\",\"port elizabeth\",\"inhambane\",\"bluff\",\"ambilobe\",\"tuatapere\",\"andros town\",\"cabo san lucas\",\"touros\",\"kolondieba\",\"bredasdorp\",\"rabak\",\"cidreira\",\"souillac\",\"cabo rojo\",\"plettenberg bay\",\"arraial do cabo\",\"cape town\",\"kapaa\",\"marawi\",\"tello\",\"kahului\",\"sitamarhi\",\"hermanus\",\"binga\",\"rawson\",\"sao joao da barra\",\"cayenne\",\"east london\",\"port alfred\",\"maibong\",\"boma\",\"pisco\",\"mbuji-mayi\",\"benjamin constant\",\"cartagena\",\"montepuez\",\"praia\",\"beloha\",\"quelimane\",\"tecoanapa\",\"mobaye\",\"hirara\",\"milagres\",\"massakory\",\"dharchula\",\"victoria\",\"atuona\",\"wajir\",\"acapulco\",\"kaitangata\",\"camopi\",\"lodja\",\"hualmay\",\"gamba\",\"vondrozo\",\"porto novo\",\"esperance\",\"edd\",\"bathsheba\",\"bumba\",\"alofi\",\"richards bay\",\"port lincoln\",\"buritis\",\"limon\",\"pimentel\",\"itoman\",\"tura\",\"saint-louis\",\"sungairaya\",\"rafaela\",\"viedma\",\"jiwani\",\"kruisfontein\",\"isla mujeres\",\"xuddur\",\"muddebihal\",\"dunedin\",\"tezu\",\"tabou\",\"namibe\",\"hilo\",\"hatillo\",\"lagdo\",\"rio grande\",\"tambacounda\",\"talara\",\"alice springs\",\"sao filipe\",\"djambala\",\"pitimbu\",\"puerto escondido\",\"kantunilkin\",\"chuy\",\"prainha\",\"sungaipenuh\",\"makakilo city\",\"mount gambier\",\"vila do maio\",\"pingshan\",\"itarema\",\"dwarka\",\"harper\",\"alvaraes\",\"boende\",\"conceicao do araguaia\",\"port shepstone\",\"impfondo\",\"macau\",\"paita\",\"senanga\",\"amuntai\",\"jacmel\",\"pasighat\",\"kaduna\",\"port augusta\",\"aden\",\"kalemie\",\"ha tinh\",\"knysna\",\"tautira\",\"mar del plata\",\"champerico\",\"uarini\",\"kudahuvadhoo\",\"thakurganj\",\"arlit\",\"chicama\",\"cuamba\",\"comodoro rivadavia\",\"garowe\",\"aripuana\",\"wanning\",\"nabinagar\",\"ambanja\",\"batemans bay\",\"banda aceh\",\"bandarbeyla\",\"prado\",\"takoradi\",\"itacare\",\"pangai\",\"puerto cabello\",\"nizwa\",\"manoel urbano\",\"da nang\",\"nampula\",\"broken hill\",\"savannah bight\",\"kihei\",\"baiao\",\"yangambi\",\"puerto el triunfo\",\"maxixe\",\"waingapu\",\"rumphi\",\"sampit\",\"daloa\",\"cururupu\",\"niquelandia\",\"porto walter\",\"alikalia\",\"nakhon phanom\",\"vila velha\",\"riohacha\",\"pizarro\",\"morondava\",\"mabaruma\",\"uige\",\"banswara\",\"bubaque\",\"belmonte\",\"bamako\",\"waipawa\",\"mandera\"],\"size\":{\"__ndarray__\":\"TgE3+mM0IUCnVlRZ/MIiQPNZYUQr2AxA6y830QxSIUChlQ/UW34jQKspqTArFCNAJPjZcFscIkBwuC1rwcYhQJoukCFocCJA6ft2INUeHUBOATf6YzQhQKMUrqiHFiFAoxSuqIcWIUDZbN/MdvgQQEGHYsYy3iJAFgR3de4uE0BABbGXjEkjQKj0l5t34yFAi9T6juZeIECo9Jebd+MhQKspqTArFCNATgE3+mM0IUAGU0QwBmQjQAy4NvaBPyBA6ft2INUeHUDZbN/MdvggQGQSJkpH7BlAKJwFwIo4IkB+xCMsQvkiQPzuY2kz1RpAfsQjLEL5IkAonAXAijgiQCicBcCKOCJAp1ZUWfzCIkCnVlRZ/MISQH7EIyxC+SJABlNEMAZkI0BiVmN9nbIjQFNUr5mKzCNAKJwFwIo4IkChlQ/UW34jQOPT1iHIjCFADLg29oE/IEBOATf6YzQhQE4BN/pjNCFA/O5jaTPVGkBOATf6YzQhQNuvrAezuyBA2k5Psd77DkD5TWQ0g28RQCicBcCKOCJA49PWIciMIUCL1PqO5l4gQCicBcCKOCJAB+2vZg9+IEAAAAAAAAAkQC4hCRSOmCNANHgzuReMIkCaLpAhaHAiQGJWY32dsiNAqympMCsUI0DACh8AxkgcQCT42XBbHCJAoxSuqIcWIUCL1PqO5l4gQKspqTArFCNAfsQjLEL5IkBwxJ05jXYeQE4BN/pjNCFAcLgta8HGIUCnVlRZ/MIiQAftr2YPfiBA8NBioW76FkAAAAAAAAAQQKspqTArFCNA2OGq7y+qHUBOATf6YzQhQOsvN9EMUiFA5tIsOp6nIkBwuC1rwcYhQBJPjev7fh9AhR4VuY5UEkBfdbx+v78fQNpOT7He+w5Ap1ZUWfzCIkBwuC1rwcYhQObSLDqepyJA5tIsOp6nIkAuIQkUjpgTQAAAAAAAACJAB+2vZg9+EEDj09YhyIwhQMPBaAVkRRZABvuVTTDaIECjFK6ohxYhQE4BN/pjNCFAoxSuqIcWIUChlQ/UW34jQH7EIyxC+SJAYlZjfZ2yI0BwxJ05jXYeQHC4LWvBxiFA2OGq7y+qHUAG+5VNMNogQF91vH6/vx9AKJwFwIo4IkBZBvckXKgYQDR4M7kXjCJAU1SvmYrMI0DZbN/MdvggQFNUr5mKzCNAJPjZcFscIkBfdbx+v78fQKdWVFn8wiJA+U1kNINvIUChlQ/UW34jQCicBcCKOCJAJPjZcFscIkAWBHd17i4TQPYvEl9lZRRAZBImSkfsGUD5TWQ0g28hQATxbY/cqSFAqPSXm3fjIUAE8W2P3KkhQCicBcCKOCJATgE3+mM0IUDrLzfRDFIhQGJWY32dsiNACdCOzf2cIEA53GOzv1QYQNls38x2+BBA6y830QxSIUAuIQkUjpgjQC4hCRSOmBNATgE3+mM0IUBnE/7uVeYjQAAAAAAAACJAoqOzDeVSF0CFHhW5jlQiQKKjsw3lUhdAcLgta8HGIUAST43r+34fQBYEd3XuLiNAp1ZUWfzCIkBBh2LGMt4iQCicBcCKOCJAKJwFwIo4IkA0b/2TcogaQKspqTArFCNAKJwFwIo4IkCnVlRZ/MIiQIA5Qi7cyBRAB+2vZg9+IECo9Jebd+MhQGcT/u5V5iNAcLgta8HGIUBJP2gR6u4dQCT42XBbHCJAp1ZUWfzCIkBABbGXjEkjQH7EIyxC+SJAJPjZcFscIkBiVmN9nbIjQBYEd3XuLiNAoZUP1Ft+I0BABbGXjEkjQDRv/ZNyiBpAKJwFwIo4IkAAAAAAAAAiQKdWVFn8wiJAJPjZcFscIkAAAAAAAAAkQC4hCRSOmCNAp1ZUWfzCEkBcz1bMBzMeQObSLDqepyJAqkxY6Hq2C0DaTk+x3vseQAAAAAAAABxA\",\"dtype\":\"float64\",\"order\":\"little\",\"shape\":[180]}},\"selected\":{\"id\":\"5018\"},\"selection_policy\":{\"id\":\"5030\"}},\"id\":\"5017\",\"type\":\"ColumnDataSource\"},{\"attributes\":{\"dimension\":\"lat\"},\"id\":\"4987\",\"type\":\"MercatorTicker\"},{\"attributes\":{\"margin\":[5,5,5,5],\"name\":\"HSpacer05767\",\"sizing_mode\":\"stretch_width\"},\"id\":\"5043\",\"type\":\"Spacer\"},{\"attributes\":{\"callback\":null,\"formatters\":{\"$x\":{\"id\":\"5035\"},\"$y\":{\"id\":\"5036\"}},\"renderers\":[{\"id\":\"5025\"}],\"tags\":[\"hv_created\"],\"tooltips\":[[\"Lng\",\"$x{custom}\"],[\"Lat\",\"$y{custom}\"],[\"City\",\"@{City}\"],[\"Humidity\",\"@{Humidity}\"],[\"Hotel Name\",\"@{Hotel_Name}\"],[\"Country\",\"@{Country}\"]]},\"id\":\"4950\",\"type\":\"HoverTool\"},{\"attributes\":{\"coordinates\":null,\"data_source\":{\"id\":\"5017\"},\"glyph\":{\"id\":\"5020\"},\"group\":null,\"hover_glyph\":{\"id\":\"5023\"},\"muted_glyph\":{\"id\":\"5024\"},\"nonselection_glyph\":{\"id\":\"5021\"},\"selection_glyph\":{\"id\":\"5022\"},\"view\":{\"id\":\"5026\"}},\"id\":\"5025\",\"type\":\"GlyphRenderer\"},{\"attributes\":{\"dimension\":\"lon\"},\"id\":\"4985\",\"type\":\"MercatorTicker\"},{\"attributes\":{\"coordinates\":null,\"group\":null,\"text_color\":\"black\",\"text_font_size\":\"12pt\"},\"id\":\"4954\",\"type\":\"Title\"},{\"attributes\":{\"source\":{\"id\":\"5017\"}},\"id\":\"5026\",\"type\":\"CDSView\"},{\"attributes\":{},\"id\":\"4971\",\"type\":\"PanTool\"},{\"attributes\":{\"fill_alpha\":{\"value\":0.3},\"fill_color\":{\"field\":\"color\",\"transform\":{\"id\":\"5016\"}},\"hatch_alpha\":{\"value\":0.3},\"hatch_color\":{\"field\":\"color\",\"transform\":{\"id\":\"5016\"}},\"line_alpha\":{\"value\":0.3},\"line_color\":{\"field\":\"color\",\"transform\":{\"id\":\"5016\"}},\"size\":{\"field\":\"size\"},\"x\":{\"field\":\"Lng\"},\"y\":{\"field\":\"Lat\"}},\"id\":\"5023\",\"type\":\"Scatter\"},{\"attributes\":{\"axis_label\":\"y\",\"coordinates\":null,\"formatter\":{\"id\":\"4988\"},\"group\":null,\"major_label_policy\":{\"id\":\"4998\"},\"ticker\":{\"id\":\"4987\"}},\"id\":\"4966\",\"type\":\"LinearAxis\"},{\"attributes\":{\"below\":[{\"id\":\"4962\"}],\"center\":[{\"id\":\"4965\"},{\"id\":\"4969\"}],\"frame_height\":300,\"frame_width\":1429,\"height\":null,\"left\":[{\"id\":\"4966\"}],\"margin\":[5,5,5,5],\"match_aspect\":true,\"min_border_bottom\":10,\"min_border_left\":10,\"min_border_right\":10,\"min_border_top\":10,\"renderers\":[{\"id\":\"5014\"},{\"id\":\"5025\"}],\"right\":[{\"id\":\"5033\"}],\"sizing_mode\":\"fixed\",\"title\":{\"id\":\"4954\"},\"toolbar\":{\"id\":\"4976\"},\"width\":null,\"x_range\":{\"id\":\"4946\"},\"x_scale\":{\"id\":\"4958\"},\"y_range\":{\"id\":\"4947\"},\"y_scale\":{\"id\":\"4960\"}},\"id\":\"4953\",\"subtype\":\"Figure\",\"type\":\"Plot\"},{\"attributes\":{\"click_policy\":\"mute\",\"coordinates\":null,\"group\":null,\"items\":[{\"id\":\"5034\"}],\"location\":[0,0]},\"id\":\"5033\",\"type\":\"Legend\"},{\"attributes\":{\"axis\":{\"id\":\"4966\"},\"coordinates\":null,\"dimension\":1,\"grid_line_color\":null,\"group\":null,\"ticker\":null},\"id\":\"4969\",\"type\":\"Grid\"},{\"attributes\":{\"zoom_on_axis\":false},\"id\":\"4972\",\"type\":\"WheelZoomTool\"}],\"root_ids\":[\"4940\"]},\"title\":\"Bokeh Application\",\"version\":\"2.4.3\"}};\n",
       "    var render_items = [{\"docid\":\"df8f64d3-69e5-4f8d-bce9-9ff4a8314671\",\"root_ids\":[\"4940\"],\"roots\":{\"4940\":\"86039a34-5cd9-46c1-b175-fbd650eef5d1\"}}];\n",
       "    root.Bokeh.embed.embed_items_notebook(docs_json, render_items);\n",
       "    for (const render_item of render_items) {\n",
       "      for (const root_id of render_item.root_ids) {\n",
       "\tconst id_el = document.getElementById(root_id)\n",
       "\tif (id_el.children.length && (id_el.children[0].className === 'bk-root')) {\n",
       "\t  const root_el = id_el.children[0]\n",
       "\t  root_el.id = root_el.id + '-rendered'\n",
       "\t}\n",
       "      }\n",
       "    }\n",
       "  }\n",
       "  if (root.Bokeh !== undefined && root.Bokeh.Panel !== undefined) {\n",
       "    embed_document(root);\n",
       "  } else {\n",
       "    var attempts = 0;\n",
       "    var timer = setInterval(function(root) {\n",
       "      if (root.Bokeh !== undefined && root.Bokeh.Panel !== undefined) {\n",
       "        clearInterval(timer);\n",
       "        embed_document(root);\n",
       "      } else if (document.readyState == \"complete\") {\n",
       "        attempts++;\n",
       "        if (attempts > 200) {\n",
       "          clearInterval(timer);\n",
       "          console.log(\"Bokeh: ERROR: Unable to run BokehJS code because BokehJS library is missing\");\n",
       "        }\n",
       "      }\n",
       "    }, 25, root)\n",
       "  }\n",
       "})(window);</script>"
      ],
      "text/plain": [
       ":Overlay\n",
       "   .Tiles.I  :Tiles   [x,y]\n",
       "   .Points.I :Points   [Lng,Lat]   (City,Humidity,Hotel Name,Country)"
      ]
     },
     "execution_count": 82,
     "metadata": {
      "application/vnd.holoviews_exec.v0+json": {
       "id": "4940"
      }
     },
     "output_type": "execute_result"
    }
   ],
   "source": [
    "%%capture --no-display\n",
    "\n",
    "hotel_map = hotel_df.hvplot.points(\n",
    "    x=\"Lng\",\n",
    "    y=\"Lat\",\n",
    "    geo=True,\n",
    "    color=\"City\",\n",
    "    size=\"Humidity\",\n",
    "    hover_cols=[\"City\", \"Hotel Name\", \"Country\"],\n",
    "    tiles=True, \n",
    "    alpha=0.3,\n",
    ")\n",
    "hotel_map"
   ]
  },
  {
   "cell_type": "code",
   "execution_count": 101,
   "metadata": {},
   "outputs": [
    {
     "data": {
      "application/vnd.plotly.v1+json": {
       "config": {
        "plotlyServerURL": "https://plot.ly"
       },
       "data": [
        {
         "hovertemplate": "City=rikitea<br>Hotel Name=%{text}<br>Lat=%{lat}<br>Lng=%{lon}<extra></extra>",
         "lat": [
          -23.1203
         ],
         "legendgroup": "rikitea",
         "lon": [
          -134.9692
         ],
         "marker": {
          "color": "#636efa",
          "opacity": 0.4
         },
         "mode": "markers+text",
         "name": "rikitea",
         "showlegend": true,
         "subplot": "mapbox",
         "text": [
          ""
         ],
         "type": "scattermapbox"
        },
        {
         "hovertemplate": "City=caravelas<br>Hotel Name=%{text}<br>Lat=%{lat}<br>Lng=%{lon}<extra></extra>",
         "lat": [
          -17.7125
         ],
         "legendgroup": "caravelas",
         "lon": [
          -39.2481
         ],
         "marker": {
          "color": "#EF553B",
          "opacity": 0.4
         },
         "mode": "markers+text",
         "name": "caravelas",
         "showlegend": true,
         "subplot": "mapbox",
         "text": [
          ""
         ],
         "type": "scattermapbox"
        },
        {
         "hovertemplate": "City=bakel<br>Hotel Name=%{text}<br>Lat=%{lat}<br>Lng=%{lon}<extra></extra>",
         "lat": [
          14.905
         ],
         "legendgroup": "bakel",
         "lon": [
          -12.4568
         ],
         "marker": {
          "color": "#00cc96",
          "opacity": 0.4
         },
         "mode": "markers+text",
         "name": "bakel",
         "showlegend": true,
         "subplot": "mapbox",
         "text": [
          ""
         ],
         "type": "scattermapbox"
        },
        {
         "hovertemplate": "City=the valley<br>Hotel Name=%{text}<br>Lat=%{lat}<br>Lng=%{lon}<extra></extra>",
         "lat": [
          18.217
         ],
         "legendgroup": "the valley",
         "lon": [
          -63.0578
         ],
         "marker": {
          "color": "#ab63fa",
          "opacity": 0.4
         },
         "mode": "markers+text",
         "name": "the valley",
         "showlegend": true,
         "subplot": "mapbox",
         "text": [
          ""
         ],
         "type": "scattermapbox"
        },
        {
         "hovertemplate": "City=puerto ayora<br>Hotel Name=%{text}<br>Lat=%{lat}<br>Lng=%{lon}<extra></extra>",
         "lat": [
          -0.7393
         ],
         "legendgroup": "puerto ayora",
         "lon": [
          -90.3518
         ],
         "marker": {
          "color": "#FFA15A",
          "opacity": 0.4
         },
         "mode": "markers+text",
         "name": "puerto ayora",
         "showlegend": true,
         "subplot": "mapbox",
         "text": [
          ""
         ],
         "type": "scattermapbox"
        },
        {
         "hovertemplate": "City=port elizabeth<br>Hotel Name=%{text}<br>Lat=%{lat}<br>Lng=%{lon}<extra></extra>",
         "lat": [
          -33.918
         ],
         "legendgroup": "port elizabeth",
         "lon": [
          25.5701
         ],
         "marker": {
          "color": "#19d3f3",
          "opacity": 0.4
         },
         "mode": "markers+text",
         "name": "port elizabeth",
         "showlegend": true,
         "subplot": "mapbox",
         "text": [
          ""
         ],
         "type": "scattermapbox"
        },
        {
         "hovertemplate": "City=inhambane<br>Hotel Name=%{text}<br>Lat=%{lat}<br>Lng=%{lon}<extra></extra>",
         "lat": [
          -23.865
         ],
         "legendgroup": "inhambane",
         "lon": [
          35.3833
         ],
         "marker": {
          "color": "#FF6692",
          "opacity": 0.4
         },
         "mode": "markers+text",
         "name": "inhambane",
         "showlegend": true,
         "subplot": "mapbox",
         "text": [
          ""
         ],
         "type": "scattermapbox"
        },
        {
         "hovertemplate": "City=bluff<br>Hotel Name=%{text}<br>Lat=%{lat}<br>Lng=%{lon}<extra></extra>",
         "lat": [
          -46.6
         ],
         "legendgroup": "bluff",
         "lon": [
          168.3333
         ],
         "marker": {
          "color": "#B6E880",
          "opacity": 0.4
         },
         "mode": "markers+text",
         "name": "bluff",
         "showlegend": true,
         "subplot": "mapbox",
         "text": [
          ""
         ],
         "type": "scattermapbox"
        },
        {
         "hovertemplate": "City=ambilobe<br>Hotel Name=%{text}<br>Lat=%{lat}<br>Lng=%{lon}<extra></extra>",
         "lat": [
          -13.2
         ],
         "legendgroup": "ambilobe",
         "lon": [
          49.05
         ],
         "marker": {
          "color": "#FF97FF",
          "opacity": 0.4
         },
         "mode": "markers+text",
         "name": "ambilobe",
         "showlegend": true,
         "subplot": "mapbox",
         "text": [
          ""
         ],
         "type": "scattermapbox"
        },
        {
         "hovertemplate": "City=tuatapere<br>Hotel Name=%{text}<br>Lat=%{lat}<br>Lng=%{lon}<extra></extra>",
         "lat": [
          -46.1333
         ],
         "legendgroup": "tuatapere",
         "lon": [
          167.6833
         ],
         "marker": {
          "color": "#FECB52",
          "opacity": 0.4
         },
         "mode": "markers+text",
         "name": "tuatapere",
         "showlegend": true,
         "subplot": "mapbox",
         "text": [
          ""
         ],
         "type": "scattermapbox"
        },
        {
         "hovertemplate": "City=andros town<br>Hotel Name=%{text}<br>Lat=%{lat}<br>Lng=%{lon}<extra></extra>",
         "lat": [
          24.7
         ],
         "legendgroup": "andros town",
         "lon": [
          -77.7667
         ],
         "marker": {
          "color": "#636efa",
          "opacity": 0.4
         },
         "mode": "markers+text",
         "name": "andros town",
         "showlegend": true,
         "subplot": "mapbox",
         "text": [
          ""
         ],
         "type": "scattermapbox"
        },
        {
         "hovertemplate": "City=cabo san lucas<br>Hotel Name=%{text}<br>Lat=%{lat}<br>Lng=%{lon}<extra></extra>",
         "lat": [
          22.8909
         ],
         "legendgroup": "cabo san lucas",
         "lon": [
          -109.9124
         ],
         "marker": {
          "color": "#EF553B",
          "opacity": 0.4
         },
         "mode": "markers+text",
         "name": "cabo san lucas",
         "showlegend": true,
         "subplot": "mapbox",
         "text": [
          ""
         ],
         "type": "scattermapbox"
        },
        {
         "hovertemplate": "City=touros<br>Hotel Name=%{text}<br>Lat=%{lat}<br>Lng=%{lon}<extra></extra>",
         "lat": [
          -5.1989
         ],
         "legendgroup": "touros",
         "lon": [
          -35.4608
         ],
         "marker": {
          "color": "#00cc96",
          "opacity": 0.4
         },
         "mode": "markers+text",
         "name": "touros",
         "showlegend": true,
         "subplot": "mapbox",
         "text": [
          ""
         ],
         "type": "scattermapbox"
        },
        {
         "hovertemplate": "City=kolondieba<br>Hotel Name=%{text}<br>Lat=%{lat}<br>Lng=%{lon}<extra></extra>",
         "lat": [
          11.0882
         ],
         "legendgroup": "kolondieba",
         "lon": [
          -6.8926
         ],
         "marker": {
          "color": "#ab63fa",
          "opacity": 0.4
         },
         "mode": "markers+text",
         "name": "kolondieba",
         "showlegend": true,
         "subplot": "mapbox",
         "text": [
          ""
         ],
         "type": "scattermapbox"
        },
        {
         "hovertemplate": "City=bredasdorp<br>Hotel Name=%{text}<br>Lat=%{lat}<br>Lng=%{lon}<extra></extra>",
         "lat": [
          -34.5322
         ],
         "legendgroup": "bredasdorp",
         "lon": [
          20.0403
         ],
         "marker": {
          "color": "#FFA15A",
          "opacity": 0.4
         },
         "mode": "markers+text",
         "name": "bredasdorp",
         "showlegend": true,
         "subplot": "mapbox",
         "text": [
          ""
         ],
         "type": "scattermapbox"
        },
        {
         "hovertemplate": "City=rabak<br>Hotel Name=%{text}<br>Lat=%{lat}<br>Lng=%{lon}<extra></extra>",
         "lat": [
          13.1809
         ],
         "legendgroup": "rabak",
         "lon": [
          32.74
         ],
         "marker": {
          "color": "#19d3f3",
          "opacity": 0.4
         },
         "mode": "markers+text",
         "name": "rabak",
         "showlegend": true,
         "subplot": "mapbox",
         "text": [
          ""
         ],
         "type": "scattermapbox"
        },
        {
         "hovertemplate": "City=cidreira<br>Hotel Name=%{text}<br>Lat=%{lat}<br>Lng=%{lon}<extra></extra>",
         "lat": [
          -30.1811
         ],
         "legendgroup": "cidreira",
         "lon": [
          -50.2056
         ],
         "marker": {
          "color": "#FF6692",
          "opacity": 0.4
         },
         "mode": "markers+text",
         "name": "cidreira",
         "showlegend": true,
         "subplot": "mapbox",
         "text": [
          ""
         ],
         "type": "scattermapbox"
        },
        {
         "hovertemplate": "City=souillac<br>Hotel Name=%{text}<br>Lat=%{lat}<br>Lng=%{lon}<extra></extra>",
         "lat": [
          -20.5167
         ],
         "legendgroup": "souillac",
         "lon": [
          57.5167
         ],
         "marker": {
          "color": "#B6E880",
          "opacity": 0.4
         },
         "mode": "markers+text",
         "name": "souillac",
         "showlegend": true,
         "subplot": "mapbox",
         "text": [
          ""
         ],
         "type": "scattermapbox"
        },
        {
         "hovertemplate": "City=cabo rojo<br>Hotel Name=%{text}<br>Lat=%{lat}<br>Lng=%{lon}<extra></extra>",
         "lat": [
          18.0866
         ],
         "legendgroup": "cabo rojo",
         "lon": [
          -67.1457
         ],
         "marker": {
          "color": "#FF97FF",
          "opacity": 0.4
         },
         "mode": "markers+text",
         "name": "cabo rojo",
         "showlegend": true,
         "subplot": "mapbox",
         "text": [
          ""
         ],
         "type": "scattermapbox"
        },
        {
         "hovertemplate": "City=plettenberg bay<br>Hotel Name=%{text}<br>Lat=%{lat}<br>Lng=%{lon}<extra></extra>",
         "lat": [
          -34.0527
         ],
         "legendgroup": "plettenberg bay",
         "lon": [
          23.3716
         ],
         "marker": {
          "color": "#FECB52",
          "opacity": 0.4
         },
         "mode": "markers+text",
         "name": "plettenberg bay",
         "showlegend": true,
         "subplot": "mapbox",
         "text": [
          ""
         ],
         "type": "scattermapbox"
        },
        {
         "hovertemplate": "City=arraial do cabo<br>Hotel Name=%{text}<br>Lat=%{lat}<br>Lng=%{lon}<extra></extra>",
         "lat": [
          -22.9661
         ],
         "legendgroup": "arraial do cabo",
         "lon": [
          -42.0278
         ],
         "marker": {
          "color": "#636efa",
          "opacity": 0.4
         },
         "mode": "markers+text",
         "name": "arraial do cabo",
         "showlegend": true,
         "subplot": "mapbox",
         "text": [
          ""
         ],
         "type": "scattermapbox"
        },
        {
         "hovertemplate": "City=cape town<br>Hotel Name=%{text}<br>Lat=%{lat}<br>Lng=%{lon}<extra></extra>",
         "lat": [
          -33.9258
         ],
         "legendgroup": "cape town",
         "lon": [
          18.4232
         ],
         "marker": {
          "color": "#EF553B",
          "opacity": 0.4
         },
         "mode": "markers+text",
         "name": "cape town",
         "showlegend": true,
         "subplot": "mapbox",
         "text": [
          ""
         ],
         "type": "scattermapbox"
        },
        {
         "hovertemplate": "City=kapaa<br>Hotel Name=%{text}<br>Lat=%{lat}<br>Lng=%{lon}<extra></extra>",
         "lat": [
          22.0752
         ],
         "legendgroup": "kapaa",
         "lon": [
          -159.319
         ],
         "marker": {
          "color": "#00cc96",
          "opacity": 0.4
         },
         "mode": "markers+text",
         "name": "kapaa",
         "showlegend": true,
         "subplot": "mapbox",
         "text": [
          ""
         ],
         "type": "scattermapbox"
        },
        {
         "hovertemplate": "City=marawi<br>Hotel Name=%{text}<br>Lat=%{lat}<br>Lng=%{lon}<extra></extra>",
         "lat": [
          7.9986
         ],
         "legendgroup": "marawi",
         "lon": [
          124.2928
         ],
         "marker": {
          "color": "#ab63fa",
          "opacity": 0.4
         },
         "mode": "markers+text",
         "name": "marawi",
         "showlegend": true,
         "subplot": "mapbox",
         "text": [
          ""
         ],
         "type": "scattermapbox"
        },
        {
         "hovertemplate": "City=tello<br>Hotel Name=%{text}<br>Lat=%{lat}<br>Lng=%{lon}<extra></extra>",
         "lat": [
          3.0669
         ],
         "legendgroup": "tello",
         "lon": [
          -75.1378
         ],
         "marker": {
          "color": "#FFA15A",
          "opacity": 0.4
         },
         "mode": "markers+text",
         "name": "tello",
         "showlegend": true,
         "subplot": "mapbox",
         "text": [
          ""
         ],
         "type": "scattermapbox"
        },
        {
         "hovertemplate": "City=kahului<br>Hotel Name=%{text}<br>Lat=%{lat}<br>Lng=%{lon}<extra></extra>",
         "lat": [
          20.8947
         ],
         "legendgroup": "kahului",
         "lon": [
          -156.47
         ],
         "marker": {
          "color": "#19d3f3",
          "opacity": 0.4
         },
         "mode": "markers+text",
         "name": "kahului",
         "showlegend": true,
         "subplot": "mapbox",
         "text": [
          ""
         ],
         "type": "scattermapbox"
        },
        {
         "hovertemplate": "City=sitamarhi<br>Hotel Name=%{text}<br>Lat=%{lat}<br>Lng=%{lon}<extra></extra>",
         "lat": [
          26.6
         ],
         "legendgroup": "sitamarhi",
         "lon": [
          85.4833
         ],
         "marker": {
          "color": "#FF6692",
          "opacity": 0.4
         },
         "mode": "markers+text",
         "name": "sitamarhi",
         "showlegend": true,
         "subplot": "mapbox",
         "text": [
          ""
         ],
         "type": "scattermapbox"
        },
        {
         "hovertemplate": "City=hermanus<br>Hotel Name=%{text}<br>Lat=%{lat}<br>Lng=%{lon}<extra></extra>",
         "lat": [
          -34.4187
         ],
         "legendgroup": "hermanus",
         "lon": [
          19.2345
         ],
         "marker": {
          "color": "#B6E880",
          "opacity": 0.4
         },
         "mode": "markers+text",
         "name": "hermanus",
         "showlegend": true,
         "subplot": "mapbox",
         "text": [
          ""
         ],
         "type": "scattermapbox"
        },
        {
         "hovertemplate": "City=binga<br>Hotel Name=%{text}<br>Lat=%{lat}<br>Lng=%{lon}<extra></extra>",
         "lat": [
          -17.6203
         ],
         "legendgroup": "binga",
         "lon": [
          27.3414
         ],
         "marker": {
          "color": "#FF97FF",
          "opacity": 0.4
         },
         "mode": "markers+text",
         "name": "binga",
         "showlegend": true,
         "subplot": "mapbox",
         "text": [
          ""
         ],
         "type": "scattermapbox"
        },
        {
         "hovertemplate": "City=rawson<br>Hotel Name=%{text}<br>Lat=%{lat}<br>Lng=%{lon}<extra></extra>",
         "lat": [
          -43.3002
         ],
         "legendgroup": "rawson",
         "lon": [
          -65.1023
         ],
         "marker": {
          "color": "#FECB52",
          "opacity": 0.4
         },
         "mode": "markers+text",
         "name": "rawson",
         "showlegend": true,
         "subplot": "mapbox",
         "text": [
          ""
         ],
         "type": "scattermapbox"
        },
        {
         "hovertemplate": "City=sao joao da barra<br>Hotel Name=%{text}<br>Lat=%{lat}<br>Lng=%{lon}<extra></extra>",
         "lat": [
          -21.6403
         ],
         "legendgroup": "sao joao da barra",
         "lon": [
          -41.0511
         ],
         "marker": {
          "color": "#636efa",
          "opacity": 0.4
         },
         "mode": "markers+text",
         "name": "sao joao da barra",
         "showlegend": true,
         "subplot": "mapbox",
         "text": [
          ""
         ],
         "type": "scattermapbox"
        },
        {
         "hovertemplate": "City=cayenne<br>Hotel Name=%{text}<br>Lat=%{lat}<br>Lng=%{lon}<extra></extra>",
         "lat": [
          4.9333
         ],
         "legendgroup": "cayenne",
         "lon": [
          -52.3333
         ],
         "marker": {
          "color": "#EF553B",
          "opacity": 0.4
         },
         "mode": "markers+text",
         "name": "cayenne",
         "showlegend": true,
         "subplot": "mapbox",
         "text": [
          ""
         ],
         "type": "scattermapbox"
        },
        {
         "hovertemplate": "City=east london<br>Hotel Name=%{text}<br>Lat=%{lat}<br>Lng=%{lon}<extra></extra>",
         "lat": [
          -33.0153
         ],
         "legendgroup": "east london",
         "lon": [
          27.9116
         ],
         "marker": {
          "color": "#00cc96",
          "opacity": 0.4
         },
         "mode": "markers+text",
         "name": "east london",
         "showlegend": true,
         "subplot": "mapbox",
         "text": [
          ""
         ],
         "type": "scattermapbox"
        },
        {
         "hovertemplate": "City=port alfred<br>Hotel Name=%{text}<br>Lat=%{lat}<br>Lng=%{lon}<extra></extra>",
         "lat": [
          -33.5906
         ],
         "legendgroup": "port alfred",
         "lon": [
          26.891
         ],
         "marker": {
          "color": "#ab63fa",
          "opacity": 0.4
         },
         "mode": "markers+text",
         "name": "port alfred",
         "showlegend": true,
         "subplot": "mapbox",
         "text": [
          ""
         ],
         "type": "scattermapbox"
        },
        {
         "hovertemplate": "City=maibong<br>Hotel Name=%{text}<br>Lat=%{lat}<br>Lng=%{lon}<extra></extra>",
         "lat": [
          25.3
         ],
         "legendgroup": "maibong",
         "lon": [
          93.1667
         ],
         "marker": {
          "color": "#FFA15A",
          "opacity": 0.4
         },
         "mode": "markers+text",
         "name": "maibong",
         "showlegend": true,
         "subplot": "mapbox",
         "text": [
          ""
         ],
         "type": "scattermapbox"
        },
        {
         "hovertemplate": "City=boma<br>Hotel Name=%{text}<br>Lat=%{lat}<br>Lng=%{lon}<extra></extra>",
         "lat": [
          7.0805
         ],
         "legendgroup": "boma",
         "lon": [
          -2.1697
         ],
         "marker": {
          "color": "#19d3f3",
          "opacity": 0.4
         },
         "mode": "markers+text",
         "name": "boma",
         "showlegend": true,
         "subplot": "mapbox",
         "text": [
          ""
         ],
         "type": "scattermapbox"
        },
        {
         "hovertemplate": "City=pisco<br>Hotel Name=%{text}<br>Lat=%{lat}<br>Lng=%{lon}<extra></extra>",
         "lat": [
          -13.7
         ],
         "legendgroup": "pisco",
         "lon": [
          -76.2167
         ],
         "marker": {
          "color": "#FF6692",
          "opacity": 0.4
         },
         "mode": "markers+text",
         "name": "pisco",
         "showlegend": true,
         "subplot": "mapbox",
         "text": [
          ""
         ],
         "type": "scattermapbox"
        },
        {
         "hovertemplate": "City=mbuji-mayi<br>Hotel Name=%{text}<br>Lat=%{lat}<br>Lng=%{lon}<extra></extra>",
         "lat": [
          -6.15
         ],
         "legendgroup": "mbuji-mayi",
         "lon": [
          23.6
         ],
         "marker": {
          "color": "#B6E880",
          "opacity": 0.4
         },
         "mode": "markers+text",
         "name": "mbuji-mayi",
         "showlegend": true,
         "subplot": "mapbox",
         "text": [
          ""
         ],
         "type": "scattermapbox"
        },
        {
         "hovertemplate": "City=benjamin constant<br>Hotel Name=%{text}<br>Lat=%{lat}<br>Lng=%{lon}<extra></extra>",
         "lat": [
          -4.3831
         ],
         "legendgroup": "benjamin constant",
         "lon": [
          -70.0311
         ],
         "marker": {
          "color": "#FF97FF",
          "opacity": 0.4
         },
         "mode": "markers+text",
         "name": "benjamin constant",
         "showlegend": true,
         "subplot": "mapbox",
         "text": [
          ""
         ],
         "type": "scattermapbox"
        },
        {
         "hovertemplate": "City=cartagena<br>Hotel Name=%{text}<br>Lat=%{lat}<br>Lng=%{lon}<extra></extra>",
         "lat": [
          10.3997
         ],
         "legendgroup": "cartagena",
         "lon": [
          -75.5144
         ],
         "marker": {
          "color": "#FECB52",
          "opacity": 0.4
         },
         "mode": "markers+text",
         "name": "cartagena",
         "showlegend": true,
         "subplot": "mapbox",
         "text": [
          ""
         ],
         "type": "scattermapbox"
        },
        {
         "hovertemplate": "City=montepuez<br>Hotel Name=%{text}<br>Lat=%{lat}<br>Lng=%{lon}<extra></extra>",
         "lat": [
          -13.1256
         ],
         "legendgroup": "montepuez",
         "lon": [
          38.9997
         ],
         "marker": {
          "color": "#636efa",
          "opacity": 0.4
         },
         "mode": "markers+text",
         "name": "montepuez",
         "showlegend": true,
         "subplot": "mapbox",
         "text": [
          ""
         ],
         "type": "scattermapbox"
        },
        {
         "hovertemplate": "City=praia<br>Hotel Name=%{text}<br>Lat=%{lat}<br>Lng=%{lon}<extra></extra>",
         "lat": [
          14.9215
         ],
         "legendgroup": "praia",
         "lon": [
          -23.5087
         ],
         "marker": {
          "color": "#EF553B",
          "opacity": 0.4
         },
         "mode": "markers+text",
         "name": "praia",
         "showlegend": true,
         "subplot": "mapbox",
         "text": [
          ""
         ],
         "type": "scattermapbox"
        },
        {
         "hovertemplate": "City=beloha<br>Hotel Name=%{text}<br>Lat=%{lat}<br>Lng=%{lon}<extra></extra>",
         "lat": [
          -25.1667
         ],
         "legendgroup": "beloha",
         "lon": [
          45.05
         ],
         "marker": {
          "color": "#00cc96",
          "opacity": 0.4
         },
         "mode": "markers+text",
         "name": "beloha",
         "showlegend": true,
         "subplot": "mapbox",
         "text": [
          ""
         ],
         "type": "scattermapbox"
        },
        {
         "hovertemplate": "City=quelimane<br>Hotel Name=%{text}<br>Lat=%{lat}<br>Lng=%{lon}<extra></extra>",
         "lat": [
          -17.8786
         ],
         "legendgroup": "quelimane",
         "lon": [
          36.8883
         ],
         "marker": {
          "color": "#ab63fa",
          "opacity": 0.4
         },
         "mode": "markers+text",
         "name": "quelimane",
         "showlegend": true,
         "subplot": "mapbox",
         "text": [
          ""
         ],
         "type": "scattermapbox"
        },
        {
         "hovertemplate": "City=tecoanapa<br>Hotel Name=%{text}<br>Lat=%{lat}<br>Lng=%{lon}<extra></extra>",
         "lat": [
          16.5167
         ],
         "legendgroup": "tecoanapa",
         "lon": [
          -98.75
         ],
         "marker": {
          "color": "#FFA15A",
          "opacity": 0.4
         },
         "mode": "markers+text",
         "name": "tecoanapa",
         "showlegend": true,
         "subplot": "mapbox",
         "text": [
          ""
         ],
         "type": "scattermapbox"
        },
        {
         "hovertemplate": "City=mobaye<br>Hotel Name=%{text}<br>Lat=%{lat}<br>Lng=%{lon}<extra></extra>",
         "lat": [
          4.319
         ],
         "legendgroup": "mobaye",
         "lon": [
          21.1786
         ],
         "marker": {
          "color": "#19d3f3",
          "opacity": 0.4
         },
         "mode": "markers+text",
         "name": "mobaye",
         "showlegend": true,
         "subplot": "mapbox",
         "text": [
          ""
         ],
         "type": "scattermapbox"
        },
        {
         "hovertemplate": "City=hirara<br>Hotel Name=%{text}<br>Lat=%{lat}<br>Lng=%{lon}<extra></extra>",
         "lat": [
          24.8
         ],
         "legendgroup": "hirara",
         "lon": [
          125.2833
         ],
         "marker": {
          "color": "#FF6692",
          "opacity": 0.4
         },
         "mode": "markers+text",
         "name": "hirara",
         "showlegend": true,
         "subplot": "mapbox",
         "text": [
          ""
         ],
         "type": "scattermapbox"
        },
        {
         "hovertemplate": "City=milagres<br>Hotel Name=%{text}<br>Lat=%{lat}<br>Lng=%{lon}<extra></extra>",
         "lat": [
          -7.3133
         ],
         "legendgroup": "milagres",
         "lon": [
          -38.9456
         ],
         "marker": {
          "color": "#B6E880",
          "opacity": 0.4
         },
         "mode": "markers+text",
         "name": "milagres",
         "showlegend": true,
         "subplot": "mapbox",
         "text": [
          ""
         ],
         "type": "scattermapbox"
        },
        {
         "hovertemplate": "City=massakory<br>Hotel Name=%{text}<br>Lat=%{lat}<br>Lng=%{lon}<extra></extra>",
         "lat": [
          12.996
         ],
         "legendgroup": "massakory",
         "lon": [
          15.7293
         ],
         "marker": {
          "color": "#FF97FF",
          "opacity": 0.4
         },
         "mode": "markers+text",
         "name": "massakory",
         "showlegend": true,
         "subplot": "mapbox",
         "text": [
          ""
         ],
         "type": "scattermapbox"
        },
        {
         "hovertemplate": "City=dharchula<br>Hotel Name=%{text}<br>Lat=%{lat}<br>Lng=%{lon}<extra></extra>",
         "lat": [
          29.85
         ],
         "legendgroup": "dharchula",
         "lon": [
          80.5333
         ],
         "marker": {
          "color": "#FECB52",
          "opacity": 0.4
         },
         "mode": "markers+text",
         "name": "dharchula",
         "showlegend": true,
         "subplot": "mapbox",
         "text": [
          ""
         ],
         "type": "scattermapbox"
        },
        {
         "hovertemplate": "City=victoria<br>Hotel Name=%{text}<br>Lat=%{lat}<br>Lng=%{lon}<extra></extra>",
         "lat": [
          22.2855
         ],
         "legendgroup": "victoria",
         "lon": [
          114.1577
         ],
         "marker": {
          "color": "#636efa",
          "opacity": 0.4
         },
         "mode": "markers+text",
         "name": "victoria",
         "showlegend": true,
         "subplot": "mapbox",
         "text": [
          ""
         ],
         "type": "scattermapbox"
        },
        {
         "hovertemplate": "City=atuona<br>Hotel Name=%{text}<br>Lat=%{lat}<br>Lng=%{lon}<extra></extra>",
         "lat": [
          -9.8
         ],
         "legendgroup": "atuona",
         "lon": [
          -139.0333
         ],
         "marker": {
          "color": "#EF553B",
          "opacity": 0.4
         },
         "mode": "markers+text",
         "name": "atuona",
         "showlegend": true,
         "subplot": "mapbox",
         "text": [
          ""
         ],
         "type": "scattermapbox"
        },
        {
         "hovertemplate": "City=wajir<br>Hotel Name=%{text}<br>Lat=%{lat}<br>Lng=%{lon}<extra></extra>",
         "lat": [
          1.7471
         ],
         "legendgroup": "wajir",
         "lon": [
          40.0573
         ],
         "marker": {
          "color": "#00cc96",
          "opacity": 0.4
         },
         "mode": "markers+text",
         "name": "wajir",
         "showlegend": true,
         "subplot": "mapbox",
         "text": [
          ""
         ],
         "type": "scattermapbox"
        },
        {
         "hovertemplate": "City=acapulco<br>Hotel Name=%{text}<br>Lat=%{lat}<br>Lng=%{lon}<extra></extra>",
         "lat": [
          16.8634
         ],
         "legendgroup": "acapulco",
         "lon": [
          -99.8901
         ],
         "marker": {
          "color": "#ab63fa",
          "opacity": 0.4
         },
         "mode": "markers+text",
         "name": "acapulco",
         "showlegend": true,
         "subplot": "mapbox",
         "text": [
          ""
         ],
         "type": "scattermapbox"
        },
        {
         "hovertemplate": "City=kaitangata<br>Hotel Name=%{text}<br>Lat=%{lat}<br>Lng=%{lon}<extra></extra>",
         "lat": [
          -46.2817
         ],
         "legendgroup": "kaitangata",
         "lon": [
          169.8464
         ],
         "marker": {
          "color": "#FFA15A",
          "opacity": 0.4
         },
         "mode": "markers+text",
         "name": "kaitangata",
         "showlegend": true,
         "subplot": "mapbox",
         "text": [
          ""
         ],
         "type": "scattermapbox"
        },
        {
         "hovertemplate": "City=camopi<br>Hotel Name=%{text}<br>Lat=%{lat}<br>Lng=%{lon}<extra></extra>",
         "lat": [
          3.1655
         ],
         "legendgroup": "camopi",
         "lon": [
          -52.3158
         ],
         "marker": {
          "color": "#19d3f3",
          "opacity": 0.4
         },
         "mode": "markers+text",
         "name": "camopi",
         "showlegend": true,
         "subplot": "mapbox",
         "text": [
          ""
         ],
         "type": "scattermapbox"
        },
        {
         "hovertemplate": "City=lodja<br>Hotel Name=%{text}<br>Lat=%{lat}<br>Lng=%{lon}<extra></extra>",
         "lat": [
          -3.4833
         ],
         "legendgroup": "lodja",
         "lon": [
          23.4333
         ],
         "marker": {
          "color": "#FF6692",
          "opacity": 0.4
         },
         "mode": "markers+text",
         "name": "lodja",
         "showlegend": true,
         "subplot": "mapbox",
         "text": [
          ""
         ],
         "type": "scattermapbox"
        },
        {
         "hovertemplate": "City=hualmay<br>Hotel Name=%{text}<br>Lat=%{lat}<br>Lng=%{lon}<extra></extra>",
         "lat": [
          -11.0964
         ],
         "legendgroup": "hualmay",
         "lon": [
          -77.6139
         ],
         "marker": {
          "color": "#B6E880",
          "opacity": 0.4
         },
         "mode": "markers+text",
         "name": "hualmay",
         "showlegend": true,
         "subplot": "mapbox",
         "text": [
          ""
         ],
         "type": "scattermapbox"
        },
        {
         "hovertemplate": "City=gamba<br>Hotel Name=%{text}<br>Lat=%{lat}<br>Lng=%{lon}<extra></extra>",
         "lat": [
          -2.65
         ],
         "legendgroup": "gamba",
         "lon": [
          10
         ],
         "marker": {
          "color": "#FF97FF",
          "opacity": 0.4
         },
         "mode": "markers+text",
         "name": "gamba",
         "showlegend": true,
         "subplot": "mapbox",
         "text": [
          ""
         ],
         "type": "scattermapbox"
        },
        {
         "hovertemplate": "City=vondrozo<br>Hotel Name=%{text}<br>Lat=%{lat}<br>Lng=%{lon}<extra></extra>",
         "lat": [
          -22.8167
         ],
         "legendgroup": "vondrozo",
         "lon": [
          47.2833
         ],
         "marker": {
          "color": "#FECB52",
          "opacity": 0.4
         },
         "mode": "markers+text",
         "name": "vondrozo",
         "showlegend": true,
         "subplot": "mapbox",
         "text": [
          ""
         ],
         "type": "scattermapbox"
        },
        {
         "hovertemplate": "City=porto novo<br>Hotel Name=%{text}<br>Lat=%{lat}<br>Lng=%{lon}<extra></extra>",
         "lat": [
          6.4965
         ],
         "legendgroup": "porto novo",
         "lon": [
          2.6036
         ],
         "marker": {
          "color": "#636efa",
          "opacity": 0.4
         },
         "mode": "markers+text",
         "name": "porto novo",
         "showlegend": true,
         "subplot": "mapbox",
         "text": [
          ""
         ],
         "type": "scattermapbox"
        },
        {
         "hovertemplate": "City=esperance<br>Hotel Name=%{text}<br>Lat=%{lat}<br>Lng=%{lon}<extra></extra>",
         "lat": [
          -33.8667
         ],
         "legendgroup": "esperance",
         "lon": [
          121.9
         ],
         "marker": {
          "color": "#EF553B",
          "opacity": 0.4
         },
         "mode": "markers+text",
         "name": "esperance",
         "showlegend": true,
         "subplot": "mapbox",
         "text": [
          ""
         ],
         "type": "scattermapbox"
        },
        {
         "hovertemplate": "City=edd<br>Hotel Name=%{text}<br>Lat=%{lat}<br>Lng=%{lon}<extra></extra>",
         "lat": [
          13.9297
         ],
         "legendgroup": "edd",
         "lon": [
          41.6925
         ],
         "marker": {
          "color": "#00cc96",
          "opacity": 0.4
         },
         "mode": "markers+text",
         "name": "edd",
         "showlegend": true,
         "subplot": "mapbox",
         "text": [
          ""
         ],
         "type": "scattermapbox"
        },
        {
         "hovertemplate": "City=bathsheba<br>Hotel Name=%{text}<br>Lat=%{lat}<br>Lng=%{lon}<extra></extra>",
         "lat": [
          13.2167
         ],
         "legendgroup": "bathsheba",
         "lon": [
          -59.5167
         ],
         "marker": {
          "color": "#ab63fa",
          "opacity": 0.4
         },
         "mode": "markers+text",
         "name": "bathsheba",
         "showlegend": true,
         "subplot": "mapbox",
         "text": [
          ""
         ],
         "type": "scattermapbox"
        },
        {
         "hovertemplate": "City=bumba<br>Hotel Name=%{text}<br>Lat=%{lat}<br>Lng=%{lon}<extra></extra>",
         "lat": [
          2.1833
         ],
         "legendgroup": "bumba",
         "lon": [
          22.4667
         ],
         "marker": {
          "color": "#FFA15A",
          "opacity": 0.4
         },
         "mode": "markers+text",
         "name": "bumba",
         "showlegend": true,
         "subplot": "mapbox",
         "text": [
          ""
         ],
         "type": "scattermapbox"
        },
        {
         "hovertemplate": "City=alofi<br>Hotel Name=%{text}<br>Lat=%{lat}<br>Lng=%{lon}<extra></extra>",
         "lat": [
          -19.0595
         ],
         "legendgroup": "alofi",
         "lon": [
          -169.9187
         ],
         "marker": {
          "color": "#19d3f3",
          "opacity": 0.4
         },
         "mode": "markers+text",
         "name": "alofi",
         "showlegend": true,
         "subplot": "mapbox",
         "text": [
          ""
         ],
         "type": "scattermapbox"
        },
        {
         "hovertemplate": "City=richards bay<br>Hotel Name=%{text}<br>Lat=%{lat}<br>Lng=%{lon}<extra></extra>",
         "lat": [
          -28.783
         ],
         "legendgroup": "richards bay",
         "lon": [
          32.0377
         ],
         "marker": {
          "color": "#FF6692",
          "opacity": 0.4
         },
         "mode": "markers+text",
         "name": "richards bay",
         "showlegend": true,
         "subplot": "mapbox",
         "text": [
          ""
         ],
         "type": "scattermapbox"
        },
        {
         "hovertemplate": "City=port lincoln<br>Hotel Name=%{text}<br>Lat=%{lat}<br>Lng=%{lon}<extra></extra>",
         "lat": [
          -34.7333
         ],
         "legendgroup": "port lincoln",
         "lon": [
          135.8667
         ],
         "marker": {
          "color": "#B6E880",
          "opacity": 0.4
         },
         "mode": "markers+text",
         "name": "port lincoln",
         "showlegend": true,
         "subplot": "mapbox",
         "text": [
          ""
         ],
         "type": "scattermapbox"
        },
        {
         "hovertemplate": "City=buritis<br>Hotel Name=%{text}<br>Lat=%{lat}<br>Lng=%{lon}<extra></extra>",
         "lat": [
          -15.6178
         ],
         "legendgroup": "buritis",
         "lon": [
          -46.4233
         ],
         "marker": {
          "color": "#FF97FF",
          "opacity": 0.4
         },
         "mode": "markers+text",
         "name": "buritis",
         "showlegend": true,
         "subplot": "mapbox",
         "text": [
          ""
         ],
         "type": "scattermapbox"
        },
        {
         "hovertemplate": "City=limon<br>Hotel Name=%{text}<br>Lat=%{lat}<br>Lng=%{lon}<extra></extra>",
         "lat": [
          10
         ],
         "legendgroup": "limon",
         "lon": [
          -83.0333
         ],
         "marker": {
          "color": "#FECB52",
          "opacity": 0.4
         },
         "mode": "markers+text",
         "name": "limon",
         "showlegend": true,
         "subplot": "mapbox",
         "text": [
          ""
         ],
         "type": "scattermapbox"
        },
        {
         "hovertemplate": "City=pimentel<br>Hotel Name=%{text}<br>Lat=%{lat}<br>Lng=%{lon}<extra></extra>",
         "lat": [
          -6.8367
         ],
         "legendgroup": "pimentel",
         "lon": [
          -79.9342
         ],
         "marker": {
          "color": "#636efa",
          "opacity": 0.4
         },
         "mode": "markers+text",
         "name": "pimentel",
         "showlegend": true,
         "subplot": "mapbox",
         "text": [
          ""
         ],
         "type": "scattermapbox"
        },
        {
         "hovertemplate": "City=itoman<br>Hotel Name=%{text}<br>Lat=%{lat}<br>Lng=%{lon}<extra></extra>",
         "lat": [
          26.1247
         ],
         "legendgroup": "itoman",
         "lon": [
          127.6694
         ],
         "marker": {
          "color": "#EF553B",
          "opacity": 0.4
         },
         "mode": "markers+text",
         "name": "itoman",
         "showlegend": true,
         "subplot": "mapbox",
         "text": [
          ""
         ],
         "type": "scattermapbox"
        },
        {
         "hovertemplate": "City=tura<br>Hotel Name=%{text}<br>Lat=%{lat}<br>Lng=%{lon}<extra></extra>",
         "lat": [
          25.5198
         ],
         "legendgroup": "tura",
         "lon": [
          90.2201
         ],
         "marker": {
          "color": "#00cc96",
          "opacity": 0.4
         },
         "mode": "markers+text",
         "name": "tura",
         "showlegend": true,
         "subplot": "mapbox",
         "text": [
          ""
         ],
         "type": "scattermapbox"
        },
        {
         "hovertemplate": "City=saint-louis<br>Hotel Name=%{text}<br>Lat=%{lat}<br>Lng=%{lon}<extra></extra>",
         "lat": [
          16.3333
         ],
         "legendgroup": "saint-louis",
         "lon": [
          -15
         ],
         "marker": {
          "color": "#ab63fa",
          "opacity": 0.4
         },
         "mode": "markers+text",
         "name": "saint-louis",
         "showlegend": true,
         "subplot": "mapbox",
         "text": [
          ""
         ],
         "type": "scattermapbox"
        },
        {
         "hovertemplate": "City=sungairaya<br>Hotel Name=%{text}<br>Lat=%{lat}<br>Lng=%{lon}<extra></extra>",
         "lat": [
          0.7
         ],
         "legendgroup": "sungairaya",
         "lon": [
          108.9
         ],
         "marker": {
          "color": "#FFA15A",
          "opacity": 0.4
         },
         "mode": "markers+text",
         "name": "sungairaya",
         "showlegend": true,
         "subplot": "mapbox",
         "text": [
          ""
         ],
         "type": "scattermapbox"
        },
        {
         "hovertemplate": "City=rafaela<br>Hotel Name=%{text}<br>Lat=%{lat}<br>Lng=%{lon}<extra></extra>",
         "lat": [
          -31.2503
         ],
         "legendgroup": "rafaela",
         "lon": [
          -61.4867
         ],
         "marker": {
          "color": "#19d3f3",
          "opacity": 0.4
         },
         "mode": "markers+text",
         "name": "rafaela",
         "showlegend": true,
         "subplot": "mapbox",
         "text": [
          ""
         ],
         "type": "scattermapbox"
        },
        {
         "hovertemplate": "City=viedma<br>Hotel Name=%{text}<br>Lat=%{lat}<br>Lng=%{lon}<extra></extra>",
         "lat": [
          -40.8135
         ],
         "legendgroup": "viedma",
         "lon": [
          -62.9967
         ],
         "marker": {
          "color": "#FF6692",
          "opacity": 0.4
         },
         "mode": "markers+text",
         "name": "viedma",
         "showlegend": true,
         "subplot": "mapbox",
         "text": [
          ""
         ],
         "type": "scattermapbox"
        },
        {
         "hovertemplate": "City=jiwani<br>Hotel Name=%{text}<br>Lat=%{lat}<br>Lng=%{lon}<extra></extra>",
         "lat": [
          25.05
         ],
         "legendgroup": "jiwani",
         "lon": [
          61.7417
         ],
         "marker": {
          "color": "#B6E880",
          "opacity": 0.4
         },
         "mode": "markers+text",
         "name": "jiwani",
         "showlegend": true,
         "subplot": "mapbox",
         "text": [
          ""
         ],
         "type": "scattermapbox"
        },
        {
         "hovertemplate": "City=kruisfontein<br>Hotel Name=%{text}<br>Lat=%{lat}<br>Lng=%{lon}<extra></extra>",
         "lat": [
          -34.0033
         ],
         "legendgroup": "kruisfontein",
         "lon": [
          24.7314
         ],
         "marker": {
          "color": "#FF97FF",
          "opacity": 0.4
         },
         "mode": "markers+text",
         "name": "kruisfontein",
         "showlegend": true,
         "subplot": "mapbox",
         "text": [
          ""
         ],
         "type": "scattermapbox"
        },
        {
         "hovertemplate": "City=isla mujeres<br>Hotel Name=%{text}<br>Lat=%{lat}<br>Lng=%{lon}<extra></extra>",
         "lat": [
          21.2311
         ],
         "legendgroup": "isla mujeres",
         "lon": [
          -86.731
         ],
         "marker": {
          "color": "#FECB52",
          "opacity": 0.4
         },
         "mode": "markers+text",
         "name": "isla mujeres",
         "showlegend": true,
         "subplot": "mapbox",
         "text": [
          ""
         ],
         "type": "scattermapbox"
        },
        {
         "hovertemplate": "City=xuddur<br>Hotel Name=%{text}<br>Lat=%{lat}<br>Lng=%{lon}<extra></extra>",
         "lat": [
          4.1213
         ],
         "legendgroup": "xuddur",
         "lon": [
          43.8894
         ],
         "marker": {
          "color": "#636efa",
          "opacity": 0.4
         },
         "mode": "markers+text",
         "name": "xuddur",
         "showlegend": true,
         "subplot": "mapbox",
         "text": [
          ""
         ],
         "type": "scattermapbox"
        },
        {
         "hovertemplate": "City=muddebihal<br>Hotel Name=%{text}<br>Lat=%{lat}<br>Lng=%{lon}<extra></extra>",
         "lat": [
          16.3333
         ],
         "legendgroup": "muddebihal",
         "lon": [
          76.1333
         ],
         "marker": {
          "color": "#EF553B",
          "opacity": 0.4
         },
         "mode": "markers+text",
         "name": "muddebihal",
         "showlegend": true,
         "subplot": "mapbox",
         "text": [
          ""
         ],
         "type": "scattermapbox"
        },
        {
         "hovertemplate": "City=dunedin<br>Hotel Name=%{text}<br>Lat=%{lat}<br>Lng=%{lon}<extra></extra>",
         "lat": [
          -45.8742
         ],
         "legendgroup": "dunedin",
         "lon": [
          170.5036
         ],
         "marker": {
          "color": "#00cc96",
          "opacity": 0.4
         },
         "mode": "markers+text",
         "name": "dunedin",
         "showlegend": true,
         "subplot": "mapbox",
         "text": [
          ""
         ],
         "type": "scattermapbox"
        },
        {
         "hovertemplate": "City=tezu<br>Hotel Name=%{text}<br>Lat=%{lat}<br>Lng=%{lon}<extra></extra>",
         "lat": [
          27.9167
         ],
         "legendgroup": "tezu",
         "lon": [
          96.1667
         ],
         "marker": {
          "color": "#ab63fa",
          "opacity": 0.4
         },
         "mode": "markers+text",
         "name": "tezu",
         "showlegend": true,
         "subplot": "mapbox",
         "text": [
          ""
         ],
         "type": "scattermapbox"
        },
        {
         "hovertemplate": "City=tabou<br>Hotel Name=%{text}<br>Lat=%{lat}<br>Lng=%{lon}<extra></extra>",
         "lat": [
          4.423
         ],
         "legendgroup": "tabou",
         "lon": [
          -7.3528
         ],
         "marker": {
          "color": "#FFA15A",
          "opacity": 0.4
         },
         "mode": "markers+text",
         "name": "tabou",
         "showlegend": true,
         "subplot": "mapbox",
         "text": [
          ""
         ],
         "type": "scattermapbox"
        },
        {
         "hovertemplate": "City=namibe<br>Hotel Name=%{text}<br>Lat=%{lat}<br>Lng=%{lon}<extra></extra>",
         "lat": [
          -15.1961
         ],
         "legendgroup": "namibe",
         "lon": [
          12.1522
         ],
         "marker": {
          "color": "#19d3f3",
          "opacity": 0.4
         },
         "mode": "markers+text",
         "name": "namibe",
         "showlegend": true,
         "subplot": "mapbox",
         "text": [
          ""
         ],
         "type": "scattermapbox"
        },
        {
         "hovertemplate": "City=hilo<br>Hotel Name=%{text}<br>Lat=%{lat}<br>Lng=%{lon}<extra></extra>",
         "lat": [
          19.7297
         ],
         "legendgroup": "hilo",
         "lon": [
          -155.09
         ],
         "marker": {
          "color": "#FF6692",
          "opacity": 0.4
         },
         "mode": "markers+text",
         "name": "hilo",
         "showlegend": true,
         "subplot": "mapbox",
         "text": [
          ""
         ],
         "type": "scattermapbox"
        },
        {
         "hovertemplate": "City=hatillo<br>Hotel Name=%{text}<br>Lat=%{lat}<br>Lng=%{lon}<extra></extra>",
         "lat": [
          18.4863
         ],
         "legendgroup": "hatillo",
         "lon": [
          -66.8254
         ],
         "marker": {
          "color": "#B6E880",
          "opacity": 0.4
         },
         "mode": "markers+text",
         "name": "hatillo",
         "showlegend": true,
         "subplot": "mapbox",
         "text": [
          ""
         ],
         "type": "scattermapbox"
        },
        {
         "hovertemplate": "City=lagdo<br>Hotel Name=%{text}<br>Lat=%{lat}<br>Lng=%{lon}<extra></extra>",
         "lat": [
          9.05
         ],
         "legendgroup": "lagdo",
         "lon": [
          13.7333
         ],
         "marker": {
          "color": "#FF97FF",
          "opacity": 0.4
         },
         "mode": "markers+text",
         "name": "lagdo",
         "showlegend": true,
         "subplot": "mapbox",
         "text": [
          ""
         ],
         "type": "scattermapbox"
        },
        {
         "hovertemplate": "City=rio grande<br>Hotel Name=%{text}<br>Lat=%{lat}<br>Lng=%{lon}<extra></extra>",
         "lat": [
          -32.035
         ],
         "legendgroup": "rio grande",
         "lon": [
          -52.0986
         ],
         "marker": {
          "color": "#FECB52",
          "opacity": 0.4
         },
         "mode": "markers+text",
         "name": "rio grande",
         "showlegend": true,
         "subplot": "mapbox",
         "text": [
          ""
         ],
         "type": "scattermapbox"
        },
        {
         "hovertemplate": "City=tambacounda<br>Hotel Name=%{text}<br>Lat=%{lat}<br>Lng=%{lon}<extra></extra>",
         "lat": [
          13.7539
         ],
         "legendgroup": "tambacounda",
         "lon": [
          -13.7586
         ],
         "marker": {
          "color": "#636efa",
          "opacity": 0.4
         },
         "mode": "markers+text",
         "name": "tambacounda",
         "showlegend": true,
         "subplot": "mapbox",
         "text": [
          ""
         ],
         "type": "scattermapbox"
        },
        {
         "hovertemplate": "City=talara<br>Hotel Name=%{text}<br>Lat=%{lat}<br>Lng=%{lon}<extra></extra>",
         "lat": [
          -4.5772
         ],
         "legendgroup": "talara",
         "lon": [
          -81.2719
         ],
         "marker": {
          "color": "#EF553B",
          "opacity": 0.4
         },
         "mode": "markers+text",
         "name": "talara",
         "showlegend": true,
         "subplot": "mapbox",
         "text": [
          ""
         ],
         "type": "scattermapbox"
        },
        {
         "hovertemplate": "City=alice springs<br>Hotel Name=%{text}<br>Lat=%{lat}<br>Lng=%{lon}<extra></extra>",
         "lat": [
          -23.7
         ],
         "legendgroup": "alice springs",
         "lon": [
          133.8833
         ],
         "marker": {
          "color": "#00cc96",
          "opacity": 0.4
         },
         "mode": "markers+text",
         "name": "alice springs",
         "showlegend": true,
         "subplot": "mapbox",
         "text": [
          ""
         ],
         "type": "scattermapbox"
        },
        {
         "hovertemplate": "City=sao filipe<br>Hotel Name=%{text}<br>Lat=%{lat}<br>Lng=%{lon}<extra></extra>",
         "lat": [
          14.8961
         ],
         "legendgroup": "sao filipe",
         "lon": [
          -24.4956
         ],
         "marker": {
          "color": "#ab63fa",
          "opacity": 0.4
         },
         "mode": "markers+text",
         "name": "sao filipe",
         "showlegend": true,
         "subplot": "mapbox",
         "text": [
          ""
         ],
         "type": "scattermapbox"
        },
        {
         "hovertemplate": "City=djambala<br>Hotel Name=%{text}<br>Lat=%{lat}<br>Lng=%{lon}<extra></extra>",
         "lat": [
          -2.5447
         ],
         "legendgroup": "djambala",
         "lon": [
          14.7533
         ],
         "marker": {
          "color": "#FFA15A",
          "opacity": 0.4
         },
         "mode": "markers+text",
         "name": "djambala",
         "showlegend": true,
         "subplot": "mapbox",
         "text": [
          ""
         ],
         "type": "scattermapbox"
        },
        {
         "hovertemplate": "City=pitimbu<br>Hotel Name=%{text}<br>Lat=%{lat}<br>Lng=%{lon}<extra></extra>",
         "lat": [
          -7.4706
         ],
         "legendgroup": "pitimbu",
         "lon": [
          -34.8086
         ],
         "marker": {
          "color": "#19d3f3",
          "opacity": 0.4
         },
         "mode": "markers+text",
         "name": "pitimbu",
         "showlegend": true,
         "subplot": "mapbox",
         "text": [
          ""
         ],
         "type": "scattermapbox"
        },
        {
         "hovertemplate": "City=puerto escondido<br>Hotel Name=%{text}<br>Lat=%{lat}<br>Lng=%{lon}<extra></extra>",
         "lat": [
          15.85
         ],
         "legendgroup": "puerto escondido",
         "lon": [
          -97.0667
         ],
         "marker": {
          "color": "#FF6692",
          "opacity": 0.4
         },
         "mode": "markers+text",
         "name": "puerto escondido",
         "showlegend": true,
         "subplot": "mapbox",
         "text": [
          ""
         ],
         "type": "scattermapbox"
        },
        {
         "hovertemplate": "City=kantunilkin<br>Hotel Name=%{text}<br>Lat=%{lat}<br>Lng=%{lon}<extra></extra>",
         "lat": [
          21.0917
         ],
         "legendgroup": "kantunilkin",
         "lon": [
          -87.45
         ],
         "marker": {
          "color": "#B6E880",
          "opacity": 0.4
         },
         "mode": "markers+text",
         "name": "kantunilkin",
         "showlegend": true,
         "subplot": "mapbox",
         "text": [
          ""
         ],
         "type": "scattermapbox"
        },
        {
         "hovertemplate": "City=chuy<br>Hotel Name=%{text}<br>Lat=%{lat}<br>Lng=%{lon}<extra></extra>",
         "lat": [
          -33.6971
         ],
         "legendgroup": "chuy",
         "lon": [
          -53.4616
         ],
         "marker": {
          "color": "#FF97FF",
          "opacity": 0.4
         },
         "mode": "markers+text",
         "name": "chuy",
         "showlegend": true,
         "subplot": "mapbox",
         "text": [
          ""
         ],
         "type": "scattermapbox"
        },
        {
         "hovertemplate": "City=prainha<br>Hotel Name=%{text}<br>Lat=%{lat}<br>Lng=%{lon}<extra></extra>",
         "lat": [
          -1.8
         ],
         "legendgroup": "prainha",
         "lon": [
          -53.48
         ],
         "marker": {
          "color": "#FECB52",
          "opacity": 0.4
         },
         "mode": "markers+text",
         "name": "prainha",
         "showlegend": true,
         "subplot": "mapbox",
         "text": [
          ""
         ],
         "type": "scattermapbox"
        },
        {
         "hovertemplate": "City=sungaipenuh<br>Hotel Name=%{text}<br>Lat=%{lat}<br>Lng=%{lon}<extra></extra>",
         "lat": [
          -2.0833
         ],
         "legendgroup": "sungaipenuh",
         "lon": [
          101.3833
         ],
         "marker": {
          "color": "#636efa",
          "opacity": 0.4
         },
         "mode": "markers+text",
         "name": "sungaipenuh",
         "showlegend": true,
         "subplot": "mapbox",
         "text": [
          ""
         ],
         "type": "scattermapbox"
        },
        {
         "hovertemplate": "City=makakilo city<br>Hotel Name=%{text}<br>Lat=%{lat}<br>Lng=%{lon}<extra></extra>",
         "lat": [
          21.3469
         ],
         "legendgroup": "makakilo city",
         "lon": [
          -158.0858
         ],
         "marker": {
          "color": "#EF553B",
          "opacity": 0.4
         },
         "mode": "markers+text",
         "name": "makakilo city",
         "showlegend": true,
         "subplot": "mapbox",
         "text": [
          ""
         ],
         "type": "scattermapbox"
        },
        {
         "hovertemplate": "City=mount gambier<br>Hotel Name=%{text}<br>Lat=%{lat}<br>Lng=%{lon}<extra></extra>",
         "lat": [
          -37.8333
         ],
         "legendgroup": "mount gambier",
         "lon": [
          140.7667
         ],
         "marker": {
          "color": "#00cc96",
          "opacity": 0.4
         },
         "mode": "markers+text",
         "name": "mount gambier",
         "showlegend": true,
         "subplot": "mapbox",
         "text": [
          ""
         ],
         "type": "scattermapbox"
        },
        {
         "hovertemplate": "City=vila do maio<br>Hotel Name=%{text}<br>Lat=%{lat}<br>Lng=%{lon}<extra></extra>",
         "lat": [
          15.1333
         ],
         "legendgroup": "vila do maio",
         "lon": [
          -23.2167
         ],
         "marker": {
          "color": "#ab63fa",
          "opacity": 0.4
         },
         "mode": "markers+text",
         "name": "vila do maio",
         "showlegend": true,
         "subplot": "mapbox",
         "text": [
          ""
         ],
         "type": "scattermapbox"
        },
        {
         "hovertemplate": "City=pingshan<br>Hotel Name=%{text}<br>Lat=%{lat}<br>Lng=%{lon}<extra></extra>",
         "lat": [
          22.9938
         ],
         "legendgroup": "pingshan",
         "lon": [
          114.7131
         ],
         "marker": {
          "color": "#FFA15A",
          "opacity": 0.4
         },
         "mode": "markers+text",
         "name": "pingshan",
         "showlegend": true,
         "subplot": "mapbox",
         "text": [
          ""
         ],
         "type": "scattermapbox"
        },
        {
         "hovertemplate": "City=itarema<br>Hotel Name=%{text}<br>Lat=%{lat}<br>Lng=%{lon}<extra></extra>",
         "lat": [
          -2.9248
         ],
         "legendgroup": "itarema",
         "lon": [
          -39.9167
         ],
         "marker": {
          "color": "#19d3f3",
          "opacity": 0.4
         },
         "mode": "markers+text",
         "name": "itarema",
         "showlegend": true,
         "subplot": "mapbox",
         "text": [
          ""
         ],
         "type": "scattermapbox"
        },
        {
         "hovertemplate": "City=dwarka<br>Hotel Name=%{text}<br>Lat=%{lat}<br>Lng=%{lon}<extra></extra>",
         "lat": [
          22.2394
         ],
         "legendgroup": "dwarka",
         "lon": [
          68.9678
         ],
         "marker": {
          "color": "#FF6692",
          "opacity": 0.4
         },
         "mode": "markers+text",
         "name": "dwarka",
         "showlegend": true,
         "subplot": "mapbox",
         "text": [
          ""
         ],
         "type": "scattermapbox"
        },
        {
         "hovertemplate": "City=harper<br>Hotel Name=%{text}<br>Lat=%{lat}<br>Lng=%{lon}<extra></extra>",
         "lat": [
          4.375
         ],
         "legendgroup": "harper",
         "lon": [
          -7.7169
         ],
         "marker": {
          "color": "#B6E880",
          "opacity": 0.4
         },
         "mode": "markers+text",
         "name": "harper",
         "showlegend": true,
         "subplot": "mapbox",
         "text": [
          ""
         ],
         "type": "scattermapbox"
        },
        {
         "hovertemplate": "City=alvaraes<br>Hotel Name=%{text}<br>Lat=%{lat}<br>Lng=%{lon}<extra></extra>",
         "lat": [
          -3.2208
         ],
         "legendgroup": "alvaraes",
         "lon": [
          -64.8042
         ],
         "marker": {
          "color": "#FF97FF",
          "opacity": 0.4
         },
         "mode": "markers+text",
         "name": "alvaraes",
         "showlegend": true,
         "subplot": "mapbox",
         "text": [
          ""
         ],
         "type": "scattermapbox"
        },
        {
         "hovertemplate": "City=boende<br>Hotel Name=%{text}<br>Lat=%{lat}<br>Lng=%{lon}<extra></extra>",
         "lat": [
          -0.2167
         ],
         "legendgroup": "boende",
         "lon": [
          20.8667
         ],
         "marker": {
          "color": "#FECB52",
          "opacity": 0.4
         },
         "mode": "markers+text",
         "name": "boende",
         "showlegend": true,
         "subplot": "mapbox",
         "text": [
          ""
         ],
         "type": "scattermapbox"
        },
        {
         "hovertemplate": "City=conceicao do araguaia<br>Hotel Name=%{text}<br>Lat=%{lat}<br>Lng=%{lon}<extra></extra>",
         "lat": [
          -8.2578
         ],
         "legendgroup": "conceicao do araguaia",
         "lon": [
          -49.2647
         ],
         "marker": {
          "color": "#636efa",
          "opacity": 0.4
         },
         "mode": "markers+text",
         "name": "conceicao do araguaia",
         "showlegend": true,
         "subplot": "mapbox",
         "text": [
          ""
         ],
         "type": "scattermapbox"
        },
        {
         "hovertemplate": "City=port shepstone<br>Hotel Name=%{text}<br>Lat=%{lat}<br>Lng=%{lon}<extra></extra>",
         "lat": [
          -30.7414
         ],
         "legendgroup": "port shepstone",
         "lon": [
          30.455
         ],
         "marker": {
          "color": "#EF553B",
          "opacity": 0.4
         },
         "mode": "markers+text",
         "name": "port shepstone",
         "showlegend": true,
         "subplot": "mapbox",
         "text": [
          ""
         ],
         "type": "scattermapbox"
        },
        {
         "hovertemplate": "City=impfondo<br>Hotel Name=%{text}<br>Lat=%{lat}<br>Lng=%{lon}<extra></extra>",
         "lat": [
          1.6381
         ],
         "legendgroup": "impfondo",
         "lon": [
          18.0667
         ],
         "marker": {
          "color": "#00cc96",
          "opacity": 0.4
         },
         "mode": "markers+text",
         "name": "impfondo",
         "showlegend": true,
         "subplot": "mapbox",
         "text": [
          ""
         ],
         "type": "scattermapbox"
        },
        {
         "hovertemplate": "City=macau<br>Hotel Name=%{text}<br>Lat=%{lat}<br>Lng=%{lon}<extra></extra>",
         "lat": [
          22.2006
         ],
         "legendgroup": "macau",
         "lon": [
          113.5461
         ],
         "marker": {
          "color": "#ab63fa",
          "opacity": 0.4
         },
         "mode": "markers+text",
         "name": "macau",
         "showlegend": true,
         "subplot": "mapbox",
         "text": [
          ""
         ],
         "type": "scattermapbox"
        },
        {
         "hovertemplate": "City=paita<br>Hotel Name=%{text}<br>Lat=%{lat}<br>Lng=%{lon}<extra></extra>",
         "lat": [
          -5.0892
         ],
         "legendgroup": "paita",
         "lon": [
          -81.1144
         ],
         "marker": {
          "color": "#FFA15A",
          "opacity": 0.4
         },
         "mode": "markers+text",
         "name": "paita",
         "showlegend": true,
         "subplot": "mapbox",
         "text": [
          ""
         ],
         "type": "scattermapbox"
        },
        {
         "hovertemplate": "City=senanga<br>Hotel Name=%{text}<br>Lat=%{lat}<br>Lng=%{lon}<extra></extra>",
         "lat": [
          -16.1167
         ],
         "legendgroup": "senanga",
         "lon": [
          23.2667
         ],
         "marker": {
          "color": "#19d3f3",
          "opacity": 0.4
         },
         "mode": "markers+text",
         "name": "senanga",
         "showlegend": true,
         "subplot": "mapbox",
         "text": [
          ""
         ],
         "type": "scattermapbox"
        },
        {
         "hovertemplate": "City=amuntai<br>Hotel Name=%{text}<br>Lat=%{lat}<br>Lng=%{lon}<extra></extra>",
         "lat": [
          -2.4177
         ],
         "legendgroup": "amuntai",
         "lon": [
          115.2494
         ],
         "marker": {
          "color": "#FF6692",
          "opacity": 0.4
         },
         "mode": "markers+text",
         "name": "amuntai",
         "showlegend": true,
         "subplot": "mapbox",
         "text": [
          ""
         ],
         "type": "scattermapbox"
        },
        {
         "hovertemplate": "City=jacmel<br>Hotel Name=%{text}<br>Lat=%{lat}<br>Lng=%{lon}<extra></extra>",
         "lat": [
          18.2342
         ],
         "legendgroup": "jacmel",
         "lon": [
          -72.5347
         ],
         "marker": {
          "color": "#B6E880",
          "opacity": 0.4
         },
         "mode": "markers+text",
         "name": "jacmel",
         "showlegend": true,
         "subplot": "mapbox",
         "text": [
          ""
         ],
         "type": "scattermapbox"
        },
        {
         "hovertemplate": "City=pasighat<br>Hotel Name=%{text}<br>Lat=%{lat}<br>Lng=%{lon}<extra></extra>",
         "lat": [
          28.0667
         ],
         "legendgroup": "pasighat",
         "lon": [
          95.3333
         ],
         "marker": {
          "color": "#FF97FF",
          "opacity": 0.4
         },
         "mode": "markers+text",
         "name": "pasighat",
         "showlegend": true,
         "subplot": "mapbox",
         "text": [
          ""
         ],
         "type": "scattermapbox"
        },
        {
         "hovertemplate": "City=kaduna<br>Hotel Name=%{text}<br>Lat=%{lat}<br>Lng=%{lon}<extra></extra>",
         "lat": [
          10.5222
         ],
         "legendgroup": "kaduna",
         "lon": [
          7.4383
         ],
         "marker": {
          "color": "#FECB52",
          "opacity": 0.4
         },
         "mode": "markers+text",
         "name": "kaduna",
         "showlegend": true,
         "subplot": "mapbox",
         "text": [
          ""
         ],
         "type": "scattermapbox"
        },
        {
         "hovertemplate": "City=port augusta<br>Hotel Name=%{text}<br>Lat=%{lat}<br>Lng=%{lon}<extra></extra>",
         "lat": [
          -32.5
         ],
         "legendgroup": "port augusta",
         "lon": [
          137.7667
         ],
         "marker": {
          "color": "#636efa",
          "opacity": 0.4
         },
         "mode": "markers+text",
         "name": "port augusta",
         "showlegend": true,
         "subplot": "mapbox",
         "text": [
          ""
         ],
         "type": "scattermapbox"
        },
        {
         "hovertemplate": "City=aden<br>Hotel Name=%{text}<br>Lat=%{lat}<br>Lng=%{lon}<extra></extra>",
         "lat": [
          12.7794
         ],
         "legendgroup": "aden",
         "lon": [
          45.0367
         ],
         "marker": {
          "color": "#EF553B",
          "opacity": 0.4
         },
         "mode": "markers+text",
         "name": "aden",
         "showlegend": true,
         "subplot": "mapbox",
         "text": [
          ""
         ],
         "type": "scattermapbox"
        },
        {
         "hovertemplate": "City=kalemie<br>Hotel Name=%{text}<br>Lat=%{lat}<br>Lng=%{lon}<extra></extra>",
         "lat": [
          -5.9475
         ],
         "legendgroup": "kalemie",
         "lon": [
          29.1947
         ],
         "marker": {
          "color": "#00cc96",
          "opacity": 0.4
         },
         "mode": "markers+text",
         "name": "kalemie",
         "showlegend": true,
         "subplot": "mapbox",
         "text": [
          ""
         ],
         "type": "scattermapbox"
        },
        {
         "hovertemplate": "City=ha tinh<br>Hotel Name=%{text}<br>Lat=%{lat}<br>Lng=%{lon}<extra></extra>",
         "lat": [
          18.3333
         ],
         "legendgroup": "ha tinh",
         "lon": [
          105.9
         ],
         "marker": {
          "color": "#ab63fa",
          "opacity": 0.4
         },
         "mode": "markers+text",
         "name": "ha tinh",
         "showlegend": true,
         "subplot": "mapbox",
         "text": [
          ""
         ],
         "type": "scattermapbox"
        },
        {
         "hovertemplate": "City=knysna<br>Hotel Name=%{text}<br>Lat=%{lat}<br>Lng=%{lon}<extra></extra>",
         "lat": [
          -34.0363
         ],
         "legendgroup": "knysna",
         "lon": [
          23.0471
         ],
         "marker": {
          "color": "#FFA15A",
          "opacity": 0.4
         },
         "mode": "markers+text",
         "name": "knysna",
         "showlegend": true,
         "subplot": "mapbox",
         "text": [
          ""
         ],
         "type": "scattermapbox"
        },
        {
         "hovertemplate": "City=tautira<br>Hotel Name=%{text}<br>Lat=%{lat}<br>Lng=%{lon}<extra></extra>",
         "lat": [
          -17.7333
         ],
         "legendgroup": "tautira",
         "lon": [
          -149.15
         ],
         "marker": {
          "color": "#19d3f3",
          "opacity": 0.4
         },
         "mode": "markers+text",
         "name": "tautira",
         "showlegend": true,
         "subplot": "mapbox",
         "text": [
          ""
         ],
         "type": "scattermapbox"
        },
        {
         "hovertemplate": "City=mar del plata<br>Hotel Name=%{text}<br>Lat=%{lat}<br>Lng=%{lon}<extra></extra>",
         "lat": [
          -38.0023
         ],
         "legendgroup": "mar del plata",
         "lon": [
          -57.5575
         ],
         "marker": {
          "color": "#FF6692",
          "opacity": 0.4
         },
         "mode": "markers+text",
         "name": "mar del plata",
         "showlegend": true,
         "subplot": "mapbox",
         "text": [
          ""
         ],
         "type": "scattermapbox"
        },
        {
         "hovertemplate": "City=champerico<br>Hotel Name=%{text}<br>Lat=%{lat}<br>Lng=%{lon}<extra></extra>",
         "lat": [
          14.3
         ],
         "legendgroup": "champerico",
         "lon": [
          -91.9167
         ],
         "marker": {
          "color": "#B6E880",
          "opacity": 0.4
         },
         "mode": "markers+text",
         "name": "champerico",
         "showlegend": true,
         "subplot": "mapbox",
         "text": [
          ""
         ],
         "type": "scattermapbox"
        },
        {
         "hovertemplate": "City=uarini<br>Hotel Name=%{text}<br>Lat=%{lat}<br>Lng=%{lon}<extra></extra>",
         "lat": [
          -2.99
         ],
         "legendgroup": "uarini",
         "lon": [
          -65.1083
         ],
         "marker": {
          "color": "#FF97FF",
          "opacity": 0.4
         },
         "mode": "markers+text",
         "name": "uarini",
         "showlegend": true,
         "subplot": "mapbox",
         "text": [
          ""
         ],
         "type": "scattermapbox"
        },
        {
         "hovertemplate": "City=kudahuvadhoo<br>Hotel Name=%{text}<br>Lat=%{lat}<br>Lng=%{lon}<extra></extra>",
         "lat": [
          2.6708
         ],
         "legendgroup": "kudahuvadhoo",
         "lon": [
          72.8944
         ],
         "marker": {
          "color": "#FECB52",
          "opacity": 0.4
         },
         "mode": "markers+text",
         "name": "kudahuvadhoo",
         "showlegend": true,
         "subplot": "mapbox",
         "text": [
          ""
         ],
         "type": "scattermapbox"
        },
        {
         "hovertemplate": "City=thakurganj<br>Hotel Name=%{text}<br>Lat=%{lat}<br>Lng=%{lon}<extra></extra>",
         "lat": [
          26.45
         ],
         "legendgroup": "thakurganj",
         "lon": [
          88.1333
         ],
         "marker": {
          "color": "#636efa",
          "opacity": 0.4
         },
         "mode": "markers+text",
         "name": "thakurganj",
         "showlegend": true,
         "subplot": "mapbox",
         "text": [
          ""
         ],
         "type": "scattermapbox"
        },
        {
         "hovertemplate": "City=arlit<br>Hotel Name=%{text}<br>Lat=%{lat}<br>Lng=%{lon}<extra></extra>",
         "lat": [
          18.7369
         ],
         "legendgroup": "arlit",
         "lon": [
          7.3853
         ],
         "marker": {
          "color": "#EF553B",
          "opacity": 0.4
         },
         "mode": "markers+text",
         "name": "arlit",
         "showlegend": true,
         "subplot": "mapbox",
         "text": [
          ""
         ],
         "type": "scattermapbox"
        },
        {
         "hovertemplate": "City=chicama<br>Hotel Name=%{text}<br>Lat=%{lat}<br>Lng=%{lon}<extra></extra>",
         "lat": [
          -7.8447
         ],
         "legendgroup": "chicama",
         "lon": [
          -79.1469
         ],
         "marker": {
          "color": "#00cc96",
          "opacity": 0.4
         },
         "mode": "markers+text",
         "name": "chicama",
         "showlegend": true,
         "subplot": "mapbox",
         "text": [
          ""
         ],
         "type": "scattermapbox"
        },
        {
         "hovertemplate": "City=cuamba<br>Hotel Name=%{text}<br>Lat=%{lat}<br>Lng=%{lon}<extra></extra>",
         "lat": [
          -14.8031
         ],
         "legendgroup": "cuamba",
         "lon": [
          36.5372
         ],
         "marker": {
          "color": "#ab63fa",
          "opacity": 0.4
         },
         "mode": "markers+text",
         "name": "cuamba",
         "showlegend": true,
         "subplot": "mapbox",
         "text": [
          ""
         ],
         "type": "scattermapbox"
        },
        {
         "hovertemplate": "City=comodoro rivadavia<br>Hotel Name=%{text}<br>Lat=%{lat}<br>Lng=%{lon}<extra></extra>",
         "lat": [
          -45.8667
         ],
         "legendgroup": "comodoro rivadavia",
         "lon": [
          -67.5
         ],
         "marker": {
          "color": "#FFA15A",
          "opacity": 0.4
         },
         "mode": "markers+text",
         "name": "comodoro rivadavia",
         "showlegend": true,
         "subplot": "mapbox",
         "text": [
          ""
         ],
         "type": "scattermapbox"
        },
        {
         "hovertemplate": "City=garowe<br>Hotel Name=%{text}<br>Lat=%{lat}<br>Lng=%{lon}<extra></extra>",
         "lat": [
          8.4054
         ],
         "legendgroup": "garowe",
         "lon": [
          48.4845
         ],
         "marker": {
          "color": "#19d3f3",
          "opacity": 0.4
         },
         "mode": "markers+text",
         "name": "garowe",
         "showlegend": true,
         "subplot": "mapbox",
         "text": [
          ""
         ],
         "type": "scattermapbox"
        },
        {
         "hovertemplate": "City=aripuana<br>Hotel Name=%{text}<br>Lat=%{lat}<br>Lng=%{lon}<extra></extra>",
         "lat": [
          -9.1667
         ],
         "legendgroup": "aripuana",
         "lon": [
          -60.6333
         ],
         "marker": {
          "color": "#FF6692",
          "opacity": 0.4
         },
         "mode": "markers+text",
         "name": "aripuana",
         "showlegend": true,
         "subplot": "mapbox",
         "text": [
          ""
         ],
         "type": "scattermapbox"
        },
        {
         "hovertemplate": "City=wanning<br>Hotel Name=%{text}<br>Lat=%{lat}<br>Lng=%{lon}<extra></extra>",
         "lat": [
          18.8003
         ],
         "legendgroup": "wanning",
         "lon": [
          110.3967
         ],
         "marker": {
          "color": "#B6E880",
          "opacity": 0.4
         },
         "mode": "markers+text",
         "name": "wanning",
         "showlegend": true,
         "subplot": "mapbox",
         "text": [
          ""
         ],
         "type": "scattermapbox"
        },
        {
         "hovertemplate": "City=nabinagar<br>Hotel Name=%{text}<br>Lat=%{lat}<br>Lng=%{lon}<extra></extra>",
         "lat": [
          23.8917
         ],
         "legendgroup": "nabinagar",
         "lon": [
          90.9733
         ],
         "marker": {
          "color": "#FF97FF",
          "opacity": 0.4
         },
         "mode": "markers+text",
         "name": "nabinagar",
         "showlegend": true,
         "subplot": "mapbox",
         "text": [
          ""
         ],
         "type": "scattermapbox"
        },
        {
         "hovertemplate": "City=ambanja<br>Hotel Name=%{text}<br>Lat=%{lat}<br>Lng=%{lon}<extra></extra>",
         "lat": [
          -13.6833
         ],
         "legendgroup": "ambanja",
         "lon": [
          48.45
         ],
         "marker": {
          "color": "#FECB52",
          "opacity": 0.4
         },
         "mode": "markers+text",
         "name": "ambanja",
         "showlegend": true,
         "subplot": "mapbox",
         "text": [
          ""
         ],
         "type": "scattermapbox"
        },
        {
         "hovertemplate": "City=batemans bay<br>Hotel Name=%{text}<br>Lat=%{lat}<br>Lng=%{lon}<extra></extra>",
         "lat": [
          -35.7167
         ],
         "legendgroup": "batemans bay",
         "lon": [
          150.1833
         ],
         "marker": {
          "color": "#636efa",
          "opacity": 0.4
         },
         "mode": "markers+text",
         "name": "batemans bay",
         "showlegend": true,
         "subplot": "mapbox",
         "text": [
          ""
         ],
         "type": "scattermapbox"
        },
        {
         "hovertemplate": "City=banda aceh<br>Hotel Name=%{text}<br>Lat=%{lat}<br>Lng=%{lon}<extra></extra>",
         "lat": [
          5.5577
         ],
         "legendgroup": "banda aceh",
         "lon": [
          95.3222
         ],
         "marker": {
          "color": "#EF553B",
          "opacity": 0.4
         },
         "mode": "markers+text",
         "name": "banda aceh",
         "showlegend": true,
         "subplot": "mapbox",
         "text": [
          ""
         ],
         "type": "scattermapbox"
        },
        {
         "hovertemplate": "City=bandarbeyla<br>Hotel Name=%{text}<br>Lat=%{lat}<br>Lng=%{lon}<extra></extra>",
         "lat": [
          9.4942
         ],
         "legendgroup": "bandarbeyla",
         "lon": [
          50.8122
         ],
         "marker": {
          "color": "#00cc96",
          "opacity": 0.4
         },
         "mode": "markers+text",
         "name": "bandarbeyla",
         "showlegend": true,
         "subplot": "mapbox",
         "text": [
          ""
         ],
         "type": "scattermapbox"
        },
        {
         "hovertemplate": "City=prado<br>Hotel Name=%{text}<br>Lat=%{lat}<br>Lng=%{lon}<extra></extra>",
         "lat": [
          -17.3411
         ],
         "legendgroup": "prado",
         "lon": [
          -39.2208
         ],
         "marker": {
          "color": "#ab63fa",
          "opacity": 0.4
         },
         "mode": "markers+text",
         "name": "prado",
         "showlegend": true,
         "subplot": "mapbox",
         "text": [
          ""
         ],
         "type": "scattermapbox"
        },
        {
         "hovertemplate": "City=takoradi<br>Hotel Name=%{text}<br>Lat=%{lat}<br>Lng=%{lon}<extra></extra>",
         "lat": [
          4.8845
         ],
         "legendgroup": "takoradi",
         "lon": [
          -1.7554
         ],
         "marker": {
          "color": "#FFA15A",
          "opacity": 0.4
         },
         "mode": "markers+text",
         "name": "takoradi",
         "showlegend": true,
         "subplot": "mapbox",
         "text": [
          ""
         ],
         "type": "scattermapbox"
        },
        {
         "hovertemplate": "City=itacare<br>Hotel Name=%{text}<br>Lat=%{lat}<br>Lng=%{lon}<extra></extra>",
         "lat": [
          -14.2775
         ],
         "legendgroup": "itacare",
         "lon": [
          -38.9967
         ],
         "marker": {
          "color": "#19d3f3",
          "opacity": 0.4
         },
         "mode": "markers+text",
         "name": "itacare",
         "showlegend": true,
         "subplot": "mapbox",
         "text": [
          ""
         ],
         "type": "scattermapbox"
        },
        {
         "hovertemplate": "City=pangai<br>Hotel Name=%{text}<br>Lat=%{lat}<br>Lng=%{lon}<extra></extra>",
         "lat": [
          -19.8
         ],
         "legendgroup": "pangai",
         "lon": [
          -174.35
         ],
         "marker": {
          "color": "#FF6692",
          "opacity": 0.4
         },
         "mode": "markers+text",
         "name": "pangai",
         "showlegend": true,
         "subplot": "mapbox",
         "text": [
          ""
         ],
         "type": "scattermapbox"
        },
        {
         "hovertemplate": "City=puerto cabello<br>Hotel Name=%{text}<br>Lat=%{lat}<br>Lng=%{lon}<extra></extra>",
         "lat": [
          10.4731
         ],
         "legendgroup": "puerto cabello",
         "lon": [
          -68.0125
         ],
         "marker": {
          "color": "#B6E880",
          "opacity": 0.4
         },
         "mode": "markers+text",
         "name": "puerto cabello",
         "showlegend": true,
         "subplot": "mapbox",
         "text": [
          ""
         ],
         "type": "scattermapbox"
        },
        {
         "hovertemplate": "City=nizwa<br>Hotel Name=%{text}<br>Lat=%{lat}<br>Lng=%{lon}<extra></extra>",
         "lat": [
          22.9333
         ],
         "legendgroup": "nizwa",
         "lon": [
          57.5333
         ],
         "marker": {
          "color": "#FF97FF",
          "opacity": 0.4
         },
         "mode": "markers+text",
         "name": "nizwa",
         "showlegend": true,
         "subplot": "mapbox",
         "text": [
          ""
         ],
         "type": "scattermapbox"
        },
        {
         "hovertemplate": "City=manoel urbano<br>Hotel Name=%{text}<br>Lat=%{lat}<br>Lng=%{lon}<extra></extra>",
         "lat": [
          -8.8389
         ],
         "legendgroup": "manoel urbano",
         "lon": [
          -69.2597
         ],
         "marker": {
          "color": "#FECB52",
          "opacity": 0.4
         },
         "mode": "markers+text",
         "name": "manoel urbano",
         "showlegend": true,
         "subplot": "mapbox",
         "text": [
          ""
         ],
         "type": "scattermapbox"
        },
        {
         "hovertemplate": "City=da nang<br>Hotel Name=%{text}<br>Lat=%{lat}<br>Lng=%{lon}<extra></extra>",
         "lat": [
          16.0678
         ],
         "legendgroup": "da nang",
         "lon": [
          108.2208
         ],
         "marker": {
          "color": "#636efa",
          "opacity": 0.4
         },
         "mode": "markers+text",
         "name": "da nang",
         "showlegend": true,
         "subplot": "mapbox",
         "text": [
          ""
         ],
         "type": "scattermapbox"
        },
        {
         "hovertemplate": "City=nampula<br>Hotel Name=%{text}<br>Lat=%{lat}<br>Lng=%{lon}<extra></extra>",
         "lat": [
          -15.1165
         ],
         "legendgroup": "nampula",
         "lon": [
          39.2666
         ],
         "marker": {
          "color": "#EF553B",
          "opacity": 0.4
         },
         "mode": "markers+text",
         "name": "nampula",
         "showlegend": true,
         "subplot": "mapbox",
         "text": [
          ""
         ],
         "type": "scattermapbox"
        },
        {
         "hovertemplate": "City=broken hill<br>Hotel Name=%{text}<br>Lat=%{lat}<br>Lng=%{lon}<extra></extra>",
         "lat": [
          -31.95
         ],
         "legendgroup": "broken hill",
         "lon": [
          141.4333
         ],
         "marker": {
          "color": "#00cc96",
          "opacity": 0.4
         },
         "mode": "markers+text",
         "name": "broken hill",
         "showlegend": true,
         "subplot": "mapbox",
         "text": [
          ""
         ],
         "type": "scattermapbox"
        },
        {
         "hovertemplate": "City=savannah bight<br>Hotel Name=%{text}<br>Lat=%{lat}<br>Lng=%{lon}<extra></extra>",
         "lat": [
          16.45
         ],
         "legendgroup": "savannah bight",
         "lon": [
          -85.85
         ],
         "marker": {
          "color": "#ab63fa",
          "opacity": 0.4
         },
         "mode": "markers+text",
         "name": "savannah bight",
         "showlegend": true,
         "subplot": "mapbox",
         "text": [
          ""
         ],
         "type": "scattermapbox"
        },
        {
         "hovertemplate": "City=kihei<br>Hotel Name=%{text}<br>Lat=%{lat}<br>Lng=%{lon}<extra></extra>",
         "lat": [
          20.785
         ],
         "legendgroup": "kihei",
         "lon": [
          -156.4656
         ],
         "marker": {
          "color": "#FFA15A",
          "opacity": 0.4
         },
         "mode": "markers+text",
         "name": "kihei",
         "showlegend": true,
         "subplot": "mapbox",
         "text": [
          ""
         ],
         "type": "scattermapbox"
        },
        {
         "hovertemplate": "City=baiao<br>Hotel Name=%{text}<br>Lat=%{lat}<br>Lng=%{lon}<extra></extra>",
         "lat": [
          -2.7906
         ],
         "legendgroup": "baiao",
         "lon": [
          -49.6717
         ],
         "marker": {
          "color": "#19d3f3",
          "opacity": 0.4
         },
         "mode": "markers+text",
         "name": "baiao",
         "showlegend": true,
         "subplot": "mapbox",
         "text": [
          ""
         ],
         "type": "scattermapbox"
        },
        {
         "hovertemplate": "City=yangambi<br>Hotel Name=%{text}<br>Lat=%{lat}<br>Lng=%{lon}<extra></extra>",
         "lat": [
          0.8102
         ],
         "legendgroup": "yangambi",
         "lon": [
          24.4336
         ],
         "marker": {
          "color": "#FF6692",
          "opacity": 0.4
         },
         "mode": "markers+text",
         "name": "yangambi",
         "showlegend": true,
         "subplot": "mapbox",
         "text": [
          ""
         ],
         "type": "scattermapbox"
        },
        {
         "hovertemplate": "City=puerto el triunfo<br>Hotel Name=%{text}<br>Lat=%{lat}<br>Lng=%{lon}<extra></extra>",
         "lat": [
          13.2833
         ],
         "legendgroup": "puerto el triunfo",
         "lon": [
          -88.55
         ],
         "marker": {
          "color": "#B6E880",
          "opacity": 0.4
         },
         "mode": "markers+text",
         "name": "puerto el triunfo",
         "showlegend": true,
         "subplot": "mapbox",
         "text": [
          ""
         ],
         "type": "scattermapbox"
        },
        {
         "hovertemplate": "City=maxixe<br>Hotel Name=%{text}<br>Lat=%{lat}<br>Lng=%{lon}<extra></extra>",
         "lat": [
          -23.8597
         ],
         "legendgroup": "maxixe",
         "lon": [
          35.3472
         ],
         "marker": {
          "color": "#FF97FF",
          "opacity": 0.4
         },
         "mode": "markers+text",
         "name": "maxixe",
         "showlegend": true,
         "subplot": "mapbox",
         "text": [
          ""
         ],
         "type": "scattermapbox"
        },
        {
         "hovertemplate": "City=waingapu<br>Hotel Name=%{text}<br>Lat=%{lat}<br>Lng=%{lon}<extra></extra>",
         "lat": [
          -9.6567
         ],
         "legendgroup": "waingapu",
         "lon": [
          120.2641
         ],
         "marker": {
          "color": "#FECB52",
          "opacity": 0.4
         },
         "mode": "markers+text",
         "name": "waingapu",
         "showlegend": true,
         "subplot": "mapbox",
         "text": [
          ""
         ],
         "type": "scattermapbox"
        },
        {
         "hovertemplate": "City=rumphi<br>Hotel Name=%{text}<br>Lat=%{lat}<br>Lng=%{lon}<extra></extra>",
         "lat": [
          -11.0186
         ],
         "legendgroup": "rumphi",
         "lon": [
          33.8575
         ],
         "marker": {
          "color": "#636efa",
          "opacity": 0.4
         },
         "mode": "markers+text",
         "name": "rumphi",
         "showlegend": true,
         "subplot": "mapbox",
         "text": [
          ""
         ],
         "type": "scattermapbox"
        },
        {
         "hovertemplate": "City=sampit<br>Hotel Name=%{text}<br>Lat=%{lat}<br>Lng=%{lon}<extra></extra>",
         "lat": [
          -2.5333
         ],
         "legendgroup": "sampit",
         "lon": [
          112.95
         ],
         "marker": {
          "color": "#EF553B",
          "opacity": 0.4
         },
         "mode": "markers+text",
         "name": "sampit",
         "showlegend": true,
         "subplot": "mapbox",
         "text": [
          ""
         ],
         "type": "scattermapbox"
        },
        {
         "hovertemplate": "City=daloa<br>Hotel Name=%{text}<br>Lat=%{lat}<br>Lng=%{lon}<extra></extra>",
         "lat": [
          6.8774
         ],
         "legendgroup": "daloa",
         "lon": [
          -6.4502
         ],
         "marker": {
          "color": "#00cc96",
          "opacity": 0.4
         },
         "mode": "markers+text",
         "name": "daloa",
         "showlegend": true,
         "subplot": "mapbox",
         "text": [
          ""
         ],
         "type": "scattermapbox"
        },
        {
         "hovertemplate": "City=cururupu<br>Hotel Name=%{text}<br>Lat=%{lat}<br>Lng=%{lon}<extra></extra>",
         "lat": [
          -1.8283
         ],
         "legendgroup": "cururupu",
         "lon": [
          -44.8683
         ],
         "marker": {
          "color": "#ab63fa",
          "opacity": 0.4
         },
         "mode": "markers+text",
         "name": "cururupu",
         "showlegend": true,
         "subplot": "mapbox",
         "text": [
          ""
         ],
         "type": "scattermapbox"
        },
        {
         "hovertemplate": "City=niquelandia<br>Hotel Name=%{text}<br>Lat=%{lat}<br>Lng=%{lon}<extra></extra>",
         "lat": [
          -14.4739
         ],
         "legendgroup": "niquelandia",
         "lon": [
          -48.4597
         ],
         "marker": {
          "color": "#FFA15A",
          "opacity": 0.4
         },
         "mode": "markers+text",
         "name": "niquelandia",
         "showlegend": true,
         "subplot": "mapbox",
         "text": [
          ""
         ],
         "type": "scattermapbox"
        },
        {
         "hovertemplate": "City=porto walter<br>Hotel Name=%{text}<br>Lat=%{lat}<br>Lng=%{lon}<extra></extra>",
         "lat": [
          -8.2686
         ],
         "legendgroup": "porto walter",
         "lon": [
          -72.7439
         ],
         "marker": {
          "color": "#19d3f3",
          "opacity": 0.4
         },
         "mode": "markers+text",
         "name": "porto walter",
         "showlegend": true,
         "subplot": "mapbox",
         "text": [
          ""
         ],
         "type": "scattermapbox"
        },
        {
         "hovertemplate": "City=alikalia<br>Hotel Name=%{text}<br>Lat=%{lat}<br>Lng=%{lon}<extra></extra>",
         "lat": [
          9.1667
         ],
         "legendgroup": "alikalia",
         "lon": [
          -11.4
         ],
         "marker": {
          "color": "#FF6692",
          "opacity": 0.4
         },
         "mode": "markers+text",
         "name": "alikalia",
         "showlegend": true,
         "subplot": "mapbox",
         "text": [
          ""
         ],
         "type": "scattermapbox"
        },
        {
         "hovertemplate": "City=nakhon phanom<br>Hotel Name=%{text}<br>Lat=%{lat}<br>Lng=%{lon}<extra></extra>",
         "lat": [
          17.3333
         ],
         "legendgroup": "nakhon phanom",
         "lon": [
          104.4167
         ],
         "marker": {
          "color": "#B6E880",
          "opacity": 0.4
         },
         "mode": "markers+text",
         "name": "nakhon phanom",
         "showlegend": true,
         "subplot": "mapbox",
         "text": [
          ""
         ],
         "type": "scattermapbox"
        },
        {
         "hovertemplate": "City=vila velha<br>Hotel Name=%{text}<br>Lat=%{lat}<br>Lng=%{lon}<extra></extra>",
         "lat": [
          -20.3297
         ],
         "legendgroup": "vila velha",
         "lon": [
          -40.2925
         ],
         "marker": {
          "color": "#FF97FF",
          "opacity": 0.4
         },
         "mode": "markers+text",
         "name": "vila velha",
         "showlegend": true,
         "subplot": "mapbox",
         "text": [
          ""
         ],
         "type": "scattermapbox"
        },
        {
         "hovertemplate": "City=riohacha<br>Hotel Name=%{text}<br>Lat=%{lat}<br>Lng=%{lon}<extra></extra>",
         "lat": [
          11.5444
         ],
         "legendgroup": "riohacha",
         "lon": [
          -72.9072
         ],
         "marker": {
          "color": "#FECB52",
          "opacity": 0.4
         },
         "mode": "markers+text",
         "name": "riohacha",
         "showlegend": true,
         "subplot": "mapbox",
         "text": [
          ""
         ],
         "type": "scattermapbox"
        },
        {
         "hovertemplate": "City=pizarro<br>Hotel Name=%{text}<br>Lat=%{lat}<br>Lng=%{lon}<extra></extra>",
         "lat": [
          4.9533
         ],
         "legendgroup": "pizarro",
         "lon": [
          -77.366
         ],
         "marker": {
          "color": "#636efa",
          "opacity": 0.4
         },
         "mode": "markers+text",
         "name": "pizarro",
         "showlegend": true,
         "subplot": "mapbox",
         "text": [
          ""
         ],
         "type": "scattermapbox"
        },
        {
         "hovertemplate": "City=morondava<br>Hotel Name=%{text}<br>Lat=%{lat}<br>Lng=%{lon}<extra></extra>",
         "lat": [
          -20.2833
         ],
         "legendgroup": "morondava",
         "lon": [
          44.2833
         ],
         "marker": {
          "color": "#EF553B",
          "opacity": 0.4
         },
         "mode": "markers+text",
         "name": "morondava",
         "showlegend": true,
         "subplot": "mapbox",
         "text": [
          ""
         ],
         "type": "scattermapbox"
        },
        {
         "hovertemplate": "City=mabaruma<br>Hotel Name=%{text}<br>Lat=%{lat}<br>Lng=%{lon}<extra></extra>",
         "lat": [
          8.2
         ],
         "legendgroup": "mabaruma",
         "lon": [
          -59.7833
         ],
         "marker": {
          "color": "#00cc96",
          "opacity": 0.4
         },
         "mode": "markers+text",
         "name": "mabaruma",
         "showlegend": true,
         "subplot": "mapbox",
         "text": [
          ""
         ],
         "type": "scattermapbox"
        },
        {
         "hovertemplate": "City=uige<br>Hotel Name=%{text}<br>Lat=%{lat}<br>Lng=%{lon}<extra></extra>",
         "lat": [
          -7.6087
         ],
         "legendgroup": "uige",
         "lon": [
          15.0613
         ],
         "marker": {
          "color": "#ab63fa",
          "opacity": 0.4
         },
         "mode": "markers+text",
         "name": "uige",
         "showlegend": true,
         "subplot": "mapbox",
         "text": [
          ""
         ],
         "type": "scattermapbox"
        },
        {
         "hovertemplate": "City=banswara<br>Hotel Name=%{text}<br>Lat=%{lat}<br>Lng=%{lon}<extra></extra>",
         "lat": [
          23.55
         ],
         "legendgroup": "banswara",
         "lon": [
          74.45
         ],
         "marker": {
          "color": "#FFA15A",
          "opacity": 0.4
         },
         "mode": "markers+text",
         "name": "banswara",
         "showlegend": true,
         "subplot": "mapbox",
         "text": [
          ""
         ],
         "type": "scattermapbox"
        },
        {
         "hovertemplate": "City=bubaque<br>Hotel Name=%{text}<br>Lat=%{lat}<br>Lng=%{lon}<extra></extra>",
         "lat": [
          11.2833
         ],
         "legendgroup": "bubaque",
         "lon": [
          -15.8333
         ],
         "marker": {
          "color": "#19d3f3",
          "opacity": 0.4
         },
         "mode": "markers+text",
         "name": "bubaque",
         "showlegend": true,
         "subplot": "mapbox",
         "text": [
          ""
         ],
         "type": "scattermapbox"
        },
        {
         "hovertemplate": "City=belmonte<br>Hotel Name=%{text}<br>Lat=%{lat}<br>Lng=%{lon}<extra></extra>",
         "lat": [
          -15.8631
         ],
         "legendgroup": "belmonte",
         "lon": [
          -38.8828
         ],
         "marker": {
          "color": "#FF6692",
          "opacity": 0.4
         },
         "mode": "markers+text",
         "name": "belmonte",
         "showlegend": true,
         "subplot": "mapbox",
         "text": [
          ""
         ],
         "type": "scattermapbox"
        },
        {
         "hovertemplate": "City=bamako<br>Hotel Name=%{text}<br>Lat=%{lat}<br>Lng=%{lon}<extra></extra>",
         "lat": [
          12.65
         ],
         "legendgroup": "bamako",
         "lon": [
          -8
         ],
         "marker": {
          "color": "#B6E880",
          "opacity": 0.4
         },
         "mode": "markers+text",
         "name": "bamako",
         "showlegend": true,
         "subplot": "mapbox",
         "text": [
          ""
         ],
         "type": "scattermapbox"
        },
        {
         "hovertemplate": "City=waipawa<br>Hotel Name=%{text}<br>Lat=%{lat}<br>Lng=%{lon}<extra></extra>",
         "lat": [
          -41.4122
         ],
         "legendgroup": "waipawa",
         "lon": [
          175.5153
         ],
         "marker": {
          "color": "#FF97FF",
          "opacity": 0.4
         },
         "mode": "markers+text",
         "name": "waipawa",
         "showlegend": true,
         "subplot": "mapbox",
         "text": [
          ""
         ],
         "type": "scattermapbox"
        },
        {
         "hovertemplate": "City=mandera<br>Hotel Name=%{text}<br>Lat=%{lat}<br>Lng=%{lon}<extra></extra>",
         "lat": [
          3.9366
         ],
         "legendgroup": "mandera",
         "lon": [
          41.867
         ],
         "marker": {
          "color": "#FECB52",
          "opacity": 0.4
         },
         "mode": "markers+text",
         "name": "mandera",
         "showlegend": true,
         "subplot": "mapbox",
         "text": [
          ""
         ],
         "type": "scattermapbox"
        }
       ],
       "layout": {
        "legend": {
         "title": {
          "text": "City"
         },
         "tracegroupgap": 0
        },
        "mapbox": {
         "center": {
          "lat": -3.076240555555556,
          "lon": 2.683912777777779
         },
         "domain": {
          "x": [
           0,
           1
          ],
          "y": [
           0,
           1
          ]
         },
         "style": "open-street-map",
         "zoom": 0
        },
        "margin": {
         "t": 60
        },
        "template": {
         "data": {
          "bar": [
           {
            "error_x": {
             "color": "#2a3f5f"
            },
            "error_y": {
             "color": "#2a3f5f"
            },
            "marker": {
             "line": {
              "color": "white",
              "width": 0.5
             },
             "pattern": {
              "fillmode": "overlay",
              "size": 10,
              "solidity": 0.2
             }
            },
            "type": "bar"
           }
          ],
          "barpolar": [
           {
            "marker": {
             "line": {
              "color": "white",
              "width": 0.5
             },
             "pattern": {
              "fillmode": "overlay",
              "size": 10,
              "solidity": 0.2
             }
            },
            "type": "barpolar"
           }
          ],
          "carpet": [
           {
            "aaxis": {
             "endlinecolor": "#2a3f5f",
             "gridcolor": "#C8D4E3",
             "linecolor": "#C8D4E3",
             "minorgridcolor": "#C8D4E3",
             "startlinecolor": "#2a3f5f"
            },
            "baxis": {
             "endlinecolor": "#2a3f5f",
             "gridcolor": "#C8D4E3",
             "linecolor": "#C8D4E3",
             "minorgridcolor": "#C8D4E3",
             "startlinecolor": "#2a3f5f"
            },
            "type": "carpet"
           }
          ],
          "choropleth": [
           {
            "colorbar": {
             "outlinewidth": 0,
             "ticks": ""
            },
            "type": "choropleth"
           }
          ],
          "contour": [
           {
            "colorbar": {
             "outlinewidth": 0,
             "ticks": ""
            },
            "colorscale": [
             [
              0,
              "#0d0887"
             ],
             [
              0.1111111111111111,
              "#46039f"
             ],
             [
              0.2222222222222222,
              "#7201a8"
             ],
             [
              0.3333333333333333,
              "#9c179e"
             ],
             [
              0.4444444444444444,
              "#bd3786"
             ],
             [
              0.5555555555555556,
              "#d8576b"
             ],
             [
              0.6666666666666666,
              "#ed7953"
             ],
             [
              0.7777777777777778,
              "#fb9f3a"
             ],
             [
              0.8888888888888888,
              "#fdca26"
             ],
             [
              1,
              "#f0f921"
             ]
            ],
            "type": "contour"
           }
          ],
          "contourcarpet": [
           {
            "colorbar": {
             "outlinewidth": 0,
             "ticks": ""
            },
            "type": "contourcarpet"
           }
          ],
          "heatmap": [
           {
            "colorbar": {
             "outlinewidth": 0,
             "ticks": ""
            },
            "colorscale": [
             [
              0,
              "#0d0887"
             ],
             [
              0.1111111111111111,
              "#46039f"
             ],
             [
              0.2222222222222222,
              "#7201a8"
             ],
             [
              0.3333333333333333,
              "#9c179e"
             ],
             [
              0.4444444444444444,
              "#bd3786"
             ],
             [
              0.5555555555555556,
              "#d8576b"
             ],
             [
              0.6666666666666666,
              "#ed7953"
             ],
             [
              0.7777777777777778,
              "#fb9f3a"
             ],
             [
              0.8888888888888888,
              "#fdca26"
             ],
             [
              1,
              "#f0f921"
             ]
            ],
            "type": "heatmap"
           }
          ],
          "heatmapgl": [
           {
            "colorbar": {
             "outlinewidth": 0,
             "ticks": ""
            },
            "colorscale": [
             [
              0,
              "#0d0887"
             ],
             [
              0.1111111111111111,
              "#46039f"
             ],
             [
              0.2222222222222222,
              "#7201a8"
             ],
             [
              0.3333333333333333,
              "#9c179e"
             ],
             [
              0.4444444444444444,
              "#bd3786"
             ],
             [
              0.5555555555555556,
              "#d8576b"
             ],
             [
              0.6666666666666666,
              "#ed7953"
             ],
             [
              0.7777777777777778,
              "#fb9f3a"
             ],
             [
              0.8888888888888888,
              "#fdca26"
             ],
             [
              1,
              "#f0f921"
             ]
            ],
            "type": "heatmapgl"
           }
          ],
          "histogram": [
           {
            "marker": {
             "pattern": {
              "fillmode": "overlay",
              "size": 10,
              "solidity": 0.2
             }
            },
            "type": "histogram"
           }
          ],
          "histogram2d": [
           {
            "colorbar": {
             "outlinewidth": 0,
             "ticks": ""
            },
            "colorscale": [
             [
              0,
              "#0d0887"
             ],
             [
              0.1111111111111111,
              "#46039f"
             ],
             [
              0.2222222222222222,
              "#7201a8"
             ],
             [
              0.3333333333333333,
              "#9c179e"
             ],
             [
              0.4444444444444444,
              "#bd3786"
             ],
             [
              0.5555555555555556,
              "#d8576b"
             ],
             [
              0.6666666666666666,
              "#ed7953"
             ],
             [
              0.7777777777777778,
              "#fb9f3a"
             ],
             [
              0.8888888888888888,
              "#fdca26"
             ],
             [
              1,
              "#f0f921"
             ]
            ],
            "type": "histogram2d"
           }
          ],
          "histogram2dcontour": [
           {
            "colorbar": {
             "outlinewidth": 0,
             "ticks": ""
            },
            "colorscale": [
             [
              0,
              "#0d0887"
             ],
             [
              0.1111111111111111,
              "#46039f"
             ],
             [
              0.2222222222222222,
              "#7201a8"
             ],
             [
              0.3333333333333333,
              "#9c179e"
             ],
             [
              0.4444444444444444,
              "#bd3786"
             ],
             [
              0.5555555555555556,
              "#d8576b"
             ],
             [
              0.6666666666666666,
              "#ed7953"
             ],
             [
              0.7777777777777778,
              "#fb9f3a"
             ],
             [
              0.8888888888888888,
              "#fdca26"
             ],
             [
              1,
              "#f0f921"
             ]
            ],
            "type": "histogram2dcontour"
           }
          ],
          "mesh3d": [
           {
            "colorbar": {
             "outlinewidth": 0,
             "ticks": ""
            },
            "type": "mesh3d"
           }
          ],
          "parcoords": [
           {
            "line": {
             "colorbar": {
              "outlinewidth": 0,
              "ticks": ""
             }
            },
            "type": "parcoords"
           }
          ],
          "pie": [
           {
            "automargin": true,
            "type": "pie"
           }
          ],
          "scatter": [
           {
            "fillpattern": {
             "fillmode": "overlay",
             "size": 10,
             "solidity": 0.2
            },
            "type": "scatter"
           }
          ],
          "scatter3d": [
           {
            "line": {
             "colorbar": {
              "outlinewidth": 0,
              "ticks": ""
             }
            },
            "marker": {
             "colorbar": {
              "outlinewidth": 0,
              "ticks": ""
             }
            },
            "type": "scatter3d"
           }
          ],
          "scattercarpet": [
           {
            "marker": {
             "colorbar": {
              "outlinewidth": 0,
              "ticks": ""
             }
            },
            "type": "scattercarpet"
           }
          ],
          "scattergeo": [
           {
            "marker": {
             "colorbar": {
              "outlinewidth": 0,
              "ticks": ""
             }
            },
            "type": "scattergeo"
           }
          ],
          "scattergl": [
           {
            "marker": {
             "colorbar": {
              "outlinewidth": 0,
              "ticks": ""
             }
            },
            "type": "scattergl"
           }
          ],
          "scattermapbox": [
           {
            "marker": {
             "colorbar": {
              "outlinewidth": 0,
              "ticks": ""
             }
            },
            "type": "scattermapbox"
           }
          ],
          "scatterpolar": [
           {
            "marker": {
             "colorbar": {
              "outlinewidth": 0,
              "ticks": ""
             }
            },
            "type": "scatterpolar"
           }
          ],
          "scatterpolargl": [
           {
            "marker": {
             "colorbar": {
              "outlinewidth": 0,
              "ticks": ""
             }
            },
            "type": "scatterpolargl"
           }
          ],
          "scatterternary": [
           {
            "marker": {
             "colorbar": {
              "outlinewidth": 0,
              "ticks": ""
             }
            },
            "type": "scatterternary"
           }
          ],
          "surface": [
           {
            "colorbar": {
             "outlinewidth": 0,
             "ticks": ""
            },
            "colorscale": [
             [
              0,
              "#0d0887"
             ],
             [
              0.1111111111111111,
              "#46039f"
             ],
             [
              0.2222222222222222,
              "#7201a8"
             ],
             [
              0.3333333333333333,
              "#9c179e"
             ],
             [
              0.4444444444444444,
              "#bd3786"
             ],
             [
              0.5555555555555556,
              "#d8576b"
             ],
             [
              0.6666666666666666,
              "#ed7953"
             ],
             [
              0.7777777777777778,
              "#fb9f3a"
             ],
             [
              0.8888888888888888,
              "#fdca26"
             ],
             [
              1,
              "#f0f921"
             ]
            ],
            "type": "surface"
           }
          ],
          "table": [
           {
            "cells": {
             "fill": {
              "color": "#EBF0F8"
             },
             "line": {
              "color": "white"
             }
            },
            "header": {
             "fill": {
              "color": "#C8D4E3"
             },
             "line": {
              "color": "white"
             }
            },
            "type": "table"
           }
          ]
         },
         "layout": {
          "annotationdefaults": {
           "arrowcolor": "#2a3f5f",
           "arrowhead": 0,
           "arrowwidth": 1
          },
          "autotypenumbers": "strict",
          "coloraxis": {
           "colorbar": {
            "outlinewidth": 0,
            "ticks": ""
           }
          },
          "colorscale": {
           "diverging": [
            [
             0,
             "#8e0152"
            ],
            [
             0.1,
             "#c51b7d"
            ],
            [
             0.2,
             "#de77ae"
            ],
            [
             0.3,
             "#f1b6da"
            ],
            [
             0.4,
             "#fde0ef"
            ],
            [
             0.5,
             "#f7f7f7"
            ],
            [
             0.6,
             "#e6f5d0"
            ],
            [
             0.7,
             "#b8e186"
            ],
            [
             0.8,
             "#7fbc41"
            ],
            [
             0.9,
             "#4d9221"
            ],
            [
             1,
             "#276419"
            ]
           ],
           "sequential": [
            [
             0,
             "#0d0887"
            ],
            [
             0.1111111111111111,
             "#46039f"
            ],
            [
             0.2222222222222222,
             "#7201a8"
            ],
            [
             0.3333333333333333,
             "#9c179e"
            ],
            [
             0.4444444444444444,
             "#bd3786"
            ],
            [
             0.5555555555555556,
             "#d8576b"
            ],
            [
             0.6666666666666666,
             "#ed7953"
            ],
            [
             0.7777777777777778,
             "#fb9f3a"
            ],
            [
             0.8888888888888888,
             "#fdca26"
            ],
            [
             1,
             "#f0f921"
            ]
           ],
           "sequentialminus": [
            [
             0,
             "#0d0887"
            ],
            [
             0.1111111111111111,
             "#46039f"
            ],
            [
             0.2222222222222222,
             "#7201a8"
            ],
            [
             0.3333333333333333,
             "#9c179e"
            ],
            [
             0.4444444444444444,
             "#bd3786"
            ],
            [
             0.5555555555555556,
             "#d8576b"
            ],
            [
             0.6666666666666666,
             "#ed7953"
            ],
            [
             0.7777777777777778,
             "#fb9f3a"
            ],
            [
             0.8888888888888888,
             "#fdca26"
            ],
            [
             1,
             "#f0f921"
            ]
           ]
          },
          "colorway": [
           "#636efa",
           "#EF553B",
           "#00cc96",
           "#ab63fa",
           "#FFA15A",
           "#19d3f3",
           "#FF6692",
           "#B6E880",
           "#FF97FF",
           "#FECB52"
          ],
          "font": {
           "color": "#2a3f5f"
          },
          "geo": {
           "bgcolor": "white",
           "lakecolor": "white",
           "landcolor": "white",
           "showlakes": true,
           "showland": true,
           "subunitcolor": "#C8D4E3"
          },
          "hoverlabel": {
           "align": "left"
          },
          "hovermode": "closest",
          "mapbox": {
           "style": "light"
          },
          "paper_bgcolor": "white",
          "plot_bgcolor": "white",
          "polar": {
           "angularaxis": {
            "gridcolor": "#EBF0F8",
            "linecolor": "#EBF0F8",
            "ticks": ""
           },
           "bgcolor": "white",
           "radialaxis": {
            "gridcolor": "#EBF0F8",
            "linecolor": "#EBF0F8",
            "ticks": ""
           }
          },
          "scene": {
           "xaxis": {
            "backgroundcolor": "white",
            "gridcolor": "#DFE8F3",
            "gridwidth": 2,
            "linecolor": "#EBF0F8",
            "showbackground": true,
            "ticks": "",
            "zerolinecolor": "#EBF0F8"
           },
           "yaxis": {
            "backgroundcolor": "white",
            "gridcolor": "#DFE8F3",
            "gridwidth": 2,
            "linecolor": "#EBF0F8",
            "showbackground": true,
            "ticks": "",
            "zerolinecolor": "#EBF0F8"
           },
           "zaxis": {
            "backgroundcolor": "white",
            "gridcolor": "#DFE8F3",
            "gridwidth": 2,
            "linecolor": "#EBF0F8",
            "showbackground": true,
            "ticks": "",
            "zerolinecolor": "#EBF0F8"
           }
          },
          "shapedefaults": {
           "line": {
            "color": "#2a3f5f"
           }
          },
          "ternary": {
           "aaxis": {
            "gridcolor": "#DFE8F3",
            "linecolor": "#A2B1C6",
            "ticks": ""
           },
           "baxis": {
            "gridcolor": "#DFE8F3",
            "linecolor": "#A2B1C6",
            "ticks": ""
           },
           "bgcolor": "white",
           "caxis": {
            "gridcolor": "#DFE8F3",
            "linecolor": "#A2B1C6",
            "ticks": ""
           }
          },
          "title": {
           "x": 0.05
          },
          "xaxis": {
           "automargin": true,
           "gridcolor": "#EBF0F8",
           "linecolor": "#EBF0F8",
           "ticks": "",
           "title": {
            "standoff": 15
           },
           "zerolinecolor": "#EBF0F8",
           "zerolinewidth": 2
          },
          "yaxis": {
           "automargin": true,
           "gridcolor": "#EBF0F8",
           "linecolor": "#EBF0F8",
           "ticks": "",
           "title": {
            "standoff": 15
           },
           "zerolinecolor": "#EBF0F8",
           "zerolinewidth": 2
          }
         }
        }
       }
      }
     },
     "metadata": {},
     "output_type": "display_data"
    }
   ],
   "source": [
    "## Here is another way to do this using plotly express\n",
    "\n",
    "# Configure the map plot\n",
    "hotel_map_alt = px.scatter_mapbox(hotel_df, \n",
    "                        lat=\"Lat\", \n",
    "                        lon=\"Lng\", \n",
    "                        #size=\"Humidity\", \n",
    "                        text=\"Hotel Name\", \n",
    "                        color=\"City\", \n",
    "                        opacity=0.4, \n",
    "                        zoom=0)\n",
    "\n",
    "hotel_map_alt.update_layout(mapbox_style=\"open-street-map\")\n",
    "\n",
    "# Display the map\n",
    "hotel_map_alt.show()"
   ]
  }
 ],
 "metadata": {
  "kernelspec": {
   "display_name": "PythonData",
   "language": "python",
   "name": "python3"
  },
  "language_info": {
   "codemirror_mode": {
    "name": "ipython",
    "version": 3
   },
   "file_extension": ".py",
   "mimetype": "text/x-python",
   "name": "python",
   "nbconvert_exporter": "python",
   "pygments_lexer": "ipython3",
   "version": "3.10.9"
  },
  "latex_envs": {
   "LaTeX_envs_menu_present": true,
   "autoclose": false,
   "autocomplete": true,
   "bibliofile": "biblio.bib",
   "cite_by": "apalike",
   "current_citInitial": 1,
   "eqLabelWithNumbers": true,
   "eqNumInitial": 1,
   "hotkeys": {
    "equation": "Ctrl-E",
    "itemize": "Ctrl-I"
   },
   "labels_anchors": false,
   "latex_user_defs": false,
   "report_style_numbering": false,
   "user_envs_cfg": false
  },
  "vscode": {
   "interpreter": {
    "hash": "60dddd436d0058a766555d2cf8fdcc83bb0bd21d7a1497621c66aa9f2e98ba11"
   }
  }
 },
 "nbformat": 4,
 "nbformat_minor": 4
}
