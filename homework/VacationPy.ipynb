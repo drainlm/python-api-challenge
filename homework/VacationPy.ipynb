{
 "cells": [
  {
   "cell_type": "markdown",
   "metadata": {},
   "source": [
    "# VacationPy\n",
    "---\n",
    "\n",
    "## Starter Code to Import Libraries and Load the Weather and Coordinates Data"
   ]
  },
  {
   "cell_type": "code",
   "execution_count": 18,
   "metadata": {},
   "outputs": [],
   "source": [
    "# Dependencies and Setup\n",
    "import hvplot.pandas\n",
    "import pandas as pd\n",
    "import requests\n",
    "import json\n",
    "import plotly.express as px\n",
    "\n",
    "# Import API key\n",
    "from api_keys import geoapify_key"
   ]
  },
  {
   "cell_type": "code",
   "execution_count": 19,
   "metadata": {},
   "outputs": [
    {
     "data": {
      "text/html": [
       "<div>\n",
       "<style scoped>\n",
       "    .dataframe tbody tr th:only-of-type {\n",
       "        vertical-align: middle;\n",
       "    }\n",
       "\n",
       "    .dataframe tbody tr th {\n",
       "        vertical-align: top;\n",
       "    }\n",
       "\n",
       "    .dataframe thead th {\n",
       "        text-align: right;\n",
       "    }\n",
       "</style>\n",
       "<table border=\"1\" class=\"dataframe\">\n",
       "  <thead>\n",
       "    <tr style=\"text-align: right;\">\n",
       "      <th></th>\n",
       "      <th>City_ID</th>\n",
       "      <th>City</th>\n",
       "      <th>Lat</th>\n",
       "      <th>Lng</th>\n",
       "      <th>Max Temp</th>\n",
       "      <th>Humidity</th>\n",
       "      <th>Cloudiness</th>\n",
       "      <th>Wind Speed</th>\n",
       "      <th>Country</th>\n",
       "      <th>Date</th>\n",
       "    </tr>\n",
       "  </thead>\n",
       "  <tbody>\n",
       "    <tr>\n",
       "      <th>0</th>\n",
       "      <td>0</td>\n",
       "      <td>qaanaaq</td>\n",
       "      <td>77.4840</td>\n",
       "      <td>-69.3632</td>\n",
       "      <td>-16.32</td>\n",
       "      <td>66</td>\n",
       "      <td>88</td>\n",
       "      <td>3.26</td>\n",
       "      <td>GL</td>\n",
       "      <td>1675396695</td>\n",
       "    </tr>\n",
       "    <tr>\n",
       "      <th>1</th>\n",
       "      <td>1</td>\n",
       "      <td>rikitea</td>\n",
       "      <td>-23.1203</td>\n",
       "      <td>-134.9692</td>\n",
       "      <td>26.30</td>\n",
       "      <td>71</td>\n",
       "      <td>36</td>\n",
       "      <td>6.62</td>\n",
       "      <td>PF</td>\n",
       "      <td>1675396695</td>\n",
       "    </tr>\n",
       "    <tr>\n",
       "      <th>2</th>\n",
       "      <td>2</td>\n",
       "      <td>aykhal</td>\n",
       "      <td>66.0000</td>\n",
       "      <td>111.5000</td>\n",
       "      <td>-25.50</td>\n",
       "      <td>96</td>\n",
       "      <td>100</td>\n",
       "      <td>2.49</td>\n",
       "      <td>RU</td>\n",
       "      <td>1675396696</td>\n",
       "    </tr>\n",
       "    <tr>\n",
       "      <th>3</th>\n",
       "      <td>3</td>\n",
       "      <td>ushuaia</td>\n",
       "      <td>-54.8000</td>\n",
       "      <td>-68.3000</td>\n",
       "      <td>12.81</td>\n",
       "      <td>62</td>\n",
       "      <td>75</td>\n",
       "      <td>1.03</td>\n",
       "      <td>AR</td>\n",
       "      <td>1675396585</td>\n",
       "    </tr>\n",
       "    <tr>\n",
       "      <th>4</th>\n",
       "      <td>4</td>\n",
       "      <td>faya</td>\n",
       "      <td>18.3851</td>\n",
       "      <td>42.4509</td>\n",
       "      <td>7.06</td>\n",
       "      <td>50</td>\n",
       "      <td>32</td>\n",
       "      <td>1.60</td>\n",
       "      <td>SA</td>\n",
       "      <td>1675396696</td>\n",
       "    </tr>\n",
       "  </tbody>\n",
       "</table>\n",
       "</div>"
      ],
      "text/plain": [
       "   City_ID     City      Lat       Lng  Max Temp  Humidity  Cloudiness  \\\n",
       "0        0  qaanaaq  77.4840  -69.3632    -16.32        66          88   \n",
       "1        1  rikitea -23.1203 -134.9692     26.30        71          36   \n",
       "2        2   aykhal  66.0000  111.5000    -25.50        96         100   \n",
       "3        3  ushuaia -54.8000  -68.3000     12.81        62          75   \n",
       "4        4     faya  18.3851   42.4509      7.06        50          32   \n",
       "\n",
       "   Wind Speed Country        Date  \n",
       "0        3.26      GL  1675396695  \n",
       "1        6.62      PF  1675396695  \n",
       "2        2.49      RU  1675396696  \n",
       "3        1.03      AR  1675396585  \n",
       "4        1.60      SA  1675396696  "
      ]
     },
     "execution_count": 19,
     "metadata": {},
     "output_type": "execute_result"
    }
   ],
   "source": [
    "# Load the CSV file created in Part 1 into a Pandas DataFrame\n",
    "city_data_df = pd.read_csv(\"../output_data/cities.csv\")\n",
    "\n",
    "# Display sample data\n",
    "city_data_df.head()"
   ]
  },
  {
   "cell_type": "code",
   "execution_count": 3,
   "metadata": {},
   "outputs": [
    {
     "data": {
      "text/html": [
       "<div>\n",
       "<style scoped>\n",
       "    .dataframe tbody tr th:only-of-type {\n",
       "        vertical-align: middle;\n",
       "    }\n",
       "\n",
       "    .dataframe tbody tr th {\n",
       "        vertical-align: top;\n",
       "    }\n",
       "\n",
       "    .dataframe thead th {\n",
       "        text-align: right;\n",
       "    }\n",
       "</style>\n",
       "<table border=\"1\" class=\"dataframe\">\n",
       "  <thead>\n",
       "    <tr style=\"text-align: right;\">\n",
       "      <th></th>\n",
       "      <th>City_ID</th>\n",
       "      <th>City</th>\n",
       "      <th>Lat</th>\n",
       "      <th>Lng</th>\n",
       "      <th>Max Temp</th>\n",
       "      <th>Humidity</th>\n",
       "      <th>Cloudiness</th>\n",
       "      <th>Wind Speed</th>\n",
       "      <th>Country</th>\n",
       "      <th>Date</th>\n",
       "    </tr>\n",
       "  </thead>\n",
       "  <tbody>\n",
       "    <tr>\n",
       "      <th>0</th>\n",
       "      <td>0</td>\n",
       "      <td>qaanaaq</td>\n",
       "      <td>77.4840</td>\n",
       "      <td>-69.3632</td>\n",
       "      <td>2.624</td>\n",
       "      <td>66</td>\n",
       "      <td>88</td>\n",
       "      <td>3.26</td>\n",
       "      <td>GL</td>\n",
       "      <td>1675396695</td>\n",
       "    </tr>\n",
       "    <tr>\n",
       "      <th>1</th>\n",
       "      <td>1</td>\n",
       "      <td>rikitea</td>\n",
       "      <td>-23.1203</td>\n",
       "      <td>-134.9692</td>\n",
       "      <td>79.340</td>\n",
       "      <td>71</td>\n",
       "      <td>36</td>\n",
       "      <td>6.62</td>\n",
       "      <td>PF</td>\n",
       "      <td>1675396695</td>\n",
       "    </tr>\n",
       "    <tr>\n",
       "      <th>2</th>\n",
       "      <td>2</td>\n",
       "      <td>aykhal</td>\n",
       "      <td>66.0000</td>\n",
       "      <td>111.5000</td>\n",
       "      <td>-13.900</td>\n",
       "      <td>96</td>\n",
       "      <td>100</td>\n",
       "      <td>2.49</td>\n",
       "      <td>RU</td>\n",
       "      <td>1675396696</td>\n",
       "    </tr>\n",
       "    <tr>\n",
       "      <th>3</th>\n",
       "      <td>3</td>\n",
       "      <td>ushuaia</td>\n",
       "      <td>-54.8000</td>\n",
       "      <td>-68.3000</td>\n",
       "      <td>55.058</td>\n",
       "      <td>62</td>\n",
       "      <td>75</td>\n",
       "      <td>1.03</td>\n",
       "      <td>AR</td>\n",
       "      <td>1675396585</td>\n",
       "    </tr>\n",
       "    <tr>\n",
       "      <th>4</th>\n",
       "      <td>4</td>\n",
       "      <td>faya</td>\n",
       "      <td>18.3851</td>\n",
       "      <td>42.4509</td>\n",
       "      <td>44.708</td>\n",
       "      <td>50</td>\n",
       "      <td>32</td>\n",
       "      <td>1.60</td>\n",
       "      <td>SA</td>\n",
       "      <td>1675396696</td>\n",
       "    </tr>\n",
       "  </tbody>\n",
       "</table>\n",
       "</div>"
      ],
      "text/plain": [
       "   City_ID     City      Lat       Lng  Max Temp  Humidity  Cloudiness  \\\n",
       "0        0  qaanaaq  77.4840  -69.3632     2.624        66          88   \n",
       "1        1  rikitea -23.1203 -134.9692    79.340        71          36   \n",
       "2        2   aykhal  66.0000  111.5000   -13.900        96         100   \n",
       "3        3  ushuaia -54.8000  -68.3000    55.058        62          75   \n",
       "4        4     faya  18.3851   42.4509    44.708        50          32   \n",
       "\n",
       "   Wind Speed Country        Date  \n",
       "0        3.26      GL  1675396695  \n",
       "1        6.62      PF  1675396695  \n",
       "2        2.49      RU  1675396696  \n",
       "3        1.03      AR  1675396585  \n",
       "4        1.60      SA  1675396696  "
      ]
     },
     "execution_count": 3,
     "metadata": {},
     "output_type": "execute_result"
    }
   ],
   "source": [
    "#Convert to Farenheit\n",
    "city_data_df['Max Temp'] = city_data_df['Max Temp'].apply(lambda x: (x * 9/5) + 32)\n",
    "\n",
    "# Display sample data\n",
    "city_data_df.head()"
   ]
  },
  {
   "cell_type": "markdown",
   "metadata": {},
   "source": [
    "---\n",
    "\n",
    "### Step 1: Create a map that displays a point for every city in the `city_data_df` DataFrame. The size of the point should be the humidity in each city."
   ]
  },
  {
   "cell_type": "code",
   "execution_count": 4,
   "metadata": {},
   "outputs": [
    {
     "data": {},
     "metadata": {},
     "output_type": "display_data"
    },
    {
     "data": {
      "application/vnd.holoviews_exec.v0+json": "",
      "text/html": [
       "<div id='1002'>\n",
       "  <div class=\"bk-root\" id=\"f746e3c3-9d12-4f0e-903b-c091c04013f9\" data-root-id=\"1002\"></div>\n",
       "</div>\n",
       "<script type=\"application/javascript\">(function(root) {\n",
       "  function embed_document(root) {\n",
       "    var docs_json = {\"3899650c-bb55-4517-90db-bb76844c4da1\":{\"defs\":[{\"extends\":null,\"module\":null,\"name\":\"ReactiveHTML1\",\"overrides\":[],\"properties\":[]},{\"extends\":null,\"module\":null,\"name\":\"FlexBox1\",\"overrides\":[],\"properties\":[{\"default\":\"flex-start\",\"kind\":null,\"name\":\"align_content\"},{\"default\":\"flex-start\",\"kind\":null,\"name\":\"align_items\"},{\"default\":\"row\",\"kind\":null,\"name\":\"flex_direction\"},{\"default\":\"wrap\",\"kind\":null,\"name\":\"flex_wrap\"},{\"default\":\"flex-start\",\"kind\":null,\"name\":\"justify_content\"}]},{\"extends\":null,\"module\":null,\"name\":\"GridStack1\",\"overrides\":[],\"properties\":[{\"default\":\"warn\",\"kind\":null,\"name\":\"mode\"},{\"default\":null,\"kind\":null,\"name\":\"ncols\"},{\"default\":null,\"kind\":null,\"name\":\"nrows\"},{\"default\":true,\"kind\":null,\"name\":\"allow_resize\"},{\"default\":true,\"kind\":null,\"name\":\"allow_drag\"},{\"default\":[],\"kind\":null,\"name\":\"state\"}]},{\"extends\":null,\"module\":null,\"name\":\"click1\",\"overrides\":[],\"properties\":[{\"default\":\"\",\"kind\":null,\"name\":\"terminal_output\"},{\"default\":\"\",\"kind\":null,\"name\":\"debug_name\"},{\"default\":0,\"kind\":null,\"name\":\"clears\"}]},{\"extends\":null,\"module\":null,\"name\":\"NotificationAreaBase1\",\"overrides\":[],\"properties\":[{\"default\":\"bottom-right\",\"kind\":null,\"name\":\"position\"},{\"default\":0,\"kind\":null,\"name\":\"_clear\"}]},{\"extends\":null,\"module\":null,\"name\":\"NotificationArea1\",\"overrides\":[],\"properties\":[{\"default\":[],\"kind\":null,\"name\":\"notifications\"},{\"default\":\"bottom-right\",\"kind\":null,\"name\":\"position\"},{\"default\":0,\"kind\":null,\"name\":\"_clear\"},{\"default\":[{\"background\":\"#ffc107\",\"icon\":{\"className\":\"fas fa-exclamation-triangle\",\"color\":\"white\",\"tagName\":\"i\"},\"type\":\"warning\"},{\"background\":\"#007bff\",\"icon\":{\"className\":\"fas fa-info-circle\",\"color\":\"white\",\"tagName\":\"i\"},\"type\":\"info\"}],\"kind\":null,\"name\":\"types\"}]},{\"extends\":null,\"module\":null,\"name\":\"Notification\",\"overrides\":[],\"properties\":[{\"default\":null,\"kind\":null,\"name\":\"background\"},{\"default\":3000,\"kind\":null,\"name\":\"duration\"},{\"default\":null,\"kind\":null,\"name\":\"icon\"},{\"default\":\"\",\"kind\":null,\"name\":\"message\"},{\"default\":null,\"kind\":null,\"name\":\"notification_type\"},{\"default\":false,\"kind\":null,\"name\":\"_destroyed\"}]},{\"extends\":null,\"module\":null,\"name\":\"TemplateActions1\",\"overrides\":[],\"properties\":[{\"default\":0,\"kind\":null,\"name\":\"open_modal\"},{\"default\":0,\"kind\":null,\"name\":\"close_modal\"}]},{\"extends\":null,\"module\":null,\"name\":\"MaterialTemplateActions1\",\"overrides\":[],\"properties\":[{\"default\":0,\"kind\":null,\"name\":\"open_modal\"},{\"default\":0,\"kind\":null,\"name\":\"close_modal\"}]}],\"roots\":{\"references\":[{\"attributes\":{\"source\":{\"id\":\"1037\"}},\"id\":\"1044\",\"type\":\"CDSView\"},{\"attributes\":{\"margin\":[5,5,5,5],\"name\":\"HSpacer00853\",\"sizing_mode\":\"stretch_width\"},\"id\":\"1062\",\"type\":\"Spacer\"},{\"attributes\":{\"callback\":null,\"renderers\":[{\"id\":\"1043\"}],\"tags\":[\"hv_created\"],\"tooltips\":[[\"Lng\",\"@{Lng}\"],[\"Lat\",\"@{Lat}\"],[\"Humidity\",\"@{Humidity}\"],[\"City\",\"@{City}\"],[\"Country\",\"@{Country}\"]]},\"id\":\"1006\",\"type\":\"HoverTool\"},{\"attributes\":{\"coordinates\":null,\"group\":null,\"text\":\"Cities Latitude and Longitude vs. Humidity\",\"text_color\":\"black\",\"text_font_size\":\"12pt\"},\"id\":\"1008\",\"type\":\"Title\"},{\"attributes\":{},\"id\":\"1012\",\"type\":\"LinearScale\"},{\"attributes\":{},\"id\":\"1014\",\"type\":\"LinearScale\"},{\"attributes\":{\"angle\":{\"value\":0.0},\"fill_alpha\":{\"value\":1.0},\"fill_color\":{\"value\":\"blue\"},\"hatch_alpha\":{\"value\":1.0},\"hatch_color\":{\"value\":\"blue\"},\"hatch_scale\":{\"value\":12.0},\"hatch_weight\":{\"value\":1.0},\"line_alpha\":{\"value\":1.0},\"line_cap\":{\"value\":\"butt\"},\"line_color\":{\"value\":\"blue\"},\"line_dash\":{\"value\":[]},\"line_dash_offset\":{\"value\":0},\"line_join\":{\"value\":\"bevel\"},\"line_width\":{\"value\":1},\"marker\":{\"value\":\"circle\"},\"size\":{\"field\":\"size\"},\"x\":{\"field\":\"Lng\"},\"y\":{\"field\":\"Lat\"}},\"id\":\"1045\",\"type\":\"Scatter\"},{\"attributes\":{\"fill_alpha\":{\"value\":0.1},\"fill_color\":{\"value\":\"blue\"},\"hatch_alpha\":{\"value\":0.1},\"hatch_color\":{\"value\":\"blue\"},\"line_alpha\":{\"value\":0.1},\"line_color\":{\"value\":\"blue\"},\"size\":{\"field\":\"size\"},\"x\":{\"field\":\"Lng\"},\"y\":{\"field\":\"Lat\"}},\"id\":\"1041\",\"type\":\"Scatter\"},{\"attributes\":{\"coordinates\":null,\"data_source\":{\"id\":\"1037\"},\"glyph\":{\"id\":\"1040\"},\"group\":null,\"hover_glyph\":null,\"muted_glyph\":{\"id\":\"1042\"},\"nonselection_glyph\":{\"id\":\"1041\"},\"selection_glyph\":{\"id\":\"1045\"},\"view\":{\"id\":\"1044\"}},\"id\":\"1043\",\"type\":\"GlyphRenderer\"},{\"attributes\":{},\"id\":\"1025\",\"type\":\"PanTool\"},{\"attributes\":{\"axis_label\":\"Lng\",\"coordinates\":null,\"formatter\":{\"id\":\"1047\"},\"group\":null,\"major_label_policy\":{\"id\":\"1048\"},\"ticker\":{\"id\":\"1017\"}},\"id\":\"1016\",\"type\":\"LinearAxis\"},{\"attributes\":{\"axis\":{\"id\":\"1016\"},\"coordinates\":null,\"grid_line_color\":null,\"group\":null,\"ticker\":null},\"id\":\"1019\",\"type\":\"Grid\"},{\"attributes\":{},\"id\":\"1059\",\"type\":\"UnionRenderers\"},{\"attributes\":{},\"id\":\"1017\",\"type\":\"BasicTicker\"},{\"attributes\":{},\"id\":\"1047\",\"type\":\"BasicTickFormatter\"},{\"attributes\":{\"axis_label\":\"Lat\",\"coordinates\":null,\"formatter\":{\"id\":\"1050\"},\"group\":null,\"major_label_policy\":{\"id\":\"1051\"},\"ticker\":{\"id\":\"1021\"}},\"id\":\"1020\",\"type\":\"LinearAxis\"},{\"attributes\":{\"axis\":{\"id\":\"1020\"},\"coordinates\":null,\"dimension\":1,\"grid_line_color\":null,\"group\":null,\"ticker\":null},\"id\":\"1023\",\"type\":\"Grid\"},{\"attributes\":{},\"id\":\"1021\",\"type\":\"BasicTicker\"},{\"attributes\":{},\"id\":\"1026\",\"type\":\"WheelZoomTool\"},{\"attributes\":{},\"id\":\"1024\",\"type\":\"SaveTool\"},{\"attributes\":{\"margin\":[5,5,5,5],\"name\":\"HSpacer00852\",\"sizing_mode\":\"stretch_width\"},\"id\":\"1003\",\"type\":\"Spacer\"},{\"attributes\":{\"overlay\":{\"id\":\"1029\"}},\"id\":\"1027\",\"type\":\"BoxZoomTool\"},{\"attributes\":{},\"id\":\"1028\",\"type\":\"ResetTool\"},{\"attributes\":{},\"id\":\"1051\",\"type\":\"AllLabels\"},{\"attributes\":{\"bottom_units\":\"screen\",\"coordinates\":null,\"fill_alpha\":0.5,\"fill_color\":\"lightgrey\",\"group\":null,\"left_units\":\"screen\",\"level\":\"overlay\",\"line_alpha\":1.0,\"line_color\":\"black\",\"line_dash\":[4,4],\"line_width\":2,\"right_units\":\"screen\",\"syncable\":false,\"top_units\":\"screen\"},\"id\":\"1029\",\"type\":\"BoxAnnotation\"},{\"attributes\":{\"data\":{\"City\":[\"qaanaaq\",\"rikitea\",\"aykhal\",\"ushuaia\",\"faya\",\"bredasdorp\",\"sandwick\",\"mudgee\",\"gerash\",\"nanae\",\"new norfolk\",\"esterhazy\",\"hambantota\",\"port alfred\",\"barrow\",\"polignano a mare\",\"atuona\",\"saint-philippe\",\"cesis\",\"dawson creek\",\"east london\",\"bathsheba\",\"lorengau\",\"puerto ayora\",\"ostrovnoy\",\"ulladulla\",\"kapaa\",\"kalabo\",\"comodoro rivadavia\",\"cabedelo\",\"sunndalsora\",\"georgetown\",\"caravelas\",\"carutapera\",\"ekibastuz\",\"victoria\",\"port elizabeth\",\"pocone\",\"qasigiannguit\",\"shakawe\",\"souillac\",\"ritchie\",\"charters towers\",\"tecoanapa\",\"hobart\",\"hofn\",\"hermanus\",\"karratha\",\"busselton\",\"chuy\",\"gigmoto\",\"vardo\",\"haapiti\",\"salinopolis\",\"orbe\",\"sao filipe\",\"uhlove\",\"avarua\",\"yellowknife\",\"laguna\",\"oussouye\",\"thompson\",\"chany\",\"shenjiamen\",\"bella vista\",\"palora\",\"perbaungan\",\"evensk\",\"cape town\",\"nikolskoye\",\"san lorenzo\",\"chokurdakh\",\"vaini\",\"albany\",\"tafalla\",\"jamestown\",\"bluff\",\"mar del plata\",\"cherskiy\",\"bonavista\",\"aklavik\",\"coquimbo\",\"carnarvon\",\"bontang\",\"gazojak\",\"hithadhoo\",\"sisimiut\",\"leningradskiy\",\"batagay-alyta\",\"tazovskiy\",\"haines junction\",\"tiarei\",\"rio gallegos\",\"punta arenas\",\"klyavlino\",\"keetmanshoop\",\"puerto escondido\",\"north bend\",\"broome\",\"saint george\",\"pevek\",\"kavaratti\",\"tuktoyaktuk\",\"kodiak\",\"kiama\",\"narsaq\",\"tornio\",\"saskylakh\",\"vestmanna\",\"quelimane\",\"ewa beach\",\"mataura\",\"lavrentiya\",\"dikson\",\"esperance\",\"rozkishne\",\"saint anthony\",\"rawson\",\"henties bay\",\"sorong\",\"sao joao da barra\",\"novita\",\"kahului\",\"khatanga\",\"noumea\",\"kudahuvadhoo\",\"klaksvik\",\"yunyang\",\"road town\",\"kruisfontein\",\"emba\",\"ca mau\",\"rivers\",\"butaritari\",\"samarai\",\"bima\",\"clyde river\",\"nadym\",\"tshane\",\"jos\",\"motygino\",\"waitati\",\"acapulco\",\"bengkulu\",\"juneau\",\"westport\",\"yar-sale\",\"antofagasta\",\"sistranda\",\"olafsvik\",\"zeya\",\"katsuura\",\"zhigansk\",\"castro\",\"bubaque\",\"biloela\",\"ribeira grande\",\"talcahuano\",\"lebu\",\"cabo san lucas\",\"navalmoral de la mata\",\"san cristobal\",\"torbay\",\"rocha\",\"bethel\",\"mantua\",\"ponta do sol\",\"chulman\",\"pisco\",\"namibe\",\"mahebourg\",\"kidal\",\"vao\",\"tabuk\",\"christchurch\",\"ahipara\",\"flagstaff\",\"ilulissat\",\"provideniya\",\"axim\",\"talnakh\",\"okha\",\"bandarbeyla\",\"alta floresta\",\"paita\",\"roman\",\"guerrero negro\",\"puerto ayacucho\",\"jasper\",\"carolina\",\"bourg-en-bresse\",\"nanortalik\",\"buj\",\"arraial do cabo\",\"saint-joseph\",\"upernavik\",\"orissaare\",\"bull savanna\",\"niquero\",\"saint-michel-des-saints\",\"tiksi\",\"waipawa\",\"pangnirtung\",\"ruidoso\",\"jalu\",\"barranca\",\"innisfail\",\"chapais\",\"cayenne\",\"iberia\",\"los llanos de aridane\",\"wukari\",\"north platte\",\"pacific grove\",\"bayir\",\"prince rupert\",\"richards bay\",\"ust-kulom\",\"viedma\",\"linares\",\"inirida\",\"boyabat\",\"awjilah\",\"kamaishi\",\"bibbiena\",\"lexington\",\"areia branca\",\"muros\",\"dwarka\",\"kaniama\",\"dudinka\",\"lanzhou\",\"srandakan\",\"artyshta\",\"rio grande\",\"muravlenko\",\"saldanha\",\"yenagoa\",\"mount pleasant\",\"sakaiminato\",\"raudeberg\",\"adrar\",\"matagami\",\"santa isabel do rio negro\",\"asau\",\"wenling\",\"mayo\",\"homer\",\"sur\",\"turukhansk\",\"vesoul\",\"yamethin\",\"taoudenni\",\"berlevag\",\"colesberg\",\"nesna\",\"kamenka\",\"santa cecilia\",\"sungaipenuh\",\"ati\",\"tilichiki\",\"broken hill\",\"geraldton\",\"novyy urengoy\",\"hailar\",\"sibolga\",\"kutum\",\"vargashi\",\"okhotsk\",\"yeppoon\",\"araouane\",\"boca do acre\",\"huarmey\",\"airai\",\"chumikan\",\"togur\",\"atar\",\"iqaluit\",\"severo-kurilsk\",\"simao\",\"cozumel\",\"kununurra\",\"cururupu\",\"olden\",\"montague\",\"tete\",\"fairbanks\",\"nouadhibou\",\"kendari\",\"tasiilaq\",\"ramotswa\",\"telemaco borba\",\"lagoa\",\"carballo\",\"hilo\",\"saint-jean-port-joli\",\"embonas\",\"dicabisagan\",\"mount isa\",\"bongandanga\",\"tutubigan\",\"marawi\",\"longyan\",\"longyearbyen\",\"kulhudhuffushi\",\"cockburn town\",\"kupang\",\"deer lake\",\"dargaville\",\"cairns\",\"bambous virieux\",\"port-cartier\",\"soyo\",\"norman wells\",\"egvekinot\",\"mecca\",\"mahon\",\"port lincoln\",\"yen bai\",\"huron\",\"kaitangata\",\"ambulu\",\"honiara\",\"faanui\",\"ikwiriri\",\"morondava\",\"mwinilunga\",\"coahuayana\",\"pokrovsk\",\"sinnamary\",\"taitung\",\"jumla\",\"kavieng\",\"tolaga bay\",\"boysun\",\"praia da vitoria\",\"kenora\",\"yinchuan\",\"buin\",\"nanga eboko\",\"newcastle\",\"nome\",\"havre-saint-pierre\",\"sipe sipe\",\"bilibino\",\"san rafael del sur\",\"panalingaan\",\"kashi\",\"hobyo\",\"taywarah\",\"mersing\",\"half moon bay\",\"kiruna\",\"fare\",\"beyneu\",\"guozhen\",\"buy\",\"deloraine\",\"bulungu\",\"balykshi\",\"praya\",\"gisors\",\"yerbogachen\",\"naudero\",\"lima\",\"hasaki\",\"grindavik\",\"aksu\",\"port blair\",\"mathbaria\",\"boyany\",\"yulara\",\"usinsk\",\"tura\",\"state college\",\"udachnyy\",\"zaysan\",\"preobrazheniye\",\"gazli\",\"pachperwa\",\"lac du bonnet\",\"robertsport\",\"bandar-e lengeh\",\"sitka\",\"hualmay\",\"tuatapere\",\"eydhafushi\",\"iquitos\",\"santa cruz\",\"pryluky\",\"northam\",\"mount gambier\",\"puerto madryn\",\"saint-augustin\",\"zarasai\",\"mankera\",\"oudtshoorn\",\"tessalit\",\"belmonte\",\"manokwari\",\"ancud\",\"lasa\",\"najran\",\"goulburn\",\"durham\",\"pemangkat\",\"kilindoni\",\"luwuk\",\"sheboygan\",\"gijon\",\"sasovo\",\"ballina\",\"fandriana\",\"limbang\",\"college\",\"tumpat\",\"abay\",\"oranjemund\",\"wentzville\",\"mbulu\",\"talara\",\"buraydah\",\"hargeysa\",\"hailey\",\"champerico\",\"langsa\",\"pitimbu\",\"iwanai\",\"lashio\",\"sangar\",\"kendal\",\"bria\",\"fortuna\",\"sept-iles\",\"safaga\",\"bilma\",\"tabas\",\"bobo dioulasso\",\"sobolevo\",\"burnie\",\"pedernales\",\"kieta\",\"yining\",\"skibbereen\",\"nelson bay\",\"swellendam\",\"biak\",\"prieska\",\"bukachacha\",\"prudentopolis\",\"alexander city\",\"itoman\",\"dunedin\",\"bossangoa\",\"eyl\",\"tres arroyos\",\"codrington\",\"kedrovyy\",\"tomatlan\",\"along\",\"sorland\",\"alofi\",\"saint-denis\",\"baykit\",\"barcelona\",\"harer\",\"aliartos\",\"nieuw amsterdam\",\"debre sina\",\"petropavlovsk-kamchatskiy\",\"maamba\",\"ola\",\"aleksandrov gay\",\"plettenberg bay\",\"hirara\",\"zyryanka\",\"nicolas bravo\",\"poum\",\"fort nelson\",\"kurumkan\",\"ambilobe\",\"chifeng\",\"alekseyevka\",\"kirensk\",\"gurlan\",\"costa rica\",\"erzin\",\"narasannapeta\",\"san andres\",\"cidreira\",\"formosa\",\"bonthe\",\"kusu\",\"luganville\",\"mendoza\",\"lazaro cardenas\",\"kita\",\"pucallpa\",\"peniche\",\"te anau\",\"metro\",\"mvuma\",\"porto novo\",\"minsk\",\"urozhaynoye\",\"conil\",\"shirokiy\",\"copiapo\",\"teguldet\",\"liverpool\",\"kommunisticheskiy\",\"general roca\",\"inhambane\",\"arcachon\",\"madang\",\"abu dhabi\",\"waingapu\",\"kyrksaeterora\",\"husavik\",\"luanda\",\"mayumba\",\"yumen\",\"korla\",\"puerto carreno\",\"villanueva de la serena\",\"chicama\",\"golspie\",\"conde\",\"curup\",\"moguer\",\"ha tinh\",\"murray bridge\",\"sola\",\"singkawang\",\"alugan\",\"beisfjord\",\"ullapool\",\"olutanga\",\"acari\",\"gizo\",\"fort saint james\",\"vila franca do campo\",\"mogadishu\",\"hassan\",\"tarimoro\",\"coolum beach\",\"koslan\",\"novobiryusinskiy\",\"coihaique\",\"jacqueville\",\"merauke\"],\"Country\":[\"GL\",\"PF\",\"RU\",\"AR\",\"SA\",\"ZA\",\"GB\",\"AU\",\"IR\",\"JP\",\"AU\",\"CA\",\"LK\",\"ZA\",\"US\",\"IT\",\"PF\",\"RE\",\"LV\",\"CA\",\"ZA\",\"BB\",\"PG\",\"EC\",\"RU\",\"AU\",\"US\",\"ZM\",\"AR\",\"BR\",\"NO\",\"MY\",\"BR\",\"BR\",\"KZ\",\"HK\",\"ZA\",\"BR\",\"GL\",\"BW\",\"MU\",\"ZA\",\"AU\",\"MX\",\"AU\",\"IS\",\"ZA\",\"AU\",\"AU\",\"UY\",\"PH\",\"NO\",\"PF\",\"BR\",\"CH\",\"CV\",\"UA\",\"CK\",\"CA\",\"US\",\"SN\",\"CA\",\"RU\",\"CN\",\"US\",\"EC\",\"ID\",\"RU\",\"ZA\",\"RU\",\"PY\",\"RU\",\"TO\",\"US\",\"ES\",\"US\",\"NZ\",\"AR\",\"RU\",\"CA\",\"CA\",\"CL\",\"AU\",\"ID\",\"TM\",\"MV\",\"GL\",\"RU\",\"RU\",\"RU\",\"CA\",\"PF\",\"AR\",\"CL\",\"RU\",\"nan\",\"MX\",\"US\",\"US\",\"US\",\"RU\",\"IN\",\"CA\",\"US\",\"AU\",\"GL\",\"FI\",\"RU\",\"FO\",\"MZ\",\"US\",\"NZ\",\"RU\",\"RU\",\"AU\",\"UA\",\"US\",\"AR\",\"nan\",\"ID\",\"BR\",\"CO\",\"US\",\"RU\",\"NC\",\"MV\",\"FO\",\"CN\",\"VG\",\"ZA\",\"KZ\",\"VN\",\"CA\",\"KI\",\"PG\",\"ID\",\"CA\",\"RU\",\"BW\",\"NG\",\"RU\",\"NZ\",\"MX\",\"ID\",\"US\",\"US\",\"RU\",\"CL\",\"NO\",\"IS\",\"RU\",\"JP\",\"RU\",\"BR\",\"GW\",\"AU\",\"PT\",\"CL\",\"CL\",\"MX\",\"ES\",\"VE\",\"CA\",\"UY\",\"US\",\"IT\",\"PT\",\"RU\",\"PE\",\"AO\",\"MU\",\"ML\",\"NC\",\"PH\",\"NZ\",\"NZ\",\"US\",\"GL\",\"RU\",\"GH\",\"RU\",\"RU\",\"SO\",\"BR\",\"PE\",\"RO\",\"MX\",\"VE\",\"US\",\"PR\",\"FR\",\"GL\",\"RU\",\"BR\",\"RE\",\"GL\",\"EE\",\"JM\",\"CU\",\"CA\",\"RU\",\"NZ\",\"CA\",\"US\",\"LY\",\"PE\",\"AU\",\"CA\",\"GF\",\"US\",\"ES\",\"NG\",\"US\",\"US\",\"TR\",\"CA\",\"ZA\",\"RU\",\"AR\",\"CL\",\"CO\",\"TR\",\"LY\",\"JP\",\"IT\",\"US\",\"BR\",\"ES\",\"IN\",\"CD\",\"RU\",\"CN\",\"ID\",\"RU\",\"BR\",\"RU\",\"ZA\",\"NG\",\"US\",\"JP\",\"NO\",\"MR\",\"CA\",\"BR\",\"RO\",\"CN\",\"US\",\"US\",\"OM\",\"RU\",\"FR\",\"MM\",\"ML\",\"NO\",\"ZA\",\"NO\",\"RU\",\"BR\",\"ID\",\"TD\",\"RU\",\"AU\",\"AU\",\"RU\",\"CN\",\"ID\",\"SD\",\"RU\",\"RU\",\"AU\",\"ML\",\"BR\",\"PE\",\"TL\",\"RU\",\"RU\",\"MR\",\"CA\",\"RU\",\"CN\",\"MX\",\"AU\",\"BR\",\"NO\",\"US\",\"MZ\",\"US\",\"MR\",\"ID\",\"GL\",\"BW\",\"BR\",\"PT\",\"ES\",\"US\",\"CA\",\"GR\",\"PH\",\"AU\",\"CD\",\"PH\",\"PH\",\"CN\",\"SJ\",\"MV\",\"TC\",\"ID\",\"CA\",\"NZ\",\"AU\",\"MU\",\"CA\",\"AO\",\"CA\",\"RU\",\"SA\",\"ES\",\"AU\",\"VN\",\"US\",\"NZ\",\"ID\",\"SB\",\"PF\",\"TZ\",\"MG\",\"ZM\",\"MX\",\"UA\",\"GF\",\"TW\",\"NP\",\"PG\",\"NZ\",\"UZ\",\"PT\",\"CA\",\"CN\",\"CL\",\"CM\",\"AU\",\"US\",\"CA\",\"BO\",\"RU\",\"NI\",\"PH\",\"CN\",\"SO\",\"AF\",\"MY\",\"US\",\"SE\",\"PF\",\"KZ\",\"CN\",\"RU\",\"AU\",\"CD\",\"KZ\",\"CV\",\"FR\",\"RU\",\"PK\",\"PE\",\"JP\",\"IS\",\"CN\",\"IN\",\"BD\",\"UA\",\"AU\",\"RU\",\"IN\",\"US\",\"RU\",\"KZ\",\"RU\",\"UZ\",\"IN\",\"CA\",\"LR\",\"IR\",\"US\",\"PE\",\"NZ\",\"MV\",\"PE\",\"BO\",\"UA\",\"GB\",\"AU\",\"AR\",\"CA\",\"LT\",\"PK\",\"ZA\",\"ML\",\"BR\",\"ID\",\"CL\",\"IT\",\"SA\",\"AU\",\"US\",\"ID\",\"TZ\",\"ID\",\"US\",\"ES\",\"RU\",\"AU\",\"MG\",\"MY\",\"US\",\"MY\",\"KZ\",\"nan\",\"US\",\"TZ\",\"PE\",\"SA\",\"SO\",\"US\",\"GT\",\"ID\",\"BR\",\"JP\",\"MM\",\"RU\",\"GB\",\"CF\",\"US\",\"CA\",\"EG\",\"NE\",\"IR\",\"BF\",\"RU\",\"AU\",\"DO\",\"PG\",\"CN\",\"IE\",\"AU\",\"ZA\",\"ID\",\"ZA\",\"RU\",\"BR\",\"US\",\"JP\",\"NZ\",\"CF\",\"SO\",\"AR\",\"AU\",\"RU\",\"MX\",\"IN\",\"NO\",\"NU\",\"FR\",\"RU\",\"ES\",\"ET\",\"GR\",\"SR\",\"ET\",\"RU\",\"ZM\",\"RU\",\"RU\",\"ZA\",\"JP\",\"RU\",\"MX\",\"NC\",\"CA\",\"RU\",\"MG\",\"CN\",\"RU\",\"RU\",\"UZ\",\"BR\",\"TR\",\"IN\",\"CO\",\"BR\",\"AR\",\"SL\",\"JP\",\"VU\",\"AR\",\"MX\",\"ML\",\"PE\",\"PT\",\"NZ\",\"ID\",\"ZW\",\"BJ\",\"BY\",\"RU\",\"FR\",\"RU\",\"CL\",\"RU\",\"GB\",\"RU\",\"AR\",\"MZ\",\"FR\",\"PG\",\"AE\",\"ID\",\"NO\",\"IS\",\"AO\",\"GA\",\"CN\",\"CN\",\"CO\",\"ES\",\"PE\",\"GB\",\"BR\",\"ID\",\"ES\",\"VN\",\"AU\",\"VU\",\"ID\",\"PH\",\"NO\",\"GB\",\"PH\",\"PE\",\"SB\",\"CA\",\"PT\",\"SO\",\"IN\",\"MX\",\"AU\",\"RU\",\"RU\",\"CL\",\"CI\",\"ID\"],\"Humidity\":[66,71,96,62,50,85,66,23,91,74,41,90,100,90,78,68,76,86,93,78,100,73,66,90,91,25,84,95,39,73,79,78,89,94,98,71,91,78,93,95,94,51,73,72,48,73,84,52,36,82,80,93,80,87,86,71,97,78,76,71,46,75,100,71,83,75,69,79,71,96,100,100,79,49,91,93,81,79,98,72,94,88,52,84,88,69,85,99,97,99,85,80,59,67,85,35,73,70,54,51,100,71,74,86,35,79,96,99,65,86,73,38,95,95,58,81,57,65,84,72,90,98,78,100,99,68,68,50,71,94,86,52,96,80,73,77,69,94,79,32,95,58,60,62,100,54,97,85,63,80,89,84,97,97,55,37,89,68,86,72,63,60,81,91,55,96,62,88,88,75,94,15,81,66,37,81,67,94,72,88,96,90,67,96,78,81,56,58,48,90,86,86,95,92,81,89,80,83,79,86,96,62,99,51,52,83,80,87,94,87,63,29,85,48,78,93,94,96,74,43,67,92,52,49,96,84,74,74,42,95,96,32,71,92,87,95,89,88,97,75,71,19,68,93,94,70,83,86,60,97,83,36,16,86,70,85,95,100,46,18,93,28,11,95,92,65,26,96,86,50,19,99,82,90,81,95,15,67,86,56,83,38,98,84,58,100,83,42,86,85,79,100,86,77,77,82,68,75,27,82,84,63,65,84,74,70,83,85,83,75,94,95,88,67,89,46,71,55,92,74,84,87,81,78,96,84,98,69,93,90,65,14,70,81,67,88,63,26,32,59,32,87,68,71,94,65,62,73,65,98,89,51,84,79,90,39,95,67,93,79,73,97,95,26,79,56,81,73,70,39,84,28,95,37,55,74,92,37,85,53,99,89,82,87,84,60,74,78,94,95,96,66,74,96,96,24,82,20,81,69,93,82,45,25,91,71,76,58,50,90,96,66,91,58,82,83,89,93,52,86,81,55,87,63,71,64,73,78,33,89,91,29,21,93,52,20,53,19,96,61,68,78,69,86,54,81,61,46,70,100,100,62,69,35,70,93,59,86,64,31,76,100,80,99,64,55,72,90,68,54,94,82,99,88,73,99,98,76,82,93,89,20,96,93,84,95,49,42,83,86,73,94,47,66,50,64,12,88,80,79,66,90,88,93,86,98,86,61,99,81,99,30,88,93,68,80,75,90,78,83,87,28,54,53,70,71,76,83,53,57,97,51,70,64,82,74,81,73,84,73,92,79,85,37,33,85,97,93,72,86,77],\"Lat\":{\"__ndarray__\":\"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\",\"dtype\":\"float64\",\"order\":\"little\",\"shape\":[551]},\"Lng\":{\"__ndarray__\":\"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\",\"dtype\":\"float64\",\"order\":\"little\",\"shape\":[551]},\"size\":{\"__ndarray__\":\"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\",\"dtype\":\"float64\",\"order\":\"little\",\"shape\":[551]}},\"selected\":{\"id\":\"1038\"},\"selection_policy\":{\"id\":\"1059\"}},\"id\":\"1037\",\"type\":\"ColumnDataSource\"},{\"attributes\":{\"end\":91.52046,\"reset_end\":91.52046,\"reset_start\":-68.10186,\"start\":-68.10186,\"tags\":[[[\"Lat\",\"Lat\",null]]]},\"id\":\"1005\",\"type\":\"Range1d\"},{\"attributes\":{},\"id\":\"1038\",\"type\":\"Selection\"},{\"attributes\":{\"below\":[{\"id\":\"1016\"}],\"center\":[{\"id\":\"1019\"},{\"id\":\"1023\"}],\"height\":300,\"left\":[{\"id\":\"1020\"}],\"margin\":[5,5,5,5],\"min_border_bottom\":10,\"min_border_left\":10,\"min_border_right\":10,\"min_border_top\":10,\"renderers\":[{\"id\":\"1043\"}],\"sizing_mode\":\"fixed\",\"title\":{\"id\":\"1008\"},\"toolbar\":{\"id\":\"1030\"},\"width\":700,\"x_range\":{\"id\":\"1004\"},\"x_scale\":{\"id\":\"1012\"},\"y_range\":{\"id\":\"1005\"},\"y_scale\":{\"id\":\"1014\"}},\"id\":\"1007\",\"subtype\":\"Figure\",\"type\":\"Plot\"},{\"attributes\":{\"end\":193.74170285714285,\"reset_end\":193.74170285714285,\"reset_start\":-194.49170285714285,\"start\":-194.49170285714285,\"tags\":[[[\"Lng\",\"Lng\",null]]]},\"id\":\"1004\",\"type\":\"Range1d\"},{\"attributes\":{\"tools\":[{\"id\":\"1006\"},{\"id\":\"1024\"},{\"id\":\"1025\"},{\"id\":\"1026\"},{\"id\":\"1027\"},{\"id\":\"1028\"}]},\"id\":\"1030\",\"type\":\"Toolbar\"},{\"attributes\":{\"fill_alpha\":{\"value\":0.2},\"fill_color\":{\"value\":\"blue\"},\"hatch_alpha\":{\"value\":0.2},\"hatch_color\":{\"value\":\"blue\"},\"line_alpha\":{\"value\":0.2},\"line_color\":{\"value\":\"blue\"},\"size\":{\"field\":\"size\"},\"x\":{\"field\":\"Lng\"},\"y\":{\"field\":\"Lat\"}},\"id\":\"1042\",\"type\":\"Scatter\"},{\"attributes\":{\"children\":[{\"id\":\"1003\"},{\"id\":\"1007\"},{\"id\":\"1062\"}],\"margin\":[0,0,0,0],\"name\":\"Row00848\",\"tags\":[\"embedded\"]},\"id\":\"1002\",\"type\":\"Row\"},{\"attributes\":{},\"id\":\"1048\",\"type\":\"AllLabels\"},{\"attributes\":{\"fill_color\":{\"value\":\"blue\"},\"hatch_color\":{\"value\":\"blue\"},\"line_color\":{\"value\":\"blue\"},\"size\":{\"field\":\"size\"},\"x\":{\"field\":\"Lng\"},\"y\":{\"field\":\"Lat\"}},\"id\":\"1040\",\"type\":\"Scatter\"},{\"attributes\":{},\"id\":\"1050\",\"type\":\"BasicTickFormatter\"}],\"root_ids\":[\"1002\"]},\"title\":\"Bokeh Application\",\"version\":\"2.4.3\"}};\n",
       "    var render_items = [{\"docid\":\"3899650c-bb55-4517-90db-bb76844c4da1\",\"root_ids\":[\"1002\"],\"roots\":{\"1002\":\"f746e3c3-9d12-4f0e-903b-c091c04013f9\"}}];\n",
       "    root.Bokeh.embed.embed_items_notebook(docs_json, render_items);\n",
       "    for (const render_item of render_items) {\n",
       "      for (const root_id of render_item.root_ids) {\n",
       "\tconst id_el = document.getElementById(root_id)\n",
       "\tif (id_el.children.length && (id_el.children[0].className === 'bk-root')) {\n",
       "\t  const root_el = id_el.children[0]\n",
       "\t  root_el.id = root_el.id + '-rendered'\n",
       "\t}\n",
       "      }\n",
       "    }\n",
       "  }\n",
       "  if (root.Bokeh !== undefined && root.Bokeh.Panel !== undefined) {\n",
       "    embed_document(root);\n",
       "  } else {\n",
       "    var attempts = 0;\n",
       "    var timer = setInterval(function(root) {\n",
       "      if (root.Bokeh !== undefined && root.Bokeh.Panel !== undefined) {\n",
       "        clearInterval(timer);\n",
       "        embed_document(root);\n",
       "      } else if (document.readyState == \"complete\") {\n",
       "        attempts++;\n",
       "        if (attempts > 200) {\n",
       "          clearInterval(timer);\n",
       "          console.log(\"Bokeh: ERROR: Unable to run BokehJS code because BokehJS library is missing\");\n",
       "        }\n",
       "      }\n",
       "    }, 25, root)\n",
       "  }\n",
       "})(window);</script>"
      ],
      "text/plain": [
       ":Points   [Lng,Lat]   (Humidity,City,Country)"
      ]
     },
     "execution_count": 4,
     "metadata": {
      "application/vnd.holoviews_exec.v0+json": {
       "id": "1002"
      }
     },
     "output_type": "execute_result"
    }
   ],
   "source": [
    "%%capture --no-display\n",
    "\n",
    "# Configure the map plot\n",
    "city_data_map = city_data_df.hvplot.points(\n",
    "    x=\"Lng\",\n",
    "    y=\"Lat\",\n",
    "    size=\"Humidity\",\n",
    "    hover_cols=[\"City\",\"Country\"],\n",
    "    color=\"blue\",\n",
    "    title=\"Cities Latitude and Longitude vs. Humidity\",\n",
    ")\n",
    "\n",
    "# Display the map\n",
    "city_data_map"
   ]
  },
  {
   "cell_type": "markdown",
   "metadata": {},
   "source": [
    "### Step 2: Narrow down the `city_data_df` DataFrame to find your ideal weather condition"
   ]
  },
  {
   "cell_type": "code",
   "execution_count": 5,
   "metadata": {},
   "outputs": [
    {
     "data": {
      "text/html": [
       "<div>\n",
       "<style scoped>\n",
       "    .dataframe tbody tr th:only-of-type {\n",
       "        vertical-align: middle;\n",
       "    }\n",
       "\n",
       "    .dataframe tbody tr th {\n",
       "        vertical-align: top;\n",
       "    }\n",
       "\n",
       "    .dataframe thead th {\n",
       "        text-align: right;\n",
       "    }\n",
       "</style>\n",
       "<table border=\"1\" class=\"dataframe\">\n",
       "  <thead>\n",
       "    <tr style=\"text-align: right;\">\n",
       "      <th></th>\n",
       "      <th>City_ID</th>\n",
       "      <th>City</th>\n",
       "      <th>Lat</th>\n",
       "      <th>Lng</th>\n",
       "      <th>Max Temp</th>\n",
       "      <th>Humidity</th>\n",
       "      <th>Cloudiness</th>\n",
       "      <th>Wind Speed</th>\n",
       "      <th>Country</th>\n",
       "      <th>Date</th>\n",
       "    </tr>\n",
       "  </thead>\n",
       "  <tbody>\n",
       "    <tr>\n",
       "      <th>1</th>\n",
       "      <td>1</td>\n",
       "      <td>rikitea</td>\n",
       "      <td>-23.1203</td>\n",
       "      <td>-134.9692</td>\n",
       "      <td>79.340</td>\n",
       "      <td>71</td>\n",
       "      <td>36</td>\n",
       "      <td>6.62</td>\n",
       "      <td>PF</td>\n",
       "      <td>1675396695</td>\n",
       "    </tr>\n",
       "    <tr>\n",
       "      <th>7</th>\n",
       "      <td>7</td>\n",
       "      <td>mudgee</td>\n",
       "      <td>-32.5943</td>\n",
       "      <td>149.5871</td>\n",
       "      <td>74.786</td>\n",
       "      <td>23</td>\n",
       "      <td>0</td>\n",
       "      <td>6.45</td>\n",
       "      <td>AU</td>\n",
       "      <td>1675396697</td>\n",
       "    </tr>\n",
       "    <tr>\n",
       "      <th>10</th>\n",
       "      <td>10</td>\n",
       "      <td>new norfolk</td>\n",
       "      <td>-42.7826</td>\n",
       "      <td>147.0587</td>\n",
       "      <td>68.720</td>\n",
       "      <td>41</td>\n",
       "      <td>48</td>\n",
       "      <td>0.89</td>\n",
       "      <td>AU</td>\n",
       "      <td>1675396698</td>\n",
       "    </tr>\n",
       "    <tr>\n",
       "      <th>12</th>\n",
       "      <td>12</td>\n",
       "      <td>hambantota</td>\n",
       "      <td>6.1241</td>\n",
       "      <td>81.1185</td>\n",
       "      <td>79.142</td>\n",
       "      <td>100</td>\n",
       "      <td>75</td>\n",
       "      <td>4.12</td>\n",
       "      <td>LK</td>\n",
       "      <td>1675396699</td>\n",
       "    </tr>\n",
       "    <tr>\n",
       "      <th>13</th>\n",
       "      <td>13</td>\n",
       "      <td>port alfred</td>\n",
       "      <td>-33.5906</td>\n",
       "      <td>26.8910</td>\n",
       "      <td>66.182</td>\n",
       "      <td>90</td>\n",
       "      <td>62</td>\n",
       "      <td>2.24</td>\n",
       "      <td>ZA</td>\n",
       "      <td>1675396699</td>\n",
       "    </tr>\n",
       "  </tbody>\n",
       "</table>\n",
       "</div>"
      ],
      "text/plain": [
       "    City_ID         City      Lat       Lng  Max Temp  Humidity  Cloudiness  \\\n",
       "1         1      rikitea -23.1203 -134.9692    79.340        71          36   \n",
       "7         7       mudgee -32.5943  149.5871    74.786        23           0   \n",
       "10       10  new norfolk -42.7826  147.0587    68.720        41          48   \n",
       "12       12   hambantota   6.1241   81.1185    79.142       100          75   \n",
       "13       13  port alfred -33.5906   26.8910    66.182        90          62   \n",
       "\n",
       "    Wind Speed Country        Date  \n",
       "1         6.62      PF  1675396695  \n",
       "7         6.45      AU  1675396697  \n",
       "10        0.89      AU  1675396698  \n",
       "12        4.12      LK  1675396699  \n",
       "13        2.24      ZA  1675396699  "
      ]
     },
     "execution_count": 5,
     "metadata": {},
     "output_type": "execute_result"
    }
   ],
   "source": [
    "# Narrow down cities that fit criteria and drop any results with null values\n",
    "city_data_df = city_data_df[(city_data_df['Max Temp'] > 65) & (city_data_df['Max Temp'] < 85) & (city_data_df['Wind Speed'] < 10)]\n",
    "\n",
    "# Drop any rows with null values\n",
    "city_data_df = city_data_df.dropna()\n",
    "\n",
    "# Display sample data\n",
    "city_data_df.head()\n"
   ]
  },
  {
   "cell_type": "markdown",
   "metadata": {},
   "source": [
    "### Step 3: Create a new DataFrame called `hotel_df`."
   ]
  },
  {
   "cell_type": "code",
   "execution_count": 6,
   "metadata": {},
   "outputs": [
    {
     "data": {
      "text/html": [
       "<div>\n",
       "<style scoped>\n",
       "    .dataframe tbody tr th:only-of-type {\n",
       "        vertical-align: middle;\n",
       "    }\n",
       "\n",
       "    .dataframe tbody tr th {\n",
       "        vertical-align: top;\n",
       "    }\n",
       "\n",
       "    .dataframe thead th {\n",
       "        text-align: right;\n",
       "    }\n",
       "</style>\n",
       "<table border=\"1\" class=\"dataframe\">\n",
       "  <thead>\n",
       "    <tr style=\"text-align: right;\">\n",
       "      <th></th>\n",
       "      <th>City</th>\n",
       "      <th>Country</th>\n",
       "      <th>Lat</th>\n",
       "      <th>Lng</th>\n",
       "      <th>Humidity</th>\n",
       "      <th>Hotel Name</th>\n",
       "    </tr>\n",
       "  </thead>\n",
       "  <tbody>\n",
       "    <tr>\n",
       "      <th>1</th>\n",
       "      <td>rikitea</td>\n",
       "      <td>PF</td>\n",
       "      <td>-23.1203</td>\n",
       "      <td>-134.9692</td>\n",
       "      <td>71</td>\n",
       "      <td></td>\n",
       "    </tr>\n",
       "    <tr>\n",
       "      <th>7</th>\n",
       "      <td>mudgee</td>\n",
       "      <td>AU</td>\n",
       "      <td>-32.5943</td>\n",
       "      <td>149.5871</td>\n",
       "      <td>23</td>\n",
       "      <td></td>\n",
       "    </tr>\n",
       "    <tr>\n",
       "      <th>10</th>\n",
       "      <td>new norfolk</td>\n",
       "      <td>AU</td>\n",
       "      <td>-42.7826</td>\n",
       "      <td>147.0587</td>\n",
       "      <td>41</td>\n",
       "      <td></td>\n",
       "    </tr>\n",
       "    <tr>\n",
       "      <th>12</th>\n",
       "      <td>hambantota</td>\n",
       "      <td>LK</td>\n",
       "      <td>6.1241</td>\n",
       "      <td>81.1185</td>\n",
       "      <td>100</td>\n",
       "      <td></td>\n",
       "    </tr>\n",
       "    <tr>\n",
       "      <th>13</th>\n",
       "      <td>port alfred</td>\n",
       "      <td>ZA</td>\n",
       "      <td>-33.5906</td>\n",
       "      <td>26.8910</td>\n",
       "      <td>90</td>\n",
       "      <td></td>\n",
       "    </tr>\n",
       "  </tbody>\n",
       "</table>\n",
       "</div>"
      ],
      "text/plain": [
       "           City Country      Lat       Lng  Humidity Hotel Name\n",
       "1       rikitea      PF -23.1203 -134.9692        71           \n",
       "7        mudgee      AU -32.5943  149.5871        23           \n",
       "10  new norfolk      AU -42.7826  147.0587        41           \n",
       "12   hambantota      LK   6.1241   81.1185       100           \n",
       "13  port alfred      ZA -33.5906   26.8910        90           "
      ]
     },
     "execution_count": 6,
     "metadata": {},
     "output_type": "execute_result"
    }
   ],
   "source": [
    "# Use the Pandas copy function to create DataFrame called hotel_df to store the city, country, coordinates, and humidity\n",
    "hotel_df = city_data_df[[\"City\", \"Country\", \"Lat\", \"Lng\", \"Humidity\"]].copy()\n",
    "\n",
    "# Add an empty column, \"Hotel Name,\" to the DataFrame so you can store the hotel found using the Geoapify API\n",
    "hotel_df[\"Hotel Name\"] = \"\"\n",
    "\n",
    "# Display sample data\n",
    "hotel_df.head()"
   ]
  },
  {
   "cell_type": "markdown",
   "metadata": {},
   "source": [
    "### Step 4: For each city, use the Geoapify API to find the first hotel located within 10,000 metres of your coordinates."
   ]
  },
  {
   "cell_type": "code",
   "execution_count": 21,
   "metadata": {},
   "outputs": [
    {
     "name": "stdout",
     "output_type": "stream",
     "text": [
      "Starting hotel search\n",
      "rikitea - nearest hotel: No hotel found\n",
      "mudgee - nearest hotel: No hotel found\n",
      "new norfolk - nearest hotel: No hotel found\n",
      "hambantota - nearest hotel: No hotel found\n",
      "port alfred - nearest hotel: No hotel found\n",
      "atuona - nearest hotel: No hotel found\n",
      "saint-philippe - nearest hotel: No hotel found\n",
      "east london - nearest hotel: No hotel found\n",
      "bathsheba - nearest hotel: No hotel found\n",
      "puerto ayora - nearest hotel: No hotel found\n",
      "ulladulla - nearest hotel: No hotel found\n",
      "kapaa - nearest hotel: No hotel found\n",
      "cabedelo - nearest hotel: No hotel found\n",
      "caravelas - nearest hotel: No hotel found\n",
      "carutapera - nearest hotel: No hotel found\n",
      "victoria - nearest hotel: No hotel found\n",
      "port elizabeth - nearest hotel: No hotel found\n",
      "pocone - nearest hotel: No hotel found\n",
      "shakawe - nearest hotel: No hotel found\n",
      "souillac - nearest hotel: No hotel found\n",
      "charters towers - nearest hotel: No hotel found\n",
      "tecoanapa - nearest hotel: No hotel found\n",
      "hobart - nearest hotel: No hotel found\n",
      "busselton - nearest hotel: No hotel found\n",
      "chuy - nearest hotel: No hotel found\n",
      "gigmoto - nearest hotel: No hotel found\n",
      "haapiti - nearest hotel: No hotel found\n",
      "salinopolis - nearest hotel: No hotel found\n",
      "sao filipe - nearest hotel: No hotel found\n",
      "avarua - nearest hotel: No hotel found\n",
      "oussouye - nearest hotel: No hotel found\n",
      "palora - nearest hotel: No hotel found\n",
      "san lorenzo - nearest hotel: No hotel found\n",
      "vaini - nearest hotel: No hotel found\n",
      "bluff - nearest hotel: No hotel found\n",
      "mar del plata - nearest hotel: No hotel found\n",
      "bontang - nearest hotel: No hotel found\n",
      "hithadhoo - nearest hotel: No hotel found\n",
      "tiarei - nearest hotel: No hotel found\n",
      "puerto escondido - nearest hotel: No hotel found\n",
      "kavaratti - nearest hotel: No hotel found\n",
      "kiama - nearest hotel: No hotel found\n",
      "quelimane - nearest hotel: No hotel found\n",
      "ewa beach - nearest hotel: No hotel found\n",
      "esperance - nearest hotel: No hotel found\n",
      "rawson - nearest hotel: No hotel found\n",
      "sorong - nearest hotel: No hotel found\n",
      "sao joao da barra - nearest hotel: No hotel found\n",
      "novita - nearest hotel: No hotel found\n",
      "kahului - nearest hotel: No hotel found\n",
      "kudahuvadhoo - nearest hotel: No hotel found\n",
      "road town - nearest hotel: No hotel found\n",
      "butaritari - nearest hotel: No hotel found\n",
      "samarai - nearest hotel: No hotel found\n",
      "bima - nearest hotel: No hotel found\n",
      "tshane - nearest hotel: No hotel found\n",
      "waitati - nearest hotel: No hotel found\n",
      "acapulco - nearest hotel: No hotel found\n",
      "bengkulu - nearest hotel: No hotel found\n",
      "antofagasta - nearest hotel: No hotel found\n",
      "bubaque - nearest hotel: No hotel found\n",
      "cabo san lucas - nearest hotel: No hotel found\n",
      "san cristobal - nearest hotel: No hotel found\n",
      "rocha - nearest hotel: No hotel found\n",
      "pisco - nearest hotel: No hotel found\n",
      "namibe - nearest hotel: No hotel found\n",
      "mahebourg - nearest hotel: No hotel found\n",
      "vao - nearest hotel: No hotel found\n",
      "tabuk - nearest hotel: No hotel found\n",
      "ahipara - nearest hotel: No hotel found\n",
      "axim - nearest hotel: No hotel found\n",
      "bandarbeyla - nearest hotel: No hotel found\n",
      "alta floresta - nearest hotel: No hotel found\n",
      "paita - nearest hotel: No hotel found\n",
      "puerto ayacucho - nearest hotel: No hotel found\n",
      "carolina - nearest hotel: No hotel found\n",
      "arraial do cabo - nearest hotel: No hotel found\n",
      "saint-joseph - nearest hotel: No hotel found\n",
      "bull savanna - nearest hotel: No hotel found\n",
      "niquero - nearest hotel: No hotel found\n",
      "waipawa - nearest hotel: No hotel found\n",
      "barranca - nearest hotel: No hotel found\n",
      "cayenne - nearest hotel: No hotel found\n",
      "wukari - nearest hotel: No hotel found\n",
      "richards bay - nearest hotel: No hotel found\n",
      "viedma - nearest hotel: No hotel found\n",
      "linares - nearest hotel: No hotel found\n",
      "inirida - nearest hotel: No hotel found\n",
      "areia branca - nearest hotel: No hotel found\n",
      "dwarka - nearest hotel: No hotel found\n",
      "srandakan - nearest hotel: No hotel found\n",
      "rio grande - nearest hotel: No hotel found\n",
      "yenagoa - nearest hotel: No hotel found\n",
      "santa isabel do rio negro - nearest hotel: No hotel found\n",
      "sur - nearest hotel: No hotel found\n",
      "yamethin - nearest hotel: No hotel found\n",
      "sungaipenuh - nearest hotel: No hotel found\n",
      "ati - nearest hotel: No hotel found\n",
      "broken hill - nearest hotel: No hotel found\n",
      "sibolga - nearest hotel: No hotel found\n",
      "boca do acre - nearest hotel: No hotel found\n",
      "huarmey - nearest hotel: No hotel found\n",
      "airai - nearest hotel: No hotel found\n",
      "cozumel - nearest hotel: No hotel found\n",
      "cururupu - nearest hotel: No hotel found\n",
      "tete - nearest hotel: No hotel found\n",
      "kendari - nearest hotel: No hotel found\n",
      "ramotswa - nearest hotel: No hotel found\n",
      "telemaco borba - nearest hotel: No hotel found\n",
      "hilo - nearest hotel: No hotel found\n",
      "dicabisagan - nearest hotel: No hotel found\n",
      "bongandanga - nearest hotel: No hotel found\n",
      "tutubigan - nearest hotel: No hotel found\n",
      "marawi - nearest hotel: No hotel found\n",
      "longyan - nearest hotel: No hotel found\n",
      "kulhudhuffushi - nearest hotel: No hotel found\n",
      "cockburn town - nearest hotel: No hotel found\n",
      "kupang - nearest hotel: No hotel found\n",
      "dargaville - nearest hotel: No hotel found\n",
      "bambous virieux - nearest hotel: No hotel found\n",
      "soyo - nearest hotel: No hotel found\n",
      "yen bai - nearest hotel: No hotel found\n",
      "kaitangata - nearest hotel: No hotel found\n",
      "ambulu - nearest hotel: No hotel found\n",
      "honiara - nearest hotel: No hotel found\n",
      "faanui - nearest hotel: No hotel found\n",
      "ikwiriri - nearest hotel: No hotel found\n",
      "morondava - nearest hotel: No hotel found\n",
      "coahuayana - nearest hotel: No hotel found\n",
      "sinnamary - nearest hotel: No hotel found\n",
      "taitung - nearest hotel: No hotel found\n",
      "kavieng - nearest hotel: No hotel found\n",
      "tolaga bay - nearest hotel: No hotel found\n",
      "buin - nearest hotel: No hotel found\n",
      "nanga eboko - nearest hotel: No hotel found\n",
      "san rafael del sur - nearest hotel: No hotel found\n",
      "hobyo - nearest hotel: No hotel found\n",
      "mersing - nearest hotel: No hotel found\n",
      "fare - nearest hotel: No hotel found\n",
      "bulungu - nearest hotel: No hotel found\n",
      "praya - nearest hotel: No hotel found\n",
      "lima - nearest hotel: No hotel found\n",
      "port blair - nearest hotel: No hotel found\n",
      "mathbaria - nearest hotel: No hotel found\n",
      "yulara - nearest hotel: No hotel found\n",
      "tura - nearest hotel: No hotel found\n",
      "robertsport - nearest hotel: No hotel found\n",
      "bandar-e lengeh - nearest hotel: No hotel found\n",
      "hualmay - nearest hotel: No hotel found\n",
      "tuatapere - nearest hotel: No hotel found\n",
      "eydhafushi - nearest hotel: No hotel found\n",
      "iquitos - nearest hotel: No hotel found\n",
      "santa cruz - nearest hotel: No hotel found\n",
      "puerto madryn - nearest hotel: No hotel found\n",
      "mankera - nearest hotel: No hotel found\n",
      "belmonte - nearest hotel: No hotel found\n",
      "manokwari - nearest hotel: No hotel found\n",
      "goulburn - nearest hotel: No hotel found\n",
      "pemangkat - nearest hotel: No hotel found\n",
      "kilindoni - nearest hotel: No hotel found\n",
      "limbang - nearest hotel: No hotel found\n",
      "tumpat - nearest hotel: No hotel found\n",
      "talara - nearest hotel: No hotel found\n",
      "champerico - nearest hotel: No hotel found\n",
      "pitimbu - nearest hotel: No hotel found\n",
      "lashio - nearest hotel: No hotel found\n",
      "bria - nearest hotel: No hotel found\n",
      "bobo dioulasso - nearest hotel: No hotel found\n",
      "pedernales - nearest hotel: No hotel found\n",
      "kieta - nearest hotel: No hotel found\n",
      "biak - nearest hotel: No hotel found\n",
      "prieska - nearest hotel: No hotel found\n",
      "prudentopolis - nearest hotel: No hotel found\n",
      "itoman - nearest hotel: No hotel found\n",
      "dunedin - nearest hotel: No hotel found\n",
      "bossangoa - nearest hotel: No hotel found\n",
      "eyl - nearest hotel: No hotel found\n",
      "tomatlan - nearest hotel: No hotel found\n",
      "along - nearest hotel: No hotel found\n",
      "alofi - nearest hotel: No hotel found\n",
      "nieuw amsterdam - nearest hotel: No hotel found\n",
      "maamba - nearest hotel: No hotel found\n",
      "hirara - nearest hotel: No hotel found\n",
      "nicolas bravo - nearest hotel: No hotel found\n",
      "poum - nearest hotel: No hotel found\n",
      "ambilobe - nearest hotel: No hotel found\n",
      "costa rica - nearest hotel: No hotel found\n",
      "narasannapeta - nearest hotel: No hotel found\n",
      "san andres - nearest hotel: No hotel found\n",
      "cidreira - nearest hotel: No hotel found\n",
      "formosa - nearest hotel: No hotel found\n",
      "bonthe - nearest hotel: No hotel found\n",
      "mendoza - nearest hotel: No hotel found\n",
      "lazaro cardenas - nearest hotel: No hotel found\n",
      "kita - nearest hotel: No hotel found\n",
      "pucallpa - nearest hotel: No hotel found\n",
      "te anau - nearest hotel: No hotel found\n",
      "porto novo - nearest hotel: No hotel found\n",
      "general roca - nearest hotel: No hotel found\n",
      "inhambane - nearest hotel: No hotel found\n",
      "abu dhabi - nearest hotel: No hotel found\n",
      "waingapu - nearest hotel: No hotel found\n",
      "luanda - nearest hotel: No hotel found\n",
      "mayumba - nearest hotel: No hotel found\n",
      "puerto carreno - nearest hotel: No hotel found\n",
      "chicama - nearest hotel: No hotel found\n",
      "conde - nearest hotel: No hotel found\n",
      "curup - nearest hotel: No hotel found\n",
      "ha tinh - nearest hotel: No hotel found\n",
      "sola - nearest hotel: No hotel found\n",
      "alugan - nearest hotel: No hotel found\n",
      "olutanga - nearest hotel: No hotel found\n",
      "acari - nearest hotel: No hotel found\n",
      "gizo - nearest hotel: No hotel found\n",
      "mogadishu - nearest hotel: No hotel found\n",
      "hassan - nearest hotel: No hotel found\n",
      "jacqueville - nearest hotel: No hotel found\n",
      "merauke - nearest hotel: No hotel found\n"
     ]
    },
    {
     "data": {
      "text/html": [
       "<div>\n",
       "<style scoped>\n",
       "    .dataframe tbody tr th:only-of-type {\n",
       "        vertical-align: middle;\n",
       "    }\n",
       "\n",
       "    .dataframe tbody tr th {\n",
       "        vertical-align: top;\n",
       "    }\n",
       "\n",
       "    .dataframe thead th {\n",
       "        text-align: right;\n",
       "    }\n",
       "</style>\n",
       "<table border=\"1\" class=\"dataframe\">\n",
       "  <thead>\n",
       "    <tr style=\"text-align: right;\">\n",
       "      <th></th>\n",
       "      <th>City</th>\n",
       "      <th>Country</th>\n",
       "      <th>Lat</th>\n",
       "      <th>Lng</th>\n",
       "      <th>Humidity</th>\n",
       "      <th>Hotel Name</th>\n",
       "    </tr>\n",
       "  </thead>\n",
       "  <tbody>\n",
       "    <tr>\n",
       "      <th>1</th>\n",
       "      <td>rikitea</td>\n",
       "      <td>PF</td>\n",
       "      <td>-23.1203</td>\n",
       "      <td>-134.9692</td>\n",
       "      <td>71</td>\n",
       "      <td>No hotel found</td>\n",
       "    </tr>\n",
       "    <tr>\n",
       "      <th>7</th>\n",
       "      <td>mudgee</td>\n",
       "      <td>AU</td>\n",
       "      <td>-32.5943</td>\n",
       "      <td>149.5871</td>\n",
       "      <td>23</td>\n",
       "      <td>No hotel found</td>\n",
       "    </tr>\n",
       "    <tr>\n",
       "      <th>10</th>\n",
       "      <td>new norfolk</td>\n",
       "      <td>AU</td>\n",
       "      <td>-42.7826</td>\n",
       "      <td>147.0587</td>\n",
       "      <td>41</td>\n",
       "      <td>No hotel found</td>\n",
       "    </tr>\n",
       "    <tr>\n",
       "      <th>12</th>\n",
       "      <td>hambantota</td>\n",
       "      <td>LK</td>\n",
       "      <td>6.1241</td>\n",
       "      <td>81.1185</td>\n",
       "      <td>100</td>\n",
       "      <td>No hotel found</td>\n",
       "    </tr>\n",
       "    <tr>\n",
       "      <th>13</th>\n",
       "      <td>port alfred</td>\n",
       "      <td>ZA</td>\n",
       "      <td>-33.5906</td>\n",
       "      <td>26.8910</td>\n",
       "      <td>90</td>\n",
       "      <td>No hotel found</td>\n",
       "    </tr>\n",
       "    <tr>\n",
       "      <th>...</th>\n",
       "      <td>...</td>\n",
       "      <td>...</td>\n",
       "      <td>...</td>\n",
       "      <td>...</td>\n",
       "      <td>...</td>\n",
       "      <td>...</td>\n",
       "    </tr>\n",
       "    <tr>\n",
       "      <th>539</th>\n",
       "      <td>gizo</td>\n",
       "      <td>SB</td>\n",
       "      <td>-8.1030</td>\n",
       "      <td>156.8419</td>\n",
       "      <td>73</td>\n",
       "      <td>No hotel found</td>\n",
       "    </tr>\n",
       "    <tr>\n",
       "      <th>542</th>\n",
       "      <td>mogadishu</td>\n",
       "      <td>SO</td>\n",
       "      <td>2.0371</td>\n",
       "      <td>45.3438</td>\n",
       "      <td>85</td>\n",
       "      <td>No hotel found</td>\n",
       "    </tr>\n",
       "    <tr>\n",
       "      <th>543</th>\n",
       "      <td>hassan</td>\n",
       "      <td>IN</td>\n",
       "      <td>13.0006</td>\n",
       "      <td>76.0994</td>\n",
       "      <td>37</td>\n",
       "      <td>No hotel found</td>\n",
       "    </tr>\n",
       "    <tr>\n",
       "      <th>549</th>\n",
       "      <td>jacqueville</td>\n",
       "      <td>CI</td>\n",
       "      <td>5.2052</td>\n",
       "      <td>-4.4146</td>\n",
       "      <td>86</td>\n",
       "      <td>No hotel found</td>\n",
       "    </tr>\n",
       "    <tr>\n",
       "      <th>550</th>\n",
       "      <td>merauke</td>\n",
       "      <td>ID</td>\n",
       "      <td>-8.4667</td>\n",
       "      <td>140.3333</td>\n",
       "      <td>77</td>\n",
       "      <td>No hotel found</td>\n",
       "    </tr>\n",
       "  </tbody>\n",
       "</table>\n",
       "<p>218 rows × 6 columns</p>\n",
       "</div>"
      ],
      "text/plain": [
       "            City Country      Lat       Lng  Humidity      Hotel Name\n",
       "1        rikitea      PF -23.1203 -134.9692        71  No hotel found\n",
       "7         mudgee      AU -32.5943  149.5871        23  No hotel found\n",
       "10   new norfolk      AU -42.7826  147.0587        41  No hotel found\n",
       "12    hambantota      LK   6.1241   81.1185       100  No hotel found\n",
       "13   port alfred      ZA -33.5906   26.8910        90  No hotel found\n",
       "..           ...     ...      ...       ...       ...             ...\n",
       "539         gizo      SB  -8.1030  156.8419        73  No hotel found\n",
       "542    mogadishu      SO   2.0371   45.3438        85  No hotel found\n",
       "543       hassan      IN  13.0006   76.0994        37  No hotel found\n",
       "549  jacqueville      CI   5.2052   -4.4146        86  No hotel found\n",
       "550      merauke      ID  -8.4667  140.3333        77  No hotel found\n",
       "\n",
       "[218 rows x 6 columns]"
      ]
     },
     "execution_count": 21,
     "metadata": {},
     "output_type": "execute_result"
    }
   ],
   "source": [
    "# Set parameters to search for a hotel\n",
    "radius = 10000 # in meters\n",
    "params = {\n",
    "\"radius\": radius,\n",
    "\"q\": \"accomodation.hotel\"\n",
    "}\n",
    "\n",
    "# Print a message to follow up the hotel search\n",
    "print(\"Starting hotel search\")\n",
    "\n",
    "# Iterate through the hotel_df DataFrame\n",
    "for index, row in hotel_df.iterrows():\n",
    "    # get latitude, longitude from the DataFrame\n",
    "    latitude = row[\"Lat\"]\n",
    "    longitude = row[\"Lng\"]\n",
    "    \n",
    "    # Add filter and bias parameters with the current city's latitude and longitude to the params dictionary\n",
    "    params[\"filter\"] = f\"withinCircle({longitude},{latitude},{radius})\"\n",
    "    params[\"bias\"] = f\"nearest({longitude},{latitude})\"\n",
    "    \n",
    "    # Set base URL\n",
    "    base_url = \"https://api.geoapify.com/v2/places\"\n",
    "\n",
    "\n",
    "    # Make an API request using the params dictionaty\n",
    "    name_address = requests.get(base_url, params=params).json()\n",
    "    \n",
    "    # Convert the API response to JSON format\n",
    "    name_address = json.loads(name_address)\n",
    "    \n",
    "    # Grab the first hotel from the results and store the name in the hotel_df DataFrame\n",
    "    try:\n",
    "        hotel_df.loc[index, \"Hotel Name\"] = name_address[\"features\"][0][\"properties\"][\"name\"]\n",
    "    except (KeyError, IndexError):\n",
    "        # If no hotel is found, set the hotel name as \"No hotel found\".\n",
    "        hotel_df.loc[index, \"Hotel Name\"] = \"No hotel found\"\n",
    "        \n",
    "    # Log the search results\n",
    "    print(f\"{hotel_df.loc[index, 'City']} - nearest hotel: {hotel_df.loc[index, 'Hotel Name']}\")\n",
    "\n",
    "# Display sample data\n",
    "hotel_df"
   ]
  },
  {
   "cell_type": "markdown",
   "metadata": {},
   "source": [
    "### Step 5: Add the hotel name and the country as additional information in the hover message for each city in the map."
   ]
  },
  {
   "cell_type": "code",
   "execution_count": 20,
   "metadata": {},
   "outputs": [
    {
     "data": {
      "application/vnd.plotly.v1+json": {
       "config": {
        "plotlyServerURL": "https://plot.ly"
       },
       "data": [
        {
         "hovertemplate": "City=%{text}<br>Lat=%{lat}<br>Lng=%{lon}<extra></extra>",
         "lat": [
          -23.1203
         ],
         "legendgroup": "rikitea",
         "lon": [
          -134.9692
         ],
         "marker": {
          "color": "#636efa"
         },
         "mode": "markers+text",
         "name": "rikitea",
         "showlegend": true,
         "subplot": "mapbox",
         "text": [
          "rikitea"
         ],
         "type": "scattermapbox"
        },
        {
         "hovertemplate": "City=%{text}<br>Lat=%{lat}<br>Lng=%{lon}<extra></extra>",
         "lat": [
          -32.5943
         ],
         "legendgroup": "mudgee",
         "lon": [
          149.5871
         ],
         "marker": {
          "color": "#EF553B"
         },
         "mode": "markers+text",
         "name": "mudgee",
         "showlegend": true,
         "subplot": "mapbox",
         "text": [
          "mudgee"
         ],
         "type": "scattermapbox"
        },
        {
         "hovertemplate": "City=%{text}<br>Lat=%{lat}<br>Lng=%{lon}<extra></extra>",
         "lat": [
          -42.7826
         ],
         "legendgroup": "new norfolk",
         "lon": [
          147.0587
         ],
         "marker": {
          "color": "#00cc96"
         },
         "mode": "markers+text",
         "name": "new norfolk",
         "showlegend": true,
         "subplot": "mapbox",
         "text": [
          "new norfolk"
         ],
         "type": "scattermapbox"
        },
        {
         "hovertemplate": "City=%{text}<br>Lat=%{lat}<br>Lng=%{lon}<extra></extra>",
         "lat": [
          6.1241
         ],
         "legendgroup": "hambantota",
         "lon": [
          81.1185
         ],
         "marker": {
          "color": "#ab63fa"
         },
         "mode": "markers+text",
         "name": "hambantota",
         "showlegend": true,
         "subplot": "mapbox",
         "text": [
          "hambantota"
         ],
         "type": "scattermapbox"
        },
        {
         "hovertemplate": "City=%{text}<br>Lat=%{lat}<br>Lng=%{lon}<extra></extra>",
         "lat": [
          -33.5906
         ],
         "legendgroup": "port alfred",
         "lon": [
          26.891
         ],
         "marker": {
          "color": "#FFA15A"
         },
         "mode": "markers+text",
         "name": "port alfred",
         "showlegend": true,
         "subplot": "mapbox",
         "text": [
          "port alfred"
         ],
         "type": "scattermapbox"
        },
        {
         "hovertemplate": "City=%{text}<br>Lat=%{lat}<br>Lng=%{lon}<extra></extra>",
         "lat": [
          -9.8
         ],
         "legendgroup": "atuona",
         "lon": [
          -139.0333
         ],
         "marker": {
          "color": "#19d3f3"
         },
         "mode": "markers+text",
         "name": "atuona",
         "showlegend": true,
         "subplot": "mapbox",
         "text": [
          "atuona"
         ],
         "type": "scattermapbox"
        },
        {
         "hovertemplate": "City=%{text}<br>Lat=%{lat}<br>Lng=%{lon}<extra></extra>",
         "lat": [
          -21.3585
         ],
         "legendgroup": "saint-philippe",
         "lon": [
          55.7679
         ],
         "marker": {
          "color": "#FF6692"
         },
         "mode": "markers+text",
         "name": "saint-philippe",
         "showlegend": true,
         "subplot": "mapbox",
         "text": [
          "saint-philippe"
         ],
         "type": "scattermapbox"
        },
        {
         "hovertemplate": "City=%{text}<br>Lat=%{lat}<br>Lng=%{lon}<extra></extra>",
         "lat": [
          -33.0153
         ],
         "legendgroup": "east london",
         "lon": [
          27.9116
         ],
         "marker": {
          "color": "#B6E880"
         },
         "mode": "markers+text",
         "name": "east london",
         "showlegend": true,
         "subplot": "mapbox",
         "text": [
          "east london"
         ],
         "type": "scattermapbox"
        },
        {
         "hovertemplate": "City=%{text}<br>Lat=%{lat}<br>Lng=%{lon}<extra></extra>",
         "lat": [
          13.2167
         ],
         "legendgroup": "bathsheba",
         "lon": [
          -59.5167
         ],
         "marker": {
          "color": "#FF97FF"
         },
         "mode": "markers+text",
         "name": "bathsheba",
         "showlegend": true,
         "subplot": "mapbox",
         "text": [
          "bathsheba"
         ],
         "type": "scattermapbox"
        },
        {
         "hovertemplate": "City=%{text}<br>Lat=%{lat}<br>Lng=%{lon}<extra></extra>",
         "lat": [
          -0.7393
         ],
         "legendgroup": "puerto ayora",
         "lon": [
          -90.3518
         ],
         "marker": {
          "color": "#FECB52"
         },
         "mode": "markers+text",
         "name": "puerto ayora",
         "showlegend": true,
         "subplot": "mapbox",
         "text": [
          "puerto ayora"
         ],
         "type": "scattermapbox"
        },
        {
         "hovertemplate": "City=%{text}<br>Lat=%{lat}<br>Lng=%{lon}<extra></extra>",
         "lat": [
          -35.35
         ],
         "legendgroup": "ulladulla",
         "lon": [
          150.4667
         ],
         "marker": {
          "color": "#636efa"
         },
         "mode": "markers+text",
         "name": "ulladulla",
         "showlegend": true,
         "subplot": "mapbox",
         "text": [
          "ulladulla"
         ],
         "type": "scattermapbox"
        },
        {
         "hovertemplate": "City=%{text}<br>Lat=%{lat}<br>Lng=%{lon}<extra></extra>",
         "lat": [
          22.0752
         ],
         "legendgroup": "kapaa",
         "lon": [
          -159.319
         ],
         "marker": {
          "color": "#EF553B"
         },
         "mode": "markers+text",
         "name": "kapaa",
         "showlegend": true,
         "subplot": "mapbox",
         "text": [
          "kapaa"
         ],
         "type": "scattermapbox"
        },
        {
         "hovertemplate": "City=%{text}<br>Lat=%{lat}<br>Lng=%{lon}<extra></extra>",
         "lat": [
          -6.9811
         ],
         "legendgroup": "cabedelo",
         "lon": [
          -34.8339
         ],
         "marker": {
          "color": "#00cc96"
         },
         "mode": "markers+text",
         "name": "cabedelo",
         "showlegend": true,
         "subplot": "mapbox",
         "text": [
          "cabedelo"
         ],
         "type": "scattermapbox"
        },
        {
         "hovertemplate": "City=%{text}<br>Lat=%{lat}<br>Lng=%{lon}<extra></extra>",
         "lat": [
          -17.7125
         ],
         "legendgroup": "caravelas",
         "lon": [
          -39.2481
         ],
         "marker": {
          "color": "#ab63fa"
         },
         "mode": "markers+text",
         "name": "caravelas",
         "showlegend": true,
         "subplot": "mapbox",
         "text": [
          "caravelas"
         ],
         "type": "scattermapbox"
        },
        {
         "hovertemplate": "City=%{text}<br>Lat=%{lat}<br>Lng=%{lon}<extra></extra>",
         "lat": [
          -1.195
         ],
         "legendgroup": "carutapera",
         "lon": [
          -46.02
         ],
         "marker": {
          "color": "#FFA15A"
         },
         "mode": "markers+text",
         "name": "carutapera",
         "showlegend": true,
         "subplot": "mapbox",
         "text": [
          "carutapera"
         ],
         "type": "scattermapbox"
        },
        {
         "hovertemplate": "City=%{text}<br>Lat=%{lat}<br>Lng=%{lon}<extra></extra>",
         "lat": [
          22.2855
         ],
         "legendgroup": "victoria",
         "lon": [
          114.1577
         ],
         "marker": {
          "color": "#19d3f3"
         },
         "mode": "markers+text",
         "name": "victoria",
         "showlegend": true,
         "subplot": "mapbox",
         "text": [
          "victoria"
         ],
         "type": "scattermapbox"
        },
        {
         "hovertemplate": "City=%{text}<br>Lat=%{lat}<br>Lng=%{lon}<extra></extra>",
         "lat": [
          -33.918
         ],
         "legendgroup": "port elizabeth",
         "lon": [
          25.5701
         ],
         "marker": {
          "color": "#FF6692"
         },
         "mode": "markers+text",
         "name": "port elizabeth",
         "showlegend": true,
         "subplot": "mapbox",
         "text": [
          "port elizabeth"
         ],
         "type": "scattermapbox"
        },
        {
         "hovertemplate": "City=%{text}<br>Lat=%{lat}<br>Lng=%{lon}<extra></extra>",
         "lat": [
          -16.2567
         ],
         "legendgroup": "pocone",
         "lon": [
          -56.6228
         ],
         "marker": {
          "color": "#B6E880"
         },
         "mode": "markers+text",
         "name": "pocone",
         "showlegend": true,
         "subplot": "mapbox",
         "text": [
          "pocone"
         ],
         "type": "scattermapbox"
        },
        {
         "hovertemplate": "City=%{text}<br>Lat=%{lat}<br>Lng=%{lon}<extra></extra>",
         "lat": [
          -18.3667
         ],
         "legendgroup": "shakawe",
         "lon": [
          21.85
         ],
         "marker": {
          "color": "#FF97FF"
         },
         "mode": "markers+text",
         "name": "shakawe",
         "showlegend": true,
         "subplot": "mapbox",
         "text": [
          "shakawe"
         ],
         "type": "scattermapbox"
        },
        {
         "hovertemplate": "City=%{text}<br>Lat=%{lat}<br>Lng=%{lon}<extra></extra>",
         "lat": [
          -20.5167
         ],
         "legendgroup": "souillac",
         "lon": [
          57.5167
         ],
         "marker": {
          "color": "#FECB52"
         },
         "mode": "markers+text",
         "name": "souillac",
         "showlegend": true,
         "subplot": "mapbox",
         "text": [
          "souillac"
         ],
         "type": "scattermapbox"
        },
        {
         "hovertemplate": "City=%{text}<br>Lat=%{lat}<br>Lng=%{lon}<extra></extra>",
         "lat": [
          -20.1
         ],
         "legendgroup": "charters towers",
         "lon": [
          146.2667
         ],
         "marker": {
          "color": "#636efa"
         },
         "mode": "markers+text",
         "name": "charters towers",
         "showlegend": true,
         "subplot": "mapbox",
         "text": [
          "charters towers"
         ],
         "type": "scattermapbox"
        },
        {
         "hovertemplate": "City=%{text}<br>Lat=%{lat}<br>Lng=%{lon}<extra></extra>",
         "lat": [
          16.5167
         ],
         "legendgroup": "tecoanapa",
         "lon": [
          -98.75
         ],
         "marker": {
          "color": "#EF553B"
         },
         "mode": "markers+text",
         "name": "tecoanapa",
         "showlegend": true,
         "subplot": "mapbox",
         "text": [
          "tecoanapa"
         ],
         "type": "scattermapbox"
        },
        {
         "hovertemplate": "City=%{text}<br>Lat=%{lat}<br>Lng=%{lon}<extra></extra>",
         "lat": [
          -42.8794
         ],
         "legendgroup": "hobart",
         "lon": [
          147.3294
         ],
         "marker": {
          "color": "#00cc96"
         },
         "mode": "markers+text",
         "name": "hobart",
         "showlegend": true,
         "subplot": "mapbox",
         "text": [
          "hobart"
         ],
         "type": "scattermapbox"
        },
        {
         "hovertemplate": "City=%{text}<br>Lat=%{lat}<br>Lng=%{lon}<extra></extra>",
         "lat": [
          -33.65
         ],
         "legendgroup": "busselton",
         "lon": [
          115.3333
         ],
         "marker": {
          "color": "#ab63fa"
         },
         "mode": "markers+text",
         "name": "busselton",
         "showlegend": true,
         "subplot": "mapbox",
         "text": [
          "busselton"
         ],
         "type": "scattermapbox"
        },
        {
         "hovertemplate": "City=%{text}<br>Lat=%{lat}<br>Lng=%{lon}<extra></extra>",
         "lat": [
          -33.6971
         ],
         "legendgroup": "chuy",
         "lon": [
          -53.4616
         ],
         "marker": {
          "color": "#FFA15A"
         },
         "mode": "markers+text",
         "name": "chuy",
         "showlegend": true,
         "subplot": "mapbox",
         "text": [
          "chuy"
         ],
         "type": "scattermapbox"
        },
        {
         "hovertemplate": "City=%{text}<br>Lat=%{lat}<br>Lng=%{lon}<extra></extra>",
         "lat": [
          13.7796
         ],
         "legendgroup": "gigmoto",
         "lon": [
          124.39
         ],
         "marker": {
          "color": "#19d3f3"
         },
         "mode": "markers+text",
         "name": "gigmoto",
         "showlegend": true,
         "subplot": "mapbox",
         "text": [
          "gigmoto"
         ],
         "type": "scattermapbox"
        },
        {
         "hovertemplate": "City=%{text}<br>Lat=%{lat}<br>Lng=%{lon}<extra></extra>",
         "lat": [
          -17.5667
         ],
         "legendgroup": "haapiti",
         "lon": [
          -149.8667
         ],
         "marker": {
          "color": "#FF6692"
         },
         "mode": "markers+text",
         "name": "haapiti",
         "showlegend": true,
         "subplot": "mapbox",
         "text": [
          "haapiti"
         ],
         "type": "scattermapbox"
        },
        {
         "hovertemplate": "City=%{text}<br>Lat=%{lat}<br>Lng=%{lon}<extra></extra>",
         "lat": [
          -0.6136
         ],
         "legendgroup": "salinopolis",
         "lon": [
          -47.3561
         ],
         "marker": {
          "color": "#B6E880"
         },
         "mode": "markers+text",
         "name": "salinopolis",
         "showlegend": true,
         "subplot": "mapbox",
         "text": [
          "salinopolis"
         ],
         "type": "scattermapbox"
        },
        {
         "hovertemplate": "City=%{text}<br>Lat=%{lat}<br>Lng=%{lon}<extra></extra>",
         "lat": [
          14.8961
         ],
         "legendgroup": "sao filipe",
         "lon": [
          -24.4956
         ],
         "marker": {
          "color": "#FF97FF"
         },
         "mode": "markers+text",
         "name": "sao filipe",
         "showlegend": true,
         "subplot": "mapbox",
         "text": [
          "sao filipe"
         ],
         "type": "scattermapbox"
        },
        {
         "hovertemplate": "City=%{text}<br>Lat=%{lat}<br>Lng=%{lon}<extra></extra>",
         "lat": [
          -21.2078
         ],
         "legendgroup": "avarua",
         "lon": [
          -159.775
         ],
         "marker": {
          "color": "#FECB52"
         },
         "mode": "markers+text",
         "name": "avarua",
         "showlegend": true,
         "subplot": "mapbox",
         "text": [
          "avarua"
         ],
         "type": "scattermapbox"
        },
        {
         "hovertemplate": "City=%{text}<br>Lat=%{lat}<br>Lng=%{lon}<extra></extra>",
         "lat": [
          12.485
         ],
         "legendgroup": "oussouye",
         "lon": [
          -16.5469
         ],
         "marker": {
          "color": "#636efa"
         },
         "mode": "markers+text",
         "name": "oussouye",
         "showlegend": true,
         "subplot": "mapbox",
         "text": [
          "oussouye"
         ],
         "type": "scattermapbox"
        },
        {
         "hovertemplate": "City=%{text}<br>Lat=%{lat}<br>Lng=%{lon}<extra></extra>",
         "lat": [
          -1.7
         ],
         "legendgroup": "palora",
         "lon": [
          -77.9333
         ],
         "marker": {
          "color": "#EF553B"
         },
         "mode": "markers+text",
         "name": "palora",
         "showlegend": true,
         "subplot": "mapbox",
         "text": [
          "palora"
         ],
         "type": "scattermapbox"
        },
        {
         "hovertemplate": "City=%{text}<br>Lat=%{lat}<br>Lng=%{lon}<extra></extra>",
         "lat": [
          -25.3333
         ],
         "legendgroup": "san lorenzo",
         "lon": [
          -57.5333
         ],
         "marker": {
          "color": "#00cc96"
         },
         "mode": "markers+text",
         "name": "san lorenzo",
         "showlegend": true,
         "subplot": "mapbox",
         "text": [
          "san lorenzo"
         ],
         "type": "scattermapbox"
        },
        {
         "hovertemplate": "City=%{text}<br>Lat=%{lat}<br>Lng=%{lon}<extra></extra>",
         "lat": [
          -21.2
         ],
         "legendgroup": "vaini",
         "lon": [
          -175.2
         ],
         "marker": {
          "color": "#ab63fa"
         },
         "mode": "markers+text",
         "name": "vaini",
         "showlegend": true,
         "subplot": "mapbox",
         "text": [
          "vaini"
         ],
         "type": "scattermapbox"
        },
        {
         "hovertemplate": "City=%{text}<br>Lat=%{lat}<br>Lng=%{lon}<extra></extra>",
         "lat": [
          -46.6
         ],
         "legendgroup": "bluff",
         "lon": [
          168.3333
         ],
         "marker": {
          "color": "#FFA15A"
         },
         "mode": "markers+text",
         "name": "bluff",
         "showlegend": true,
         "subplot": "mapbox",
         "text": [
          "bluff"
         ],
         "type": "scattermapbox"
        },
        {
         "hovertemplate": "City=%{text}<br>Lat=%{lat}<br>Lng=%{lon}<extra></extra>",
         "lat": [
          -38.0023
         ],
         "legendgroup": "mar del plata",
         "lon": [
          -57.5575
         ],
         "marker": {
          "color": "#19d3f3"
         },
         "mode": "markers+text",
         "name": "mar del plata",
         "showlegend": true,
         "subplot": "mapbox",
         "text": [
          "mar del plata"
         ],
         "type": "scattermapbox"
        },
        {
         "hovertemplate": "City=%{text}<br>Lat=%{lat}<br>Lng=%{lon}<extra></extra>",
         "lat": [
          0.1333
         ],
         "legendgroup": "bontang",
         "lon": [
          117.5
         ],
         "marker": {
          "color": "#FF6692"
         },
         "mode": "markers+text",
         "name": "bontang",
         "showlegend": true,
         "subplot": "mapbox",
         "text": [
          "bontang"
         ],
         "type": "scattermapbox"
        },
        {
         "hovertemplate": "City=%{text}<br>Lat=%{lat}<br>Lng=%{lon}<extra></extra>",
         "lat": [
          -0.6
         ],
         "legendgroup": "hithadhoo",
         "lon": [
          73.0833
         ],
         "marker": {
          "color": "#B6E880"
         },
         "mode": "markers+text",
         "name": "hithadhoo",
         "showlegend": true,
         "subplot": "mapbox",
         "text": [
          "hithadhoo"
         ],
         "type": "scattermapbox"
        },
        {
         "hovertemplate": "City=%{text}<br>Lat=%{lat}<br>Lng=%{lon}<extra></extra>",
         "lat": [
          -17.5333
         ],
         "legendgroup": "tiarei",
         "lon": [
          -149.3333
         ],
         "marker": {
          "color": "#FF97FF"
         },
         "mode": "markers+text",
         "name": "tiarei",
         "showlegend": true,
         "subplot": "mapbox",
         "text": [
          "tiarei"
         ],
         "type": "scattermapbox"
        },
        {
         "hovertemplate": "City=%{text}<br>Lat=%{lat}<br>Lng=%{lon}<extra></extra>",
         "lat": [
          15.85
         ],
         "legendgroup": "puerto escondido",
         "lon": [
          -97.0667
         ],
         "marker": {
          "color": "#FECB52"
         },
         "mode": "markers+text",
         "name": "puerto escondido",
         "showlegend": true,
         "subplot": "mapbox",
         "text": [
          "puerto escondido"
         ],
         "type": "scattermapbox"
        },
        {
         "hovertemplate": "City=%{text}<br>Lat=%{lat}<br>Lng=%{lon}<extra></extra>",
         "lat": [
          10.5669
         ],
         "legendgroup": "kavaratti",
         "lon": [
          72.642
         ],
         "marker": {
          "color": "#636efa"
         },
         "mode": "markers+text",
         "name": "kavaratti",
         "showlegend": true,
         "subplot": "mapbox",
         "text": [
          "kavaratti"
         ],
         "type": "scattermapbox"
        },
        {
         "hovertemplate": "City=%{text}<br>Lat=%{lat}<br>Lng=%{lon}<extra></extra>",
         "lat": [
          -34.6833
         ],
         "legendgroup": "kiama",
         "lon": [
          150.8667
         ],
         "marker": {
          "color": "#EF553B"
         },
         "mode": "markers+text",
         "name": "kiama",
         "showlegend": true,
         "subplot": "mapbox",
         "text": [
          "kiama"
         ],
         "type": "scattermapbox"
        },
        {
         "hovertemplate": "City=%{text}<br>Lat=%{lat}<br>Lng=%{lon}<extra></extra>",
         "lat": [
          -17.8786
         ],
         "legendgroup": "quelimane",
         "lon": [
          36.8883
         ],
         "marker": {
          "color": "#00cc96"
         },
         "mode": "markers+text",
         "name": "quelimane",
         "showlegend": true,
         "subplot": "mapbox",
         "text": [
          "quelimane"
         ],
         "type": "scattermapbox"
        },
        {
         "hovertemplate": "City=%{text}<br>Lat=%{lat}<br>Lng=%{lon}<extra></extra>",
         "lat": [
          21.3156
         ],
         "legendgroup": "ewa beach",
         "lon": [
          -158.0072
         ],
         "marker": {
          "color": "#ab63fa"
         },
         "mode": "markers+text",
         "name": "ewa beach",
         "showlegend": true,
         "subplot": "mapbox",
         "text": [
          "ewa beach"
         ],
         "type": "scattermapbox"
        },
        {
         "hovertemplate": "City=%{text}<br>Lat=%{lat}<br>Lng=%{lon}<extra></extra>",
         "lat": [
          -33.8667
         ],
         "legendgroup": "esperance",
         "lon": [
          121.9
         ],
         "marker": {
          "color": "#FFA15A"
         },
         "mode": "markers+text",
         "name": "esperance",
         "showlegend": true,
         "subplot": "mapbox",
         "text": [
          "esperance"
         ],
         "type": "scattermapbox"
        },
        {
         "hovertemplate": "City=%{text}<br>Lat=%{lat}<br>Lng=%{lon}<extra></extra>",
         "lat": [
          -43.3002
         ],
         "legendgroup": "rawson",
         "lon": [
          -65.1023
         ],
         "marker": {
          "color": "#19d3f3"
         },
         "mode": "markers+text",
         "name": "rawson",
         "showlegend": true,
         "subplot": "mapbox",
         "text": [
          "rawson"
         ],
         "type": "scattermapbox"
        },
        {
         "hovertemplate": "City=%{text}<br>Lat=%{lat}<br>Lng=%{lon}<extra></extra>",
         "lat": [
          -0.8833
         ],
         "legendgroup": "sorong",
         "lon": [
          131.25
         ],
         "marker": {
          "color": "#FF6692"
         },
         "mode": "markers+text",
         "name": "sorong",
         "showlegend": true,
         "subplot": "mapbox",
         "text": [
          "sorong"
         ],
         "type": "scattermapbox"
        },
        {
         "hovertemplate": "City=%{text}<br>Lat=%{lat}<br>Lng=%{lon}<extra></extra>",
         "lat": [
          -21.6403
         ],
         "legendgroup": "sao joao da barra",
         "lon": [
          -41.0511
         ],
         "marker": {
          "color": "#B6E880"
         },
         "mode": "markers+text",
         "name": "sao joao da barra",
         "showlegend": true,
         "subplot": "mapbox",
         "text": [
          "sao joao da barra"
         ],
         "type": "scattermapbox"
        },
        {
         "hovertemplate": "City=%{text}<br>Lat=%{lat}<br>Lng=%{lon}<extra></extra>",
         "lat": [
          4.9551
         ],
         "legendgroup": "novita",
         "lon": [
          -76.6053
         ],
         "marker": {
          "color": "#FF97FF"
         },
         "mode": "markers+text",
         "name": "novita",
         "showlegend": true,
         "subplot": "mapbox",
         "text": [
          "novita"
         ],
         "type": "scattermapbox"
        },
        {
         "hovertemplate": "City=%{text}<br>Lat=%{lat}<br>Lng=%{lon}<extra></extra>",
         "lat": [
          20.8947
         ],
         "legendgroup": "kahului",
         "lon": [
          -156.47
         ],
         "marker": {
          "color": "#FECB52"
         },
         "mode": "markers+text",
         "name": "kahului",
         "showlegend": true,
         "subplot": "mapbox",
         "text": [
          "kahului"
         ],
         "type": "scattermapbox"
        },
        {
         "hovertemplate": "City=%{text}<br>Lat=%{lat}<br>Lng=%{lon}<extra></extra>",
         "lat": [
          2.6708
         ],
         "legendgroup": "kudahuvadhoo",
         "lon": [
          72.8944
         ],
         "marker": {
          "color": "#636efa"
         },
         "mode": "markers+text",
         "name": "kudahuvadhoo",
         "showlegend": true,
         "subplot": "mapbox",
         "text": [
          "kudahuvadhoo"
         ],
         "type": "scattermapbox"
        },
        {
         "hovertemplate": "City=%{text}<br>Lat=%{lat}<br>Lng=%{lon}<extra></extra>",
         "lat": [
          18.4167
         ],
         "legendgroup": "road town",
         "lon": [
          -64.6167
         ],
         "marker": {
          "color": "#EF553B"
         },
         "mode": "markers+text",
         "name": "road town",
         "showlegend": true,
         "subplot": "mapbox",
         "text": [
          "road town"
         ],
         "type": "scattermapbox"
        },
        {
         "hovertemplate": "City=%{text}<br>Lat=%{lat}<br>Lng=%{lon}<extra></extra>",
         "lat": [
          3.0707
         ],
         "legendgroup": "butaritari",
         "lon": [
          172.7902
         ],
         "marker": {
          "color": "#00cc96"
         },
         "mode": "markers+text",
         "name": "butaritari",
         "showlegend": true,
         "subplot": "mapbox",
         "text": [
          "butaritari"
         ],
         "type": "scattermapbox"
        },
        {
         "hovertemplate": "City=%{text}<br>Lat=%{lat}<br>Lng=%{lon}<extra></extra>",
         "lat": [
          -10.6167
         ],
         "legendgroup": "samarai",
         "lon": [
          150.6667
         ],
         "marker": {
          "color": "#ab63fa"
         },
         "mode": "markers+text",
         "name": "samarai",
         "showlegend": true,
         "subplot": "mapbox",
         "text": [
          "samarai"
         ],
         "type": "scattermapbox"
        },
        {
         "hovertemplate": "City=%{text}<br>Lat=%{lat}<br>Lng=%{lon}<extra></extra>",
         "lat": [
          -8.4667
         ],
         "legendgroup": "bima",
         "lon": [
          118.7167
         ],
         "marker": {
          "color": "#FFA15A"
         },
         "mode": "markers+text",
         "name": "bima",
         "showlegend": true,
         "subplot": "mapbox",
         "text": [
          "bima"
         ],
         "type": "scattermapbox"
        },
        {
         "hovertemplate": "City=%{text}<br>Lat=%{lat}<br>Lng=%{lon}<extra></extra>",
         "lat": [
          -24.0196
         ],
         "legendgroup": "tshane",
         "lon": [
          21.8684
         ],
         "marker": {
          "color": "#19d3f3"
         },
         "mode": "markers+text",
         "name": "tshane",
         "showlegend": true,
         "subplot": "mapbox",
         "text": [
          "tshane"
         ],
         "type": "scattermapbox"
        },
        {
         "hovertemplate": "City=%{text}<br>Lat=%{lat}<br>Lng=%{lon}<extra></extra>",
         "lat": [
          -45.75
         ],
         "legendgroup": "waitati",
         "lon": [
          170.5667
         ],
         "marker": {
          "color": "#FF6692"
         },
         "mode": "markers+text",
         "name": "waitati",
         "showlegend": true,
         "subplot": "mapbox",
         "text": [
          "waitati"
         ],
         "type": "scattermapbox"
        },
        {
         "hovertemplate": "City=%{text}<br>Lat=%{lat}<br>Lng=%{lon}<extra></extra>",
         "lat": [
          16.8634
         ],
         "legendgroup": "acapulco",
         "lon": [
          -99.8901
         ],
         "marker": {
          "color": "#B6E880"
         },
         "mode": "markers+text",
         "name": "acapulco",
         "showlegend": true,
         "subplot": "mapbox",
         "text": [
          "acapulco"
         ],
         "type": "scattermapbox"
        },
        {
         "hovertemplate": "City=%{text}<br>Lat=%{lat}<br>Lng=%{lon}<extra></extra>",
         "lat": [
          -3.8004
         ],
         "legendgroup": "bengkulu",
         "lon": [
          102.2655
         ],
         "marker": {
          "color": "#FF97FF"
         },
         "mode": "markers+text",
         "name": "bengkulu",
         "showlegend": true,
         "subplot": "mapbox",
         "text": [
          "bengkulu"
         ],
         "type": "scattermapbox"
        },
        {
         "hovertemplate": "City=%{text}<br>Lat=%{lat}<br>Lng=%{lon}<extra></extra>",
         "lat": [
          -23.65
         ],
         "legendgroup": "antofagasta",
         "lon": [
          -70.4
         ],
         "marker": {
          "color": "#FECB52"
         },
         "mode": "markers+text",
         "name": "antofagasta",
         "showlegend": true,
         "subplot": "mapbox",
         "text": [
          "antofagasta"
         ],
         "type": "scattermapbox"
        },
        {
         "hovertemplate": "City=%{text}<br>Lat=%{lat}<br>Lng=%{lon}<extra></extra>",
         "lat": [
          11.2833
         ],
         "legendgroup": "bubaque",
         "lon": [
          -15.8333
         ],
         "marker": {
          "color": "#636efa"
         },
         "mode": "markers+text",
         "name": "bubaque",
         "showlegend": true,
         "subplot": "mapbox",
         "text": [
          "bubaque"
         ],
         "type": "scattermapbox"
        },
        {
         "hovertemplate": "City=%{text}<br>Lat=%{lat}<br>Lng=%{lon}<extra></extra>",
         "lat": [
          22.8909
         ],
         "legendgroup": "cabo san lucas",
         "lon": [
          -109.9124
         ],
         "marker": {
          "color": "#EF553B"
         },
         "mode": "markers+text",
         "name": "cabo san lucas",
         "showlegend": true,
         "subplot": "mapbox",
         "text": [
          "cabo san lucas"
         ],
         "type": "scattermapbox"
        },
        {
         "hovertemplate": "City=%{text}<br>Lat=%{lat}<br>Lng=%{lon}<extra></extra>",
         "lat": [
          7.7669
         ],
         "legendgroup": "san cristobal",
         "lon": [
          -72.225
         ],
         "marker": {
          "color": "#00cc96"
         },
         "mode": "markers+text",
         "name": "san cristobal",
         "showlegend": true,
         "subplot": "mapbox",
         "text": [
          "san cristobal"
         ],
         "type": "scattermapbox"
        },
        {
         "hovertemplate": "City=%{text}<br>Lat=%{lat}<br>Lng=%{lon}<extra></extra>",
         "lat": [
          -34.4833
         ],
         "legendgroup": "rocha",
         "lon": [
          -54.3333
         ],
         "marker": {
          "color": "#ab63fa"
         },
         "mode": "markers+text",
         "name": "rocha",
         "showlegend": true,
         "subplot": "mapbox",
         "text": [
          "rocha"
         ],
         "type": "scattermapbox"
        },
        {
         "hovertemplate": "City=%{text}<br>Lat=%{lat}<br>Lng=%{lon}<extra></extra>",
         "lat": [
          -13.7
         ],
         "legendgroup": "pisco",
         "lon": [
          -76.2167
         ],
         "marker": {
          "color": "#FFA15A"
         },
         "mode": "markers+text",
         "name": "pisco",
         "showlegend": true,
         "subplot": "mapbox",
         "text": [
          "pisco"
         ],
         "type": "scattermapbox"
        },
        {
         "hovertemplate": "City=%{text}<br>Lat=%{lat}<br>Lng=%{lon}<extra></extra>",
         "lat": [
          -15.1961
         ],
         "legendgroup": "namibe",
         "lon": [
          12.1522
         ],
         "marker": {
          "color": "#19d3f3"
         },
         "mode": "markers+text",
         "name": "namibe",
         "showlegend": true,
         "subplot": "mapbox",
         "text": [
          "namibe"
         ],
         "type": "scattermapbox"
        },
        {
         "hovertemplate": "City=%{text}<br>Lat=%{lat}<br>Lng=%{lon}<extra></extra>",
         "lat": [
          -20.4081
         ],
         "legendgroup": "mahebourg",
         "lon": [
          57.7
         ],
         "marker": {
          "color": "#FF6692"
         },
         "mode": "markers+text",
         "name": "mahebourg",
         "showlegend": true,
         "subplot": "mapbox",
         "text": [
          "mahebourg"
         ],
         "type": "scattermapbox"
        },
        {
         "hovertemplate": "City=%{text}<br>Lat=%{lat}<br>Lng=%{lon}<extra></extra>",
         "lat": [
          -22.6667
         ],
         "legendgroup": "vao",
         "lon": [
          167.4833
         ],
         "marker": {
          "color": "#B6E880"
         },
         "mode": "markers+text",
         "name": "vao",
         "showlegend": true,
         "subplot": "mapbox",
         "text": [
          "vao"
         ],
         "type": "scattermapbox"
        },
        {
         "hovertemplate": "City=%{text}<br>Lat=%{lat}<br>Lng=%{lon}<extra></extra>",
         "lat": [
          17.4189
         ],
         "legendgroup": "tabuk",
         "lon": [
          121.4443
         ],
         "marker": {
          "color": "#FF97FF"
         },
         "mode": "markers+text",
         "name": "tabuk",
         "showlegend": true,
         "subplot": "mapbox",
         "text": [
          "tabuk"
         ],
         "type": "scattermapbox"
        },
        {
         "hovertemplate": "City=%{text}<br>Lat=%{lat}<br>Lng=%{lon}<extra></extra>",
         "lat": [
          -35.1667
         ],
         "legendgroup": "ahipara",
         "lon": [
          173.1667
         ],
         "marker": {
          "color": "#FECB52"
         },
         "mode": "markers+text",
         "name": "ahipara",
         "showlegend": true,
         "subplot": "mapbox",
         "text": [
          "ahipara"
         ],
         "type": "scattermapbox"
        },
        {
         "hovertemplate": "City=%{text}<br>Lat=%{lat}<br>Lng=%{lon}<extra></extra>",
         "lat": [
          4.8699
         ],
         "legendgroup": "axim",
         "lon": [
          -2.2405
         ],
         "marker": {
          "color": "#636efa"
         },
         "mode": "markers+text",
         "name": "axim",
         "showlegend": true,
         "subplot": "mapbox",
         "text": [
          "axim"
         ],
         "type": "scattermapbox"
        },
        {
         "hovertemplate": "City=%{text}<br>Lat=%{lat}<br>Lng=%{lon}<extra></extra>",
         "lat": [
          9.4942
         ],
         "legendgroup": "bandarbeyla",
         "lon": [
          50.8122
         ],
         "marker": {
          "color": "#EF553B"
         },
         "mode": "markers+text",
         "name": "bandarbeyla",
         "showlegend": true,
         "subplot": "mapbox",
         "text": [
          "bandarbeyla"
         ],
         "type": "scattermapbox"
        },
        {
         "hovertemplate": "City=%{text}<br>Lat=%{lat}<br>Lng=%{lon}<extra></extra>",
         "lat": [
          -9.8756
         ],
         "legendgroup": "alta floresta",
         "lon": [
          -56.0861
         ],
         "marker": {
          "color": "#00cc96"
         },
         "mode": "markers+text",
         "name": "alta floresta",
         "showlegend": true,
         "subplot": "mapbox",
         "text": [
          "alta floresta"
         ],
         "type": "scattermapbox"
        },
        {
         "hovertemplate": "City=%{text}<br>Lat=%{lat}<br>Lng=%{lon}<extra></extra>",
         "lat": [
          -5.0892
         ],
         "legendgroup": "paita",
         "lon": [
          -81.1144
         ],
         "marker": {
          "color": "#ab63fa"
         },
         "mode": "markers+text",
         "name": "paita",
         "showlegend": true,
         "subplot": "mapbox",
         "text": [
          "paita"
         ],
         "type": "scattermapbox"
        },
        {
         "hovertemplate": "City=%{text}<br>Lat=%{lat}<br>Lng=%{lon}<extra></extra>",
         "lat": [
          5.6639
         ],
         "legendgroup": "puerto ayacucho",
         "lon": [
          -67.6236
         ],
         "marker": {
          "color": "#FFA15A"
         },
         "mode": "markers+text",
         "name": "puerto ayacucho",
         "showlegend": true,
         "subplot": "mapbox",
         "text": [
          "puerto ayacucho"
         ],
         "type": "scattermapbox"
        },
        {
         "hovertemplate": "City=%{text}<br>Lat=%{lat}<br>Lng=%{lon}<extra></extra>",
         "lat": [
          18.3808
         ],
         "legendgroup": "carolina",
         "lon": [
          -65.9574
         ],
         "marker": {
          "color": "#19d3f3"
         },
         "mode": "markers+text",
         "name": "carolina",
         "showlegend": true,
         "subplot": "mapbox",
         "text": [
          "carolina"
         ],
         "type": "scattermapbox"
        },
        {
         "hovertemplate": "City=%{text}<br>Lat=%{lat}<br>Lng=%{lon}<extra></extra>",
         "lat": [
          -22.9661
         ],
         "legendgroup": "arraial do cabo",
         "lon": [
          -42.0278
         ],
         "marker": {
          "color": "#FF6692"
         },
         "mode": "markers+text",
         "name": "arraial do cabo",
         "showlegend": true,
         "subplot": "mapbox",
         "text": [
          "arraial do cabo"
         ],
         "type": "scattermapbox"
        },
        {
         "hovertemplate": "City=%{text}<br>Lat=%{lat}<br>Lng=%{lon}<extra></extra>",
         "lat": [
          -21.3667
         ],
         "legendgroup": "saint-joseph",
         "lon": [
          55.6167
         ],
         "marker": {
          "color": "#B6E880"
         },
         "mode": "markers+text",
         "name": "saint-joseph",
         "showlegend": true,
         "subplot": "mapbox",
         "text": [
          "saint-joseph"
         ],
         "type": "scattermapbox"
        },
        {
         "hovertemplate": "City=%{text}<br>Lat=%{lat}<br>Lng=%{lon}<extra></extra>",
         "lat": [
          17.8868
         ],
         "legendgroup": "bull savanna",
         "lon": [
          -77.5902
         ],
         "marker": {
          "color": "#FF97FF"
         },
         "mode": "markers+text",
         "name": "bull savanna",
         "showlegend": true,
         "subplot": "mapbox",
         "text": [
          "bull savanna"
         ],
         "type": "scattermapbox"
        },
        {
         "hovertemplate": "City=%{text}<br>Lat=%{lat}<br>Lng=%{lon}<extra></extra>",
         "lat": [
          20.0431
         ],
         "legendgroup": "niquero",
         "lon": [
          -77.5828
         ],
         "marker": {
          "color": "#FECB52"
         },
         "mode": "markers+text",
         "name": "niquero",
         "showlegend": true,
         "subplot": "mapbox",
         "text": [
          "niquero"
         ],
         "type": "scattermapbox"
        },
        {
         "hovertemplate": "City=%{text}<br>Lat=%{lat}<br>Lng=%{lon}<extra></extra>",
         "lat": [
          -41.4122
         ],
         "legendgroup": "waipawa",
         "lon": [
          175.5153
         ],
         "marker": {
          "color": "#636efa"
         },
         "mode": "markers+text",
         "name": "waipawa",
         "showlegend": true,
         "subplot": "mapbox",
         "text": [
          "waipawa"
         ],
         "type": "scattermapbox"
        },
        {
         "hovertemplate": "City=%{text}<br>Lat=%{lat}<br>Lng=%{lon}<extra></extra>",
         "lat": [
          -10.75
         ],
         "legendgroup": "barranca",
         "lon": [
          -77.7667
         ],
         "marker": {
          "color": "#EF553B"
         },
         "mode": "markers+text",
         "name": "barranca",
         "showlegend": true,
         "subplot": "mapbox",
         "text": [
          "barranca"
         ],
         "type": "scattermapbox"
        },
        {
         "hovertemplate": "City=%{text}<br>Lat=%{lat}<br>Lng=%{lon}<extra></extra>",
         "lat": [
          4.9333
         ],
         "legendgroup": "cayenne",
         "lon": [
          -52.3333
         ],
         "marker": {
          "color": "#00cc96"
         },
         "mode": "markers+text",
         "name": "cayenne",
         "showlegend": true,
         "subplot": "mapbox",
         "text": [
          "cayenne"
         ],
         "type": "scattermapbox"
        },
        {
         "hovertemplate": "City=%{text}<br>Lat=%{lat}<br>Lng=%{lon}<extra></extra>",
         "lat": [
          7.85
         ],
         "legendgroup": "wukari",
         "lon": [
          9.7833
         ],
         "marker": {
          "color": "#ab63fa"
         },
         "mode": "markers+text",
         "name": "wukari",
         "showlegend": true,
         "subplot": "mapbox",
         "text": [
          "wukari"
         ],
         "type": "scattermapbox"
        },
        {
         "hovertemplate": "City=%{text}<br>Lat=%{lat}<br>Lng=%{lon}<extra></extra>",
         "lat": [
          -28.783
         ],
         "legendgroup": "richards bay",
         "lon": [
          32.0377
         ],
         "marker": {
          "color": "#FFA15A"
         },
         "mode": "markers+text",
         "name": "richards bay",
         "showlegend": true,
         "subplot": "mapbox",
         "text": [
          "richards bay"
         ],
         "type": "scattermapbox"
        },
        {
         "hovertemplate": "City=%{text}<br>Lat=%{lat}<br>Lng=%{lon}<extra></extra>",
         "lat": [
          -40.8135
         ],
         "legendgroup": "viedma",
         "lon": [
          -62.9967
         ],
         "marker": {
          "color": "#19d3f3"
         },
         "mode": "markers+text",
         "name": "viedma",
         "showlegend": true,
         "subplot": "mapbox",
         "text": [
          "viedma"
         ],
         "type": "scattermapbox"
        },
        {
         "hovertemplate": "City=%{text}<br>Lat=%{lat}<br>Lng=%{lon}<extra></extra>",
         "lat": [
          -35.85
         ],
         "legendgroup": "linares",
         "lon": [
          -71.6
         ],
         "marker": {
          "color": "#FF6692"
         },
         "mode": "markers+text",
         "name": "linares",
         "showlegend": true,
         "subplot": "mapbox",
         "text": [
          "linares"
         ],
         "type": "scattermapbox"
        },
        {
         "hovertemplate": "City=%{text}<br>Lat=%{lat}<br>Lng=%{lon}<extra></extra>",
         "lat": [
          3.8653
         ],
         "legendgroup": "inirida",
         "lon": [
          -67.9239
         ],
         "marker": {
          "color": "#B6E880"
         },
         "mode": "markers+text",
         "name": "inirida",
         "showlegend": true,
         "subplot": "mapbox",
         "text": [
          "inirida"
         ],
         "type": "scattermapbox"
        },
        {
         "hovertemplate": "City=%{text}<br>Lat=%{lat}<br>Lng=%{lon}<extra></extra>",
         "lat": [
          -4.9561
         ],
         "legendgroup": "areia branca",
         "lon": [
          -37.1369
         ],
         "marker": {
          "color": "#FF97FF"
         },
         "mode": "markers+text",
         "name": "areia branca",
         "showlegend": true,
         "subplot": "mapbox",
         "text": [
          "areia branca"
         ],
         "type": "scattermapbox"
        },
        {
         "hovertemplate": "City=%{text}<br>Lat=%{lat}<br>Lng=%{lon}<extra></extra>",
         "lat": [
          22.2394
         ],
         "legendgroup": "dwarka",
         "lon": [
          68.9678
         ],
         "marker": {
          "color": "#FECB52"
         },
         "mode": "markers+text",
         "name": "dwarka",
         "showlegend": true,
         "subplot": "mapbox",
         "text": [
          "dwarka"
         ],
         "type": "scattermapbox"
        },
        {
         "hovertemplate": "City=%{text}<br>Lat=%{lat}<br>Lng=%{lon}<extra></extra>",
         "lat": [
          -7.9386
         ],
         "legendgroup": "srandakan",
         "lon": [
          110.2506
         ],
         "marker": {
          "color": "#636efa"
         },
         "mode": "markers+text",
         "name": "srandakan",
         "showlegend": true,
         "subplot": "mapbox",
         "text": [
          "srandakan"
         ],
         "type": "scattermapbox"
        },
        {
         "hovertemplate": "City=%{text}<br>Lat=%{lat}<br>Lng=%{lon}<extra></extra>",
         "lat": [
          -32.035
         ],
         "legendgroup": "rio grande",
         "lon": [
          -52.0986
         ],
         "marker": {
          "color": "#EF553B"
         },
         "mode": "markers+text",
         "name": "rio grande",
         "showlegend": true,
         "subplot": "mapbox",
         "text": [
          "rio grande"
         ],
         "type": "scattermapbox"
        },
        {
         "hovertemplate": "City=%{text}<br>Lat=%{lat}<br>Lng=%{lon}<extra></extra>",
         "lat": [
          4.9247
         ],
         "legendgroup": "yenagoa",
         "lon": [
          6.2642
         ],
         "marker": {
          "color": "#00cc96"
         },
         "mode": "markers+text",
         "name": "yenagoa",
         "showlegend": true,
         "subplot": "mapbox",
         "text": [
          "yenagoa"
         ],
         "type": "scattermapbox"
        },
        {
         "hovertemplate": "City=%{text}<br>Lat=%{lat}<br>Lng=%{lon}<extra></extra>",
         "lat": [
          -0.4139
         ],
         "legendgroup": "santa isabel do rio negro",
         "lon": [
          -65.0192
         ],
         "marker": {
          "color": "#ab63fa"
         },
         "mode": "markers+text",
         "name": "santa isabel do rio negro",
         "showlegend": true,
         "subplot": "mapbox",
         "text": [
          "santa isabel do rio negro"
         ],
         "type": "scattermapbox"
        },
        {
         "hovertemplate": "City=%{text}<br>Lat=%{lat}<br>Lng=%{lon}<extra></extra>",
         "lat": [
          22.5667
         ],
         "legendgroup": "sur",
         "lon": [
          59.5289
         ],
         "marker": {
          "color": "#FFA15A"
         },
         "mode": "markers+text",
         "name": "sur",
         "showlegend": true,
         "subplot": "mapbox",
         "text": [
          "sur"
         ],
         "type": "scattermapbox"
        },
        {
         "hovertemplate": "City=%{text}<br>Lat=%{lat}<br>Lng=%{lon}<extra></extra>",
         "lat": [
          20.4333
         ],
         "legendgroup": "yamethin",
         "lon": [
          96.15
         ],
         "marker": {
          "color": "#19d3f3"
         },
         "mode": "markers+text",
         "name": "yamethin",
         "showlegend": true,
         "subplot": "mapbox",
         "text": [
          "yamethin"
         ],
         "type": "scattermapbox"
        },
        {
         "hovertemplate": "City=%{text}<br>Lat=%{lat}<br>Lng=%{lon}<extra></extra>",
         "lat": [
          -2.0833
         ],
         "legendgroup": "sungaipenuh",
         "lon": [
          101.3833
         ],
         "marker": {
          "color": "#FF6692"
         },
         "mode": "markers+text",
         "name": "sungaipenuh",
         "showlegend": true,
         "subplot": "mapbox",
         "text": [
          "sungaipenuh"
         ],
         "type": "scattermapbox"
        },
        {
         "hovertemplate": "City=%{text}<br>Lat=%{lat}<br>Lng=%{lon}<extra></extra>",
         "lat": [
          13.2154
         ],
         "legendgroup": "ati",
         "lon": [
          18.3353
         ],
         "marker": {
          "color": "#B6E880"
         },
         "mode": "markers+text",
         "name": "ati",
         "showlegend": true,
         "subplot": "mapbox",
         "text": [
          "ati"
         ],
         "type": "scattermapbox"
        },
        {
         "hovertemplate": "City=%{text}<br>Lat=%{lat}<br>Lng=%{lon}<extra></extra>",
         "lat": [
          -31.95
         ],
         "legendgroup": "broken hill",
         "lon": [
          141.4333
         ],
         "marker": {
          "color": "#FF97FF"
         },
         "mode": "markers+text",
         "name": "broken hill",
         "showlegend": true,
         "subplot": "mapbox",
         "text": [
          "broken hill"
         ],
         "type": "scattermapbox"
        },
        {
         "hovertemplate": "City=%{text}<br>Lat=%{lat}<br>Lng=%{lon}<extra></extra>",
         "lat": [
          1.7427
         ],
         "legendgroup": "sibolga",
         "lon": [
          98.7792
         ],
         "marker": {
          "color": "#FECB52"
         },
         "mode": "markers+text",
         "name": "sibolga",
         "showlegend": true,
         "subplot": "mapbox",
         "text": [
          "sibolga"
         ],
         "type": "scattermapbox"
        },
        {
         "hovertemplate": "City=%{text}<br>Lat=%{lat}<br>Lng=%{lon}<extra></extra>",
         "lat": [
          -8.7522
         ],
         "legendgroup": "boca do acre",
         "lon": [
          -67.3978
         ],
         "marker": {
          "color": "#636efa"
         },
         "mode": "markers+text",
         "name": "boca do acre",
         "showlegend": true,
         "subplot": "mapbox",
         "text": [
          "boca do acre"
         ],
         "type": "scattermapbox"
        },
        {
         "hovertemplate": "City=%{text}<br>Lat=%{lat}<br>Lng=%{lon}<extra></extra>",
         "lat": [
          -10.0681
         ],
         "legendgroup": "huarmey",
         "lon": [
          -78.1522
         ],
         "marker": {
          "color": "#EF553B"
         },
         "mode": "markers+text",
         "name": "huarmey",
         "showlegend": true,
         "subplot": "mapbox",
         "text": [
          "huarmey"
         ],
         "type": "scattermapbox"
        },
        {
         "hovertemplate": "City=%{text}<br>Lat=%{lat}<br>Lng=%{lon}<extra></extra>",
         "lat": [
          -8.9266
         ],
         "legendgroup": "airai",
         "lon": [
          125.4092
         ],
         "marker": {
          "color": "#00cc96"
         },
         "mode": "markers+text",
         "name": "airai",
         "showlegend": true,
         "subplot": "mapbox",
         "text": [
          "airai"
         ],
         "type": "scattermapbox"
        },
        {
         "hovertemplate": "City=%{text}<br>Lat=%{lat}<br>Lng=%{lon}<extra></extra>",
         "lat": [
          20.5083
         ],
         "legendgroup": "cozumel",
         "lon": [
          -86.9458
         ],
         "marker": {
          "color": "#ab63fa"
         },
         "mode": "markers+text",
         "name": "cozumel",
         "showlegend": true,
         "subplot": "mapbox",
         "text": [
          "cozumel"
         ],
         "type": "scattermapbox"
        },
        {
         "hovertemplate": "City=%{text}<br>Lat=%{lat}<br>Lng=%{lon}<extra></extra>",
         "lat": [
          -1.8283
         ],
         "legendgroup": "cururupu",
         "lon": [
          -44.8683
         ],
         "marker": {
          "color": "#FFA15A"
         },
         "mode": "markers+text",
         "name": "cururupu",
         "showlegend": true,
         "subplot": "mapbox",
         "text": [
          "cururupu"
         ],
         "type": "scattermapbox"
        },
        {
         "hovertemplate": "City=%{text}<br>Lat=%{lat}<br>Lng=%{lon}<extra></extra>",
         "lat": [
          -16.1564
         ],
         "legendgroup": "tete",
         "lon": [
          33.5867
         ],
         "marker": {
          "color": "#19d3f3"
         },
         "mode": "markers+text",
         "name": "tete",
         "showlegend": true,
         "subplot": "mapbox",
         "text": [
          "tete"
         ],
         "type": "scattermapbox"
        },
        {
         "hovertemplate": "City=%{text}<br>Lat=%{lat}<br>Lng=%{lon}<extra></extra>",
         "lat": [
          -3.945
         ],
         "legendgroup": "kendari",
         "lon": [
          122.4989
         ],
         "marker": {
          "color": "#FF6692"
         },
         "mode": "markers+text",
         "name": "kendari",
         "showlegend": true,
         "subplot": "mapbox",
         "text": [
          "kendari"
         ],
         "type": "scattermapbox"
        },
        {
         "hovertemplate": "City=%{text}<br>Lat=%{lat}<br>Lng=%{lon}<extra></extra>",
         "lat": [
          -24.8716
         ],
         "legendgroup": "ramotswa",
         "lon": [
          25.8699
         ],
         "marker": {
          "color": "#B6E880"
         },
         "mode": "markers+text",
         "name": "ramotswa",
         "showlegend": true,
         "subplot": "mapbox",
         "text": [
          "ramotswa"
         ],
         "type": "scattermapbox"
        },
        {
         "hovertemplate": "City=%{text}<br>Lat=%{lat}<br>Lng=%{lon}<extra></extra>",
         "lat": [
          -24.3239
         ],
         "legendgroup": "telemaco borba",
         "lon": [
          -50.6156
         ],
         "marker": {
          "color": "#FF97FF"
         },
         "mode": "markers+text",
         "name": "telemaco borba",
         "showlegend": true,
         "subplot": "mapbox",
         "text": [
          "telemaco borba"
         ],
         "type": "scattermapbox"
        },
        {
         "hovertemplate": "City=%{text}<br>Lat=%{lat}<br>Lng=%{lon}<extra></extra>",
         "lat": [
          19.7297
         ],
         "legendgroup": "hilo",
         "lon": [
          -155.09
         ],
         "marker": {
          "color": "#FECB52"
         },
         "mode": "markers+text",
         "name": "hilo",
         "showlegend": true,
         "subplot": "mapbox",
         "text": [
          "hilo"
         ],
         "type": "scattermapbox"
        },
        {
         "hovertemplate": "City=%{text}<br>Lat=%{lat}<br>Lng=%{lon}<extra></extra>",
         "lat": [
          17.0818
         ],
         "legendgroup": "dicabisagan",
         "lon": [
          122.4157
         ],
         "marker": {
          "color": "#636efa"
         },
         "mode": "markers+text",
         "name": "dicabisagan",
         "showlegend": true,
         "subplot": "mapbox",
         "text": [
          "dicabisagan"
         ],
         "type": "scattermapbox"
        },
        {
         "hovertemplate": "City=%{text}<br>Lat=%{lat}<br>Lng=%{lon}<extra></extra>",
         "lat": [
          1.5
         ],
         "legendgroup": "bongandanga",
         "lon": [
          21.05
         ],
         "marker": {
          "color": "#EF553B"
         },
         "mode": "markers+text",
         "name": "bongandanga",
         "showlegend": true,
         "subplot": "mapbox",
         "text": [
          "bongandanga"
         ],
         "type": "scattermapbox"
        },
        {
         "hovertemplate": "City=%{text}<br>Lat=%{lat}<br>Lng=%{lon}<extra></extra>",
         "lat": [
          11.8397
         ],
         "legendgroup": "tutubigan",
         "lon": [
          125.0614
         ],
         "marker": {
          "color": "#00cc96"
         },
         "mode": "markers+text",
         "name": "tutubigan",
         "showlegend": true,
         "subplot": "mapbox",
         "text": [
          "tutubigan"
         ],
         "type": "scattermapbox"
        },
        {
         "hovertemplate": "City=%{text}<br>Lat=%{lat}<br>Lng=%{lon}<extra></extra>",
         "lat": [
          7.9986
         ],
         "legendgroup": "marawi",
         "lon": [
          124.2928
         ],
         "marker": {
          "color": "#ab63fa"
         },
         "mode": "markers+text",
         "name": "marawi",
         "showlegend": true,
         "subplot": "mapbox",
         "text": [
          "marawi"
         ],
         "type": "scattermapbox"
        },
        {
         "hovertemplate": "City=%{text}<br>Lat=%{lat}<br>Lng=%{lon}<extra></extra>",
         "lat": [
          25.1072
         ],
         "legendgroup": "longyan",
         "lon": [
          117.0225
         ],
         "marker": {
          "color": "#FFA15A"
         },
         "mode": "markers+text",
         "name": "longyan",
         "showlegend": true,
         "subplot": "mapbox",
         "text": [
          "longyan"
         ],
         "type": "scattermapbox"
        },
        {
         "hovertemplate": "City=%{text}<br>Lat=%{lat}<br>Lng=%{lon}<extra></extra>",
         "lat": [
          6.6221
         ],
         "legendgroup": "kulhudhuffushi",
         "lon": [
          73.07
         ],
         "marker": {
          "color": "#19d3f3"
         },
         "mode": "markers+text",
         "name": "kulhudhuffushi",
         "showlegend": true,
         "subplot": "mapbox",
         "text": [
          "kulhudhuffushi"
         ],
         "type": "scattermapbox"
        },
        {
         "hovertemplate": "City=%{text}<br>Lat=%{lat}<br>Lng=%{lon}<extra></extra>",
         "lat": [
          21.4612
         ],
         "legendgroup": "cockburn town",
         "lon": [
          -71.1419
         ],
         "marker": {
          "color": "#FF6692"
         },
         "mode": "markers+text",
         "name": "cockburn town",
         "showlegend": true,
         "subplot": "mapbox",
         "text": [
          "cockburn town"
         ],
         "type": "scattermapbox"
        },
        {
         "hovertemplate": "City=%{text}<br>Lat=%{lat}<br>Lng=%{lon}<extra></extra>",
         "lat": [
          -10.1667
         ],
         "legendgroup": "kupang",
         "lon": [
          123.5833
         ],
         "marker": {
          "color": "#B6E880"
         },
         "mode": "markers+text",
         "name": "kupang",
         "showlegend": true,
         "subplot": "mapbox",
         "text": [
          "kupang"
         ],
         "type": "scattermapbox"
        },
        {
         "hovertemplate": "City=%{text}<br>Lat=%{lat}<br>Lng=%{lon}<extra></extra>",
         "lat": [
          -35.9333
         ],
         "legendgroup": "dargaville",
         "lon": [
          173.8833
         ],
         "marker": {
          "color": "#FF97FF"
         },
         "mode": "markers+text",
         "name": "dargaville",
         "showlegend": true,
         "subplot": "mapbox",
         "text": [
          "dargaville"
         ],
         "type": "scattermapbox"
        },
        {
         "hovertemplate": "City=%{text}<br>Lat=%{lat}<br>Lng=%{lon}<extra></extra>",
         "lat": [
          -20.3428
         ],
         "legendgroup": "bambous virieux",
         "lon": [
          57.7575
         ],
         "marker": {
          "color": "#FECB52"
         },
         "mode": "markers+text",
         "name": "bambous virieux",
         "showlegend": true,
         "subplot": "mapbox",
         "text": [
          "bambous virieux"
         ],
         "type": "scattermapbox"
        },
        {
         "hovertemplate": "City=%{text}<br>Lat=%{lat}<br>Lng=%{lon}<extra></extra>",
         "lat": [
          -6.1349
         ],
         "legendgroup": "soyo",
         "lon": [
          12.3689
         ],
         "marker": {
          "color": "#636efa"
         },
         "mode": "markers+text",
         "name": "soyo",
         "showlegend": true,
         "subplot": "mapbox",
         "text": [
          "soyo"
         ],
         "type": "scattermapbox"
        },
        {
         "hovertemplate": "City=%{text}<br>Lat=%{lat}<br>Lng=%{lon}<extra></extra>",
         "lat": [
          21.7
         ],
         "legendgroup": "yen bai",
         "lon": [
          104.8667
         ],
         "marker": {
          "color": "#EF553B"
         },
         "mode": "markers+text",
         "name": "yen bai",
         "showlegend": true,
         "subplot": "mapbox",
         "text": [
          "yen bai"
         ],
         "type": "scattermapbox"
        },
        {
         "hovertemplate": "City=%{text}<br>Lat=%{lat}<br>Lng=%{lon}<extra></extra>",
         "lat": [
          -46.2817
         ],
         "legendgroup": "kaitangata",
         "lon": [
          169.8464
         ],
         "marker": {
          "color": "#00cc96"
         },
         "mode": "markers+text",
         "name": "kaitangata",
         "showlegend": true,
         "subplot": "mapbox",
         "text": [
          "kaitangata"
         ],
         "type": "scattermapbox"
        },
        {
         "hovertemplate": "City=%{text}<br>Lat=%{lat}<br>Lng=%{lon}<extra></extra>",
         "lat": [
          -8.345
         ],
         "legendgroup": "ambulu",
         "lon": [
          113.6058
         ],
         "marker": {
          "color": "#ab63fa"
         },
         "mode": "markers+text",
         "name": "ambulu",
         "showlegend": true,
         "subplot": "mapbox",
         "text": [
          "ambulu"
         ],
         "type": "scattermapbox"
        },
        {
         "hovertemplate": "City=%{text}<br>Lat=%{lat}<br>Lng=%{lon}<extra></extra>",
         "lat": [
          -9.4333
         ],
         "legendgroup": "honiara",
         "lon": [
          159.95
         ],
         "marker": {
          "color": "#FFA15A"
         },
         "mode": "markers+text",
         "name": "honiara",
         "showlegend": true,
         "subplot": "mapbox",
         "text": [
          "honiara"
         ],
         "type": "scattermapbox"
        },
        {
         "hovertemplate": "City=%{text}<br>Lat=%{lat}<br>Lng=%{lon}<extra></extra>",
         "lat": [
          -16.4833
         ],
         "legendgroup": "faanui",
         "lon": [
          -151.75
         ],
         "marker": {
          "color": "#19d3f3"
         },
         "mode": "markers+text",
         "name": "faanui",
         "showlegend": true,
         "subplot": "mapbox",
         "text": [
          "faanui"
         ],
         "type": "scattermapbox"
        },
        {
         "hovertemplate": "City=%{text}<br>Lat=%{lat}<br>Lng=%{lon}<extra></extra>",
         "lat": [
          -7.9562
         ],
         "legendgroup": "ikwiriri",
         "lon": [
          38.9716
         ],
         "marker": {
          "color": "#FF6692"
         },
         "mode": "markers+text",
         "name": "ikwiriri",
         "showlegend": true,
         "subplot": "mapbox",
         "text": [
          "ikwiriri"
         ],
         "type": "scattermapbox"
        },
        {
         "hovertemplate": "City=%{text}<br>Lat=%{lat}<br>Lng=%{lon}<extra></extra>",
         "lat": [
          -20.2833
         ],
         "legendgroup": "morondava",
         "lon": [
          44.2833
         ],
         "marker": {
          "color": "#B6E880"
         },
         "mode": "markers+text",
         "name": "morondava",
         "showlegend": true,
         "subplot": "mapbox",
         "text": [
          "morondava"
         ],
         "type": "scattermapbox"
        },
        {
         "hovertemplate": "City=%{text}<br>Lat=%{lat}<br>Lng=%{lon}<extra></extra>",
         "lat": [
          18.7333
         ],
         "legendgroup": "coahuayana",
         "lon": [
          -103.6833
         ],
         "marker": {
          "color": "#FF97FF"
         },
         "mode": "markers+text",
         "name": "coahuayana",
         "showlegend": true,
         "subplot": "mapbox",
         "text": [
          "coahuayana"
         ],
         "type": "scattermapbox"
        },
        {
         "hovertemplate": "City=%{text}<br>Lat=%{lat}<br>Lng=%{lon}<extra></extra>",
         "lat": [
          5.3833
         ],
         "legendgroup": "sinnamary",
         "lon": [
          -52.95
         ],
         "marker": {
          "color": "#FECB52"
         },
         "mode": "markers+text",
         "name": "sinnamary",
         "showlegend": true,
         "subplot": "mapbox",
         "text": [
          "sinnamary"
         ],
         "type": "scattermapbox"
        },
        {
         "hovertemplate": "City=%{text}<br>Lat=%{lat}<br>Lng=%{lon}<extra></extra>",
         "lat": [
          22.7583
         ],
         "legendgroup": "taitung",
         "lon": [
          121.1444
         ],
         "marker": {
          "color": "#636efa"
         },
         "mode": "markers+text",
         "name": "taitung",
         "showlegend": true,
         "subplot": "mapbox",
         "text": [
          "taitung"
         ],
         "type": "scattermapbox"
        },
        {
         "hovertemplate": "City=%{text}<br>Lat=%{lat}<br>Lng=%{lon}<extra></extra>",
         "lat": [
          -2.5744
         ],
         "legendgroup": "kavieng",
         "lon": [
          150.7967
         ],
         "marker": {
          "color": "#EF553B"
         },
         "mode": "markers+text",
         "name": "kavieng",
         "showlegend": true,
         "subplot": "mapbox",
         "text": [
          "kavieng"
         ],
         "type": "scattermapbox"
        },
        {
         "hovertemplate": "City=%{text}<br>Lat=%{lat}<br>Lng=%{lon}<extra></extra>",
         "lat": [
          -38.3667
         ],
         "legendgroup": "tolaga bay",
         "lon": [
          178.3
         ],
         "marker": {
          "color": "#00cc96"
         },
         "mode": "markers+text",
         "name": "tolaga bay",
         "showlegend": true,
         "subplot": "mapbox",
         "text": [
          "tolaga bay"
         ],
         "type": "scattermapbox"
        },
        {
         "hovertemplate": "City=%{text}<br>Lat=%{lat}<br>Lng=%{lon}<extra></extra>",
         "lat": [
          -33.7333
         ],
         "legendgroup": "buin",
         "lon": [
          -70.75
         ],
         "marker": {
          "color": "#ab63fa"
         },
         "mode": "markers+text",
         "name": "buin",
         "showlegend": true,
         "subplot": "mapbox",
         "text": [
          "buin"
         ],
         "type": "scattermapbox"
        },
        {
         "hovertemplate": "City=%{text}<br>Lat=%{lat}<br>Lng=%{lon}<extra></extra>",
         "lat": [
          4.6833
         ],
         "legendgroup": "nanga eboko",
         "lon": [
          12.3667
         ],
         "marker": {
          "color": "#FFA15A"
         },
         "mode": "markers+text",
         "name": "nanga eboko",
         "showlegend": true,
         "subplot": "mapbox",
         "text": [
          "nanga eboko"
         ],
         "type": "scattermapbox"
        },
        {
         "hovertemplate": "City=%{text}<br>Lat=%{lat}<br>Lng=%{lon}<extra></extra>",
         "lat": [
          11.8485
         ],
         "legendgroup": "san rafael del sur",
         "lon": [
          -86.4384
         ],
         "marker": {
          "color": "#19d3f3"
         },
         "mode": "markers+text",
         "name": "san rafael del sur",
         "showlegend": true,
         "subplot": "mapbox",
         "text": [
          "san rafael del sur"
         ],
         "type": "scattermapbox"
        },
        {
         "hovertemplate": "City=%{text}<br>Lat=%{lat}<br>Lng=%{lon}<extra></extra>",
         "lat": [
          5.3505
         ],
         "legendgroup": "hobyo",
         "lon": [
          48.5268
         ],
         "marker": {
          "color": "#FF6692"
         },
         "mode": "markers+text",
         "name": "hobyo",
         "showlegend": true,
         "subplot": "mapbox",
         "text": [
          "hobyo"
         ],
         "type": "scattermapbox"
        },
        {
         "hovertemplate": "City=%{text}<br>Lat=%{lat}<br>Lng=%{lon}<extra></extra>",
         "lat": [
          2.4312
         ],
         "legendgroup": "mersing",
         "lon": [
          103.8405
         ],
         "marker": {
          "color": "#B6E880"
         },
         "mode": "markers+text",
         "name": "mersing",
         "showlegend": true,
         "subplot": "mapbox",
         "text": [
          "mersing"
         ],
         "type": "scattermapbox"
        },
        {
         "hovertemplate": "City=%{text}<br>Lat=%{lat}<br>Lng=%{lon}<extra></extra>",
         "lat": [
          -16.7
         ],
         "legendgroup": "fare",
         "lon": [
          -151.0167
         ],
         "marker": {
          "color": "#FF97FF"
         },
         "mode": "markers+text",
         "name": "fare",
         "showlegend": true,
         "subplot": "mapbox",
         "text": [
          "fare"
         ],
         "type": "scattermapbox"
        },
        {
         "hovertemplate": "City=%{text}<br>Lat=%{lat}<br>Lng=%{lon}<extra></extra>",
         "lat": [
          -4.55
         ],
         "legendgroup": "bulungu",
         "lon": [
          18.6
         ],
         "marker": {
          "color": "#FECB52"
         },
         "mode": "markers+text",
         "name": "bulungu",
         "showlegend": true,
         "subplot": "mapbox",
         "text": [
          "bulungu"
         ],
         "type": "scattermapbox"
        },
        {
         "hovertemplate": "City=%{text}<br>Lat=%{lat}<br>Lng=%{lon}<extra></extra>",
         "lat": [
          14.9215
         ],
         "legendgroup": "praya",
         "lon": [
          -23.5087
         ],
         "marker": {
          "color": "#636efa"
         },
         "mode": "markers+text",
         "name": "praya",
         "showlegend": true,
         "subplot": "mapbox",
         "text": [
          "praya"
         ],
         "type": "scattermapbox"
        },
        {
         "hovertemplate": "City=%{text}<br>Lat=%{lat}<br>Lng=%{lon}<extra></extra>",
         "lat": [
          -12.0432
         ],
         "legendgroup": "lima",
         "lon": [
          -77.0282
         ],
         "marker": {
          "color": "#EF553B"
         },
         "mode": "markers+text",
         "name": "lima",
         "showlegend": true,
         "subplot": "mapbox",
         "text": [
          "lima"
         ],
         "type": "scattermapbox"
        },
        {
         "hovertemplate": "City=%{text}<br>Lat=%{lat}<br>Lng=%{lon}<extra></extra>",
         "lat": [
          11.6667
         ],
         "legendgroup": "port blair",
         "lon": [
          92.75
         ],
         "marker": {
          "color": "#00cc96"
         },
         "mode": "markers+text",
         "name": "port blair",
         "showlegend": true,
         "subplot": "mapbox",
         "text": [
          "port blair"
         ],
         "type": "scattermapbox"
        },
        {
         "hovertemplate": "City=%{text}<br>Lat=%{lat}<br>Lng=%{lon}<extra></extra>",
         "lat": [
          22.2876
         ],
         "legendgroup": "mathbaria",
         "lon": [
          89.9593
         ],
         "marker": {
          "color": "#ab63fa"
         },
         "mode": "markers+text",
         "name": "mathbaria",
         "showlegend": true,
         "subplot": "mapbox",
         "text": [
          "mathbaria"
         ],
         "type": "scattermapbox"
        },
        {
         "hovertemplate": "City=%{text}<br>Lat=%{lat}<br>Lng=%{lon}<extra></extra>",
         "lat": [
          -25.2406
         ],
         "legendgroup": "yulara",
         "lon": [
          130.9889
         ],
         "marker": {
          "color": "#FFA15A"
         },
         "mode": "markers+text",
         "name": "yulara",
         "showlegend": true,
         "subplot": "mapbox",
         "text": [
          "yulara"
         ],
         "type": "scattermapbox"
        },
        {
         "hovertemplate": "City=%{text}<br>Lat=%{lat}<br>Lng=%{lon}<extra></extra>",
         "lat": [
          25.5198
         ],
         "legendgroup": "tura",
         "lon": [
          90.2201
         ],
         "marker": {
          "color": "#19d3f3"
         },
         "mode": "markers+text",
         "name": "tura",
         "showlegend": true,
         "subplot": "mapbox",
         "text": [
          "tura"
         ],
         "type": "scattermapbox"
        },
        {
         "hovertemplate": "City=%{text}<br>Lat=%{lat}<br>Lng=%{lon}<extra></extra>",
         "lat": [
          6.7533
         ],
         "legendgroup": "robertsport",
         "lon": [
          -11.3686
         ],
         "marker": {
          "color": "#FF6692"
         },
         "mode": "markers+text",
         "name": "robertsport",
         "showlegend": true,
         "subplot": "mapbox",
         "text": [
          "robertsport"
         ],
         "type": "scattermapbox"
        },
        {
         "hovertemplate": "City=%{text}<br>Lat=%{lat}<br>Lng=%{lon}<extra></extra>",
         "lat": [
          26.5579
         ],
         "legendgroup": "bandar-e lengeh",
         "lon": [
          54.8807
         ],
         "marker": {
          "color": "#B6E880"
         },
         "mode": "markers+text",
         "name": "bandar-e lengeh",
         "showlegend": true,
         "subplot": "mapbox",
         "text": [
          "bandar-e lengeh"
         ],
         "type": "scattermapbox"
        },
        {
         "hovertemplate": "City=%{text}<br>Lat=%{lat}<br>Lng=%{lon}<extra></extra>",
         "lat": [
          -11.0964
         ],
         "legendgroup": "hualmay",
         "lon": [
          -77.6139
         ],
         "marker": {
          "color": "#FF97FF"
         },
         "mode": "markers+text",
         "name": "hualmay",
         "showlegend": true,
         "subplot": "mapbox",
         "text": [
          "hualmay"
         ],
         "type": "scattermapbox"
        },
        {
         "hovertemplate": "City=%{text}<br>Lat=%{lat}<br>Lng=%{lon}<extra></extra>",
         "lat": [
          -46.1333
         ],
         "legendgroup": "tuatapere",
         "lon": [
          167.6833
         ],
         "marker": {
          "color": "#FECB52"
         },
         "mode": "markers+text",
         "name": "tuatapere",
         "showlegend": true,
         "subplot": "mapbox",
         "text": [
          "tuatapere"
         ],
         "type": "scattermapbox"
        },
        {
         "hovertemplate": "City=%{text}<br>Lat=%{lat}<br>Lng=%{lon}<extra></extra>",
         "lat": [
          5.1033
         ],
         "legendgroup": "eydhafushi",
         "lon": [
          73.0708
         ],
         "marker": {
          "color": "#636efa"
         },
         "mode": "markers+text",
         "name": "eydhafushi",
         "showlegend": true,
         "subplot": "mapbox",
         "text": [
          "eydhafushi"
         ],
         "type": "scattermapbox"
        },
        {
         "hovertemplate": "City=%{text}<br>Lat=%{lat}<br>Lng=%{lon}<extra></extra>",
         "lat": [
          -3.7481
         ],
         "legendgroup": "iquitos",
         "lon": [
          -73.2472
         ],
         "marker": {
          "color": "#EF553B"
         },
         "mode": "markers+text",
         "name": "iquitos",
         "showlegend": true,
         "subplot": "mapbox",
         "text": [
          "iquitos"
         ],
         "type": "scattermapbox"
        },
        {
         "hovertemplate": "City=%{text}<br>Lat=%{lat}<br>Lng=%{lon}<extra></extra>",
         "lat": [
          -17.8
         ],
         "legendgroup": "santa cruz",
         "lon": [
          -63.1667
         ],
         "marker": {
          "color": "#00cc96"
         },
         "mode": "markers+text",
         "name": "santa cruz",
         "showlegend": true,
         "subplot": "mapbox",
         "text": [
          "santa cruz"
         ],
         "type": "scattermapbox"
        },
        {
         "hovertemplate": "City=%{text}<br>Lat=%{lat}<br>Lng=%{lon}<extra></extra>",
         "lat": [
          -42.7692
         ],
         "legendgroup": "puerto madryn",
         "lon": [
          -65.0385
         ],
         "marker": {
          "color": "#ab63fa"
         },
         "mode": "markers+text",
         "name": "puerto madryn",
         "showlegend": true,
         "subplot": "mapbox",
         "text": [
          "puerto madryn"
         ],
         "type": "scattermapbox"
        },
        {
         "hovertemplate": "City=%{text}<br>Lat=%{lat}<br>Lng=%{lon}<extra></extra>",
         "lat": [
          31.3866
         ],
         "legendgroup": "mankera",
         "lon": [
          71.4407
         ],
         "marker": {
          "color": "#FFA15A"
         },
         "mode": "markers+text",
         "name": "mankera",
         "showlegend": true,
         "subplot": "mapbox",
         "text": [
          "mankera"
         ],
         "type": "scattermapbox"
        },
        {
         "hovertemplate": "City=%{text}<br>Lat=%{lat}<br>Lng=%{lon}<extra></extra>",
         "lat": [
          -15.8631
         ],
         "legendgroup": "belmonte",
         "lon": [
          -38.8828
         ],
         "marker": {
          "color": "#19d3f3"
         },
         "mode": "markers+text",
         "name": "belmonte",
         "showlegend": true,
         "subplot": "mapbox",
         "text": [
          "belmonte"
         ],
         "type": "scattermapbox"
        },
        {
         "hovertemplate": "City=%{text}<br>Lat=%{lat}<br>Lng=%{lon}<extra></extra>",
         "lat": [
          -0.8667
         ],
         "legendgroup": "manokwari",
         "lon": [
          134.0833
         ],
         "marker": {
          "color": "#FF6692"
         },
         "mode": "markers+text",
         "name": "manokwari",
         "showlegend": true,
         "subplot": "mapbox",
         "text": [
          "manokwari"
         ],
         "type": "scattermapbox"
        },
        {
         "hovertemplate": "City=%{text}<br>Lat=%{lat}<br>Lng=%{lon}<extra></extra>",
         "lat": [
          -34.75
         ],
         "legendgroup": "goulburn",
         "lon": [
          149.7167
         ],
         "marker": {
          "color": "#B6E880"
         },
         "mode": "markers+text",
         "name": "goulburn",
         "showlegend": true,
         "subplot": "mapbox",
         "text": [
          "goulburn"
         ],
         "type": "scattermapbox"
        },
        {
         "hovertemplate": "City=%{text}<br>Lat=%{lat}<br>Lng=%{lon}<extra></extra>",
         "lat": [
          1.1667
         ],
         "legendgroup": "pemangkat",
         "lon": [
          108.9667
         ],
         "marker": {
          "color": "#FF97FF"
         },
         "mode": "markers+text",
         "name": "pemangkat",
         "showlegend": true,
         "subplot": "mapbox",
         "text": [
          "pemangkat"
         ],
         "type": "scattermapbox"
        },
        {
         "hovertemplate": "City=%{text}<br>Lat=%{lat}<br>Lng=%{lon}<extra></extra>",
         "lat": [
          -7.9139
         ],
         "legendgroup": "kilindoni",
         "lon": [
          39.6668
         ],
         "marker": {
          "color": "#FECB52"
         },
         "mode": "markers+text",
         "name": "kilindoni",
         "showlegend": true,
         "subplot": "mapbox",
         "text": [
          "kilindoni"
         ],
         "type": "scattermapbox"
        },
        {
         "hovertemplate": "City=%{text}<br>Lat=%{lat}<br>Lng=%{lon}<extra></extra>",
         "lat": [
          4.75
         ],
         "legendgroup": "limbang",
         "lon": [
          115
         ],
         "marker": {
          "color": "#636efa"
         },
         "mode": "markers+text",
         "name": "limbang",
         "showlegend": true,
         "subplot": "mapbox",
         "text": [
          "limbang"
         ],
         "type": "scattermapbox"
        },
        {
         "hovertemplate": "City=%{text}<br>Lat=%{lat}<br>Lng=%{lon}<extra></extra>",
         "lat": [
          6.1978
         ],
         "legendgroup": "tumpat",
         "lon": [
          102.171
         ],
         "marker": {
          "color": "#EF553B"
         },
         "mode": "markers+text",
         "name": "tumpat",
         "showlegend": true,
         "subplot": "mapbox",
         "text": [
          "tumpat"
         ],
         "type": "scattermapbox"
        },
        {
         "hovertemplate": "City=%{text}<br>Lat=%{lat}<br>Lng=%{lon}<extra></extra>",
         "lat": [
          -4.5772
         ],
         "legendgroup": "talara",
         "lon": [
          -81.2719
         ],
         "marker": {
          "color": "#00cc96"
         },
         "mode": "markers+text",
         "name": "talara",
         "showlegend": true,
         "subplot": "mapbox",
         "text": [
          "talara"
         ],
         "type": "scattermapbox"
        },
        {
         "hovertemplate": "City=%{text}<br>Lat=%{lat}<br>Lng=%{lon}<extra></extra>",
         "lat": [
          14.3
         ],
         "legendgroup": "champerico",
         "lon": [
          -91.9167
         ],
         "marker": {
          "color": "#ab63fa"
         },
         "mode": "markers+text",
         "name": "champerico",
         "showlegend": true,
         "subplot": "mapbox",
         "text": [
          "champerico"
         ],
         "type": "scattermapbox"
        },
        {
         "hovertemplate": "City=%{text}<br>Lat=%{lat}<br>Lng=%{lon}<extra></extra>",
         "lat": [
          -7.4706
         ],
         "legendgroup": "pitimbu",
         "lon": [
          -34.8086
         ],
         "marker": {
          "color": "#FFA15A"
         },
         "mode": "markers+text",
         "name": "pitimbu",
         "showlegend": true,
         "subplot": "mapbox",
         "text": [
          "pitimbu"
         ],
         "type": "scattermapbox"
        },
        {
         "hovertemplate": "City=%{text}<br>Lat=%{lat}<br>Lng=%{lon}<extra></extra>",
         "lat": [
          22.9333
         ],
         "legendgroup": "lashio",
         "lon": [
          97.75
         ],
         "marker": {
          "color": "#19d3f3"
         },
         "mode": "markers+text",
         "name": "lashio",
         "showlegend": true,
         "subplot": "mapbox",
         "text": [
          "lashio"
         ],
         "type": "scattermapbox"
        },
        {
         "hovertemplate": "City=%{text}<br>Lat=%{lat}<br>Lng=%{lon}<extra></extra>",
         "lat": [
          6.5423
         ],
         "legendgroup": "bria",
         "lon": [
          21.9863
         ],
         "marker": {
          "color": "#FF6692"
         },
         "mode": "markers+text",
         "name": "bria",
         "showlegend": true,
         "subplot": "mapbox",
         "text": [
          "bria"
         ],
         "type": "scattermapbox"
        },
        {
         "hovertemplate": "City=%{text}<br>Lat=%{lat}<br>Lng=%{lon}<extra></extra>",
         "lat": [
          11.1771
         ],
         "legendgroup": "bobo dioulasso",
         "lon": [
          -4.2979
         ],
         "marker": {
          "color": "#B6E880"
         },
         "mode": "markers+text",
         "name": "bobo dioulasso",
         "showlegend": true,
         "subplot": "mapbox",
         "text": [
          "bobo dioulasso"
         ],
         "type": "scattermapbox"
        },
        {
         "hovertemplate": "City=%{text}<br>Lat=%{lat}<br>Lng=%{lon}<extra></extra>",
         "lat": [
          18.0384
         ],
         "legendgroup": "pedernales",
         "lon": [
          -71.744
         ],
         "marker": {
          "color": "#FF97FF"
         },
         "mode": "markers+text",
         "name": "pedernales",
         "showlegend": true,
         "subplot": "mapbox",
         "text": [
          "pedernales"
         ],
         "type": "scattermapbox"
        },
        {
         "hovertemplate": "City=%{text}<br>Lat=%{lat}<br>Lng=%{lon}<extra></extra>",
         "lat": [
          -6.2167
         ],
         "legendgroup": "kieta",
         "lon": [
          155.6333
         ],
         "marker": {
          "color": "#FECB52"
         },
         "mode": "markers+text",
         "name": "kieta",
         "showlegend": true,
         "subplot": "mapbox",
         "text": [
          "kieta"
         ],
         "type": "scattermapbox"
        },
        {
         "hovertemplate": "City=%{text}<br>Lat=%{lat}<br>Lng=%{lon}<extra></extra>",
         "lat": [
          -0.9131
         ],
         "legendgroup": "biak",
         "lon": [
          122.8766
         ],
         "marker": {
          "color": "#636efa"
         },
         "mode": "markers+text",
         "name": "biak",
         "showlegend": true,
         "subplot": "mapbox",
         "text": [
          "biak"
         ],
         "type": "scattermapbox"
        },
        {
         "hovertemplate": "City=%{text}<br>Lat=%{lat}<br>Lng=%{lon}<extra></extra>",
         "lat": [
          -29.6641
         ],
         "legendgroup": "prieska",
         "lon": [
          22.7474
         ],
         "marker": {
          "color": "#EF553B"
         },
         "mode": "markers+text",
         "name": "prieska",
         "showlegend": true,
         "subplot": "mapbox",
         "text": [
          "prieska"
         ],
         "type": "scattermapbox"
        },
        {
         "hovertemplate": "City=%{text}<br>Lat=%{lat}<br>Lng=%{lon}<extra></extra>",
         "lat": [
          -25.2131
         ],
         "legendgroup": "prudentopolis",
         "lon": [
          -50.9778
         ],
         "marker": {
          "color": "#00cc96"
         },
         "mode": "markers+text",
         "name": "prudentopolis",
         "showlegend": true,
         "subplot": "mapbox",
         "text": [
          "prudentopolis"
         ],
         "type": "scattermapbox"
        },
        {
         "hovertemplate": "City=%{text}<br>Lat=%{lat}<br>Lng=%{lon}<extra></extra>",
         "lat": [
          26.1247
         ],
         "legendgroup": "itoman",
         "lon": [
          127.6694
         ],
         "marker": {
          "color": "#ab63fa"
         },
         "mode": "markers+text",
         "name": "itoman",
         "showlegend": true,
         "subplot": "mapbox",
         "text": [
          "itoman"
         ],
         "type": "scattermapbox"
        },
        {
         "hovertemplate": "City=%{text}<br>Lat=%{lat}<br>Lng=%{lon}<extra></extra>",
         "lat": [
          -45.8742
         ],
         "legendgroup": "dunedin",
         "lon": [
          170.5036
         ],
         "marker": {
          "color": "#FFA15A"
         },
         "mode": "markers+text",
         "name": "dunedin",
         "showlegend": true,
         "subplot": "mapbox",
         "text": [
          "dunedin"
         ],
         "type": "scattermapbox"
        },
        {
         "hovertemplate": "City=%{text}<br>Lat=%{lat}<br>Lng=%{lon}<extra></extra>",
         "lat": [
          6.4926
         ],
         "legendgroup": "bossangoa",
         "lon": [
          17.4552
         ],
         "marker": {
          "color": "#19d3f3"
         },
         "mode": "markers+text",
         "name": "bossangoa",
         "showlegend": true,
         "subplot": "mapbox",
         "text": [
          "bossangoa"
         ],
         "type": "scattermapbox"
        },
        {
         "hovertemplate": "City=%{text}<br>Lat=%{lat}<br>Lng=%{lon}<extra></extra>",
         "lat": [
          7.9803
         ],
         "legendgroup": "eyl",
         "lon": [
          49.8164
         ],
         "marker": {
          "color": "#FF6692"
         },
         "mode": "markers+text",
         "name": "eyl",
         "showlegend": true,
         "subplot": "mapbox",
         "text": [
          "eyl"
         ],
         "type": "scattermapbox"
        },
        {
         "hovertemplate": "City=%{text}<br>Lat=%{lat}<br>Lng=%{lon}<extra></extra>",
         "lat": [
          19.9333
         ],
         "legendgroup": "tomatlan",
         "lon": [
          -105.25
         ],
         "marker": {
          "color": "#B6E880"
         },
         "mode": "markers+text",
         "name": "tomatlan",
         "showlegend": true,
         "subplot": "mapbox",
         "text": [
          "tomatlan"
         ],
         "type": "scattermapbox"
        },
        {
         "hovertemplate": "City=%{text}<br>Lat=%{lat}<br>Lng=%{lon}<extra></extra>",
         "lat": [
          28.1667
         ],
         "legendgroup": "along",
         "lon": [
          94.7667
         ],
         "marker": {
          "color": "#FF97FF"
         },
         "mode": "markers+text",
         "name": "along",
         "showlegend": true,
         "subplot": "mapbox",
         "text": [
          "along"
         ],
         "type": "scattermapbox"
        },
        {
         "hovertemplate": "City=%{text}<br>Lat=%{lat}<br>Lng=%{lon}<extra></extra>",
         "lat": [
          -19.0595
         ],
         "legendgroup": "alofi",
         "lon": [
          -169.9187
         ],
         "marker": {
          "color": "#FECB52"
         },
         "mode": "markers+text",
         "name": "alofi",
         "showlegend": true,
         "subplot": "mapbox",
         "text": [
          "alofi"
         ],
         "type": "scattermapbox"
        },
        {
         "hovertemplate": "City=%{text}<br>Lat=%{lat}<br>Lng=%{lon}<extra></extra>",
         "lat": [
          5.8833
         ],
         "legendgroup": "nieuw amsterdam",
         "lon": [
          -55.0833
         ],
         "marker": {
          "color": "#636efa"
         },
         "mode": "markers+text",
         "name": "nieuw amsterdam",
         "showlegend": true,
         "subplot": "mapbox",
         "text": [
          "nieuw amsterdam"
         ],
         "type": "scattermapbox"
        },
        {
         "hovertemplate": "City=%{text}<br>Lat=%{lat}<br>Lng=%{lon}<extra></extra>",
         "lat": [
          -17.3667
         ],
         "legendgroup": "maamba",
         "lon": [
          27.15
         ],
         "marker": {
          "color": "#EF553B"
         },
         "mode": "markers+text",
         "name": "maamba",
         "showlegend": true,
         "subplot": "mapbox",
         "text": [
          "maamba"
         ],
         "type": "scattermapbox"
        },
        {
         "hovertemplate": "City=%{text}<br>Lat=%{lat}<br>Lng=%{lon}<extra></extra>",
         "lat": [
          24.8
         ],
         "legendgroup": "hirara",
         "lon": [
          125.2833
         ],
         "marker": {
          "color": "#00cc96"
         },
         "mode": "markers+text",
         "name": "hirara",
         "showlegend": true,
         "subplot": "mapbox",
         "text": [
          "hirara"
         ],
         "type": "scattermapbox"
        },
        {
         "hovertemplate": "City=%{text}<br>Lat=%{lat}<br>Lng=%{lon}<extra></extra>",
         "lat": [
          18.45
         ],
         "legendgroup": "nicolas bravo",
         "lon": [
          -88.9167
         ],
         "marker": {
          "color": "#ab63fa"
         },
         "mode": "markers+text",
         "name": "nicolas bravo",
         "showlegend": true,
         "subplot": "mapbox",
         "text": [
          "nicolas bravo"
         ],
         "type": "scattermapbox"
        },
        {
         "hovertemplate": "City=%{text}<br>Lat=%{lat}<br>Lng=%{lon}<extra></extra>",
         "lat": [
          -20.2333
         ],
         "legendgroup": "poum",
         "lon": [
          164.0167
         ],
         "marker": {
          "color": "#FFA15A"
         },
         "mode": "markers+text",
         "name": "poum",
         "showlegend": true,
         "subplot": "mapbox",
         "text": [
          "poum"
         ],
         "type": "scattermapbox"
        },
        {
         "hovertemplate": "City=%{text}<br>Lat=%{lat}<br>Lng=%{lon}<extra></extra>",
         "lat": [
          -13.2
         ],
         "legendgroup": "ambilobe",
         "lon": [
          49.05
         ],
         "marker": {
          "color": "#19d3f3"
         },
         "mode": "markers+text",
         "name": "ambilobe",
         "showlegend": true,
         "subplot": "mapbox",
         "text": [
          "ambilobe"
         ],
         "type": "scattermapbox"
        },
        {
         "hovertemplate": "City=%{text}<br>Lat=%{lat}<br>Lng=%{lon}<extra></extra>",
         "lat": [
          -23.4167
         ],
         "legendgroup": "costa rica",
         "lon": [
          -54.65
         ],
         "marker": {
          "color": "#FF6692"
         },
         "mode": "markers+text",
         "name": "costa rica",
         "showlegend": true,
         "subplot": "mapbox",
         "text": [
          "costa rica"
         ],
         "type": "scattermapbox"
        },
        {
         "hovertemplate": "City=%{text}<br>Lat=%{lat}<br>Lng=%{lon}<extra></extra>",
         "lat": [
          18.4167
         ],
         "legendgroup": "narasannapeta",
         "lon": [
          84.05
         ],
         "marker": {
          "color": "#B6E880"
         },
         "mode": "markers+text",
         "name": "narasannapeta",
         "showlegend": true,
         "subplot": "mapbox",
         "text": [
          "narasannapeta"
         ],
         "type": "scattermapbox"
        },
        {
         "hovertemplate": "City=%{text}<br>Lat=%{lat}<br>Lng=%{lon}<extra></extra>",
         "lat": [
          12.5847
         ],
         "legendgroup": "san andres",
         "lon": [
          -81.7006
         ],
         "marker": {
          "color": "#FF97FF"
         },
         "mode": "markers+text",
         "name": "san andres",
         "showlegend": true,
         "subplot": "mapbox",
         "text": [
          "san andres"
         ],
         "type": "scattermapbox"
        },
        {
         "hovertemplate": "City=%{text}<br>Lat=%{lat}<br>Lng=%{lon}<extra></extra>",
         "lat": [
          -30.1811
         ],
         "legendgroup": "cidreira",
         "lon": [
          -50.2056
         ],
         "marker": {
          "color": "#FECB52"
         },
         "mode": "markers+text",
         "name": "cidreira",
         "showlegend": true,
         "subplot": "mapbox",
         "text": [
          "cidreira"
         ],
         "type": "scattermapbox"
        },
        {
         "hovertemplate": "City=%{text}<br>Lat=%{lat}<br>Lng=%{lon}<extra></extra>",
         "lat": [
          -26.1775
         ],
         "legendgroup": "formosa",
         "lon": [
          -58.1781
         ],
         "marker": {
          "color": "#636efa"
         },
         "mode": "markers+text",
         "name": "formosa",
         "showlegend": true,
         "subplot": "mapbox",
         "text": [
          "formosa"
         ],
         "type": "scattermapbox"
        },
        {
         "hovertemplate": "City=%{text}<br>Lat=%{lat}<br>Lng=%{lon}<extra></extra>",
         "lat": [
          7.5264
         ],
         "legendgroup": "bonthe",
         "lon": [
          -12.505
         ],
         "marker": {
          "color": "#EF553B"
         },
         "mode": "markers+text",
         "name": "bonthe",
         "showlegend": true,
         "subplot": "mapbox",
         "text": [
          "bonthe"
         ],
         "type": "scattermapbox"
        },
        {
         "hovertemplate": "City=%{text}<br>Lat=%{lat}<br>Lng=%{lon}<extra></extra>",
         "lat": [
          -32.8908
         ],
         "legendgroup": "mendoza",
         "lon": [
          -68.8272
         ],
         "marker": {
          "color": "#00cc96"
         },
         "mode": "markers+text",
         "name": "mendoza",
         "showlegend": true,
         "subplot": "mapbox",
         "text": [
          "mendoza"
         ],
         "type": "scattermapbox"
        },
        {
         "hovertemplate": "City=%{text}<br>Lat=%{lat}<br>Lng=%{lon}<extra></extra>",
         "lat": [
          17.9583
         ],
         "legendgroup": "lazaro cardenas",
         "lon": [
          -102.2
         ],
         "marker": {
          "color": "#ab63fa"
         },
         "mode": "markers+text",
         "name": "lazaro cardenas",
         "showlegend": true,
         "subplot": "mapbox",
         "text": [
          "lazaro cardenas"
         ],
         "type": "scattermapbox"
        },
        {
         "hovertemplate": "City=%{text}<br>Lat=%{lat}<br>Lng=%{lon}<extra></extra>",
         "lat": [
          13.0349
         ],
         "legendgroup": "kita",
         "lon": [
          -9.4895
         ],
         "marker": {
          "color": "#FFA15A"
         },
         "mode": "markers+text",
         "name": "kita",
         "showlegend": true,
         "subplot": "mapbox",
         "text": [
          "kita"
         ],
         "type": "scattermapbox"
        },
        {
         "hovertemplate": "City=%{text}<br>Lat=%{lat}<br>Lng=%{lon}<extra></extra>",
         "lat": [
          -8.3791
         ],
         "legendgroup": "pucallpa",
         "lon": [
          -74.5539
         ],
         "marker": {
          "color": "#19d3f3"
         },
         "mode": "markers+text",
         "name": "pucallpa",
         "showlegend": true,
         "subplot": "mapbox",
         "text": [
          "pucallpa"
         ],
         "type": "scattermapbox"
        },
        {
         "hovertemplate": "City=%{text}<br>Lat=%{lat}<br>Lng=%{lon}<extra></extra>",
         "lat": [
          -45.4167
         ],
         "legendgroup": "te anau",
         "lon": [
          167.7167
         ],
         "marker": {
          "color": "#FF6692"
         },
         "mode": "markers+text",
         "name": "te anau",
         "showlegend": true,
         "subplot": "mapbox",
         "text": [
          "te anau"
         ],
         "type": "scattermapbox"
        },
        {
         "hovertemplate": "City=%{text}<br>Lat=%{lat}<br>Lng=%{lon}<extra></extra>",
         "lat": [
          6.4965
         ],
         "legendgroup": "porto novo",
         "lon": [
          2.6036
         ],
         "marker": {
          "color": "#B6E880"
         },
         "mode": "markers+text",
         "name": "porto novo",
         "showlegend": true,
         "subplot": "mapbox",
         "text": [
          "porto novo"
         ],
         "type": "scattermapbox"
        },
        {
         "hovertemplate": "City=%{text}<br>Lat=%{lat}<br>Lng=%{lon}<extra></extra>",
         "lat": [
          -39.0333
         ],
         "legendgroup": "general roca",
         "lon": [
          -67.5833
         ],
         "marker": {
          "color": "#FF97FF"
         },
         "mode": "markers+text",
         "name": "general roca",
         "showlegend": true,
         "subplot": "mapbox",
         "text": [
          "general roca"
         ],
         "type": "scattermapbox"
        },
        {
         "hovertemplate": "City=%{text}<br>Lat=%{lat}<br>Lng=%{lon}<extra></extra>",
         "lat": [
          -23.865
         ],
         "legendgroup": "inhambane",
         "lon": [
          35.3833
         ],
         "marker": {
          "color": "#FECB52"
         },
         "mode": "markers+text",
         "name": "inhambane",
         "showlegend": true,
         "subplot": "mapbox",
         "text": [
          "inhambane"
         ],
         "type": "scattermapbox"
        },
        {
         "hovertemplate": "City=%{text}<br>Lat=%{lat}<br>Lng=%{lon}<extra></extra>",
         "lat": [
          24.4667
         ],
         "legendgroup": "abu dhabi",
         "lon": [
          54.3667
         ],
         "marker": {
          "color": "#636efa"
         },
         "mode": "markers+text",
         "name": "abu dhabi",
         "showlegend": true,
         "subplot": "mapbox",
         "text": [
          "abu dhabi"
         ],
         "type": "scattermapbox"
        },
        {
         "hovertemplate": "City=%{text}<br>Lat=%{lat}<br>Lng=%{lon}<extra></extra>",
         "lat": [
          -9.6567
         ],
         "legendgroup": "waingapu",
         "lon": [
          120.2641
         ],
         "marker": {
          "color": "#EF553B"
         },
         "mode": "markers+text",
         "name": "waingapu",
         "showlegend": true,
         "subplot": "mapbox",
         "text": [
          "waingapu"
         ],
         "type": "scattermapbox"
        },
        {
         "hovertemplate": "City=%{text}<br>Lat=%{lat}<br>Lng=%{lon}<extra></extra>",
         "lat": [
          -8.8368
         ],
         "legendgroup": "luanda",
         "lon": [
          13.2343
         ],
         "marker": {
          "color": "#00cc96"
         },
         "mode": "markers+text",
         "name": "luanda",
         "showlegend": true,
         "subplot": "mapbox",
         "text": [
          "luanda"
         ],
         "type": "scattermapbox"
        },
        {
         "hovertemplate": "City=%{text}<br>Lat=%{lat}<br>Lng=%{lon}<extra></extra>",
         "lat": [
          -3.432
         ],
         "legendgroup": "mayumba",
         "lon": [
          10.6554
         ],
         "marker": {
          "color": "#ab63fa"
         },
         "mode": "markers+text",
         "name": "mayumba",
         "showlegend": true,
         "subplot": "mapbox",
         "text": [
          "mayumba"
         ],
         "type": "scattermapbox"
        },
        {
         "hovertemplate": "City=%{text}<br>Lat=%{lat}<br>Lng=%{lon}<extra></extra>",
         "lat": [
          6.189
         ],
         "legendgroup": "puerto carreno",
         "lon": [
          -67.4859
         ],
         "marker": {
          "color": "#FFA15A"
         },
         "mode": "markers+text",
         "name": "puerto carreno",
         "showlegend": true,
         "subplot": "mapbox",
         "text": [
          "puerto carreno"
         ],
         "type": "scattermapbox"
        },
        {
         "hovertemplate": "City=%{text}<br>Lat=%{lat}<br>Lng=%{lon}<extra></extra>",
         "lat": [
          -7.8447
         ],
         "legendgroup": "chicama",
         "lon": [
          -79.1469
         ],
         "marker": {
          "color": "#19d3f3"
         },
         "mode": "markers+text",
         "name": "chicama",
         "showlegend": true,
         "subplot": "mapbox",
         "text": [
          "chicama"
         ],
         "type": "scattermapbox"
        },
        {
         "hovertemplate": "City=%{text}<br>Lat=%{lat}<br>Lng=%{lon}<extra></extra>",
         "lat": [
          -7.2597
         ],
         "legendgroup": "conde",
         "lon": [
          -34.9075
         ],
         "marker": {
          "color": "#FF6692"
         },
         "mode": "markers+text",
         "name": "conde",
         "showlegend": true,
         "subplot": "mapbox",
         "text": [
          "conde"
         ],
         "type": "scattermapbox"
        },
        {
         "hovertemplate": "City=%{text}<br>Lat=%{lat}<br>Lng=%{lon}<extra></extra>",
         "lat": [
          -3.4667
         ],
         "legendgroup": "curup",
         "lon": [
          102.5333
         ],
         "marker": {
          "color": "#B6E880"
         },
         "mode": "markers+text",
         "name": "curup",
         "showlegend": true,
         "subplot": "mapbox",
         "text": [
          "curup"
         ],
         "type": "scattermapbox"
        },
        {
         "hovertemplate": "City=%{text}<br>Lat=%{lat}<br>Lng=%{lon}<extra></extra>",
         "lat": [
          18.3333
         ],
         "legendgroup": "ha tinh",
         "lon": [
          105.9
         ],
         "marker": {
          "color": "#FF97FF"
         },
         "mode": "markers+text",
         "name": "ha tinh",
         "showlegend": true,
         "subplot": "mapbox",
         "text": [
          "ha tinh"
         ],
         "type": "scattermapbox"
        },
        {
         "hovertemplate": "City=%{text}<br>Lat=%{lat}<br>Lng=%{lon}<extra></extra>",
         "lat": [
          -13.8833
         ],
         "legendgroup": "sola",
         "lon": [
          167.55
         ],
         "marker": {
          "color": "#FECB52"
         },
         "mode": "markers+text",
         "name": "sola",
         "showlegend": true,
         "subplot": "mapbox",
         "text": [
          "sola"
         ],
         "type": "scattermapbox"
        },
        {
         "hovertemplate": "City=%{text}<br>Lat=%{lat}<br>Lng=%{lon}<extra></extra>",
         "lat": [
          12.2188
         ],
         "legendgroup": "alugan",
         "lon": [
          125.4808
         ],
         "marker": {
          "color": "#636efa"
         },
         "mode": "markers+text",
         "name": "alugan",
         "showlegend": true,
         "subplot": "mapbox",
         "text": [
          "alugan"
         ],
         "type": "scattermapbox"
        },
        {
         "hovertemplate": "City=%{text}<br>Lat=%{lat}<br>Lng=%{lon}<extra></extra>",
         "lat": [
          7.3106
         ],
         "legendgroup": "olutanga",
         "lon": [
          122.8464
         ],
         "marker": {
          "color": "#EF553B"
         },
         "mode": "markers+text",
         "name": "olutanga",
         "showlegend": true,
         "subplot": "mapbox",
         "text": [
          "olutanga"
         ],
         "type": "scattermapbox"
        },
        {
         "hovertemplate": "City=%{text}<br>Lat=%{lat}<br>Lng=%{lon}<extra></extra>",
         "lat": [
          -15.4311
         ],
         "legendgroup": "acari",
         "lon": [
          -74.6158
         ],
         "marker": {
          "color": "#00cc96"
         },
         "mode": "markers+text",
         "name": "acari",
         "showlegend": true,
         "subplot": "mapbox",
         "text": [
          "acari"
         ],
         "type": "scattermapbox"
        },
        {
         "hovertemplate": "City=%{text}<br>Lat=%{lat}<br>Lng=%{lon}<extra></extra>",
         "lat": [
          -8.103
         ],
         "legendgroup": "gizo",
         "lon": [
          156.8419
         ],
         "marker": {
          "color": "#ab63fa"
         },
         "mode": "markers+text",
         "name": "gizo",
         "showlegend": true,
         "subplot": "mapbox",
         "text": [
          "gizo"
         ],
         "type": "scattermapbox"
        },
        {
         "hovertemplate": "City=%{text}<br>Lat=%{lat}<br>Lng=%{lon}<extra></extra>",
         "lat": [
          2.0371
         ],
         "legendgroup": "mogadishu",
         "lon": [
          45.3438
         ],
         "marker": {
          "color": "#FFA15A"
         },
         "mode": "markers+text",
         "name": "mogadishu",
         "showlegend": true,
         "subplot": "mapbox",
         "text": [
          "mogadishu"
         ],
         "type": "scattermapbox"
        },
        {
         "hovertemplate": "City=%{text}<br>Lat=%{lat}<br>Lng=%{lon}<extra></extra>",
         "lat": [
          13.0006
         ],
         "legendgroup": "hassan",
         "lon": [
          76.0994
         ],
         "marker": {
          "color": "#19d3f3"
         },
         "mode": "markers+text",
         "name": "hassan",
         "showlegend": true,
         "subplot": "mapbox",
         "text": [
          "hassan"
         ],
         "type": "scattermapbox"
        },
        {
         "hovertemplate": "City=%{text}<br>Lat=%{lat}<br>Lng=%{lon}<extra></extra>",
         "lat": [
          5.2052
         ],
         "legendgroup": "jacqueville",
         "lon": [
          -4.4146
         ],
         "marker": {
          "color": "#FF6692"
         },
         "mode": "markers+text",
         "name": "jacqueville",
         "showlegend": true,
         "subplot": "mapbox",
         "text": [
          "jacqueville"
         ],
         "type": "scattermapbox"
        },
        {
         "hovertemplate": "City=%{text}<br>Lat=%{lat}<br>Lng=%{lon}<extra></extra>",
         "lat": [
          -8.4667
         ],
         "legendgroup": "merauke",
         "lon": [
          140.3333
         ],
         "marker": {
          "color": "#B6E880"
         },
         "mode": "markers+text",
         "name": "merauke",
         "showlegend": true,
         "subplot": "mapbox",
         "text": [
          "merauke"
         ],
         "type": "scattermapbox"
        }
       ],
       "layout": {
        "legend": {
         "title": {
          "text": "City"
         },
         "tracegroupgap": 0
        },
        "mapbox": {
         "center": {
          "lat": -5.7069600917431185,
          "lon": 19.329682110091746
         },
         "domain": {
          "x": [
           0,
           1
          ],
          "y": [
           0,
           1
          ]
         },
         "style": "open-street-map",
         "zoom": 5
        },
        "margin": {
         "t": 60
        },
        "template": {
         "data": {
          "bar": [
           {
            "error_x": {
             "color": "#2a3f5f"
            },
            "error_y": {
             "color": "#2a3f5f"
            },
            "marker": {
             "line": {
              "color": "#E5ECF6",
              "width": 0.5
             },
             "pattern": {
              "fillmode": "overlay",
              "size": 10,
              "solidity": 0.2
             }
            },
            "type": "bar"
           }
          ],
          "barpolar": [
           {
            "marker": {
             "line": {
              "color": "#E5ECF6",
              "width": 0.5
             },
             "pattern": {
              "fillmode": "overlay",
              "size": 10,
              "solidity": 0.2
             }
            },
            "type": "barpolar"
           }
          ],
          "carpet": [
           {
            "aaxis": {
             "endlinecolor": "#2a3f5f",
             "gridcolor": "white",
             "linecolor": "white",
             "minorgridcolor": "white",
             "startlinecolor": "#2a3f5f"
            },
            "baxis": {
             "endlinecolor": "#2a3f5f",
             "gridcolor": "white",
             "linecolor": "white",
             "minorgridcolor": "white",
             "startlinecolor": "#2a3f5f"
            },
            "type": "carpet"
           }
          ],
          "choropleth": [
           {
            "colorbar": {
             "outlinewidth": 0,
             "ticks": ""
            },
            "type": "choropleth"
           }
          ],
          "contour": [
           {
            "colorbar": {
             "outlinewidth": 0,
             "ticks": ""
            },
            "colorscale": [
             [
              0,
              "#0d0887"
             ],
             [
              0.1111111111111111,
              "#46039f"
             ],
             [
              0.2222222222222222,
              "#7201a8"
             ],
             [
              0.3333333333333333,
              "#9c179e"
             ],
             [
              0.4444444444444444,
              "#bd3786"
             ],
             [
              0.5555555555555556,
              "#d8576b"
             ],
             [
              0.6666666666666666,
              "#ed7953"
             ],
             [
              0.7777777777777778,
              "#fb9f3a"
             ],
             [
              0.8888888888888888,
              "#fdca26"
             ],
             [
              1,
              "#f0f921"
             ]
            ],
            "type": "contour"
           }
          ],
          "contourcarpet": [
           {
            "colorbar": {
             "outlinewidth": 0,
             "ticks": ""
            },
            "type": "contourcarpet"
           }
          ],
          "heatmap": [
           {
            "colorbar": {
             "outlinewidth": 0,
             "ticks": ""
            },
            "colorscale": [
             [
              0,
              "#0d0887"
             ],
             [
              0.1111111111111111,
              "#46039f"
             ],
             [
              0.2222222222222222,
              "#7201a8"
             ],
             [
              0.3333333333333333,
              "#9c179e"
             ],
             [
              0.4444444444444444,
              "#bd3786"
             ],
             [
              0.5555555555555556,
              "#d8576b"
             ],
             [
              0.6666666666666666,
              "#ed7953"
             ],
             [
              0.7777777777777778,
              "#fb9f3a"
             ],
             [
              0.8888888888888888,
              "#fdca26"
             ],
             [
              1,
              "#f0f921"
             ]
            ],
            "type": "heatmap"
           }
          ],
          "heatmapgl": [
           {
            "colorbar": {
             "outlinewidth": 0,
             "ticks": ""
            },
            "colorscale": [
             [
              0,
              "#0d0887"
             ],
             [
              0.1111111111111111,
              "#46039f"
             ],
             [
              0.2222222222222222,
              "#7201a8"
             ],
             [
              0.3333333333333333,
              "#9c179e"
             ],
             [
              0.4444444444444444,
              "#bd3786"
             ],
             [
              0.5555555555555556,
              "#d8576b"
             ],
             [
              0.6666666666666666,
              "#ed7953"
             ],
             [
              0.7777777777777778,
              "#fb9f3a"
             ],
             [
              0.8888888888888888,
              "#fdca26"
             ],
             [
              1,
              "#f0f921"
             ]
            ],
            "type": "heatmapgl"
           }
          ],
          "histogram": [
           {
            "marker": {
             "pattern": {
              "fillmode": "overlay",
              "size": 10,
              "solidity": 0.2
             }
            },
            "type": "histogram"
           }
          ],
          "histogram2d": [
           {
            "colorbar": {
             "outlinewidth": 0,
             "ticks": ""
            },
            "colorscale": [
             [
              0,
              "#0d0887"
             ],
             [
              0.1111111111111111,
              "#46039f"
             ],
             [
              0.2222222222222222,
              "#7201a8"
             ],
             [
              0.3333333333333333,
              "#9c179e"
             ],
             [
              0.4444444444444444,
              "#bd3786"
             ],
             [
              0.5555555555555556,
              "#d8576b"
             ],
             [
              0.6666666666666666,
              "#ed7953"
             ],
             [
              0.7777777777777778,
              "#fb9f3a"
             ],
             [
              0.8888888888888888,
              "#fdca26"
             ],
             [
              1,
              "#f0f921"
             ]
            ],
            "type": "histogram2d"
           }
          ],
          "histogram2dcontour": [
           {
            "colorbar": {
             "outlinewidth": 0,
             "ticks": ""
            },
            "colorscale": [
             [
              0,
              "#0d0887"
             ],
             [
              0.1111111111111111,
              "#46039f"
             ],
             [
              0.2222222222222222,
              "#7201a8"
             ],
             [
              0.3333333333333333,
              "#9c179e"
             ],
             [
              0.4444444444444444,
              "#bd3786"
             ],
             [
              0.5555555555555556,
              "#d8576b"
             ],
             [
              0.6666666666666666,
              "#ed7953"
             ],
             [
              0.7777777777777778,
              "#fb9f3a"
             ],
             [
              0.8888888888888888,
              "#fdca26"
             ],
             [
              1,
              "#f0f921"
             ]
            ],
            "type": "histogram2dcontour"
           }
          ],
          "mesh3d": [
           {
            "colorbar": {
             "outlinewidth": 0,
             "ticks": ""
            },
            "type": "mesh3d"
           }
          ],
          "parcoords": [
           {
            "line": {
             "colorbar": {
              "outlinewidth": 0,
              "ticks": ""
             }
            },
            "type": "parcoords"
           }
          ],
          "pie": [
           {
            "automargin": true,
            "type": "pie"
           }
          ],
          "scatter": [
           {
            "fillpattern": {
             "fillmode": "overlay",
             "size": 10,
             "solidity": 0.2
            },
            "type": "scatter"
           }
          ],
          "scatter3d": [
           {
            "line": {
             "colorbar": {
              "outlinewidth": 0,
              "ticks": ""
             }
            },
            "marker": {
             "colorbar": {
              "outlinewidth": 0,
              "ticks": ""
             }
            },
            "type": "scatter3d"
           }
          ],
          "scattercarpet": [
           {
            "marker": {
             "colorbar": {
              "outlinewidth": 0,
              "ticks": ""
             }
            },
            "type": "scattercarpet"
           }
          ],
          "scattergeo": [
           {
            "marker": {
             "colorbar": {
              "outlinewidth": 0,
              "ticks": ""
             }
            },
            "type": "scattergeo"
           }
          ],
          "scattergl": [
           {
            "marker": {
             "colorbar": {
              "outlinewidth": 0,
              "ticks": ""
             }
            },
            "type": "scattergl"
           }
          ],
          "scattermapbox": [
           {
            "marker": {
             "colorbar": {
              "outlinewidth": 0,
              "ticks": ""
             }
            },
            "type": "scattermapbox"
           }
          ],
          "scatterpolar": [
           {
            "marker": {
             "colorbar": {
              "outlinewidth": 0,
              "ticks": ""
             }
            },
            "type": "scatterpolar"
           }
          ],
          "scatterpolargl": [
           {
            "marker": {
             "colorbar": {
              "outlinewidth": 0,
              "ticks": ""
             }
            },
            "type": "scatterpolargl"
           }
          ],
          "scatterternary": [
           {
            "marker": {
             "colorbar": {
              "outlinewidth": 0,
              "ticks": ""
             }
            },
            "type": "scatterternary"
           }
          ],
          "surface": [
           {
            "colorbar": {
             "outlinewidth": 0,
             "ticks": ""
            },
            "colorscale": [
             [
              0,
              "#0d0887"
             ],
             [
              0.1111111111111111,
              "#46039f"
             ],
             [
              0.2222222222222222,
              "#7201a8"
             ],
             [
              0.3333333333333333,
              "#9c179e"
             ],
             [
              0.4444444444444444,
              "#bd3786"
             ],
             [
              0.5555555555555556,
              "#d8576b"
             ],
             [
              0.6666666666666666,
              "#ed7953"
             ],
             [
              0.7777777777777778,
              "#fb9f3a"
             ],
             [
              0.8888888888888888,
              "#fdca26"
             ],
             [
              1,
              "#f0f921"
             ]
            ],
            "type": "surface"
           }
          ],
          "table": [
           {
            "cells": {
             "fill": {
              "color": "#EBF0F8"
             },
             "line": {
              "color": "white"
             }
            },
            "header": {
             "fill": {
              "color": "#C8D4E3"
             },
             "line": {
              "color": "white"
             }
            },
            "type": "table"
           }
          ]
         },
         "layout": {
          "annotationdefaults": {
           "arrowcolor": "#2a3f5f",
           "arrowhead": 0,
           "arrowwidth": 1
          },
          "autotypenumbers": "strict",
          "coloraxis": {
           "colorbar": {
            "outlinewidth": 0,
            "ticks": ""
           }
          },
          "colorscale": {
           "diverging": [
            [
             0,
             "#8e0152"
            ],
            [
             0.1,
             "#c51b7d"
            ],
            [
             0.2,
             "#de77ae"
            ],
            [
             0.3,
             "#f1b6da"
            ],
            [
             0.4,
             "#fde0ef"
            ],
            [
             0.5,
             "#f7f7f7"
            ],
            [
             0.6,
             "#e6f5d0"
            ],
            [
             0.7,
             "#b8e186"
            ],
            [
             0.8,
             "#7fbc41"
            ],
            [
             0.9,
             "#4d9221"
            ],
            [
             1,
             "#276419"
            ]
           ],
           "sequential": [
            [
             0,
             "#0d0887"
            ],
            [
             0.1111111111111111,
             "#46039f"
            ],
            [
             0.2222222222222222,
             "#7201a8"
            ],
            [
             0.3333333333333333,
             "#9c179e"
            ],
            [
             0.4444444444444444,
             "#bd3786"
            ],
            [
             0.5555555555555556,
             "#d8576b"
            ],
            [
             0.6666666666666666,
             "#ed7953"
            ],
            [
             0.7777777777777778,
             "#fb9f3a"
            ],
            [
             0.8888888888888888,
             "#fdca26"
            ],
            [
             1,
             "#f0f921"
            ]
           ],
           "sequentialminus": [
            [
             0,
             "#0d0887"
            ],
            [
             0.1111111111111111,
             "#46039f"
            ],
            [
             0.2222222222222222,
             "#7201a8"
            ],
            [
             0.3333333333333333,
             "#9c179e"
            ],
            [
             0.4444444444444444,
             "#bd3786"
            ],
            [
             0.5555555555555556,
             "#d8576b"
            ],
            [
             0.6666666666666666,
             "#ed7953"
            ],
            [
             0.7777777777777778,
             "#fb9f3a"
            ],
            [
             0.8888888888888888,
             "#fdca26"
            ],
            [
             1,
             "#f0f921"
            ]
           ]
          },
          "colorway": [
           "#636efa",
           "#EF553B",
           "#00cc96",
           "#ab63fa",
           "#FFA15A",
           "#19d3f3",
           "#FF6692",
           "#B6E880",
           "#FF97FF",
           "#FECB52"
          ],
          "font": {
           "color": "#2a3f5f"
          },
          "geo": {
           "bgcolor": "white",
           "lakecolor": "white",
           "landcolor": "#E5ECF6",
           "showlakes": true,
           "showland": true,
           "subunitcolor": "white"
          },
          "hoverlabel": {
           "align": "left"
          },
          "hovermode": "closest",
          "mapbox": {
           "style": "light"
          },
          "paper_bgcolor": "white",
          "plot_bgcolor": "#E5ECF6",
          "polar": {
           "angularaxis": {
            "gridcolor": "white",
            "linecolor": "white",
            "ticks": ""
           },
           "bgcolor": "#E5ECF6",
           "radialaxis": {
            "gridcolor": "white",
            "linecolor": "white",
            "ticks": ""
           }
          },
          "scene": {
           "xaxis": {
            "backgroundcolor": "#E5ECF6",
            "gridcolor": "white",
            "gridwidth": 2,
            "linecolor": "white",
            "showbackground": true,
            "ticks": "",
            "zerolinecolor": "white"
           },
           "yaxis": {
            "backgroundcolor": "#E5ECF6",
            "gridcolor": "white",
            "gridwidth": 2,
            "linecolor": "white",
            "showbackground": true,
            "ticks": "",
            "zerolinecolor": "white"
           },
           "zaxis": {
            "backgroundcolor": "#E5ECF6",
            "gridcolor": "white",
            "gridwidth": 2,
            "linecolor": "white",
            "showbackground": true,
            "ticks": "",
            "zerolinecolor": "white"
           }
          },
          "shapedefaults": {
           "line": {
            "color": "#2a3f5f"
           }
          },
          "ternary": {
           "aaxis": {
            "gridcolor": "white",
            "linecolor": "white",
            "ticks": ""
           },
           "baxis": {
            "gridcolor": "white",
            "linecolor": "white",
            "ticks": ""
           },
           "bgcolor": "#E5ECF6",
           "caxis": {
            "gridcolor": "white",
            "linecolor": "white",
            "ticks": ""
           }
          },
          "title": {
           "x": 0.05
          },
          "xaxis": {
           "automargin": true,
           "gridcolor": "white",
           "linecolor": "white",
           "ticks": "",
           "title": {
            "standoff": 15
           },
           "zerolinecolor": "white",
           "zerolinewidth": 2
          },
          "yaxis": {
           "automargin": true,
           "gridcolor": "white",
           "linecolor": "white",
           "ticks": "",
           "title": {
            "standoff": 15
           },
           "zerolinecolor": "white",
           "zerolinewidth": 2
          }
         }
        },
        "title": {
         "text": "Cities with Accommodation"
        }
       }
      }
     },
     "metadata": {},
     "output_type": "display_data"
    }
   ],
   "source": [
    "%%capture --no-display\n",
    "\n",
    "# Configure the map plot\n",
    "fig = px.scatter_mapbox(hotel_df, lat=\"Lat\", lon=\"Lng\", text=\"City\", color=\"City\", zoom=5)\n",
    "\n",
    "fig.update_layout(mapbox_style=\"open-street-map\", title=\"Cities with Accommodation\")\n",
    "\n",
    "# Display the map\n",
    "fig.show()"
   ]
  },
  {
   "cell_type": "code",
   "execution_count": null,
   "metadata": {},
   "outputs": [],
   "source": []
  }
 ],
 "metadata": {
  "kernelspec": {
   "display_name": "base",
   "language": "python",
   "name": "python3"
  },
  "language_info": {
   "codemirror_mode": {
    "name": "ipython",
    "version": 3
   },
   "file_extension": ".py",
   "mimetype": "text/x-python",
   "name": "python",
   "nbconvert_exporter": "python",
   "pygments_lexer": "ipython3",
   "version": "3.9.13"
  },
  "latex_envs": {
   "LaTeX_envs_menu_present": true,
   "autoclose": false,
   "autocomplete": true,
   "bibliofile": "biblio.bib",
   "cite_by": "apalike",
   "current_citInitial": 1,
   "eqLabelWithNumbers": true,
   "eqNumInitial": 1,
   "hotkeys": {
    "equation": "Ctrl-E",
    "itemize": "Ctrl-I"
   },
   "labels_anchors": false,
   "latex_user_defs": false,
   "report_style_numbering": false,
   "user_envs_cfg": false
  },
  "vscode": {
   "interpreter": {
    "hash": "2da37e94aeafbf8a0ef4f091fd946264b1eebffd5c316aa0349006500c5ca763"
   }
  }
 },
 "nbformat": 4,
 "nbformat_minor": 4
}
